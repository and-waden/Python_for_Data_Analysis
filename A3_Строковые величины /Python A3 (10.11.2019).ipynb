{
 "cells": [
  {
   "cell_type": "markdown",
   "metadata": {},
   "source": [
    "# Общие приёмы работы со строками"
   ]
  },
  {
   "cell_type": "code",
   "execution_count": 1,
   "metadata": {},
   "outputs": [],
   "source": [
    "string = 'Семь бед — один reset'"
   ]
  },
  {
   "cell_type": "markdown",
   "metadata": {},
   "source": [
    "### Перебор элементов и работа с индексами "
   ]
  },
  {
   "cell_type": "code",
   "execution_count": 3,
   "metadata": {},
   "outputs": [
    {
     "data": {
      "text/plain": [
       "'семь'"
      ]
     },
     "execution_count": 3,
     "metadata": {},
     "output_type": "execute_result"
    }
   ],
   "source": [
    "# Вывести на экран слово \"семь\"\n",
    "string[:4].lower()"
   ]
  },
  {
   "cell_type": "code",
   "execution_count": 7,
   "metadata": {},
   "outputs": [
    {
     "data": {
      "text/plain": [
       "'один'"
      ]
     },
     "execution_count": 7,
     "metadata": {},
     "output_type": "execute_result"
    }
   ],
   "source": [
    "# Вывести на экран слово \"один\"\n",
    "string.split()[3]"
   ]
  },
  {
   "cell_type": "code",
   "execution_count": 14,
   "metadata": {},
   "outputs": [
    {
     "data": {
      "text/plain": [
       "'reset'"
      ]
     },
     "execution_count": 14,
     "metadata": {},
     "output_type": "execute_result"
    }
   ],
   "source": [
    "# Вывести на экран слово \"reset\"\n",
    "string.split()[-1]"
   ]
  },
  {
   "cell_type": "code",
   "execution_count": 13,
   "metadata": {},
   "outputs": [
    {
     "data": {
      "text/plain": [
       "'teser'"
      ]
     },
     "execution_count": 13,
     "metadata": {},
     "output_type": "execute_result"
    }
   ],
   "source": [
    "# Вывести на экран слово \"reset\" задом наперёд\n",
    "string[-1:-6:-1]"
   ]
  },
  {
   "cell_type": "code",
   "execution_count": 10,
   "metadata": {},
   "outputs": [
    {
     "data": {
      "text/plain": [
       "'teser'"
      ]
     },
     "execution_count": 10,
     "metadata": {},
     "output_type": "execute_result"
    }
   ],
   "source": [
    "string.split()[-1][::-1]"
   ]
  },
  {
   "cell_type": "code",
   "execution_count": 12,
   "metadata": {},
   "outputs": [
    {
     "data": {
      "text/plain": [
       "'teser'"
      ]
     },
     "execution_count": 12,
     "metadata": {},
     "output_type": "execute_result"
    }
   ],
   "source": [
    "string[::-1].split()[0]"
   ]
  },
  {
   "cell_type": "code",
   "execution_count": 15,
   "metadata": {},
   "outputs": [
    {
     "name": "stdout",
     "output_type": "stream",
     "text": [
      "С\n",
      "е\n",
      "м\n",
      "ь\n",
      " \n",
      "б\n",
      "е\n",
      "д\n",
      " \n",
      "—\n",
      " \n",
      "о\n",
      "д\n",
      "и\n",
      "н\n",
      " \n",
      "r\n",
      "e\n",
      "s\n",
      "e\n",
      "t\n"
     ]
    }
   ],
   "source": [
    "# Вывести на экран всю строку в столбик\n",
    "for l in string:\n",
    "    print(l)"
   ]
  },
  {
   "cell_type": "code",
   "execution_count": 16,
   "metadata": {},
   "outputs": [
    {
     "name": "stdout",
     "output_type": "stream",
     "text": [
      "С\n",
      "е\n",
      "м\n",
      "ь\n",
      " \n",
      "б\n",
      "е\n",
      "д\n",
      " \n",
      "—\n",
      " \n",
      "о\n",
      "д\n",
      "и\n",
      "н\n",
      " \n",
      "r\n",
      "e\n",
      "s\n",
      "e\n",
      "t\n"
     ]
    }
   ],
   "source": [
    "print(\"\\n\".join(string))"
   ]
  },
  {
   "cell_type": "code",
   "execution_count": 17,
   "metadata": {},
   "outputs": [
    {
     "name": "stdout",
     "output_type": "stream",
     "text": [
      "С*е*м*ь* *б*е*д* *—* *о*д*и*н* *r*e*s*e*t\n"
     ]
    }
   ],
   "source": [
    "# Вывести на экран всю строку (в строчку), добавив знак \"*\" между символами\n",
    "print(\"*\".join(string))"
   ]
  },
  {
   "cell_type": "code",
   "execution_count": 18,
   "metadata": {},
   "outputs": [
    {
     "name": "stdout",
     "output_type": "stream",
     "text": [
      "С*е*м*ь* *б*е*д* *—* *о*д*и*н* *r*e*s*e*t*"
     ]
    }
   ],
   "source": [
    "for l in string:\n",
    "    print(l, end = '*')"
   ]
  },
  {
   "cell_type": "markdown",
   "metadata": {},
   "source": [
    "Задание: вывести на экран строку задом наперёд двумя способами:"
   ]
  },
  {
   "cell_type": "code",
   "execution_count": 20,
   "metadata": {},
   "outputs": [
    {
     "data": {
      "text/plain": [
       "'teser нидо — деб ьмеС'"
      ]
     },
     "execution_count": 20,
     "metadata": {},
     "output_type": "execute_result"
    }
   ],
   "source": [
    "# с помощью среза\n",
    "string[::-1]"
   ]
  },
  {
   "cell_type": "code",
   "execution_count": 22,
   "metadata": {},
   "outputs": [
    {
     "name": "stdout",
     "output_type": "stream",
     "text": [
      "teser нидо — деб ьмеС"
     ]
    }
   ],
   "source": [
    "# с помощью цикла\n",
    "for i in range(1, len(string)+1):\n",
    "    print(string[-i], end = '')"
   ]
  },
  {
   "cell_type": "markdown",
   "metadata": {},
   "source": [
    "### Поиск подстроки в строке"
   ]
  },
  {
   "cell_type": "code",
   "execution_count": 42,
   "metadata": {},
   "outputs": [],
   "source": [
    "info = 'Фамилия: Иванов, имя: Иван, e-mail: vanya@ivanov.me'"
   ]
  },
  {
   "cell_type": "markdown",
   "metadata": {},
   "source": [
    "Задание: выделить из строки email двумя способами:"
   ]
  },
  {
   "cell_type": "code",
   "execution_count": 33,
   "metadata": {},
   "outputs": [
    {
     "data": {
      "text/plain": [
       "'vanya@ivanov.me'"
      ]
     },
     "execution_count": 33,
     "metadata": {},
     "output_type": "execute_result"
    }
   ],
   "source": [
    "# с помощью split:\n",
    "info.split()[-1]"
   ]
  },
  {
   "cell_type": "code",
   "execution_count": 34,
   "metadata": {},
   "outputs": [
    {
     "data": {
      "text/plain": [
       "'vanya@ivanov.me'"
      ]
     },
     "execution_count": 34,
     "metadata": {},
     "output_type": "execute_result"
    }
   ],
   "source": [
    "info.split(\",\")[-1].split(': ')[-1]"
   ]
  },
  {
   "cell_type": "code",
   "execution_count": 37,
   "metadata": {},
   "outputs": [
    {
     "data": {
      "text/plain": [
       "'vanya@ivanov.me'"
      ]
     },
     "execution_count": 37,
     "metadata": {},
     "output_type": "execute_result"
    }
   ],
   "source": [
    "# с помощью find:\n",
    "info[info.find('e-mail:')+8:]"
   ]
  },
  {
   "cell_type": "code",
   "execution_count": 40,
   "metadata": {},
   "outputs": [
    {
     "data": {
      "text/plain": [
       "'vanya@ivanov.me'"
      ]
     },
     "execution_count": 40,
     "metadata": {},
     "output_type": "execute_result"
    }
   ],
   "source": [
    "info[info.find(\"e-mail\")+len('e-mail: '):]"
   ]
  },
  {
   "cell_type": "code",
   "execution_count": 46,
   "metadata": {},
   "outputs": [
    {
     "data": {
      "text/plain": [
       "'vanya@ivanov.me'"
      ]
     },
     "execution_count": 46,
     "metadata": {},
     "output_type": "execute_result"
    }
   ],
   "source": [
    "start = info.find('e-mail')\n",
    "start += len('e-mail: ')\n",
    "info[start:]"
   ]
  },
  {
   "cell_type": "code",
   "execution_count": 55,
   "metadata": {},
   "outputs": [
    {
     "data": {
      "text/plain": [
       "'vanya@ivanov.me'"
      ]
     },
     "execution_count": 55,
     "metadata": {},
     "output_type": "execute_result"
    }
   ],
   "source": [
    "[info.split()[k+1] for k,l in enumerate(info.split()) if l == \"e-mail:\"][0]"
   ]
  },
  {
   "cell_type": "markdown",
   "metadata": {},
   "source": [
    "Задание: выделить из строки имя человека"
   ]
  },
  {
   "cell_type": "code",
   "execution_count": 48,
   "metadata": {},
   "outputs": [
    {
     "data": {
      "text/plain": [
       "'Иван'"
      ]
     },
     "execution_count": 48,
     "metadata": {},
     "output_type": "execute_result"
    }
   ],
   "source": [
    "# с помощью split:\n",
    "info.split()[3][:-1]"
   ]
  },
  {
   "cell_type": "code",
   "execution_count": 51,
   "metadata": {},
   "outputs": [
    {
     "data": {
      "text/plain": [
       "'Иван'"
      ]
     },
     "execution_count": 51,
     "metadata": {},
     "output_type": "execute_result"
    }
   ],
   "source": [
    "# с помощью find:\n",
    "info[info.find('имя: ')+len('имя: '): info.find(', e-mail')]"
   ]
  },
  {
   "cell_type": "markdown",
   "metadata": {},
   "source": [
    "Задание: составить новую строку, содержащую имя и фамилию человека через пробел, и далее в скобках - электронный адрес  \n",
    "Пример: Иван Иванов (vanya@ivanov.me)"
   ]
  },
  {
   "cell_type": "code",
   "execution_count": 56,
   "metadata": {},
   "outputs": [
    {
     "name": "stdout",
     "output_type": "stream",
     "text": [
      "Иван Иванов (vanya@ivanov.me)\n"
     ]
    }
   ],
   "source": [
    "name = info[info.find('имя: ')+len('имя: '): info.find(', e-mail')]\n",
    "email = info[info.find(\"e-mail\")+len('e-mail: '):]\n",
    "surname = info[len('Фамилия: '):info.find(', имя: ')]\n",
    "print('{} {} ({})'.format(name, surname, email))"
   ]
  },
  {
   "cell_type": "code",
   "execution_count": 57,
   "metadata": {},
   "outputs": [
    {
     "data": {
      "text/plain": [
       "'Иван Иванов vanya@ivanov.me'"
      ]
     },
     "execution_count": 57,
     "metadata": {},
     "output_type": "execute_result"
    }
   ],
   "source": [
    "info.split()[3][:-1]+' '+info.split()[1][:-1]+' '+info.split()[-1]"
   ]
  },
  {
   "cell_type": "code",
   "execution_count": 59,
   "metadata": {},
   "outputs": [
    {
     "data": {
      "text/plain": [
       "'Иванов Иван (vanya@ivanov.me)'"
      ]
     },
     "execution_count": 59,
     "metadata": {},
     "output_type": "execute_result"
    }
   ],
   "source": [
    "s = [info.split()[k+1] for k,l in enumerate(info.split()) if l == \"Фамилия:\"][0]+[info.split()[k+1] for k,l in enumerate(info.split()) if l == \"имя:\"][0]+\"(\"+[info.split()[k+1] for k,l in enumerate(info.split()) if l == \"e-mail:\"][0]+\")\"\n",
    "\" \".join(s.split(\",\"))"
   ]
  },
  {
   "cell_type": "markdown",
   "metadata": {},
   "source": [
    "# Работа с файлами и регулярными выражениями "
   ]
  },
  {
   "cell_type": "markdown",
   "metadata": {},
   "source": [
    "Знакомимся с содержимым файла info.txt  \n",
    "Ссылка на файл, если не удастся создать его самостоятельно: https://drive.google.com/file/d/1TTnY28guTZjZzkvDobxpShx4YFNwHjug/view?usp=sharing "
   ]
  },
  {
   "cell_type": "code",
   "execution_count": 5,
   "metadata": {
    "scrolled": true
   },
   "outputs": [
    {
     "name": "stdout",
     "output_type": "stream",
     "text": [
      "Ivanov\tIvan\t1.01.1996\tvanya@mail.ru\t+7 (903) 221-23-35\n",
      "Smith\tAnna\t3.09.1985\tbeauty@gmail.com\t+1 (501) 342-52-31\n",
      "Petrov\tPetr\t5.05.1965\tbig_boss@mail.ru\t+7 (999) 345-67-89\n",
      "Sidorova\tAngelina\t21.06.1977\ta.sidorova@yandex.ru\t+7 (777) 234-56-83\n",
      "Dyatlov\tAnatoliy\t13.02.1997\tterminator@mail.ru\t+7 (920) 253-43-21\n",
      "Kracavceva\tJulia\t15.04.1998\tyulechka@gmail.com\t+45 (3452) 234-32-34"
     ]
    }
   ],
   "source": [
    "with open('info_2.txt', encoding = 'utf-8') as f:\n",
    "    for line in f: \n",
    "        print(line, end = '')"
   ]
  },
  {
   "cell_type": "code",
   "execution_count": null,
   "metadata": {},
   "outputs": [],
   "source": []
  },
  {
   "cell_type": "markdown",
   "metadata": {},
   "source": [
    "Задание: вывести на экран список имён сотрудников:"
   ]
  },
  {
   "cell_type": "code",
   "execution_count": 69,
   "metadata": {},
   "outputs": [
    {
     "name": "stdout",
     "output_type": "stream",
     "text": [
      "Иван\n",
      "Анна\n",
      "Петр\n",
      "Ангелина\n",
      "Анатолий\n",
      "Юлия\n"
     ]
    }
   ],
   "source": [
    "with open('info.txt') as f:\n",
    "    for line in f:\n",
    "        print(line.split('\\t')[1])"
   ]
  },
  {
   "cell_type": "markdown",
   "metadata": {},
   "source": [
    "Задание: вывести отдельно имена и фамилии молодых (до 25 лет) и опытных сотрудников"
   ]
  },
  {
   "cell_type": "code",
   "execution_count": 71,
   "metadata": {},
   "outputs": [
    {
     "name": "stdout",
     "output_type": "stream",
     "text": [
      "МОЛОДЫЕ\n",
      "Иван Иванов\n",
      "Анатолий Дятлов\n",
      "Юлия Красавцева\n",
      "\n",
      "ОПЫТНЫЕ\n",
      "Анна Смит\n",
      "Петр Петров\n",
      "Ангелина Сидорова\n",
      "\n"
     ]
    }
   ],
   "source": [
    "staff = {'молодые':[], 'опытные':[]}\n",
    "with open('info.txt') as f:\n",
    "    for line in f:\n",
    "        info = line.split('\\t')\n",
    "        name = info[1]\n",
    "        surname = info[0]\n",
    "        age = 2019 - int(info[2][-4:])\n",
    "        if age < 25:\n",
    "            staff['молодые'].append('{} {}'.format(name, surname))\n",
    "        else:\n",
    "            staff['опытные'].append('{} {}'.format(name, surname))\n",
    "            \n",
    "for experience in staff:\n",
    "    print(experience.upper())\n",
    "    for person in staff[experience]:\n",
    "        print(person)\n",
    "    print()"
   ]
  },
  {
   "cell_type": "code",
   "execution_count": 75,
   "metadata": {},
   "outputs": [
    {
     "data": {
      "text/plain": [
       "{'молодые': ['Иванов Иван', 'Дятлов Анатолий', 'Красавцева Юлия'],\n",
       " 'опытные': ['Смит Анна', 'Петров Петр', 'Сидорова Ангелина']}"
      ]
     },
     "execution_count": 75,
     "metadata": {},
     "output_type": "execute_result"
    }
   ],
   "source": [
    "data = []\n",
    "with open('info.txt') as f:\n",
    "    for line in f:\n",
    "        data.append(line.strip(\"\\n\").split(\"\\t\"))\n",
    "\n",
    "young = [(data[i][0] + \" \" + data[i][1]) for i in range(len(data)) if (2019 - int(data[i][2][-4:])) < 25]\n",
    "old = [(data[i][0] + \" \" + data[i][1]) for i in range(len(data)) if (2019 - int(data[i][2][-4:])) >= 25]\n",
    "staff = {\"молодые\":young, \"опытные\":old}\n",
    "staff"
   ]
  },
  {
   "cell_type": "markdown",
   "metadata": {},
   "source": [
    "#### Задание:\n",
    "Составить словарь, содержащий информацию о количестве сотрудников из России (+7 (9...)), Казахстана (+7 (7...)) и дальнего зарубежья."
   ]
  },
  {
   "cell_type": "code",
   "execution_count": 7,
   "metadata": {},
   "outputs": [
    {
     "data": {
      "text/plain": [
       "{'Россия': 3, 'Казахстан': 1, 'Дальнее зарубежье': 2}"
      ]
     },
     "execution_count": 7,
     "metadata": {},
     "output_type": "execute_result"
    }
   ],
   "source": [
    "# С использованием регулярных выражений:\n",
    "import re\n",
    "\n",
    "new_staff = {'Россия':0, 'Казахстан':0, 'Дальнее зарубежье':0}\n",
    "pattern = re.compile('\\+\\d+ \\(\\d')\n",
    "\n",
    "with open('info_2.txt') as f:\n",
    "    for line in f:\n",
    "        tel = pattern.findall(line)[0].split()\n",
    "        if tel[0] == '+7':\n",
    "            if tel[1] == '(7':\n",
    "                new_staff['Казахстан'] += 1\n",
    "            else:\n",
    "                new_staff['Россия'] += 1\n",
    "        else:\n",
    "            new_staff['Дальнее зарубежье'] += 1\n",
    "\n",
    "new_staff"
   ]
  },
  {
   "cell_type": "code",
   "execution_count": null,
   "metadata": {},
   "outputs": [],
   "source": []
  }
 ],
 "metadata": {
  "kernelspec": {
   "display_name": "Python 3",
   "language": "python",
   "name": "python3"
  },
  "language_info": {
   "codemirror_mode": {
    "name": "ipython",
    "version": 3
   },
   "file_extension": ".py",
   "mimetype": "text/x-python",
   "name": "python",
   "nbconvert_exporter": "python",
   "pygments_lexer": "ipython3",
   "version": "3.7.3"
  }
 },
 "nbformat": 4,
 "nbformat_minor": 2
}
