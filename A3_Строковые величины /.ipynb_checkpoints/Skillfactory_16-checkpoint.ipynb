{
 "cells": [
  {
   "cell_type": "markdown",
   "metadata": {},
   "source": [
    "### A3.2.1 Индексы и срезы\n"
   ]
  },
  {
   "cell_type": "code",
   "execution_count": 1,
   "metadata": {},
   "outputs": [
    {
     "data": {
      "text/plain": [
       "str"
      ]
     },
     "execution_count": 1,
     "metadata": {},
     "output_type": "execute_result"
    }
   ],
   "source": [
    "my_string = ''\n",
    "type(my_string)"
   ]
  },
  {
   "cell_type": "code",
   "execution_count": 2,
   "metadata": {},
   "outputs": [
    {
     "name": "stdout",
     "output_type": "stream",
     "text": [
      "каждый\n",
      "охотник\n",
      "желает\n",
      "знать\n",
      "где\n",
      "сидит\n",
      "фазан\n"
     ]
    }
   ],
   "source": [
    "rainbow_list = 'каждый охотник желает знать где сидит фазан'.split()\n",
    "for word in rainbow_list:\n",
    "    print(word)"
   ]
  },
  {
   "cell_type": "code",
   "execution_count": 9,
   "metadata": {},
   "outputs": [
    {
     "name": "stdout",
     "output_type": "stream",
     "text": [
      "ПЕРЕБИРАЕМ КЛЮЧИ\n",
      "каждый\n",
      "охотник\n",
      "желает\n",
      "знать\n",
      "где\n",
      "сидит\n",
      "фазан\n",
      "\n",
      "\n",
      "ПЕРЕБИРАЕМ ЗНАЧЕНИЯ\n",
      "красный\n",
      "оранжевый\n",
      "жёлтый\n",
      "зелёный\n",
      "голубой\n",
      "синий\n",
      "фиолетовый\n",
      "\n",
      "\n",
      "ПЕРЕБИРАЕМ ПАРЫ КЛЮЧ-ЗНАЧЕНИЕ\n",
      "каждый красный\n",
      "охотник оранжевый\n",
      "желает жёлтый\n",
      "знать зелёный\n",
      "где голубой\n",
      "сидит синий\n",
      "фазан фиолетовый\n"
     ]
    }
   ],
   "source": [
    "rainbow_dict = {'каждый': 'красный', \n",
    "                'охотник': 'оранжевый', \n",
    "                'желает': 'жёлтый', \n",
    "                'знать': 'зелёный', \n",
    "                'где': 'голубой', \n",
    "                'сидит': 'синий', \n",
    "                'фазан': 'фиолетовый'}\n",
    "\n",
    "# Перебираем ключи\n",
    "print(\"Перебираем ключи\".upper())\n",
    "for word in rainbow_dict.keys():\n",
    "    print(word)\n",
    "\n",
    "\n",
    "# Перебираем значения\n",
    "print(\"\\n\")\n",
    "print(\"Перебираем значения\".upper())\n",
    "for color in rainbow_dict.values():\n",
    "    print(color)\n",
    "\n",
    "# Перебираем пары ключ-значение\n",
    "print(\"\\n\")\n",
    "print(\"Перебираем пары ключ-значение\".upper())\n",
    "for word, color in rainbow_dict.items():\n",
    "    print(word, color)"
   ]
  },
  {
   "cell_type": "code",
   "execution_count": 10,
   "metadata": {},
   "outputs": [
    {
     "name": "stdout",
     "output_type": "stream",
     "text": [
      "Вы - самый крутой студент в SkillFactory"
     ]
    }
   ],
   "source": [
    "string = 'Вы - самый крутой студент в SkillFactory'\n",
    "for letter in string:\n",
    "    print(letter, end = '')"
   ]
  },
  {
   "cell_type": "code",
   "execution_count": 82,
   "metadata": {},
   "outputs": [],
   "source": [
    "proverb = 'Программисты - это устройства, преобразующие кофеин в код.'\n",
    "\n",
    "# for i, letter in enumerate(proverb):\n",
    "#     print(i, letter)\n",
    "    \n",
    "\n",
    "# proverb[-13:-9]\n",
    "# print(proverb[19:28]+'о')"
   ]
  },
  {
   "cell_type": "markdown",
   "metadata": {},
   "source": [
    "### А3.2.1.4 Задание 4*\n",
    "Напишите программу, которая \"зашифровывает\" текст, \n",
    "хранящийся в переменной proverb, меняя местами символы, \n",
    "стоящие на нечётных и чётных позициях. \n",
    "\n",
    "Результат шифрования нужно вывести на экран с помощью функции print\n",
    "\n",
    "Используйте переменную proverb для хранения исходной фразы и переменную new_proverb \n",
    "для хранения \"зашифрованной\" фразы.\n",
    "\n",
    "Пример: после шифровки начало фразы должно выглядеть так: рПгоарммсиыт"
   ]
  },
  {
   "cell_type": "code",
   "execution_count": 109,
   "metadata": {},
   "outputs": [
    {
     "name": "stdout",
     "output_type": "stream",
     "text": [
      "рПгоарммсиыт- э оту тсорсйвт,ап ербоарузщюеик фоие н вок.д\n"
     ]
    }
   ],
   "source": [
    "# Architecture \n",
    "# enumerate - i + letter\n",
    "# every 2nd and 3rd symbol\n",
    "proverb = 'Программисты - это устройства, преобразующие кофеин в код.'\n",
    "new_proverb = \"\"\n",
    "\n",
    "for i in range(len(proverb)):\n",
    "    if i % 2 == 0:\n",
    "        f = proverb[i]\n",
    "    else:\n",
    "        g = proverb[i]\n",
    "        new_proverb += g\n",
    "        new_proverb += f\n",
    "        \n",
    "print(new_proverb)"
   ]
  },
  {
   "cell_type": "markdown",
   "metadata": {},
   "source": [
    "### А3.2.1.5 Задание 5\n",
    "Некоторые слова одинаково читаются как слева направо, так и справа налево. Такие слова называются палиндромами.\n",
    "\n",
    "Напишите программу, которая оценивает слово, заданное в перееменной basic_word, и выдаёт сообщение: \n",
    "'Слово \"...\" является палиндромом' в случае, если заданное слово одинаково читается слева направо и справа налево,\n",
    "и сообщение: 'Слово \"...\" - это не палиндром' в противном случае.\n",
    "\n",
    "Вместо многоточия в каждой из фраз должно стоять слово, заданное в переменной basic_word.\n",
    "Обратите внимание на то, что заданное слово должно быть взято в кавычки.\n",
    "\n",
    "При написании кода используйте две обязательные переменные: basic_word —для хранения заданного слова и \n",
    "inverted_word— для хранения перевёрнутого варианта заданного слова. \n",
    "\n",
    "Во время проверки кода на платформе используйте значение basic_word = 'программирование'."
   ]
  },
  {
   "cell_type": "code",
   "execution_count": 158,
   "metadata": {},
   "outputs": [
    {
     "name": "stdout",
     "output_type": "stream",
     "text": [
      "Слово \"программирование\" - это не палиндром\n"
     ]
    }
   ],
   "source": [
    "# Architecture\n",
    "# for i in range - ? \n",
    "# the word should have the same letters position \n",
    "\n",
    "        \n",
    "        \n",
    "basic_word = 'программирование'\n",
    "inverted_word = basic_word[-1::-1]\n",
    "if basic_word == inverted_word:\n",
    "    print('Слово \"{}\" является палиндромом'.format(basic_word))\n",
    "else:\n",
    "    print('Слово \"{}\" - это не палиндром'.format(basic_word))\n",
    "    \n",
    "   \n",
    "# basic_word = 'программирование'\n",
    "# inverted_word = \"\"\n",
    "\n",
    "# for i in basic_word:\n",
    "#     inverted_word += i\n",
    "    \n",
    "#     if inverted_word == basic_word:\n",
    "#         print(\"Слово {\"\"} является палиндромом\".format(inverted_word))\n",
    "        \n",
    "#     else:\n",
    "#         print(\"Слово {\"\"} - это не палиндромом\".format(inverted_word))"
   ]
  },
  {
   "cell_type": "code",
   "execution_count": null,
   "metadata": {},
   "outputs": [],
   "source": [
    "    \n",
    "# x = \"malayalam\"\n",
    "# w = \"\" \n",
    "# for i in x: \n",
    "#     w = i + w \n",
    "#     if (x==w): \n",
    "#         print(\"YES\") "
   ]
  },
  {
   "cell_type": "code",
   "execution_count": null,
   "metadata": {},
   "outputs": [],
   "source": []
  },
  {
   "cell_type": "code",
   "execution_count": null,
   "metadata": {},
   "outputs": [],
   "source": []
  }
 ],
 "metadata": {
  "kernelspec": {
   "display_name": "Python 3",
   "language": "python",
   "name": "python3"
  },
  "language_info": {
   "codemirror_mode": {
    "name": "ipython",
    "version": 3
   },
   "file_extension": ".py",
   "mimetype": "text/x-python",
   "name": "python",
   "nbconvert_exporter": "python",
   "pygments_lexer": "ipython3",
   "version": "3.7.3"
  }
 },
 "nbformat": 4,
 "nbformat_minor": 2
}
