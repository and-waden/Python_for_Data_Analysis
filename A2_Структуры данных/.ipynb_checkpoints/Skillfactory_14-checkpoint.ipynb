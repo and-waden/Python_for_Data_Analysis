{
 "cells": [
  {
   "cell_type": "markdown",
   "metadata": {},
   "source": [
    "### A2.4.1 Вложенные списки\n"
   ]
  },
  {
   "cell_type": "code",
   "execution_count": 6,
   "metadata": {},
   "outputs": [
    {
     "name": "stdout",
     "output_type": "stream",
     "text": [
      "['100412', 'Ботинки для горных лыж ATOMIC Hawx Prime 100', 9]\n",
      "9\n"
     ]
    }
   ],
   "source": [
    "csv_file = [\n",
    "    ['100412', 'Ботинки для горных лыж ATOMIC Hawx Prime 100', 9],\n",
    "    ['100728', 'Скейтборд Jdbug RT03', 32],\n",
    "    ['100732', 'Роллерсерф Razor RipStik Bright', 11],\n",
    "    ['100803', 'Ботинки для сноуборда DC Tucknee', 20],\n",
    "    ['100898', 'Шагомер Omron HJA-306', 2],\n",
    "    ['100934', 'Пульсометр Beurer PM62', 17],\n",
    "]\n",
    "print(csv_file[0])\n",
    "print(csv_file[0][2])"
   ]
  },
  {
   "cell_type": "markdown",
   "metadata": {},
   "source": [
    "### Получение идентификатора товара\n",
    "Напишите код, который записывает в переменную pulsometer_id идентификатор товара \"Пульсометр Beurer PM62\""
   ]
  },
  {
   "cell_type": "code",
   "execution_count": 20,
   "metadata": {},
   "outputs": [
    {
     "name": "stdout",
     "output_type": "stream",
     "text": [
      "100934\n"
     ]
    }
   ],
   "source": [
    "csv_file = [\n",
    "    ['100412', 'Ботинки для горных лыж ATOMIC Hawx Prime 100', 9],\n",
    "    ['100728', 'Скейтборд Jdbug RT03', 32],\n",
    "    ['100732', 'Роллерсерф Razor RipStik Bright', 11],\n",
    "    ['100803', 'Ботинки для сноуборда DC Tucknee', 20],\n",
    "    ['100898', 'Шагомер Omron HJA-306', 2],\n",
    "    ['100934', 'Пульсометр Beurer PM62', 17],\n",
    "]\n",
    "\n",
    "\n",
    "pulsometer_id = \"\"\n",
    "\n",
    "for idn, name, quantity in csv_file:\n",
    "    if name == \"Пульсометр Beurer PM62\":\n",
    "        pulsometer_id += idn\n",
    "\n",
    "print(pulsometer_id)\n",
    "\n",
    "# print(csv_file[5])\n",
    "# print(csv_file[5][0])"
   ]
  },
  {
   "cell_type": "code",
   "execution_count": 25,
   "metadata": {},
   "outputs": [
    {
     "name": "stdout",
     "output_type": "stream",
     "text": [
      "['100412', 'Ботинки для горных лыж ATOMIC Hawx Prime 100', 9]\n",
      "['100728', 'Скейтборд Jdbug RT03', 32]\n",
      "['100732', 'Роллерсерф Razor RipStik Bright', 11]\n",
      "['100803', 'Ботинки для сноуборда DC Tucknee', 20]\n",
      "['100898', 'Шагомер Omron HJA-306', 2]\n",
      "['100934', 'Пульсометр Beurer PM62', 17]\n"
     ]
    }
   ],
   "source": [
    "# Проход по вложенному списку\n",
    "\n",
    "csv_file = [\n",
    "    ['100412', 'Ботинки для горных лыж ATOMIC Hawx Prime 100', 9],\n",
    "    ['100728', 'Скейтборд Jdbug RT03', 32],\n",
    "    ['100732', 'Роллерсерф Razor RipStik Bright', 11],\n",
    "    ['100803', 'Ботинки для сноуборда DC Tucknee', 20],\n",
    "    ['100898', 'Шагомер Omron HJA-306', 2],\n",
    "    ['100934', 'Пульсометр Beurer PM62', 17],\n",
    "]\n",
    "\n",
    "\n",
    "\n",
    "for record in csv_file:\n",
    "    print(record)"
   ]
  },
  {
   "cell_type": "code",
   "execution_count": 24,
   "metadata": {},
   "outputs": [
    {
     "name": "stdout",
     "output_type": "stream",
     "text": [
      "Количество шагомеров на складе - 2шт\n"
     ]
    }
   ],
   "source": [
    "# Проход по вложенному списку_2\n",
    "# Форматитрование строки\n",
    "\n",
    "csv_file = [\n",
    "    ['100412', 'Ботинки для горных лыж ATOMIC Hawx Prime 100', 9],\n",
    "    ['100728', 'Скейтборд Jdbug RT03', 32],\n",
    "    ['100732', 'Роллерсерф Razor RipStik Bright', 11],\n",
    "    ['100803', 'Ботинки для сноуборда DC Tucknee', 20],\n",
    "    ['100898', 'Шагомер Omron HJA-306', 2],\n",
    "    ['100934', 'Пульсометр Beurer PM62', 17],\n",
    "]\n",
    "\n",
    "\n",
    "\n",
    "for record in csv_file:\n",
    "    if record[1] == 'Шагомер Omron HJA-306':\n",
    "        print('Количество шагомеров на складе - {}шт'.format(record[2]))"
   ]
  },
  {
   "cell_type": "markdown",
   "metadata": {},
   "source": [
    "### Фильтрация товарных позиций по количеству\n",
    "\n",
    "Отфильтруйте список товарных позиций csv_file, \n",
    "оставив только те позиции, у которых количество штук на складе больше 10. \n",
    "\n",
    "Результат запишите в переменную csv_file_filtered"
   ]
  },
  {
   "cell_type": "code",
   "execution_count": 69,
   "metadata": {},
   "outputs": [
    {
     "name": "stdout",
     "output_type": "stream",
     "text": [
      "Количество Скейтборд Jdbug RT03 на складе - 32шт\n",
      "Количество Роллерсерф Razor RipStik Bright на складе - 11шт\n",
      "Количество Ботинки для сноуборда DC Tucknee на складе - 20шт\n",
      "Количество Пульсометр Beurer PM62 на складе - 17шт\n",
      "\n",
      "\n",
      "[['100728', 'Скейтборд Jdbug RT03', 32], ['100732', 'Роллерсерф Razor RipStik Bright', 11], ['100803', 'Ботинки для сноуборда DC Tucknee', 20], ['100934', 'Пульсометр Beurer PM62', 17]]\n"
     ]
    }
   ],
   "source": [
    "csv_file = [\n",
    "    ['100412', 'Ботинки для горных лыж ATOMIC Hawx Prime 100', 9],\n",
    "    ['100728', 'Скейтборд Jdbug RT03', 32],\n",
    "    ['100732', 'Роллерсерф Razor RipStik Bright', 11],\n",
    "    ['100803', 'Ботинки для сноуборда DC Tucknee', 20],\n",
    "    ['100898', 'Шагомер Omron HJA-306', 2],\n",
    "    ['100934', 'Пульсометр Beurer PM62', 17],\n",
    "]\n",
    "\n",
    "csv_file_filtered = []\n",
    "\n",
    "for record in csv_file:\n",
    "    if record[2] > 10:\n",
    "        print('Количество {} на складе - {}шт'.format(record[1], record[2]))\n",
    "        csv_file_filtered.append(record)\n",
    "\n",
    "print(\"\\n\")\n",
    "print(csv_file_filtered)"
   ]
  },
  {
   "cell_type": "code",
   "execution_count": 87,
   "metadata": {},
   "outputs": [
    {
     "name": "stdout",
     "output_type": "stream",
     "text": [
      "{'tel': '5387', 'position': 'менеджер'}\n",
      "менеджер\n"
     ]
    }
   ],
   "source": [
    "# A2.4.3 Вложенные словари\n",
    "\n",
    "contacts = {\n",
    "    'Борискин Владимир': {\n",
    "        'tel': '5387',\n",
    "        'position': 'менеджер'\n",
    "},\n",
    "    \n",
    "    'Сомова Наталья': {\n",
    "        'tel': '5443',\n",
    "        'position': 'разработчик'\n",
    "    },\n",
    "}\n",
    "\n",
    "print(contacts['Борискин Владимир'])\n",
    "print(contacts['Борискин Владимир']['position'])"
   ]
  },
  {
   "cell_type": "markdown",
   "metadata": {},
   "source": [
    "### Фильтрация товарных словарей\n",
    "\n",
    "Разработчики поменяли формат выгрузки из базы данных товарных позиций.\n",
    "Теперь это список словарей, каждый столбец в котором имеет имя. \n",
    "\n",
    "Напишите код, который оставляет только те товары, в названии которых есть слово \"Ботинки\".\n",
    "Результат запишите в переменную csv_dict_boots"
   ]
  },
  {
   "cell_type": "code",
   "execution_count": 159,
   "metadata": {},
   "outputs": [
    {
     "name": "stdout",
     "output_type": "stream",
     "text": [
      "{'id': '100412', 'position': 'Ботинки для горных лыж ATOMIC Hawx Prime 100', 'count': 9}\n",
      "{'id': '100803', 'position': 'Ботинки для сноуборда DC Tucknee', 'count': 20}\n",
      "[{'id': '100412', 'position': 'Ботинки для горных лыж ATOMIC Hawx Prime 100', 'count': 9}, {'id': '100803', 'position': 'Ботинки для сноуборда DC Tucknee', 'count': 20}]\n"
     ]
    }
   ],
   "source": [
    "csv_dict = [\n",
    "    {'id': '100412', 'position': 'Ботинки для горных лыж ATOMIC Hawx Prime 100', 'count': 9},\n",
    "    {'id': '100728', 'position': 'Скейтборд Jdbug RT03', 'count': 32},\n",
    "    {'id': '100732', 'position': 'Роллерсерф Razor RipStik Bright', 'count': 11},\n",
    "    {'id': '100803', 'position': 'Ботинки для сноуборда DC Tucknee', 'count': 20},\n",
    "    {'id': '100898', 'position': 'Шагомер Omron HJA-306', 'count': 2},\n",
    "    {'id': '100934', 'position': 'Пульсометр Beurer PM62', 'count': 17},\n",
    "]\n",
    "\n",
    "csv_dict_boots = []\n",
    "\n",
    "for record in csv_dict:\n",
    "    if \"Ботинки\" in record[\"position\"]: # проходит по циклу и смотрит запись в словаре\n",
    "        csv_dict_boots.append(record)\n",
    "        # print(record)\n",
    "\n",
    "print(csv_dict_boots)"
   ]
  },
  {
   "cell_type": "code",
   "execution_count": 185,
   "metadata": {},
   "outputs": [
    {
     "name": "stdout",
     "output_type": "stream",
     "text": [
      "98\n"
     ]
    }
   ],
   "source": [
    "# Дана статистика результатов рекламной кампании \n",
    "# по каналу (ключ 'source') и сумме расходов ('cost')\n",
    "\n",
    "# Напишите код, который ищет минимальное значение ключа cost в этом словаре. \n",
    "# Укажите это значение в качестве ответа\n",
    "\n",
    "\n",
    "results = [\n",
    "\t{'cost': 98, 'source': 'vk'},\n",
    "\t{'cost': 153, 'source': 'yandex'},\n",
    "\t{'cost': 110, 'source': 'facebook'},\n",
    "]\n",
    "\n",
    "min_price = min(item[\"cost\"] for item in results)\n",
    "print(min_price)\n",
    "\n",
    "\n",
    "# Example from stackoverflow\n",
    "# items = [{'price': 99, 'barcode': '2342355'}, {'price': 88, 'barcode': '2345566'}]\n",
    "# min_price = min(item['price'] for item in items)\n",
    "# print(min_price)\n",
    " \n"
   ]
  },
  {
   "cell_type": "markdown",
   "metadata": {},
   "source": [
    "### Задание 3\n",
    "На каждом этапе производственной линии закладываются отклонения от исходных размеров, \n",
    "ведущие к деформации, \n",
    "т. е. после каждого этапа размер детали умножается на значение ключа damage:\n",
    "\n",
    "Если исходный размер детали принять за 100%, то на каком шаге повреждения приведут к размеру менее 90%?"
   ]
  },
  {
   "cell_type": "code",
   "execution_count": 196,
   "metadata": {},
   "outputs": [
    {
     "name": "stdout",
     "output_type": "stream",
     "text": [
      "5\n"
     ]
    }
   ],
   "source": [
    "defect_stats = [\n",
    "\t{'step number': 1, 'damage': 0.98},\n",
    "\t{'step number': 2, 'damage': 0.99},\n",
    "\t{'step number': 3, 'damage': 0.99},\n",
    "\t{'step number': 4, 'damage': 0.96},\n",
    "\t{'step number': 5, 'damage': 0.97},\n",
    "\t{'step number': 6, 'damage': 0.97},\n",
    "]\n",
    "\n",
    "step = 0\n",
    "a = 1\n",
    "for i in range(len(defect_stats)):\n",
    "    a = a * defect_stats[i]['damage']\n",
    "    step += 1\n",
    "    if a < 0.9:\n",
    "        print(step)\n",
    "        break"
   ]
  },
  {
   "cell_type": "markdown",
   "metadata": {},
   "source": [
    "### Задание 4\n",
    "Имеется статистика курсов валют. Какая валюта имеет минимальный курс по отношению \n",
    "к рублю за 1 единицу? \n",
    "\n",
    "Для определения курса валюты необходимо значение ключа 'Value' \n",
    "разделить на значение ключа 'Nominal'. \n",
    "\n",
    "В качестве ответа укажите код валюты (например, AUD)"
   ]
  },
  {
   "cell_type": "code",
   "execution_count": 210,
   "metadata": {},
   "outputs": [
    {
     "name": "stdout",
     "output_type": "stream",
     "text": [
      "{'AMD': {'Name': 'Армянских драмов', 'Nominal': 100, 'Value': 13.121}, 'AUD': {'Name': 'Австралийский доллар', 'Nominal': 1, 'Value': 45.5309}, 'INR': {'Name': 'Индийских рупий', 'Nominal': 100, 'Value': 92.9658}, 'MDL': {'Name': 'Молдавских леев', 'Nominal': 10, 'Value': 36.9305}}\n"
     ]
    }
   ],
   "source": [
    "currency = {\n",
    "\t'AMD': {\n",
    "\t\t'Name': 'Армянских драмов',\n",
    "\t\t'Nominal': 100,\n",
    "\t\t'Value': 13.121\n",
    "\t},\n",
    "\n",
    "\t'AUD': {\n",
    "\t\t'Name': 'Австралийский доллар',\n",
    "\t\t'Nominal': 1,\n",
    "\t\t'Value': 45.5309\n",
    "\t},\n",
    "\n",
    "\t'INR': {\n",
    "\t\t'Name': 'Индийских рупий',\n",
    "\t\t'Nominal': 100,\n",
    "\t\t'Value': 92.9658\n",
    "\t},\n",
    "\n",
    "\t'MDL': {\n",
    "\t\t'Name': 'Молдавских леев',\n",
    "\t\t'Nominal': 10,\n",
    "\t\t'Value': 36.9305\n",
    "\t},\n",
    "}\n",
    "\n",
    "# Чтобы избавиться от result=10000 и учитывая, что нам необходимо указать код валюты, \n",
    "# то можно немного изменить ваш код:\n",
    "\n",
    "def exchange(currency):\n",
    "    result = list(currency.values())[0]['Value'] / list(currency.values())[0]['Nominal'] \n",
    "    # Минимальный курс присвоен первой валюте из списка\n",
    "    \n",
    "    name = list(currency.keys())[0] \n",
    "    # Код первой валюты из списка\n",
    "    \n",
    "    for i in currency.items():\n",
    "        if i[1]['Value']/i[1]['Nominal'] < result:\n",
    "            result = i[1]['Value']/i[1]['Nominal']\n",
    "            name   = i.keys()[0]\n",
    "            return name\n",
    "\n",
    "        print(currency)"
   ]
  },
  {
   "cell_type": "code",
   "execution_count": 221,
   "metadata": {},
   "outputs": [
    {
     "name": "stdout",
     "output_type": "stream",
     "text": [
      "Минимальный курс по отношению к рублю, будет за 1 Pубль -  0.13121 Армянских драмов\n"
     ]
    }
   ],
   "source": [
    "currency = {\n",
    "\t'AMD': {\n",
    "\t\t'Name': 'Армянских драмов',\n",
    "\t\t'Nominal': 100,\n",
    "\t\t'Value': 13.121\n",
    "\t},\n",
    "\n",
    "\t'AUD': {\n",
    "\t\t'Name': 'Австралийский доллар',\n",
    "\t\t'Nominal': 1,\n",
    "\t\t'Value': 45.5309\n",
    "\t},\n",
    "\n",
    "\t'INR': {\n",
    "\t\t'Name': 'Индийских рупий',\n",
    "\t\t'Nominal': 100,\n",
    "\t\t'Value': 92.9658\n",
    "\t},\n",
    "\n",
    "\t'MDL': {\n",
    "\t\t'Name': 'Молдавских леев',\n",
    "\t\t'Nominal': 10,\n",
    "\t\t'Value': 36.9305\n",
    "\t},\n",
    "}\n",
    "\n",
    "def exchange(currency):\n",
    "    result = 10000\n",
    "    for i in currency.items():\n",
    "        if i[1]['Value'] / i[1]['Nominal'] < result:\n",
    "            result = i[1]['Value']/i[1]['Nominal']\n",
    "            name = i[1]['Name']\n",
    "    return f'Минимальный курс по отношению к рублю, будет за 1 Pубль -  {result} {name}'\n",
    "\n",
    "print(exchange(currency))"
   ]
  },
  {
   "cell_type": "markdown",
   "metadata": {},
   "source": [
    "### Задание 5\n",
    "Напишите скрипт, который считает \n",
    "общее число погибших живых существ во всех сериях. \n",
    "Укажите итоговое число в качестве ответа.\n",
    "\n",
    "Пиратов-зомби в последней части тоже считайте живыми."
   ]
  },
  {
   "cell_type": "code",
   "execution_count": 250,
   "metadata": {},
   "outputs": [
    {
     "name": "stdout",
     "output_type": "stream",
     "text": [
      "225\n"
     ]
    }
   ],
   "source": [
    "bodycount = {\n",
    "\t'Проклятие Черной жемчужины': {\n",
    "\t\t'человек': 17\n",
    "\t}, \n",
    "\n",
    "\t'Сундук мертвеца': {\n",
    "\t\t'человек': 56,\n",
    "\t\t'раков-отшельников': 1\n",
    "\t},\n",
    "\n",
    "\t'На краю света': {\n",
    "\t\t'человек': 88\n",
    "\t},\n",
    "\n",
    "\t'На странных берегах': {\n",
    "\t\t'человек': 56,\n",
    "\t\t'русалок': 2,\n",
    "\t\t'ядовитых жаб': 3,\n",
    "\t\t'пиратов зомби': 2\n",
    "\t}\n",
    "}\n",
    "\n",
    "# print(bodycount[\"Сундук мертвеца\"]['человек'])\n",
    "\n",
    "\n",
    "count = 0\n",
    "for item in bodycount.values():\n",
    "    count += sum(item.values())\n",
    "\n",
    "print(count)"
   ]
  },
  {
   "cell_type": "code",
   "execution_count": 252,
   "metadata": {},
   "outputs": [
    {
     "ename": "KeyError",
     "evalue": "'пиратов зомби'",
     "output_type": "error",
     "traceback": [
      "\u001b[0;31m---------------------------------------------------------------------------\u001b[0m",
      "\u001b[0;31mKeyError\u001b[0m                                  Traceback (most recent call last)",
      "\u001b[0;32m<ipython-input-252-a9e94e5693ec>\u001b[0m in \u001b[0;36m<module>\u001b[0;34m\u001b[0m\n\u001b[1;32m     14\u001b[0m   \u001b[0mmy_list\u001b[0m\u001b[0;34m.\u001b[0m\u001b[0mappend\u001b[0m\u001b[0;34m(\u001b[0m\u001b[0mbodycount\u001b[0m\u001b[0;34m[\u001b[0m\u001b[0mi\u001b[0m\u001b[0;34m]\u001b[0m\u001b[0;34m[\u001b[0m\u001b[0;34m'русалок'\u001b[0m\u001b[0;34m]\u001b[0m\u001b[0;34m)\u001b[0m\u001b[0;34m\u001b[0m\u001b[0;34m\u001b[0m\u001b[0m\n\u001b[1;32m     15\u001b[0m   \u001b[0mmy_list\u001b[0m\u001b[0;34m.\u001b[0m\u001b[0mappend\u001b[0m\u001b[0;34m(\u001b[0m\u001b[0mbodycount\u001b[0m\u001b[0;34m[\u001b[0m\u001b[0mi\u001b[0m\u001b[0;34m]\u001b[0m\u001b[0;34m[\u001b[0m\u001b[0;34m'ядовитых жаб'\u001b[0m\u001b[0;34m]\u001b[0m\u001b[0;34m)\u001b[0m\u001b[0;34m\u001b[0m\u001b[0;34m\u001b[0m\u001b[0m\n\u001b[0;32m---> 16\u001b[0;31m   \u001b[0mmy_list\u001b[0m\u001b[0;34m.\u001b[0m\u001b[0mappend\u001b[0m\u001b[0;34m(\u001b[0m\u001b[0mbodycount\u001b[0m\u001b[0;34m[\u001b[0m\u001b[0mi\u001b[0m\u001b[0;34m]\u001b[0m\u001b[0;34m[\u001b[0m\u001b[0;34m'пиратов зомби'\u001b[0m\u001b[0;34m]\u001b[0m\u001b[0;34m)\u001b[0m\u001b[0;34m\u001b[0m\u001b[0;34m\u001b[0m\u001b[0m\n\u001b[0m\u001b[1;32m     17\u001b[0m \u001b[0mprint\u001b[0m\u001b[0;34m(\u001b[0m\u001b[0msum\u001b[0m\u001b[0;34m(\u001b[0m\u001b[0mmy_list\u001b[0m\u001b[0;34m)\u001b[0m\u001b[0;34m)\u001b[0m\u001b[0;34m\u001b[0m\u001b[0;34m\u001b[0m\u001b[0m\n",
      "\u001b[0;31mKeyError\u001b[0m: 'пиратов зомби'"
     ]
    }
   ],
   "source": [
    "bodycount = {'Проклятие Черной жемчужины': {'человек': 17}, 'Сундук мертвеца': {'человек': 56,'раков-отшельников': 1},\n",
    "    'На краю света': {'человек': 88},\n",
    "    'На странных берегах': {'человек': 56,'русалок': 2,'ядовитых жаб': 3,'пиратов зомби': 2}}\n",
    "\n",
    "my_list = []\n",
    "for i in bodycount:\n",
    "    bodycount[i].setdefault('раков-отшельников', 0)\n",
    "    bodycount[i].setdefault('русалок', 0)\n",
    "    bodycount[i].setdefault('ядовитых жаб', 0)\n",
    "\n",
    "for i in bodycount:\n",
    "  my_list.append(bodycount[i] ['человек'])\n",
    "  my_list.append(bodycount[i]['раков-отшельников'])\n",
    "  my_list.append(bodycount[i]['русалок'])\n",
    "  my_list.append(bodycount[i]['ядовитых жаб'])\n",
    "  my_list.append(bodycount[i]['пиратов зомби'])\n",
    "print(sum(my_list))"
   ]
  },
  {
   "cell_type": "code",
   "execution_count": 255,
   "metadata": {},
   "outputs": [
    {
     "data": {
      "text/plain": [
       "2"
      ]
     },
     "execution_count": 255,
     "metadata": {},
     "output_type": "execute_result"
    }
   ],
   "source": [
    "arrivals = {\n",
    "\t'Париж': {'время': '15:25', 'статус': 'ожидается', 'рейс': ['Аэрофлот']},\n",
    "\t'Пекин': {'время': '15:35', 'статус': 'опаздывает', 'рейс': ['China Southern Airlines', 'Россия']},\n",
    "\t'Лиссабон': {'время': '15:40', 'статус': 'ожидается', 'рейс': ['Nordwind', 'Аэрофлот']},\n",
    "}\n",
    "\n",
    "\n",
    "# Как узнать статус рейса из Лиссабона?\n",
    "arrivals['Лиссабон']['статус']\n",
    "\n",
    "# Как посчитать количество авиакомпаний, которые участвуют в рейсе из Пекина?\n",
    "len(arrivals['Пекин']['рейс'])"
   ]
  },
  {
   "cell_type": "code",
   "execution_count": null,
   "metadata": {},
   "outputs": [],
   "source": []
  }
 ],
 "metadata": {
  "kernelspec": {
   "display_name": "Python 3",
   "language": "python",
   "name": "python3"
  },
  "language_info": {
   "codemirror_mode": {
    "name": "ipython",
    "version": 3
   },
   "file_extension": ".py",
   "mimetype": "text/x-python",
   "name": "python",
   "nbconvert_exporter": "python",
   "pygments_lexer": "ipython3",
   "version": "3.7.3"
  }
 },
 "nbformat": 4,
 "nbformat_minor": 2
}
