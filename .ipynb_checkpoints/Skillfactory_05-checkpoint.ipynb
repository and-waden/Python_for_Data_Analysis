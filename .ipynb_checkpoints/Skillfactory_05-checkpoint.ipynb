{
 "cells": [
  {
   "cell_type": "markdown",
   "metadata": {},
   "source": [
    "## А1.5.1 Общий синтаксис цикла с параметром"
   ]
  },
  {
   "cell_type": "code",
   "execution_count": null,
   "metadata": {},
   "outputs": [],
   "source": [
    "# for i in range(30, 42): # Условия для прохода по циклу\n",
    "#     # Тело цикла\n",
    "#     if i%2 == 0:\n",
    "#         print('Число', i, 'чётное')\n",
    "#     else:\n",
    "#         print('Число', i, 'нечётное')"
   ]
  },
  {
   "cell_type": "markdown",
   "metadata": {},
   "source": [
    "# 'Hello, {}!'.format('Vasya')"
   ]
  },
  {
   "cell_type": "code",
   "execution_count": 8,
   "metadata": {},
   "outputs": [
    {
     "name": "stdout",
     "output_type": "stream",
     "text": [
      "0X1X2X3X4X5X6X7X8X9X\n",
      "10 20 30 40 50 60 70 80 90 \n",
      "100 95 90 85 80 75 70 65 60 55 "
     ]
    }
   ],
   "source": [
    "for j in range(10):\n",
    "    print(j, end = \"X\")\n",
    "print()\n",
    "for j in range(10, 100, 10):\n",
    "    print(j, end =' ')\n",
    "print()\n",
    "for j in range(100, 50, - 5):\n",
    "    print(j, end =' ')"
   ]
  },
  {
   "cell_type": "code",
   "execution_count": 11,
   "metadata": {},
   "outputs": [
    {
     "name": "stdin",
     "output_type": "stream",
     "text": [
      "n =  7\n"
     ]
    },
    {
     "name": "stdout",
     "output_type": "stream",
     "text": [
      "1 3 5 7\n"
     ]
    }
   ],
   "source": [
    "n = int(input('n = '))\n",
    "for j in range(1, n, 2):\n",
    "    print(j, end =' ')\n",
    "else:\n",
    "    if n % 2:\n",
    "        print(n)"
   ]
  },
  {
   "cell_type": "code",
   "execution_count": 14,
   "metadata": {},
   "outputs": [
    {
     "name": "stdin",
     "output_type": "stream",
     "text": [
      "n =  10\n"
     ]
    },
    {
     "name": "stdout",
     "output_type": "stream",
     "text": [
      "1 => 1\n",
      "2 => 1\n",
      "3 => 2\n",
      "4 => 3\n",
      "5 => 5\n",
      "6 => 8\n",
      "7 => 13\n",
      "8 => 21\n",
      "9 => 34\n",
      "10 => 55\n"
     ]
    }
   ],
   "source": [
    "f = None\n",
    "f1, f2 = 1, 1\n",
    "n = int(input('n = '))\n",
    "print('1 =>', f1)\n",
    "print('2 =>', f2)\n",
    "for j in range(3, n + 1):\n",
    "    f  = f1 + f2\n",
    "    f1, f2 = f2, f\n",
    "    print(j, '=>', f)"
   ]
  },
  {
   "cell_type": "code",
   "execution_count": 15,
   "metadata": {},
   "outputs": [
    {
     "name": "stdout",
     "output_type": "stream",
     "text": [
      "У вас 10 попыток\n",
      "Попытка 1 \n",
      "Какое число загадал компьютер? -> "
     ]
    },
    {
     "name": "stdin",
     "output_type": "stream",
     "text": [
      " 10\n"
     ]
    },
    {
     "name": "stdout",
     "output_type": "stream",
     "text": [
      "мало\n",
      "Попытка 2 \n",
      "Какое число загадал компьютер? -> "
     ]
    },
    {
     "name": "stdin",
     "output_type": "stream",
     "text": [
      " 5\n"
     ]
    },
    {
     "name": "stdout",
     "output_type": "stream",
     "text": [
      "мало\n",
      "Попытка 3 \n",
      "Какое число загадал компьютер? -> "
     ]
    },
    {
     "name": "stdin",
     "output_type": "stream",
     "text": [
      " 6\n"
     ]
    },
    {
     "name": "stdout",
     "output_type": "stream",
     "text": [
      "мало\n",
      "Попытка 4 \n",
      "Какое число загадал компьютер? -> "
     ]
    },
    {
     "name": "stdin",
     "output_type": "stream",
     "text": [
      " 7\n"
     ]
    },
    {
     "name": "stdout",
     "output_type": "stream",
     "text": [
      "мало\n",
      "Попытка 5 \n",
      "Какое число загадал компьютер? -> "
     ]
    },
    {
     "name": "stdin",
     "output_type": "stream",
     "text": [
      " 11\n"
     ]
    },
    {
     "name": "stdout",
     "output_type": "stream",
     "text": [
      "мало\n",
      "Попытка 6 \n",
      "Какое число загадал компьютер? -> "
     ]
    },
    {
     "name": "stdin",
     "output_type": "stream",
     "text": [
      " 25\n"
     ]
    },
    {
     "name": "stdout",
     "output_type": "stream",
     "text": [
      "мало\n",
      "Попытка 7 \n",
      "Какое число загадал компьютер? -> "
     ]
    },
    {
     "name": "stdin",
     "output_type": "stream",
     "text": [
      " 56\n"
     ]
    },
    {
     "name": "stdout",
     "output_type": "stream",
     "text": [
      "мало\n",
      "Попытка 8 \n",
      "Какое число загадал компьютер? -> "
     ]
    },
    {
     "name": "stdin",
     "output_type": "stream",
     "text": [
      " 125\n"
     ]
    },
    {
     "name": "stdout",
     "output_type": "stream",
     "text": [
      "много\n",
      "Попытка 9 \n",
      "Какое число загадал компьютер? -> "
     ]
    },
    {
     "name": "stdin",
     "output_type": "stream",
     "text": [
      " 70\n"
     ]
    },
    {
     "name": "stdout",
     "output_type": "stream",
     "text": [
      "много\n",
      "Попытка 10 \n",
      "Какое число загадал компьютер? -> "
     ]
    },
    {
     "name": "stdin",
     "output_type": "stream",
     "text": [
      " 60\n"
     ]
    },
    {
     "name": "stdout",
     "output_type": "stream",
     "text": [
      "мало\n",
      "Вы проиграли!\n"
     ]
    }
   ],
   "source": [
    "from random import randint, seed\n",
    "n = 10\n",
    "a = None\n",
    "seed()\n",
    "# Компьютер загадал число:\n",
    "k = randint(1, 100);\n",
    "print('У вас', n, 'попыток')\n",
    "for j in range(1, n + 1):\n",
    "    print('Попытка', j, \n",
    "          \"\\nКакое число загадал компьютер? -> \",\n",
    "          end = '')\n",
    "    a = int(input())\n",
    "    if a > k:\n",
    "        print('много')\n",
    "    elif a < k:\n",
    "        print('мало')\n",
    "    else:\n",
    "        print('Вы выиграли!')\n",
    "        break\n",
    "    if n == j:\n",
    "        print('Вы проиграли!')\n",
    "        break"
   ]
  },
  {
   "cell_type": "code",
   "execution_count": 16,
   "metadata": {},
   "outputs": [
    {
     "name": "stdin",
     "output_type": "stream",
     "text": [
      "n =  10\n"
     ]
    },
    {
     "name": "stdout",
     "output_type": "stream",
     "text": [
      "   0   1   3\n",
      "   0   3   1\n",
      "   1   0   3\n",
      "   1   3   0\n",
      "   3   0   1\n",
      "   3   1   0\n"
     ]
    }
   ],
   "source": [
    "from math import sqrt\n",
    "n = int(input('n = '))\n",
    "m = int(sqrt(n)) + 1\n",
    "for x in range(m):\n",
    "    for y in range(m):\n",
    "        for z in range(m):\n",
    "            if x * x + y * y + z * z == n:\n",
    "                print('{:4}{:4}{:4}'.format(x, y, z))"
   ]
  },
  {
   "cell_type": "markdown",
   "metadata": {},
   "source": [
    "### А1.5.1.1 Задание 1\n"
   ]
  },
  {
   "cell_type": "markdown",
   "metadata": {},
   "source": [
    "Друзья придумали свой шифр: исходные слова заменять на последовательность нечётных символов в этих словах. \n",
    "Например, 'python' в их шифровке будет выглядеть как 'pto'. \n",
    "\n",
    "Напишите программу, которая помогает зашифровывать слова по этой схеме: \n",
    "принимает на вход слово (word) и последовательно выводит каждый нечётный символ в нём. \n",
    "\n",
    "Для проверки используйте word = 'подшипник'"
   ]
  },
  {
   "cell_type": "code",
   "execution_count": 23,
   "metadata": {},
   "outputs": [
    {
     "name": "stdout",
     "output_type": "stream",
     "text": [
      "п\n",
      "д\n",
      "и\n",
      "н\n",
      "к\n"
     ]
    }
   ],
   "source": [
    "# Architecture\n",
    "# for i in range \n",
    "# enumerate\n",
    "\n",
    "# word = input(\"Input your word\")\n",
    "word = \"подшипник\"\n",
    "\n",
    "for i, letter in enumerate(word):\n",
    "    if i % 2 == 0:\n",
    "        print(letter)"
   ]
  },
  {
   "cell_type": "markdown",
   "metadata": {},
   "source": [
    "### А1.5.1.2 Задание 2\n",
    "Вы решили написать программу, которая выявляет високосные года в диапазоне лет. \n",
    "\n",
    "Пусть она принимает на вход два числа: нижнюю и верхнюю границы годов (переменные year_1 и year_2),\n",
    "и для каждого года из диапазона выводит информацию: \"... год високосный\" или \"... год невисокосный\", \n",
    "где вместо многоточия указывается номер года.\n",
    "\n",
    "Для проверки используйте year_1 = 2013, year_2 = 2020.\n",
    "Значения обеих переменных должны быть включены в диапазон."
   ]
  },
  {
   "cell_type": "code",
   "execution_count": 51,
   "metadata": {},
   "outputs": [
    {
     "name": "stdout",
     "output_type": "stream",
     "text": [
      "2013 год невисокосный\n",
      "2014 год невисокосный\n",
      "2015 год невисокосный\n",
      "2016 год високосный\n",
      "2017 год невисокосный\n",
      "2018 год невисокосный\n",
      "2019 год невисокосный\n",
      "2020 год високосный\n"
     ]
    }
   ],
   "source": [
    "# Architecture\n",
    "# for i in range \n",
    "# Если год не делится на 4, значит он обычный.\n",
    "# Иначе надо проверить не делится ли год на 100.\n",
    "# Если не делится, значит это не столетие и можно сделать вывод, что год високосный.\n",
    "# Если делится на 100, значит это столетие и его следует проверить его делимость на 400.\n",
    "# Если год делится на 400, то он високосный.\n",
    "# Иначе год обычный.\n",
    "\n",
    "\n",
    "year_1 = 2013\n",
    "year_2 = 2020\n",
    "    \n",
    "\n",
    "for i in range(year_1, year_2 + 1):\n",
    "    if i % 4 != 0:\n",
    "        print(i,\"год невисокосный\")\n",
    "    elif i % 100 != 0:\n",
    "        print(i,\"год високосный\")\n",
    "    elif (i % 100 == 0) and (i % 400 == 0): \n",
    "        print(i,\"год високосный\")\n",
    "    else:\n",
    "        print(i,\"год невисокосный\")\n",
    "        \n",
    "        \n",
    "        "
   ]
  },
  {
   "cell_type": "markdown",
   "metadata": {},
   "source": [
    "### А1.5.1.3 Задание 3\n",
    "Напишите программу, которая принимает на вход слово (word) \n",
    "и последовательно выводит все русские гласные из этого слова.\n",
    "\n",
    "Для проверки используйте word = 'Зимушка-зима'"
   ]
  },
  {
   "cell_type": "code",
   "execution_count": 66,
   "metadata": {},
   "outputs": [
    {
     "name": "stdout",
     "output_type": "stream",
     "text": [
      "и\n",
      "у\n",
      "а\n",
      "и\n",
      "а\n"
     ]
    }
   ],
   "source": [
    "# Architecture\n",
    "# enumerate \n",
    "# russian letters\n",
    "# for i in ... \n",
    "\n",
    "word = \"Зимушка-зима\"\n",
    "rus_dict = {\"а\", \"у\", \"о\", \"ы\", \"и\", \"э\", \"я\", \"ю\", \"ё\", \"е\"}\n",
    "\n",
    "for i, letter in enumerate(word):\n",
    "    if letter in rus_dict:\n",
    "        print(letter)"
   ]
  },
  {
   "cell_type": "markdown",
   "metadata": {},
   "source": [
    "### А1.5.1.4 Задание 4\n",
    "\n",
    "Попросите пользователя ввести своё имя (name) \n",
    "и с помощью цикла выведите каждую букву этого имени на экран, \n",
    "сопроводив порядковым номером с помощью фразы: \n",
    "\"Буква ... в этом имени - ...\" (например, \"Буква 1 в этом имени - С\"). \n",
    "\n",
    "Для проверки используйте name = 'Сергей'"
   ]
  },
  {
   "cell_type": "code",
   "execution_count": 83,
   "metadata": {},
   "outputs": [
    {
     "name": "stdout",
     "output_type": "stream",
     "text": [
      "Буква 1 в этом имени - С\n",
      "Буква 2 в этом имени - е\n",
      "Буква 3 в этом имени - р\n",
      "Буква 4 в этом имени - г\n",
      "Буква 5 в этом имени - е\n",
      "Буква 6 в этом имени - й\n"
     ]
    }
   ],
   "source": [
    "# Architecture\n",
    "# enumerate \n",
    "# for i in .... \n",
    "# input\n",
    "\n",
    "# name = str(input())\n",
    "name = \"Сергей\"\n",
    "n = 1\n",
    "\n",
    "for i, letter in enumerate(name, n):\n",
    "    print(\"Буква\", i, \"в этом имени -\", letter)"
   ]
  },
  {
   "cell_type": "markdown",
   "metadata": {},
   "source": [
    "### A1.5.1.5 Задание 5\n"
   ]
  },
  {
   "cell_type": "markdown",
   "metadata": {},
   "source": [
    "Напишите программу, которая последовательно выводит нечётные числа, которые делятся на 3 или 5, \n",
    "от первого введённого числа (num_1) до второго введённого числа (num_2) включительно. \n",
    "\n",
    "Если второе число меньше первого или первое число меньше нуля, \n",
    "выведите \"Введён неверный диапазон чисел\".\n",
    "\n",
    "Для проверки используйте num_1 = 25, num_2 = 45"
   ]
  },
  {
   "cell_type": "code",
   "execution_count": 122,
   "metadata": {},
   "outputs": [
    {
     "name": "stdout",
     "output_type": "stream",
     "text": [
      "25\n",
      "27\n",
      "33\n",
      "35\n",
      "39\n",
      "45\n"
     ]
    }
   ],
   "source": [
    "# Architecture\n",
    "# for i in \n",
    "# < and > \n",
    "    \n",
    "num_1 = 25\n",
    "num_2 = 45\n",
    "if num_1 > num_2 or num_1 < 0:\n",
    "    print('Введен неверный диапазон чисел') #проверили на первичное условие \n",
    "for i in range(num_1, num_2 + 1):\n",
    "     if i % 2 != 0 and i % 3 == 0 or i % 2 != 0 and i % 5 == 0:        #если i - нечетное, и делится без остатка на 3 или 5 = принт i\n",
    "            print(i)  "
   ]
  },
  {
   "cell_type": "code",
   "execution_count": 137,
   "metadata": {},
   "outputs": [
    {
     "name": "stdout",
     "output_type": "stream",
     "text": [
      "13\n"
     ]
    }
   ],
   "source": [
    "number = 169\n",
    "\n",
    "if number ** (1 / 2) - int(number ** (1 / 2)) == 0:\n",
    "    print(int(number**(1/2)))\n",
    "else:\n",
    "    print(\"Квадратный корень из\", int(number) , \"- не целое число.\")"
   ]
  },
  {
   "cell_type": "code",
   "execution_count": null,
   "metadata": {},
   "outputs": [],
   "source": []
  }
 ],
 "metadata": {
  "kernelspec": {
   "display_name": "Python 3",
   "language": "python",
   "name": "python3"
  },
  "language_info": {
   "codemirror_mode": {
    "name": "ipython",
    "version": 3
   },
   "file_extension": ".py",
   "mimetype": "text/x-python",
   "name": "python",
   "nbconvert_exporter": "python",
   "pygments_lexer": "ipython3",
   "version": "3.7.3"
  }
 },
 "nbformat": 4,
 "nbformat_minor": 2
}
