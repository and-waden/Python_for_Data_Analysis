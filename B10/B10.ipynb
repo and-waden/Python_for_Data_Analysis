{
 "cells": [
  {
   "cell_type": "markdown",
   "metadata": {},
   "source": [
    "Давайте сформируем словарь параметров для получения информации о количестве визитов и просмотров страниц для разных источников трафика за период с начала лета 2019 года до вчерашнего дня включительно. В случае, если данных в отчёте много, предусмотрим загрузку первых 10 000 строк отчёта:"
   ]
  },
  {
   "cell_type": "code",
   "execution_count": 1,
   "metadata": {},
   "outputs": [],
   "source": [
    "params = {'metrics': 'ym:s:visits,ym:s:pageviews',\n",
    "          'dimensions': 'ym:s:referer',\n",
    "          'date1': '2019-06-01',\n",
    "          'date2': 'yesterday',\n",
    "          'limit': 10000,\n",
    "          'ids': 30177909}"
   ]
  },
  {
   "cell_type": "markdown",
   "metadata": {},
   "source": [
    "#### Задание 1\n",
    "\n",
    "Создайте словарь params, содержащий параметры запроса для определения количества уникальных посетителей (ym:s:users) из разных стран (ym:s:regionCountry) за период с 1 по 31 января 2019 года включительно. Не используйте в запросе параметры limit и offset, но при этом не забудьте задать правильный ID счётчика."
   ]
  },
  {
   "cell_type": "code",
   "execution_count": 2,
   "metadata": {},
   "outputs": [],
   "source": [
    "params = {'metrics': 'ym:s:users',\n",
    "          'dimensions': 'ym:s:regionCountry',\n",
    "          'date1': '2019-12-01',\n",
    "          'date2': '2019-12-31',\n",
    "          'ids': 30177909}"
   ]
  },
  {
   "cell_type": "markdown",
   "metadata": {},
   "source": [
    "#### Задание 2\n",
    "Создайте словарь params, содержащий параметры запроса для определения количества новых пользователей (ym:s:newUsers) с разбивкой их по дням недели, когда совершен визит (ym:s:dayOfWeek) и по типу устройства, с которого было посещение (ym:s:deviceCategory) за март 2019 года. Не используйте в запросе параметры limit и offset, но при этом не забудьте задать правильный ID счётчика."
   ]
  },
  {
   "cell_type": "code",
   "execution_count": null,
   "metadata": {},
   "outputs": [],
   "source": [
    "params={'metrics':'ym:s:newUsers',\n",
    "       'dimensions':'ym:s:dayOfWeek,ym:s:deviceCategory',\n",
    "       'date1':'2019-03-01',\n",
    "       'date2':'2019-03-31',\n",
    "       'ids':30177909}"
   ]
  },
  {
   "cell_type": "markdown",
   "metadata": {},
   "source": [
    "#### Задание 3\n",
    "Создайте словарь params, содержащий параметры запроса для определения средней продолжительности визита (ym:s:avgVisitDurationSeconds) и количества просмотренных страниц (ym:s:pageviews) в разные дни (ym:s:date) в зависимости от языка браузера (ym:s:browserLanguage) за прошедшие 5 дней (5daysAgo) и до сегодняшнего дня включительно. Не используйте в запросе параметры limit и offset, но при этом не забудьте задать правильный ID счётчика."
   ]
  },
  {
   "cell_type": "code",
   "execution_count": null,
   "metadata": {},
   "outputs": [],
   "source": [
    "params={'metrics':'ym:s:avgVisitDurationSeconds,ym:s:pageviews',\n",
    "       'dimensions':'ym:s:date,ym:s:browserLanguage',\n",
    "       'date1':'5daysAgo',\n",
    "       'date2':'today',\n",
    "       'ids':30177909}"
   ]
  },
  {
   "cell_type": "markdown",
   "metadata": {},
   "source": [
    "## B10.3.2 Получение и анализ данных"
   ]
  },
  {
   "cell_type": "code",
   "execution_count": 3,
   "metadata": {},
   "outputs": [],
   "source": [
    "import json \n",
    "import requests\n",
    "from pprint import pprint"
   ]
  },
  {
   "cell_type": "code",
   "execution_count": 4,
   "metadata": {},
   "outputs": [],
   "source": [
    "token = 'AgAAAAAUFRN5AAYOhtaStbXJX0exly6jAsVUGGY' # вместо слов \"ваш_токен\" нужно вставить свой токен\n",
    "headers = {'Authorization': 'OAuth ' + token}"
   ]
  },
  {
   "cell_type": "code",
   "execution_count": 5,
   "metadata": {},
   "outputs": [],
   "source": [
    "params = {'metrics': 'ym:s:visits,ym:s:pageviews', \n",
    "          'dimensions': 'ym:s:referer',  \n",
    "          'date1': '2019-06-01',  \n",
    "          'date2': '2019-06-10',     \n",
    "          'ids': 30177909}"
   ]
  },
  {
   "cell_type": "code",
   "execution_count": 6,
   "metadata": {},
   "outputs": [
    {
     "name": "stdout",
     "output_type": "stream",
     "text": [
      "200\n"
     ]
    }
   ],
   "source": [
    "response = requests.get('https://api-metrika.yandex.net/stat/v1/data', params=params, headers=headers)\n",
    "print (response.status_code)"
   ]
  },
  {
   "cell_type": "code",
   "execution_count": 7,
   "metadata": {},
   "outputs": [],
   "source": [
    "metrika_data = response.json()"
   ]
  },
  {
   "cell_type": "code",
   "execution_count": 93,
   "metadata": {},
   "outputs": [],
   "source": [
    "# metrika_data"
   ]
  },
  {
   "cell_type": "code",
   "execution_count": 14,
   "metadata": {},
   "outputs": [
    {
     "name": "stdout",
     "output_type": "stream",
     "text": [
      "dict_keys(['query', 'data', 'total_rows', 'total_rows_rounded', 'sampled', 'sample_share', 'sample_size', 'sample_space', 'data_lag', 'totals', 'min', 'max'])\n"
     ]
    }
   ],
   "source": [
    "print (metrika_data.keys())"
   ]
  },
  {
   "cell_type": "code",
   "execution_count": 18,
   "metadata": {},
   "outputs": [],
   "source": [
    "# print (metrika_data[\"data\"])"
   ]
  },
  {
   "cell_type": "code",
   "execution_count": 57,
   "metadata": {},
   "outputs": [
    {
     "name": "stdout",
     "output_type": "stream",
     "text": [
      "112\n"
     ]
    }
   ],
   "source": [
    "print(metrika_data['total_rows'])"
   ]
  },
  {
   "cell_type": "code",
   "execution_count": 58,
   "metadata": {},
   "outputs": [
    {
     "data": {
      "text/plain": [
       "{'dimensions': [{'name': 'https://google.com/', 'favicon': 'google.com'}],\n",
       " 'metrics': [384.0, 444.0]}"
      ]
     },
     "execution_count": 58,
     "metadata": {},
     "output_type": "execute_result"
    }
   ],
   "source": [
    "metrika_data[\"data\"][0]"
   ]
  },
  {
   "cell_type": "markdown",
   "metadata": {},
   "source": [
    "#### Задание 1\n",
    "Какое максимальное количество визитов из одного источника было зафиксировано в отчёте?"
   ]
  },
  {
   "cell_type": "code",
   "execution_count": 55,
   "metadata": {},
   "outputs": [
    {
     "data": {
      "text/plain": [
       "384.0"
      ]
     },
     "execution_count": 55,
     "metadata": {},
     "output_type": "execute_result"
    }
   ],
   "source": [
    "metrika_data[\"max\"][0]"
   ]
  },
  {
   "cell_type": "markdown",
   "metadata": {},
   "source": [
    "#### Задание 2\n",
    "Из какого источника было совершено максимальное количество визитов на сайт в исследованный период времени?\n",
    "- https://google.com "
   ]
  },
  {
   "cell_type": "code",
   "execution_count": 61,
   "metadata": {},
   "outputs": [
    {
     "data": {
      "text/plain": [
       "{'dimensions': [{'name': 'https://google.com/', 'favicon': 'google.com'}],\n",
       " 'metrics': [384.0, 444.0]}"
      ]
     },
     "execution_count": 61,
     "metadata": {},
     "output_type": "execute_result"
    }
   ],
   "source": [
    "metrika_data[\"data\"][0]"
   ]
  },
  {
   "cell_type": "markdown",
   "metadata": {},
   "source": [
    "#### Задание 3\n",
    "Какие значения параметра 'favicon' НЕ встречаются в отчёте?"
   ]
  },
  {
   "cell_type": "code",
   "execution_count": 88,
   "metadata": {},
   "outputs": [
    {
     "data": {
      "text/plain": [
       "dict_values([[{'name': 'https://google.com/', 'favicon': 'google.com'}], [384.0, 444.0]])"
      ]
     },
     "execution_count": 88,
     "metadata": {},
     "output_type": "execute_result"
    }
   ],
   "source": [
    "metrika_data['data'][0].values()"
   ]
  },
  {
   "cell_type": "code",
   "execution_count": 94,
   "metadata": {},
   "outputs": [],
   "source": [
    "# metrika_data['data']"
   ]
  },
  {
   "cell_type": "markdown",
   "metadata": {},
   "source": [
    "#### Задание 4\n",
    "Для скольких источников в рассмотренный период зафиксирован только один просмотр?"
   ]
  },
  {
   "cell_type": "code",
   "execution_count": 97,
   "metadata": {},
   "outputs": [
    {
     "name": "stdout",
     "output_type": "stream",
     "text": [
      "68.0\n"
     ]
    }
   ],
   "source": [
    "import pandas as pd\n",
    "from collections import Counter\n",
    "import json \n",
    "import requests\n",
    "from pprint import pprint\n",
    "\n",
    "token = 'AgAAAAAUFRN5AAYOhtaStbXJX0exly6jAsVUGGY'\n",
    "headers = {'Authorization': 'OAuth' + token}\n",
    "params = {'metrics': 'ym:s:visits', \n",
    "          'dimensions': 'ym:s:lastSearchPhrase',  \n",
    "          'date1': '2019-05-01',  \n",
    "          'date2': '2019-05-31',\n",
    "          'limit': 10000,\n",
    "          'ids': 30177909}\n",
    "response = requests.get('https://api-metrika.yandex.net/stat/v1/data', params=params, headers=headers)\n",
    "metrika_data = response.json()\n",
    "result = []\n",
    "# Начинаем перебор элементов старого отчёта (только раздел с данными)\n",
    "for data_item in metrika_data['data']:\n",
    "    # Создаём словарь для хранения текущих данных в новом формате \n",
    "    new_dict = {}  \n",
    "    # Обращаемся к разделу отчёта, содержащего метаданные\n",
    "    # Перебираем названия группировок, которые использовались в отчёте\n",
    "    for i,dimension in enumerate(data_item['dimensions']):\n",
    "        # Создаём в новом словаре ключ для каждой группировки\n",
    "        # Устанавливаем значение для каждого ключа\n",
    "        new_dict[metrika_data['query']['dimensions'][i]] = dimension['name']\n",
    "    # Те же действия выполняем для метрик\n",
    "    for i,metric in enumerate(data_item['metrics']):\n",
    "        new_dict[metrika_data['query']['metrics'][i]] = metric\n",
    "    # Добавляем созданный словарь в итоговый список result\n",
    "    result.append(new_dict)\n",
    "y=0\n",
    "for x in result:\n",
    "    if 'python' in x['ym:s:lastSearchPhrase'].lower():\n",
    "        y+=x['ym:s:visits']\n",
    "print(y)"
   ]
  },
  {
   "cell_type": "code",
   "execution_count": 98,
   "metadata": {},
   "outputs": [
    {
     "name": "stdout",
     "output_type": "stream",
     "text": [
      "1.0      64\n",
      "2.0      19\n",
      "5.0       4\n",
      "3.0       3\n",
      "4.0       3\n",
      "7.0       1\n",
      "11.0      1\n",
      "13.0      1\n",
      "10.0      1\n",
      "65.0      1\n",
      "146.0     1\n",
      "444.0     1\n",
      "dtype: int64\n"
     ]
    }
   ],
   "source": [
    "import json\n",
    "import requests\n",
    "from pprint import pprint\n",
    "import pandas as pd\n",
    "token = 'AgAAAAAUFRN5AAYOhtaStbXJX0exly6jAsVUGGY'\n",
    "headers = {'Authorization': 'OAuth ' + token}\n",
    "\n",
    "params = {'metrics': 'ym:s:visits,ym:s:pageviews',\n",
    "          'dimensions': 'ym:s:referer',\n",
    "          'date1': '2019-06-01',\n",
    "          'date2': '2019-06-10',\n",
    "          'ids': 30177909}\n",
    "\n",
    "response = requests.get('https://api-metrika.yandex.net/stat/v1/data', params=params, headers=headers)\n",
    "aaa = response.json()['data']\n",
    "result_list=[]\n",
    "\n",
    "for i in aaa:\n",
    "    result_list.append(i['metrics'][1])\n",
    "\n",
    "print(pd.Series(result_list).value_counts())"
   ]
  },
  {
   "cell_type": "markdown",
   "metadata": {},
   "source": [
    "#### B10.3.3 Работа со структурой отчёта"
   ]
  },
  {
   "cell_type": "code",
   "execution_count": 101,
   "metadata": {},
   "outputs": [],
   "source": [
    "token = 'AgAAAAAUFRN5AAYOhtaStbXJX0exly6jAsVUGGY'\n",
    "headers = {'Authorization': 'OAuth' + token}\n",
    "params = {'metrics': 'ym:s:visits', \n",
    "          'dimensions': 'ym:s:lastSearchPhrase',  \n",
    "          'date1': '2019-05-01',  \n",
    "          'date2': '2019-05-31',\n",
    "          'limit': 10000,\n",
    "          'ids': 30177909}\n",
    "\n",
    "response = requests.get('https://api-metrika.yandex.net/stat/v1/data', params=params, headers=headers)\n",
    "metrika_data = response.json()\n",
    "result = []\n",
    "\n",
    "# Начинаем перебор элементов старого отчёта (только раздел с данными)\n",
    "for data_item in metrika_data['data']:\n",
    "    # Создаём словарь для хранения текущих данных в новом формате \n",
    "    \n",
    "    new_dict = {}  \n",
    "    # Обращаемся к разделу отчёта, содержащего метаданные\n",
    "    # Перебираем названия группировок, которые использовались в отчёте\n",
    "    \n",
    "    for i,dimension in enumerate(data_item['dimensions']):\n",
    "        # Создаём в новом словаре ключ для каждой группировки\n",
    "        # Устанавливаем значение для каждого ключа\n",
    "        \n",
    "        new_dict[metrika_data['query']['dimensions'][i]] = dimension['name']\n",
    "    # Те же действия выполняем для метрик\n",
    "    \n",
    "    for i,metric in enumerate(data_item['metrics']):\n",
    "        new_dict[metrika_data['query']['metrics'][i]] = metric\n",
    "    # Добавляем созданный словарь в итоговый список result\n",
    "    \n",
    "    result.append(new_dict)\n",
    "# result"
   ]
  },
  {
   "cell_type": "markdown",
   "metadata": {},
   "source": [
    "#### Задание 1\n",
    "Посчитайте среднесуточное количество пользователей за май 2019 года. Для того чтобы выгрузить данные по дням, используйте группировку ym:s:date, для получения количества пользователей используйте метрику ym:s:users. В ответе укажите число с округлением до 2 знаков после запятой."
   ]
  },
  {
   "cell_type": "code",
   "execution_count": 115,
   "metadata": {},
   "outputs": [
    {
     "data": {
      "text/plain": [
       "{'query': {'ids': [30177909],\n",
       "  'dimensions': ['ym:s:date'],\n",
       "  'metrics': ['ym:s:users'],\n",
       "  'sort': ['-ym:s:users'],\n",
       "  'date1': '2019-05-01',\n",
       "  'date2': '2019-05-31',\n",
       "  'limit': 10000,\n",
       "  'offset': 1,\n",
       "  'group': 'Week',\n",
       "  'auto_group_size': '1',\n",
       "  'quantile': '50',\n",
       "  'offline_window': '21',\n",
       "  'attribution': 'Last',\n",
       "  'currency': 'RUB',\n",
       "  'adfox_event_id': '0'},\n",
       " 'data': [{'dimensions': [{'name': '2019-05-16'}], 'metrics': [124.0]},\n",
       "  {'dimensions': [{'name': '2019-05-13'}], 'metrics': [117.0]},\n",
       "  {'dimensions': [{'name': '2019-05-20'}], 'metrics': [115.0]},\n",
       "  {'dimensions': [{'name': '2019-05-22'}], 'metrics': [115.0]},\n",
       "  {'dimensions': [{'name': '2019-05-15'}], 'metrics': [105.0]},\n",
       "  {'dimensions': [{'name': '2019-05-14'}], 'metrics': [103.0]},\n",
       "  {'dimensions': [{'name': '2019-05-23'}], 'metrics': [103.0]},\n",
       "  {'dimensions': [{'name': '2019-05-29'}], 'metrics': [100.0]},\n",
       "  {'dimensions': [{'name': '2019-05-30'}], 'metrics': [100.0]},\n",
       "  {'dimensions': [{'name': '2019-05-21'}], 'metrics': [96.0]},\n",
       "  {'dimensions': [{'name': '2019-05-28'}], 'metrics': [95.0]},\n",
       "  {'dimensions': [{'name': '2019-05-31'}], 'metrics': [94.0]},\n",
       "  {'dimensions': [{'name': '2019-05-06'}], 'metrics': [93.0]},\n",
       "  {'dimensions': [{'name': '2019-05-07'}], 'metrics': [91.0]},\n",
       "  {'dimensions': [{'name': '2019-05-08'}], 'metrics': [91.0]},\n",
       "  {'dimensions': [{'name': '2019-05-27'}], 'metrics': [91.0]},\n",
       "  {'dimensions': [{'name': '2019-05-24'}], 'metrics': [89.0]},\n",
       "  {'dimensions': [{'name': '2019-05-17'}], 'metrics': [86.0]},\n",
       "  {'dimensions': [{'name': '2019-05-19'}], 'metrics': [61.0]},\n",
       "  {'dimensions': [{'name': '2019-05-12'}], 'metrics': [60.0]},\n",
       "  {'dimensions': [{'name': '2019-05-26'}], 'metrics': [59.0]},\n",
       "  {'dimensions': [{'name': '2019-05-09'}], 'metrics': [55.0]},\n",
       "  {'dimensions': [{'name': '2019-05-25'}], 'metrics': [55.0]},\n",
       "  {'dimensions': [{'name': '2019-05-02'}], 'metrics': [53.0]},\n",
       "  {'dimensions': [{'name': '2019-05-11'}], 'metrics': [53.0]},\n",
       "  {'dimensions': [{'name': '2019-05-18'}], 'metrics': [53.0]},\n",
       "  {'dimensions': [{'name': '2019-05-10'}], 'metrics': [51.0]},\n",
       "  {'dimensions': [{'name': '2019-05-03'}], 'metrics': [48.0]},\n",
       "  {'dimensions': [{'name': '2019-05-04'}], 'metrics': [46.0]},\n",
       "  {'dimensions': [{'name': '2019-05-01'}], 'metrics': [33.0]},\n",
       "  {'dimensions': [{'name': '2019-05-05'}], 'metrics': [31.0]}],\n",
       " 'total_rows': 31,\n",
       " 'total_rows_rounded': False,\n",
       " 'sampled': False,\n",
       " 'sample_share': 1.0,\n",
       " 'sample_size': 2711,\n",
       " 'sample_space': 2711,\n",
       " 'data_lag': 141,\n",
       " 'totals': [2133.0],\n",
       " 'min': [31.0],\n",
       " 'max': [124.0]}"
      ]
     },
     "execution_count": 115,
     "metadata": {},
     "output_type": "execute_result"
    }
   ],
   "source": [
    "token = 'AgAAAAAUFRN5AAYOhtaStbXJX0exly6jAsVUGGY'\n",
    "headers = {'Authorization': 'OAuth' + token}\n",
    "params = {'metrics': 'ym:s:users', \n",
    "          'dimensions': 'ym:s:date',  \n",
    "          'date1': '2019-05-01',  \n",
    "          'date2': '2019-05-31',\n",
    "          'limit': 10000,\n",
    "          'ids': 30177909}\n",
    "\n",
    "response = requests.get('https://api-metrika.yandex.net/stat/v1/data', params=params, headers=headers)\n",
    "data = response.json()\n",
    "data"
   ]
  },
  {
   "cell_type": "markdown",
   "metadata": {},
   "source": [
    "#### B10.3.3 Работа со структурой отчёта Задание 3\n",
    "Посчитайте, на сколько процентов уменьшилось число посещений (ym:s:visits) в мае 2019 относительно апреля 2019,\n",
    "где страница входа (группировка ym:s:startURL) соответствует странице\n",
    "'http://datalytics.ru/all/stanovyas-guru-api-yandeks-metriki/'. Месяц можно получить,\n",
    "используя группировку ym:s:month. Ответ дайте целых числом (без указания знака \"минус\")"
   ]
  },
  {
   "cell_type": "code",
   "execution_count": 104,
   "metadata": {},
   "outputs": [
    {
     "name": "stdout",
     "output_type": "stream",
     "text": [
      "291.0\n",
      "384.0\n",
      "Ответ B10.3.3 Работа со структурой отчёта Задание 3 = 24.21875\n"
     ]
    }
   ],
   "source": [
    "import requests\n",
    "from pprint import pprint\n",
    "import json\n",
    "\n",
    "headers = {'Authorization': 'OAuth ' + token}\n",
    "params ={\n",
    "   'metrics': 'ym:s:visits',  # Показатели: Посещения\n",
    "   'dimensions': 'ym:s:month,ym:s:startURL',  # Параметры: Ключевая фраза\n",
    "   'date1': '2019-05-01',  # Дата старта\n",
    "   'date2': '2019-05-31',  # Дата конца\n",
    "   'limit': 100000,  # Количество строк\n",
    "   'ids': 30177909  # ID счетчика\n",
    "}\n",
    "\n",
    "response = requests.get('https://api-metrika.yandex.net/stat/v1/data', params=params, headers=headers)\n",
    "metrika_data= response.json()\n",
    "#print(metrika_data.keys())\n",
    "\n",
    "print(metrika_data['data'][2]['metrics'][0]) # 291.0\n",
    "\n",
    "num_05 = metrika_data['data'][2]['metrics'][0]\n",
    "headers = {'Authorization': 'OAuth ' + token}\n",
    "params ={\n",
    "   'metrics': 'ym:s:visits',  # Показатели: Посещения\n",
    "   'dimensions': 'ym:s:month,ym:s:startURL',  # Параметры: Ключевая фраза\n",
    "   'date1': '2019-04-01',  # Дата старта\n",
    "   'date2': '2019-04-30',  # Дата конца\n",
    "   'limit': 100000,  # Количество строк\n",
    "   'ids': 30177909  # ID счетчика\n",
    "}\n",
    "response = requests.get('https://api-metrika.yandex.net/stat/v1/data', params=params, headers=headers)\n",
    "metrika_data= response.json()\n",
    "#print(metrika_data.keys())\n",
    "print(metrika_data['data'][2]['metrics'][0]) # 384.0\n",
    "\n",
    "num_04 = metrika_data['data'][2]['metrics'][0]\n",
    "print('Ответ B10.3.3 Работа со структурой отчёта Задание 3 =',100-(1-(num_04-num_05)/num_04)*100) # Ответ 24.22"
   ]
  },
  {
   "cell_type": "code",
   "execution_count": null,
   "metadata": {},
   "outputs": [],
   "source": []
  },
  {
   "cell_type": "markdown",
   "metadata": {},
   "source": [
    "#### Задание 2\n",
    "Проанализируйте сумму посещений (ym:s:visits) по ключевым словам (группировка ym:s:lastSearchPhrase) за май 2019 года. Сколько посещений содержит в себе подстроку 'python'? Учитывайте, что в ключевых фразах Python может писаться с большой буквы, но при подсчёте надо игнорировать регистр символов"
   ]
  },
  {
   "cell_type": "code",
   "execution_count": 107,
   "metadata": {},
   "outputs": [
    {
     "name": "stdout",
     "output_type": "stream",
     "text": [
      "68.0\n"
     ]
    }
   ],
   "source": [
    "params = {\n",
    "   'metrics': 'ym:s:visits', # Показатели: Посещения\n",
    "   'dimensions': 'ym:s:lastSearchPhrase', # Параметры: Ключевая фраза\n",
    "   'date1': '2019-05-01', # Дата старта\n",
    "   'date2': '2019-05-31', # Дата конца\n",
    "   'limit': 100000, # Количество строк\n",
    "   'ids': 30177909 # ID счетчика\n",
    "}\n",
    "\n",
    "# response = requests.get('https://api-metrika.yandex.net/stat/v1/data', params=params, headers=headers)\n",
    "# data_2 = response.json()\n",
    "\n",
    "count = 0\n",
    "for n in result:\n",
    "    if 'python' in n['ym:s:lastSearchPhrase'].lower():\n",
    "        count += n['ym:s:visits']\n",
    "\n",
    "print(count)"
   ]
  },
  {
   "cell_type": "code",
   "execution_count": null,
   "metadata": {},
   "outputs": [],
   "source": []
  },
  {
   "cell_type": "code",
   "execution_count": null,
   "metadata": {},
   "outputs": [],
   "source": []
  },
  {
   "cell_type": "code",
   "execution_count": null,
   "metadata": {},
   "outputs": [],
   "source": []
  },
  {
   "cell_type": "markdown",
   "metadata": {},
   "source": [
    "## B10.4.2 Итоговый тест\n",
    "#### Задание 1\n",
    "\n",
    "Отметьте, в каких целях можно использовать API Яндекс.Метрики.\n",
    "- для использования данных Яндекс.Метрики в собственных веб-сервисах и алгоритмах"
   ]
  },
  {
   "cell_type": "markdown",
   "metadata": {},
   "source": [
    "#### Задание 2\n",
    "Каким образом Яндекс.Метрика собирает данные о посещаемости веб-сайта?\n",
    "- на страницах сайта устанавливается специальный код отслеживания, который передаёт в Яндекс.Метрику данные о посещении сайт"
   ]
  },
  {
   "cell_type": "markdown",
   "metadata": {},
   "source": [
    "#### Задание 3\n",
    "В Яндекс.Метрике численные величины, которые отражают сводные показатели визитов или действий — это\n",
    "- метрики"
   ]
  },
  {
   "cell_type": "markdown",
   "metadata": {},
   "source": [
    "#### Задание 4\n",
    "Что такое группировка в терминологии Яндекс.Метрики?\n",
    "- какой-либо атрибут визита или действия, по которому объединяются данные "
   ]
  },
  {
   "cell_type": "markdown",
   "metadata": {},
   "source": [
    "#### Задание 5\n",
    "Как называется HTTP-заголовок, в котором передается авторизационный токен Яндекс.Метрики?\n",
    "- Authorization"
   ]
  },
  {
   "cell_type": "markdown",
   "metadata": {},
   "source": [
    "#### Задание 6\n",
    "Какой параметр запроса к API Яндекс.Метрики позволяет задать список группировок?\n",
    "- dimensions"
   ]
  },
  {
   "cell_type": "markdown",
   "metadata": {},
   "source": [
    "#### Задание 7\n",
    "Что позволяет задать параметр offset?\n",
    "- индекс первой строки выборки"
   ]
  },
  {
   "cell_type": "markdown",
   "metadata": {},
   "source": [
    "#### Задание 8\n",
    "Какая группировка позволяет вывести в отчёте адрес страницы входа (посадочной страницы)?\n",
    "- ym:s:startURL"
   ]
  },
  {
   "cell_type": "markdown",
   "metadata": {},
   "source": [
    "#### Задание 9\n",
    "В каком формате возвращает данные API Яндекс.Метрики?\n",
    "- JSON"
   ]
  },
  {
   "cell_type": "markdown",
   "metadata": {},
   "source": [
    "#### Задание 10\n",
    "Какой ключ в отчёте, полученном от API Яндекс.Метрики, позволяет вывести параметры исходного запроса?\n",
    "- query"
   ]
  },
  {
   "cell_type": "code",
   "execution_count": null,
   "metadata": {},
   "outputs": [],
   "source": []
  }
 ],
 "metadata": {
  "kernelspec": {
   "display_name": "Python 3",
   "language": "python",
   "name": "python3"
  },
  "language_info": {
   "codemirror_mode": {
    "name": "ipython",
    "version": 3
   },
   "file_extension": ".py",
   "mimetype": "text/x-python",
   "name": "python",
   "nbconvert_exporter": "python",
   "pygments_lexer": "ipython3",
   "version": "3.7.3"
  }
 },
 "nbformat": 4,
 "nbformat_minor": 4
}
