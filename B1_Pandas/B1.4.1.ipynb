{
 "cells": [
  {
   "cell_type": "markdown",
   "metadata": {},
   "source": [
    "### Статистические параметры. Индексация и извлечение данных"
   ]
  },
  {
   "cell_type": "code",
   "execution_count": 27,
   "metadata": {},
   "outputs": [],
   "source": [
    "import pandas as pd"
   ]
  },
  {
   "cell_type": "code",
   "execution_count": 34,
   "metadata": {},
   "outputs": [
    {
     "data": {
      "text/html": [
       "<div>\n",
       "<style scoped>\n",
       "    .dataframe tbody tr th:only-of-type {\n",
       "        vertical-align: middle;\n",
       "    }\n",
       "\n",
       "    .dataframe tbody tr th {\n",
       "        vertical-align: top;\n",
       "    }\n",
       "\n",
       "    .dataframe thead th {\n",
       "        text-align: right;\n",
       "    }\n",
       "</style>\n",
       "<table border=\"1\" class=\"dataframe\">\n",
       "  <thead>\n",
       "    <tr style=\"text-align: right;\">\n",
       "      <th></th>\n",
       "      <th>Unnamed: 0</th>\n",
       "      <th>Age</th>\n",
       "      <th>Value</th>\n",
       "      <th>Wage</th>\n",
       "      <th>Crossing</th>\n",
       "      <th>Finishing</th>\n",
       "      <th>HeadingAccuracy</th>\n",
       "      <th>ShortPassing</th>\n",
       "      <th>Volleys</th>\n",
       "      <th>Dribbling</th>\n",
       "      <th>...</th>\n",
       "      <th>Penalties</th>\n",
       "      <th>Composure</th>\n",
       "      <th>Marking</th>\n",
       "      <th>StandingTackle</th>\n",
       "      <th>SlidingTackle</th>\n",
       "      <th>GKDiving</th>\n",
       "      <th>GKHandling</th>\n",
       "      <th>GKKicking</th>\n",
       "      <th>GKPositioning</th>\n",
       "      <th>GKReflexes</th>\n",
       "    </tr>\n",
       "  </thead>\n",
       "  <tbody>\n",
       "    <tr>\n",
       "      <th>count</th>\n",
       "      <td>12897.000000</td>\n",
       "      <td>12897.000000</td>\n",
       "      <td>1.289700e+04</td>\n",
       "      <td>12897.000000</td>\n",
       "      <td>12897.000000</td>\n",
       "      <td>12897.000000</td>\n",
       "      <td>12897.000000</td>\n",
       "      <td>12897.000000</td>\n",
       "      <td>12897.000000</td>\n",
       "      <td>12897.000000</td>\n",
       "      <td>...</td>\n",
       "      <td>12897.000000</td>\n",
       "      <td>12897.000000</td>\n",
       "      <td>12897.000000</td>\n",
       "      <td>12897.000000</td>\n",
       "      <td>12897.000000</td>\n",
       "      <td>12897.000000</td>\n",
       "      <td>12897.000000</td>\n",
       "      <td>12897.000000</td>\n",
       "      <td>12897.000000</td>\n",
       "      <td>12897.000000</td>\n",
       "    </tr>\n",
       "    <tr>\n",
       "      <th>mean</th>\n",
       "      <td>6605.040862</td>\n",
       "      <td>24.795379</td>\n",
       "      <td>2.112449e+06</td>\n",
       "      <td>7517.562224</td>\n",
       "      <td>47.076374</td>\n",
       "      <td>42.876328</td>\n",
       "      <td>50.202528</td>\n",
       "      <td>56.026983</td>\n",
       "      <td>40.295030</td>\n",
       "      <td>52.461735</td>\n",
       "      <td>...</td>\n",
       "      <td>46.459874</td>\n",
       "      <td>55.942932</td>\n",
       "      <td>45.655811</td>\n",
       "      <td>46.186710</td>\n",
       "      <td>44.386679</td>\n",
       "      <td>17.218345</td>\n",
       "      <td>16.962317</td>\n",
       "      <td>16.797938</td>\n",
       "      <td>16.950221</td>\n",
       "      <td>17.315965</td>\n",
       "    </tr>\n",
       "    <tr>\n",
       "      <th>std</th>\n",
       "      <td>3782.545526</td>\n",
       "      <td>4.872212</td>\n",
       "      <td>6.498424e+06</td>\n",
       "      <td>23061.985387</td>\n",
       "      <td>18.043470</td>\n",
       "      <td>19.096935</td>\n",
       "      <td>17.281593</td>\n",
       "      <td>14.740436</td>\n",
       "      <td>17.080687</td>\n",
       "      <td>18.871643</td>\n",
       "      <td>...</td>\n",
       "      <td>15.479313</td>\n",
       "      <td>11.280631</td>\n",
       "      <td>19.456346</td>\n",
       "      <td>21.172586</td>\n",
       "      <td>20.726546</td>\n",
       "      <td>18.085618</td>\n",
       "      <td>17.349624</td>\n",
       "      <td>16.971411</td>\n",
       "      <td>17.369297</td>\n",
       "      <td>18.335817</td>\n",
       "    </tr>\n",
       "    <tr>\n",
       "      <th>min</th>\n",
       "      <td>0.000000</td>\n",
       "      <td>16.000000</td>\n",
       "      <td>0.000000e+00</td>\n",
       "      <td>1000.000000</td>\n",
       "      <td>5.000000</td>\n",
       "      <td>2.000000</td>\n",
       "      <td>4.000000</td>\n",
       "      <td>7.000000</td>\n",
       "      <td>4.000000</td>\n",
       "      <td>4.000000</td>\n",
       "      <td>...</td>\n",
       "      <td>5.000000</td>\n",
       "      <td>12.000000</td>\n",
       "      <td>3.000000</td>\n",
       "      <td>2.000000</td>\n",
       "      <td>3.000000</td>\n",
       "      <td>1.000000</td>\n",
       "      <td>1.000000</td>\n",
       "      <td>1.000000</td>\n",
       "      <td>1.000000</td>\n",
       "      <td>1.000000</td>\n",
       "    </tr>\n",
       "    <tr>\n",
       "      <th>25%</th>\n",
       "      <td>3357.000000</td>\n",
       "      <td>21.000000</td>\n",
       "      <td>2.500000e+05</td>\n",
       "      <td>1000.000000</td>\n",
       "      <td>35.000000</td>\n",
       "      <td>28.000000</td>\n",
       "      <td>43.000000</td>\n",
       "      <td>50.000000</td>\n",
       "      <td>28.000000</td>\n",
       "      <td>45.000000</td>\n",
       "      <td>...</td>\n",
       "      <td>37.000000</td>\n",
       "      <td>49.000000</td>\n",
       "      <td>29.000000</td>\n",
       "      <td>25.000000</td>\n",
       "      <td>23.000000</td>\n",
       "      <td>8.000000</td>\n",
       "      <td>8.000000</td>\n",
       "      <td>8.000000</td>\n",
       "      <td>8.000000</td>\n",
       "      <td>8.000000</td>\n",
       "    </tr>\n",
       "    <tr>\n",
       "      <th>50%</th>\n",
       "      <td>6622.000000</td>\n",
       "      <td>24.000000</td>\n",
       "      <td>5.000000e+05</td>\n",
       "      <td>2000.000000</td>\n",
       "      <td>51.000000</td>\n",
       "      <td>45.000000</td>\n",
       "      <td>54.000000</td>\n",
       "      <td>60.000000</td>\n",
       "      <td>41.000000</td>\n",
       "      <td>58.000000</td>\n",
       "      <td>...</td>\n",
       "      <td>47.000000</td>\n",
       "      <td>56.000000</td>\n",
       "      <td>51.000000</td>\n",
       "      <td>54.000000</td>\n",
       "      <td>51.000000</td>\n",
       "      <td>11.000000</td>\n",
       "      <td>11.000000</td>\n",
       "      <td>11.000000</td>\n",
       "      <td>11.000000</td>\n",
       "      <td>11.000000</td>\n",
       "    </tr>\n",
       "    <tr>\n",
       "      <th>75%</th>\n",
       "      <td>9876.000000</td>\n",
       "      <td>28.000000</td>\n",
       "      <td>8.500000e+05</td>\n",
       "      <td>4000.000000</td>\n",
       "      <td>61.000000</td>\n",
       "      <td>59.000000</td>\n",
       "      <td>62.000000</td>\n",
       "      <td>65.000000</td>\n",
       "      <td>53.000000</td>\n",
       "      <td>65.000000</td>\n",
       "      <td>...</td>\n",
       "      <td>58.000000</td>\n",
       "      <td>63.000000</td>\n",
       "      <td>62.000000</td>\n",
       "      <td>64.000000</td>\n",
       "      <td>62.000000</td>\n",
       "      <td>14.000000</td>\n",
       "      <td>14.000000</td>\n",
       "      <td>14.000000</td>\n",
       "      <td>14.000000</td>\n",
       "      <td>14.000000</td>\n",
       "    </tr>\n",
       "    <tr>\n",
       "      <th>max</th>\n",
       "      <td>13125.000000</td>\n",
       "      <td>45.000000</td>\n",
       "      <td>1.185000e+08</td>\n",
       "      <td>565000.000000</td>\n",
       "      <td>93.000000</td>\n",
       "      <td>95.000000</td>\n",
       "      <td>94.000000</td>\n",
       "      <td>93.000000</td>\n",
       "      <td>90.000000</td>\n",
       "      <td>97.000000</td>\n",
       "      <td>...</td>\n",
       "      <td>91.000000</td>\n",
       "      <td>96.000000</td>\n",
       "      <td>93.000000</td>\n",
       "      <td>93.000000</td>\n",
       "      <td>91.000000</td>\n",
       "      <td>90.000000</td>\n",
       "      <td>92.000000</td>\n",
       "      <td>91.000000</td>\n",
       "      <td>90.000000</td>\n",
       "      <td>94.000000</td>\n",
       "    </tr>\n",
       "  </tbody>\n",
       "</table>\n",
       "<p>8 rows × 38 columns</p>\n",
       "</div>"
      ],
      "text/plain": [
       "         Unnamed: 0           Age         Value           Wage      Crossing  \\\n",
       "count  12897.000000  12897.000000  1.289700e+04   12897.000000  12897.000000   \n",
       "mean    6605.040862     24.795379  2.112449e+06    7517.562224     47.076374   \n",
       "std     3782.545526      4.872212  6.498424e+06   23061.985387     18.043470   \n",
       "min        0.000000     16.000000  0.000000e+00    1000.000000      5.000000   \n",
       "25%     3357.000000     21.000000  2.500000e+05    1000.000000     35.000000   \n",
       "50%     6622.000000     24.000000  5.000000e+05    2000.000000     51.000000   \n",
       "75%     9876.000000     28.000000  8.500000e+05    4000.000000     61.000000   \n",
       "max    13125.000000     45.000000  1.185000e+08  565000.000000     93.000000   \n",
       "\n",
       "          Finishing  HeadingAccuracy  ShortPassing       Volleys  \\\n",
       "count  12897.000000     12897.000000  12897.000000  12897.000000   \n",
       "mean      42.876328        50.202528     56.026983     40.295030   \n",
       "std       19.096935        17.281593     14.740436     17.080687   \n",
       "min        2.000000         4.000000      7.000000      4.000000   \n",
       "25%       28.000000        43.000000     50.000000     28.000000   \n",
       "50%       45.000000        54.000000     60.000000     41.000000   \n",
       "75%       59.000000        62.000000     65.000000     53.000000   \n",
       "max       95.000000        94.000000     93.000000     90.000000   \n",
       "\n",
       "          Dribbling  ...     Penalties     Composure       Marking  \\\n",
       "count  12897.000000  ...  12897.000000  12897.000000  12897.000000   \n",
       "mean      52.461735  ...     46.459874     55.942932     45.655811   \n",
       "std       18.871643  ...     15.479313     11.280631     19.456346   \n",
       "min        4.000000  ...      5.000000     12.000000      3.000000   \n",
       "25%       45.000000  ...     37.000000     49.000000     29.000000   \n",
       "50%       58.000000  ...     47.000000     56.000000     51.000000   \n",
       "75%       65.000000  ...     58.000000     63.000000     62.000000   \n",
       "max       97.000000  ...     91.000000     96.000000     93.000000   \n",
       "\n",
       "       StandingTackle  SlidingTackle      GKDiving    GKHandling  \\\n",
       "count    12897.000000   12897.000000  12897.000000  12897.000000   \n",
       "mean        46.186710      44.386679     17.218345     16.962317   \n",
       "std         21.172586      20.726546     18.085618     17.349624   \n",
       "min          2.000000       3.000000      1.000000      1.000000   \n",
       "25%         25.000000      23.000000      8.000000      8.000000   \n",
       "50%         54.000000      51.000000     11.000000     11.000000   \n",
       "75%         64.000000      62.000000     14.000000     14.000000   \n",
       "max         93.000000      91.000000     90.000000     92.000000   \n",
       "\n",
       "          GKKicking  GKPositioning    GKReflexes  \n",
       "count  12897.000000   12897.000000  12897.000000  \n",
       "mean      16.797938      16.950221     17.315965  \n",
       "std       16.971411      17.369297     18.335817  \n",
       "min        1.000000       1.000000      1.000000  \n",
       "25%        8.000000       8.000000      8.000000  \n",
       "50%       11.000000      11.000000     11.000000  \n",
       "75%       14.000000      14.000000     14.000000  \n",
       "max       91.000000      90.000000     94.000000  \n",
       "\n",
       "[8 rows x 38 columns]"
      ]
     },
     "execution_count": 34,
     "metadata": {},
     "output_type": "execute_result"
    }
   ],
   "source": [
    "football = pd.read_csv(\"data_sf.csv\")\n",
    "football.describe()"
   ]
  },
  {
   "cell_type": "code",
   "execution_count": 41,
   "metadata": {},
   "outputs": [
    {
     "data": {
      "text/html": [
       "<div>\n",
       "<style scoped>\n",
       "    .dataframe tbody tr th:only-of-type {\n",
       "        vertical-align: middle;\n",
       "    }\n",
       "\n",
       "    .dataframe tbody tr th {\n",
       "        vertical-align: top;\n",
       "    }\n",
       "\n",
       "    .dataframe thead th {\n",
       "        text-align: right;\n",
       "    }\n",
       "</style>\n",
       "<table border=\"1\" class=\"dataframe\">\n",
       "  <thead>\n",
       "    <tr style=\"text-align: right;\">\n",
       "      <th></th>\n",
       "      <th>Unnamed: 0</th>\n",
       "      <th>Name</th>\n",
       "      <th>Age</th>\n",
       "      <th>Nationality</th>\n",
       "      <th>Club</th>\n",
       "      <th>Value</th>\n",
       "      <th>Wage</th>\n",
       "      <th>Position</th>\n",
       "      <th>Crossing</th>\n",
       "      <th>Finishing</th>\n",
       "      <th>...</th>\n",
       "      <th>Penalties</th>\n",
       "      <th>Composure</th>\n",
       "      <th>Marking</th>\n",
       "      <th>StandingTackle</th>\n",
       "      <th>SlidingTackle</th>\n",
       "      <th>GKDiving</th>\n",
       "      <th>GKHandling</th>\n",
       "      <th>GKKicking</th>\n",
       "      <th>GKPositioning</th>\n",
       "      <th>GKReflexes</th>\n",
       "    </tr>\n",
       "  </thead>\n",
       "  <tbody>\n",
       "    <tr>\n",
       "      <th>0</th>\n",
       "      <td>0</td>\n",
       "      <td>L. Messi</td>\n",
       "      <td>31</td>\n",
       "      <td>Argentina</td>\n",
       "      <td>FC Barcelona</td>\n",
       "      <td>110500000</td>\n",
       "      <td>565000</td>\n",
       "      <td>RF</td>\n",
       "      <td>84</td>\n",
       "      <td>95</td>\n",
       "      <td>...</td>\n",
       "      <td>75</td>\n",
       "      <td>96</td>\n",
       "      <td>33</td>\n",
       "      <td>28</td>\n",
       "      <td>26</td>\n",
       "      <td>6</td>\n",
       "      <td>11</td>\n",
       "      <td>15</td>\n",
       "      <td>14</td>\n",
       "      <td>8</td>\n",
       "    </tr>\n",
       "    <tr>\n",
       "      <th>1</th>\n",
       "      <td>1</td>\n",
       "      <td>Cristiano Ronaldo</td>\n",
       "      <td>33</td>\n",
       "      <td>Portugal</td>\n",
       "      <td>Juventus</td>\n",
       "      <td>77000000</td>\n",
       "      <td>405000</td>\n",
       "      <td>ST</td>\n",
       "      <td>84</td>\n",
       "      <td>94</td>\n",
       "      <td>...</td>\n",
       "      <td>85</td>\n",
       "      <td>95</td>\n",
       "      <td>28</td>\n",
       "      <td>31</td>\n",
       "      <td>23</td>\n",
       "      <td>7</td>\n",
       "      <td>11</td>\n",
       "      <td>15</td>\n",
       "      <td>14</td>\n",
       "      <td>11</td>\n",
       "    </tr>\n",
       "    <tr>\n",
       "      <th>2</th>\n",
       "      <td>2</td>\n",
       "      <td>Neymar Jr</td>\n",
       "      <td>26</td>\n",
       "      <td>Brazil</td>\n",
       "      <td>Paris Saint-Germain</td>\n",
       "      <td>118500000</td>\n",
       "      <td>290000</td>\n",
       "      <td>LW</td>\n",
       "      <td>79</td>\n",
       "      <td>87</td>\n",
       "      <td>...</td>\n",
       "      <td>81</td>\n",
       "      <td>94</td>\n",
       "      <td>27</td>\n",
       "      <td>24</td>\n",
       "      <td>33</td>\n",
       "      <td>9</td>\n",
       "      <td>9</td>\n",
       "      <td>15</td>\n",
       "      <td>15</td>\n",
       "      <td>11</td>\n",
       "    </tr>\n",
       "    <tr>\n",
       "      <th>3</th>\n",
       "      <td>3</td>\n",
       "      <td>De Gea</td>\n",
       "      <td>27</td>\n",
       "      <td>Spain</td>\n",
       "      <td>Manchester United</td>\n",
       "      <td>72000000</td>\n",
       "      <td>260000</td>\n",
       "      <td>GK</td>\n",
       "      <td>17</td>\n",
       "      <td>13</td>\n",
       "      <td>...</td>\n",
       "      <td>40</td>\n",
       "      <td>68</td>\n",
       "      <td>15</td>\n",
       "      <td>21</td>\n",
       "      <td>13</td>\n",
       "      <td>90</td>\n",
       "      <td>85</td>\n",
       "      <td>87</td>\n",
       "      <td>88</td>\n",
       "      <td>94</td>\n",
       "    </tr>\n",
       "    <tr>\n",
       "      <th>4</th>\n",
       "      <td>4</td>\n",
       "      <td>K. De Bruyne</td>\n",
       "      <td>27</td>\n",
       "      <td>Belgium</td>\n",
       "      <td>Manchester City</td>\n",
       "      <td>102000000</td>\n",
       "      <td>355000</td>\n",
       "      <td>RCM</td>\n",
       "      <td>93</td>\n",
       "      <td>82</td>\n",
       "      <td>...</td>\n",
       "      <td>79</td>\n",
       "      <td>88</td>\n",
       "      <td>68</td>\n",
       "      <td>58</td>\n",
       "      <td>51</td>\n",
       "      <td>15</td>\n",
       "      <td>13</td>\n",
       "      <td>5</td>\n",
       "      <td>10</td>\n",
       "      <td>13</td>\n",
       "    </tr>\n",
       "  </tbody>\n",
       "</table>\n",
       "<p>5 rows × 42 columns</p>\n",
       "</div>"
      ],
      "text/plain": [
       "   Unnamed: 0               Name  Age Nationality                 Club  \\\n",
       "0           0           L. Messi   31   Argentina         FC Barcelona   \n",
       "1           1  Cristiano Ronaldo   33    Portugal             Juventus   \n",
       "2           2          Neymar Jr   26      Brazil  Paris Saint-Germain   \n",
       "3           3             De Gea   27       Spain    Manchester United   \n",
       "4           4       K. De Bruyne   27     Belgium      Manchester City   \n",
       "\n",
       "       Value    Wage Position  Crossing  Finishing  ...  Penalties  Composure  \\\n",
       "0  110500000  565000       RF        84         95  ...         75         96   \n",
       "1   77000000  405000       ST        84         94  ...         85         95   \n",
       "2  118500000  290000       LW        79         87  ...         81         94   \n",
       "3   72000000  260000       GK        17         13  ...         40         68   \n",
       "4  102000000  355000      RCM        93         82  ...         79         88   \n",
       "\n",
       "   Marking  StandingTackle  SlidingTackle  GKDiving  GKHandling  GKKicking  \\\n",
       "0       33              28             26         6          11         15   \n",
       "1       28              31             23         7          11         15   \n",
       "2       27              24             33         9           9         15   \n",
       "3       15              21             13        90          85         87   \n",
       "4       68              58             51        15          13          5   \n",
       "\n",
       "   GKPositioning  GKReflexes  \n",
       "0             14           8  \n",
       "1             14          11  \n",
       "2             15          11  \n",
       "3             88          94  \n",
       "4             10          13  \n",
       "\n",
       "[5 rows x 42 columns]"
      ]
     },
     "execution_count": 41,
     "metadata": {},
     "output_type": "execute_result"
    }
   ],
   "source": [
    "football.head()"
   ]
  },
  {
   "cell_type": "code",
   "execution_count": 56,
   "metadata": {},
   "outputs": [
    {
     "data": {
      "text/plain": [
       "45"
      ]
     },
     "execution_count": 56,
     "metadata": {},
     "output_type": "execute_result"
    }
   ],
   "source": [
    "football[\"Age\"].max()  # access data in column "
   ]
  },
  {
   "cell_type": "code",
   "execution_count": 57,
   "metadata": {},
   "outputs": [
    {
     "name": "stdout",
     "output_type": "stream",
     "text": [
      "   foo   bar  baz foobar\n",
      "0    0   1.2    2     hi\n",
      "1    1   2.2    3     hi\n",
      "2    2   3.2    4     hi\n",
      "3    3   4.2    5     hi\n",
      "4    4   5.2    6     hi\n",
      "5    5   6.2    7     hi\n",
      "6    6   7.2    8     hi\n",
      "7    7   8.2    9     hi\n",
      "8    8   9.2   10     hi\n",
      "9    9  10.2   11     hi\n",
      "\n"
     ]
    },
    {
     "data": {
      "text/plain": [
       "foo          9\n",
       "bar       10.2\n",
       "baz         11\n",
       "foobar      hi\n",
       "dtype: object"
      ]
     },
     "execution_count": 57,
     "metadata": {},
     "output_type": "execute_result"
    }
   ],
   "source": [
    "# Example how to work with indices\n",
    "\n",
    "football = pd.read_csv(\"data_sf.csv\")\n",
    "\n",
    "df = pd.DataFrame([[i, i+1.2, i+2, 'hi'] for i in range(10)],\n",
    "                  columns=['foo', 'bar', 'baz', 'foobar'])\n",
    "print(df)\n",
    "print()\n",
    "df.max()"
   ]
  },
  {
   "cell_type": "markdown",
   "metadata": {},
   "source": [
    "#### 1. Чему равен средний возраст (Age), футболистов в наборе данных, округлённый до целого?"
   ]
  },
  {
   "cell_type": "code",
   "execution_count": 67,
   "metadata": {},
   "outputs": [
    {
     "data": {
      "text/plain": [
       "24.795378770256647"
      ]
     },
     "execution_count": 67,
     "metadata": {},
     "output_type": "execute_result"
    }
   ],
   "source": [
    "g = football[\"Age\"].mean()\n",
    "g\n",
    "# print(int(g))  # convert to int"
   ]
  },
  {
   "cell_type": "markdown",
   "metadata": {},
   "source": [
    "#### 2. Каково количество непустых строк в колонке Composure (Хладнокровие) набора данных о футболистах?"
   ]
  },
  {
   "cell_type": "code",
   "execution_count": 68,
   "metadata": {},
   "outputs": [
    {
     "data": {
      "text/plain": [
       "12897"
      ]
     },
     "execution_count": 68,
     "metadata": {},
     "output_type": "execute_result"
    }
   ],
   "source": [
    "football[\"Composure\"].count()"
   ]
  },
  {
   "cell_type": "markdown",
   "metadata": {},
   "source": [
    "#### 3. Каково в наборе данных о футболистах стандартное отклонение параметра коротких пасов (ShortPassing), округлённое до второго знака после запятой?"
   ]
  },
  {
   "cell_type": "code",
   "execution_count": 69,
   "metadata": {},
   "outputs": [
    {
     "data": {
      "text/plain": [
       "14.740435689517149"
      ]
     },
     "execution_count": 69,
     "metadata": {},
     "output_type": "execute_result"
    }
   ],
   "source": [
    "football[\"ShortPassing\"].std()"
   ]
  },
  {
   "cell_type": "markdown",
   "metadata": {},
   "source": [
    "#### 4. Какова сумма заработных плат за год (Wage) в наборе данных о футболистах?"
   ]
  },
  {
   "cell_type": "code",
   "execution_count": 71,
   "metadata": {},
   "outputs": [
    {
     "data": {
      "text/plain": [
       "96954000"
      ]
     },
     "execution_count": 71,
     "metadata": {},
     "output_type": "execute_result"
    }
   ],
   "source": [
    "football[\"Wage\"].sum()"
   ]
  },
  {
   "cell_type": "markdown",
   "metadata": {},
   "source": [
    "#### 5. Какова минимальная стоимость футболиста (Value) в наборе данных о футболистах?"
   ]
  },
  {
   "cell_type": "code",
   "execution_count": 72,
   "metadata": {},
   "outputs": [
    {
     "data": {
      "text/plain": [
       "0"
      ]
     },
     "execution_count": 72,
     "metadata": {},
     "output_type": "execute_result"
    }
   ],
   "source": [
    "football[\"Value\"].min()"
   ]
  },
  {
   "cell_type": "code",
   "execution_count": null,
   "metadata": {},
   "outputs": [],
   "source": []
  }
 ],
 "metadata": {
  "kernelspec": {
   "display_name": "Python 3",
   "language": "python",
   "name": "python3"
  },
  "language_info": {
   "codemirror_mode": {
    "name": "ipython",
    "version": 3
   },
   "file_extension": ".py",
   "mimetype": "text/x-python",
   "name": "python",
   "nbconvert_exporter": "python",
   "pygments_lexer": "ipython3",
   "version": "3.7.3"
  }
 },
 "nbformat": 4,
 "nbformat_minor": 4
}
