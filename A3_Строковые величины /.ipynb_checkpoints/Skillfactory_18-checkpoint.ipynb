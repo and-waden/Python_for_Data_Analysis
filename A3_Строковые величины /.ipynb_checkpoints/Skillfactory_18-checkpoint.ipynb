{
 "cells": [
  {
   "cell_type": "markdown",
   "metadata": {},
   "source": [
    "## A3.2.3 Преобразование строк"
   ]
  },
  {
   "cell_type": "code",
   "execution_count": 3,
   "metadata": {},
   "outputs": [
    {
     "name": "stdin",
     "output_type": "stream",
     "text": [
      "Введите ДА или НЕТ:  да\n"
     ]
    },
    {
     "name": "stdout",
     "output_type": "stream",
     "text": [
      "Вы ответили \"ДА\"! Я счастлив!\n",
      "да\n"
     ]
    }
   ],
   "source": [
    "answer = input('Введите ДА или НЕТ: ')\n",
    "if answer.lower() == 'да':\n",
    "    print('Вы ответили \"ДА\"! Я счастлив!')"
   ]
  },
  {
   "cell_type": "code",
   "execution_count": 4,
   "metadata": {},
   "outputs": [
    {
     "name": "stdout",
     "output_type": "stream",
     "text": [
      "да\n"
     ]
    }
   ],
   "source": [
    "print(answer)"
   ]
  },
  {
   "cell_type": "code",
   "execution_count": 7,
   "metadata": {},
   "outputs": [
    {
     "name": "stdout",
     "output_type": "stream",
     "text": [
      "[3.14, 2.71, 6.02, 11.22, 123.987]\n"
     ]
    }
   ],
   "source": [
    "new_numbers = []\n",
    "for number in '3,14 2,71 6,02 11,22 123,987'.split():\n",
    "    new_numbers.append(float(number.replace(',', '.')))\n",
    "print(new_numbers)"
   ]
  },
  {
   "cell_type": "code",
   "execution_count": 10,
   "metadata": {},
   "outputs": [
    {
     "name": "stdout",
     "output_type": "stream",
     "text": [
      "Интернет-открытки - это ЛУЧШЕЕ средство для мужчины сказать женщине о своих чувствах прямо в глаза.\n"
     ]
    }
   ],
   "source": [
    "string = 'Интернет-открытки - это лучшее средство для мужчины сказать женщине о своих чувствах прямо в глаза.'\n",
    "secret = string[24:30]\n",
    "new_string = string.replace(secret.lower(), secret.upper()) \n",
    "\n",
    "print(new_string)\n",
    "# print(secret)"
   ]
  },
  {
   "cell_type": "code",
   "execution_count": 13,
   "metadata": {},
   "outputs": [
    {
     "name": "stdout",
     "output_type": "stream",
     "text": [
      "Да Вы гурман!\n"
     ]
    }
   ],
   "source": [
    "# А3.2.3.2 Задание 2\n",
    "# Код, который спрашивает у пользователя о его любимом блюде\n",
    "\n",
    "food = \"овсянка\"\n",
    "if food.lower() == 'овсянка': print('Да Вы гурман!')"
   ]
  },
  {
   "cell_type": "code",
   "execution_count": 155,
   "metadata": {},
   "outputs": [
    {
     "name": "stdout",
     "output_type": "stream",
     "text": [
      "УраУраУра\n"
     ]
    }
   ],
   "source": [
    "# А3.2.3 Задание 3\n",
    "# Нужно изменить эту переменную так, чтоб она была написана с заглавной буквы\n",
    "\n",
    "string = \"ураураура\"\n",
    "string = string.replace(string[0], string[0].upper())\n",
    "print(string)"
   ]
  },
  {
   "cell_type": "markdown",
   "metadata": {},
   "source": [
    "### А3.2.3.4 Задание 4\n",
    "Дана переменная string, в которой нужно заменить все знаки препинания на смайлики (':)'). \n",
    "Знаками препинания считайте символы: \n",
    "точка, запятая, двоеточие, тире (дефис), восклицательный и вопросительный знаки. \n",
    "\n",
    "Значение переменной string должно измениться в процессе выполнения программы.\n",
    "\n",
    "Пример:\n",
    "исходное значение переменной: string = 'Привет, Андрей!'\n",
    "итоговое значение переменной: string = 'Привет:) Андрей:)"
   ]
  },
  {
   "cell_type": "code",
   "execution_count": 79,
   "metadata": {},
   "outputs": [
    {
     "name": "stdout",
     "output_type": "stream",
     "text": [
      "Тяжёлая интернет=)зависимость =) это когда ты выходишь из интернета=) а он из тебя нет=)\n"
     ]
    }
   ],
   "source": [
    "string = \"Тяжёлая интернет-зависимость - это когда ты выходишь из интернета, а он из тебя нет.\"\n",
    "\n",
    "for i in string:\n",
    "    if i == \".\" or i == \",\" or i == \":\" or i == \"!\" or i == \"?\" or i == \"-\" in string:\n",
    "        string = string.replace(i, \"=)\")\n",
    "print(string)"
   ]
  },
  {
   "cell_type": "markdown",
   "metadata": {},
   "source": [
    "### А3.2.3.5 Задание 5*\n",
    "Дана переменная name, в которой хранится имя пользователя, записанное русскими буквами. \n",
    "\n",
    "Напишите программу, которая перебирает имя по буквам и для каждой буквы выводит сообщение: \n",
    "\"... - гласная буква\" или \"... - согласная буква\", где вместо многоточия нужно подставить букву \n",
    "из имени пользователя.\n",
    "\n",
    "Значение переменной name не должно меняться в ходе выполнения программы. \n",
    "В сообщениях, выводимых на экран, буквы из имени пользователя должны выводиться в том же регистре, \n",
    "в котором они присутствуют в переменной name.\n",
    "\n",
    "Решите задачу для name = 'Севастиан'\n",
    "\n",
    "Пример работы программы для имени Анна:\n",
    "А - гласная буква\n",
    "н - согласная буква\n",
    "н - согласная буква\n",
    "а - гласная буква\n",
    "Подсказка: чтобы избавить себя от необходимости выполнять проверку сложного составного условия, \n",
    "Вы можете создать два списка с буквами: в одном хранить гласные буквы, а в другом - согласные."
   ]
  },
  {
   "cell_type": "code",
   "execution_count": 161,
   "metadata": {},
   "outputs": [
    {
     "name": "stdout",
     "output_type": "stream",
     "text": [
      "С - буква СоглаСная\n",
      "е - буква гласная\n",
      "В - букВа согласная\n",
      "а - буква гласная\n",
      "С - буква СоглаСная\n",
      "Т - буква согласная\n",
      "и - буква гласная\n",
      "а - буква гласная\n",
      "Н - буква согласНая\n"
     ]
    }
   ],
   "source": [
    "# Architecture\n",
    "# two lists\n",
    "# replace\n",
    "\n",
    "name = \"Севастиан\"\n",
    "vowels = [\"а\", \"о\", \"и\", \"е\", \"ё\", \"э\", \"ы\", \"у\", \"ю\", \"я\"]\n",
    "consonants = [\"б\", \"в\", \"г\", \"д\", \"ж\", \"з\", \"й\", \"к\", \"л\", \"м\", \"н\", \"п\", \"р\", \"с\", \"т\", \"ф\", \"х\", \"ц\", \"ч\", \"ш\", \"щ\"]\n",
    "\n",
    "\n",
    "for i in name.lower():\n",
    "    if i in vowels:\n",
    "        print(\"{} - буква гласная\".format(i))\n",
    "    elif i in consonants:\n",
    "        print(\"{} - буква согласная\".format(i).replace(i[0], i[0].upper()))\n",
    "\n",
    "#     else:\n",
    "#         print(\"{} - буква согласная\".format(i))"
   ]
  },
  {
   "cell_type": "code",
   "execution_count": 144,
   "metadata": {},
   "outputs": [
    {
     "name": "stdout",
     "output_type": "stream",
     "text": [
      "С - согласная буква\n",
      "е - гласная буква\n",
      "в - согласная буква\n",
      "а - гласная буква\n",
      "с - согласная буква\n",
      "т - согласная буква\n",
      "и - гласная буква\n",
      "а - гласная буква\n",
      "н - согласная буква\n"
     ]
    }
   ],
   "source": [
    "name = 'Севастиан'\n",
    "for x in name:\n",
    "    if x.lower() in ['а','е','и','й','о','у','э','ю','я']: \n",
    "        print (\"{} - гласная буква\".format(x))\n",
    "    else: \n",
    "        print (\"{} - согласная буква\".format(x))"
   ]
  },
  {
   "cell_type": "code",
   "execution_count": null,
   "metadata": {},
   "outputs": [],
   "source": []
  }
 ],
 "metadata": {
  "kernelspec": {
   "display_name": "Python 3",
   "language": "python",
   "name": "python3"
  },
  "language_info": {
   "codemirror_mode": {
    "name": "ipython",
    "version": 3
   },
   "file_extension": ".py",
   "mimetype": "text/x-python",
   "name": "python",
   "nbconvert_exporter": "python",
   "pygments_lexer": "ipython3",
   "version": "3.7.3"
  }
 },
 "nbformat": 4,
 "nbformat_minor": 2
}
