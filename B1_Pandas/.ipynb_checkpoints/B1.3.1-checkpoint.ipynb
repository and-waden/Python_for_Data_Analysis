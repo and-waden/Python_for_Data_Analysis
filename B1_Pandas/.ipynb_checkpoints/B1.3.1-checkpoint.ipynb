{
 "cells": [
  {
   "cell_type": "markdown",
   "metadata": {},
   "source": [
    "### B1.3.3 Метод describe"
   ]
  },
  {
   "cell_type": "code",
   "execution_count": null,
   "metadata": {},
   "outputs": [],
   "source": [
    "# С помощью какого параметра можно получить не DataFrame, а Series, \n",
    "# если в данных находится только одна колонка?\n",
    "\n",
    "# DataFrame.squeeze(self[, axis])\tSqueeze 1 dimensional axis objects into scalars."
   ]
  },
  {
   "cell_type": "code",
   "execution_count": null,
   "metadata": {},
   "outputs": [],
   "source": [
    "import pandas as pd\n",
    "\n",
    "football = pd.read_csv(\"data_sf.csv\")\n",
    "display(football.head())"
   ]
  },
  {
   "cell_type": "code",
   "execution_count": null,
   "metadata": {},
   "outputs": [],
   "source": [
    "football = pd.read_csv(\"data_sf.csv\")\n",
    "display(football.tail())"
   ]
  },
  {
   "cell_type": "code",
   "execution_count": 3,
   "metadata": {},
   "outputs": [
    {
     "name": "stdout",
     "output_type": "stream",
     "text": [
      "<class 'pandas.core.frame.DataFrame'>\n",
      "RangeIndex: 12897 entries, 0 to 12896\n",
      "Data columns (total 42 columns):\n",
      "Unnamed: 0         12897 non-null int64\n",
      "Name               12897 non-null object\n",
      "Age                12897 non-null int64\n",
      "Nationality        12897 non-null object\n",
      "Club               12897 non-null object\n",
      "Value              12897 non-null int64\n",
      "Wage               12897 non-null int64\n",
      "Position           12897 non-null object\n",
      "Crossing           12897 non-null int64\n",
      "Finishing          12897 non-null int64\n",
      "HeadingAccuracy    12897 non-null int64\n",
      "ShortPassing       12897 non-null int64\n",
      "Volleys            12897 non-null int64\n",
      "Dribbling          12897 non-null int64\n",
      "Curve              12897 non-null int64\n",
      "FKAccuracy         12897 non-null int64\n",
      "LongPassing        12897 non-null int64\n",
      "BallControl        12897 non-null int64\n",
      "Acceleration       12897 non-null int64\n",
      "SprintSpeed        12897 non-null int64\n",
      "Agility            12897 non-null int64\n",
      "Reactions          12897 non-null int64\n",
      "Balance            12897 non-null int64\n",
      "ShotPower          12897 non-null int64\n",
      "Jumping            12897 non-null int64\n",
      "Stamina            12897 non-null int64\n",
      "Strength           12897 non-null int64\n",
      "LongShots          12897 non-null int64\n",
      "Aggression         12897 non-null int64\n",
      "Interceptions      12897 non-null int64\n",
      "Positioning        12897 non-null int64\n",
      "Vision             12897 non-null int64\n",
      "Penalties          12897 non-null int64\n",
      "Composure          12897 non-null int64\n",
      "Marking            12897 non-null int64\n",
      "StandingTackle     12897 non-null int64\n",
      "SlidingTackle      12897 non-null int64\n",
      "GKDiving           12897 non-null int64\n",
      "GKHandling         12897 non-null int64\n",
      "GKKicking          12897 non-null int64\n",
      "GKPositioning      12897 non-null int64\n",
      "GKReflexes         12897 non-null int64\n",
      "dtypes: int64(38), object(4)\n",
      "memory usage: 4.1+ MB\n"
     ]
    },
    {
     "data": {
      "text/plain": [
       "None"
      ]
     },
     "metadata": {},
     "output_type": "display_data"
    }
   ],
   "source": [
    "football = pd.read_csv(\"data_sf.csv\")\n",
    "display(football.info())"
   ]
  },
  {
   "cell_type": "code",
   "execution_count": 2,
   "metadata": {},
   "outputs": [
    {
     "data": {
      "application/javascript": [
       "IPython.notebook.set_autosave_interval(60000)"
      ]
     },
     "metadata": {},
     "output_type": "display_data"
    },
    {
     "name": "stdout",
     "output_type": "stream",
     "text": [
      "Autosaving every 60 seconds\n"
     ]
    }
   ],
   "source": [
    "%autosave 60"
   ]
  },
  {
   "cell_type": "code",
   "execution_count": 1,
   "metadata": {},
   "outputs": [
    {
     "name": "stdout",
     "output_type": "stream",
     "text": [
      "Available Themes: \n",
      "   chesterish\n",
      "   grade3\n",
      "   gruvboxd\n",
      "   gruvboxl\n",
      "   monokai\n",
      "   oceans16\n",
      "   onedork\n",
      "   solarizedd\n",
      "   solarizedl\n"
     ]
    }
   ],
   "source": [
    "!jt -l"
   ]
  },
  {
   "cell_type": "code",
   "execution_count": null,
   "metadata": {},
   "outputs": [],
   "source": [
    "football = pd.read_csv(\"data_sf.csv\")\n",
    "football.describe()\n",
    "\n",
    "# Метод describe показывает основные статистические характеристики данных\n",
    "# по каждому числовому признаку (типы int64 и float64): число непропущенных значений, dgshgfsdshjkdhaskhdgf\n",
    "# среднее, стандартное отклонение, диапазон, медиану, 0.25 и 0.75 квартили."
   ]
  },
  {
   "cell_type": "code",
   "execution_count": null,
   "metadata": {},
   "outputs": [],
   "source": [
    "football.describe(include=['object'])\n",
    "\n",
    "# Здесь для каждой колонки с типом object (строчные данные) выводится\n",
    "# количество непустых строк, уникальных значений, самое частое значение (top)\n",
    "# и частота этого значения (freq)"
   ]
  },
  {
   "cell_type": "code",
   "execution_count": null,
   "metadata": {},
   "outputs": [],
   "source": [
    "with pd.option_context('display.max_rows', None, 'display.max_columns', None):\n",
    "    display(football.describe())"
   ]
  },
  {
   "cell_type": "code",
   "execution_count": null,
   "metadata": {},
   "outputs": [],
   "source": [
    "football.describe(include=['object'])"
   ]
  },
  {
   "cell_type": "code",
   "execution_count": null,
   "metadata": {},
   "outputs": [],
   "source": [
    "a=1"
   ]
  },
  {
   "cell_type": "code",
   "execution_count": null,
   "metadata": {},
   "outputs": [],
   "source": []
  }
 ],
 "metadata": {
  "kernelspec": {
   "display_name": "Python 3",
   "language": "python",
   "name": "python3"
  },
  "language_info": {
   "codemirror_mode": {
    "name": "ipython",
    "version": 3
   },
   "file_extension": ".py",
   "mimetype": "text/x-python",
   "name": "python",
   "nbconvert_exporter": "python",
   "pygments_lexer": "ipython3",
   "version": "3.7.3"
  }
 },
 "nbformat": 4,
 "nbformat_minor": 4
}
