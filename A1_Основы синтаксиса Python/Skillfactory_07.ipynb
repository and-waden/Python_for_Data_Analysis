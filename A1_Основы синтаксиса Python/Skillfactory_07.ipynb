{
 "cells": [
  {
   "cell_type": "markdown",
   "metadata": {},
   "source": [
    "### Управление выполнением цикла"
   ]
  },
  {
   "cell_type": "code",
   "execution_count": 1,
   "metadata": {},
   "outputs": [
    {
     "name": "stdout",
     "output_type": "stream",
     "text": [
      "Идёт итерация цикла  № 1\n",
      "Идёт итерация цикла  № 2\n",
      "Выполнение цикла закончено\n"
     ]
    }
   ],
   "source": [
    "# for i in range(5):\n",
    "#     i = i+1\n",
    "#     if i == 3:\n",
    "#         break\n",
    "#     print('Идёт итерация цикла  №', i)\n",
    "# print('Выполнение цикла закончено')"
   ]
  },
  {
   "cell_type": "markdown",
   "metadata": {},
   "source": [
    "### А1.5.3.1 Задание 1\n",
    "\n",
    "Напишите программу, которая ищет наибольший (не равный 1) общий делитель двух чисел,\n",
    "введённых пользователем (num_1, num_2), и выводит его на экран. Если общих делителей нет, \n",
    "выводит на экран \"Общих делителей не найдено\".\n",
    "\n",
    "Для проверки используйте num_1 = 1812, num_2 = 2500\n",
    "\n",
    "PS: Если использовать break в цикле for - else, то при прерывании цикла код после else выполняться не будет."
   ]
  },
  {
   "cell_type": "code",
   "execution_count": 36,
   "metadata": {},
   "outputs": [
    {
     "name": "stdout",
     "output_type": "stream",
     "text": [
      "4\n"
     ]
    }
   ],
   "source": [
    "num_1 = 1812\n",
    "num_2 = 2500\n",
    "num_min = min(num_1, num_2)\n",
    "\n",
    "for i in range(num_min - 1, 2, -1):\n",
    "    if num_1 % i == 0 and num_2 % i == 0:\n",
    "        break\n",
    "\n",
    "print(i)\n",
    "# gcd = i\n",
    "# if gcd > 1:\n",
    "#     print(gcd)\n",
    "# else:\n",
    "#     print(\"Общих делителей не найдено\")\n",
    "        \n",
    "        \n",
    "# Euclid's while algo\n",
    "# while a != 0 and b != 0:\n",
    "#     if a > b:\n",
    "#         a = a % b # a %= b\n",
    "#     else: \n",
    "#         b = b % a # b %= a\n",
    "\n",
    "        \n",
    "# gcd = a + b\n",
    "# print(gcd)\n"
   ]
  },
  {
   "cell_type": "markdown",
   "metadata": {},
   "source": [
    "### А1.5.3.2 Задание 2\n",
    "Напишите программу с использованием оператора continue, \n",
    "которая принимает на вход строку (string), \n",
    "после чего выводит её посимвольно, но без букв а, б, в. \n",
    "\n",
    "Пример: ввод \"арбуз\", вывод \"руз\".\n",
    "\n",
    "Для проверки используйте string = 'абстракция'\n",
    "\n",
    "PS: Чтобы выводить побуквенно в одну строчку, \n",
    "в фукнции print() предусмотрен параметр end. \n",
    "\n",
    "Если написать print('Hello!', end=''), следующий print() продолжит вывод не с новой строки."
   ]
  },
  {
   "cell_type": "code",
   "execution_count": 165,
   "metadata": {},
   "outputs": [
    {
     "name": "stdout",
     "output_type": "stream",
     "text": [
      "стркция"
     ]
    }
   ],
   "source": [
    "# Architecture\n",
    "# continue \n",
    "# for in\n",
    "\n",
    "# 1\n",
    "\n",
    "# string = \"абстракция\"\n",
    "\n",
    "# for i in string:\n",
    "#     if (i != \"а\") and (i != \"б\") and (i != \"в\"):\n",
    "#         print(i, end = \"\")\n",
    "#         continue\n",
    "        \n",
    "\n"
   ]
  },
  {
   "cell_type": "markdown",
   "metadata": {},
   "source": [
    "### А1.5.3.3 Задание 3\n",
    "Напишите программу, которая анализирует ответы пользователя на вопрос \"Любите ли вы Python?\". \n",
    "\n",
    "Если ответ пользователя (string) - \"Да\", то программа отвечает: \"Это отлично!\", \n",
    "иначе программа отвечает: \"Увы, это неправильный ответ\". \n",
    "\n",
    "Программа должна \"спросить\" пользователя максимум 5 раз. При пяти ответах \"Нет\" выводит: \"Это безнадёжно!\".\n",
    "\n",
    "Для проверки используйте string = 'Нет', а на каждой итерации цикла не меняйте значение переменной.\n",
    "\n",
    "Команду, выводящую на экран вопрос: \"Любите ли вы Python?\", в код включать НЕ нужно."
   ]
  },
  {
   "cell_type": "code",
   "execution_count": 262,
   "metadata": {},
   "outputs": [
    {
     "name": "stdout",
     "output_type": "stream",
     "text": [
      "Увы, это неправильный ответ\n",
      "Увы, это неправильный ответ\n",
      "Увы, это неправильный ответ\n",
      "Увы, это неправильный ответ\n",
      "Увы, это неправильный ответ\n",
      "Это безнадёжно!\n"
     ]
    }
   ],
   "source": [
    "#### question = input(\"Любите ли вы Python?\")\n",
    "# answer_1 = \"Да\"\n",
    "\n",
    "\n",
    "\n",
    "# question = input(\"Любите ли вы Python?\")\n",
    "# answer = \"Да\"\n",
    "\n",
    "# for i in range(1, 6):\n",
    "#     print(input(\"Любите ли вы Python?\"))\n",
    "    \n",
    "#     if answer not in question:\n",
    "#         print(i, \"Увы, это неправильный ответ\")\n",
    "        \n",
    "#         if i == 5:\n",
    "#             print(\"Это безнадёжно!\")\n",
    "\n",
    "\n",
    "\n",
    "string = \"Нет\"\n",
    "counter = 0\n",
    "\n",
    "for i in range (6):\n",
    "    if i == 'Да':\n",
    "        print('Это отлично!')\n",
    "    \n",
    "    else:\n",
    "        print('Увы, это неправильный ответ')\n",
    "        counter += 1\n",
    "        \n",
    "        if counter == 5:\n",
    "            print('Это безнадёжно!')\n",
    "            break"
   ]
  },
  {
   "cell_type": "markdown",
   "metadata": {},
   "source": [
    "### А1.5.3.4 Задание 4\n",
    "Напишите программу, которая проверяет, является ли введённое число (number) простым.\n",
    "Если число простое, то программа выводит \"Простое\", иначе \"Не является простым\".\n",
    "\n",
    "Для проверки используйте number = 173"
   ]
  },
  {
   "cell_type": "code",
   "execution_count": 304,
   "metadata": {},
   "outputs": [
    {
     "name": "stdout",
     "output_type": "stream",
     "text": [
      "Простое\n"
     ]
    }
   ],
   "source": [
    "number = 173\n",
    "for i in range(2, number):\n",
    "    if number % i == 0:\n",
    "        print(\"Не является простым\")\n",
    "        break\n",
    "else:\n",
    "    #else statement only happens if you don't break out of the loop\n",
    "    print(\"Простое\")\n",
    "    \n",
    "    \n",
    "# Another implementation  \n",
    "# number = 173\n",
    "# for i in range(2,number):\n",
    "    \n",
    "#     if number % i ==0:\n",
    "#         print(\"Не является простым\")\n",
    "#         break\n",
    "    \n",
    "#     elif number % i != 0 and i != number - 1:\n",
    "#         continue\n",
    "    \n",
    "#     else:\n",
    "#         print(\"Простое\")"
   ]
  },
  {
   "cell_type": "markdown",
   "metadata": {},
   "source": [
    "### А1.5.3.5 Задание 5\n",
    "\n",
    "Напишите программу, которая проверяет введённую пользователем строку (string) \n",
    "на соответствие правилу: у строки нет ни одной гласной русской маленькой буквы \n",
    "на каждой чётной позиции. \n",
    "\n",
    "Пример подходящей строки: \"пока!\" \n",
    "(в Python первый символ является нулевым, поэтому мы считаем первый символ чётным). \n",
    "\n",
    "Если строка подходит, программа выводит на экран \"Какая хорошая строка!\", \n",
    "а иначе — \"Строка мне не нравится!\".\n",
    "\n",
    "Для проверки используйте string = 'прелестная строка'"
   ]
  },
  {
   "cell_type": "code",
   "execution_count": 448,
   "metadata": {},
   "outputs": [
    {
     "name": "stdout",
     "output_type": "stream",
     "text": [
      "Строка мне не нравится!\n"
     ]
    }
   ],
   "source": [
    "# Architecture \n",
    "# 1. for i range - to count even number\n",
    "# 2. to exclude russian letters\n",
    "\n",
    "        \n",
    "    \n",
    "\n",
    "# string = 'пока'\n",
    "# for i, letter in enumerate(string):\n",
    "#     letter.lower()\n",
    "#     if letter in 'аеоиуыэюя' and i % 2 == 0:\n",
    "#         print('Какая хорошая строка!')\n",
    "#         break\n",
    "#     else:\n",
    "#         print('Строка мне не нравится!')\n",
    "\n",
    "\n",
    "\n",
    "string = 'прелестная строка'\n",
    "vowels = 'аеоиуыэюя'\n",
    "indOk = 1\n",
    "for i, letter in enumerate(string):\n",
    "    if i % 2==0 and letter in vowels:\n",
    "        print('Строка мне не нравится!')\n",
    "        indOk = 0\n",
    "        break\n",
    "\n",
    "if indOk == 1:\n",
    "    print('Какая хорошая строка!')\n"
   ]
  },
  {
   "cell_type": "code",
   "execution_count": null,
   "metadata": {},
   "outputs": [],
   "source": [
    "\n"
   ]
  },
  {
   "cell_type": "code",
   "execution_count": null,
   "metadata": {},
   "outputs": [],
   "source": []
  },
  {
   "cell_type": "code",
   "execution_count": null,
   "metadata": {},
   "outputs": [],
   "source": []
  }
 ],
 "metadata": {
  "kernelspec": {
   "display_name": "Python 3",
   "language": "python",
   "name": "python3"
  },
  "language_info": {
   "codemirror_mode": {
    "name": "ipython",
    "version": 3
   },
   "file_extension": ".py",
   "mimetype": "text/x-python",
   "name": "python",
   "nbconvert_exporter": "python",
   "pygments_lexer": "ipython3",
   "version": "3.7.3"
  }
 },
 "nbformat": 4,
 "nbformat_minor": 2
}
