{
 "cells": [
  {
   "cell_type": "markdown",
   "metadata": {},
   "source": [
    "## Lists"
   ]
  },
  {
   "cell_type": "code",
   "execution_count": 45,
   "metadata": {},
   "outputs": [
    {
     "name": "stdout",
     "output_type": "stream",
     "text": [
      "1-й элемент списка 'cat'\n",
      "2-й элемент списка 'dog'\n",
      "3-й элемент списка 'homyak'\n",
      "4-й элемент списка 'cow'\n",
      "5-й элемент списка 'horse'\n",
      "6-й элемент списка 'fox'\n",
      "7-й элемент списка 'wolf'\n",
      "8-й элемент списка 'rabbit'\n"
     ]
    }
   ],
   "source": [
    "# the first task\n",
    "animals = [\"cat\", \"dog\", \"homyak\", \"cow\", \"horse\", \"fox\", \"wolf\", \"rabbit\" ]\n",
    "step = 0\n",
    "\n",
    "for animal in animals:\n",
    "    step += 1\n",
    "    print(\"{}-й элемент списка '{}'\".format(step,animal))"
   ]
  },
  {
   "cell_type": "code",
   "execution_count": 46,
   "metadata": {},
   "outputs": [
    {
     "name": "stdout",
     "output_type": "stream",
     "text": [
      "1-й элемент списка 'cat'\n",
      "2-й элемент списка 'dog'\n",
      "3-й элемент списка 'homyak'\n",
      "4-й элемент списка 'cow'\n",
      "5-й элемент списка 'horse'\n",
      "6-й элемент списка 'fox'\n",
      "7-й элемент списка 'wolf'\n",
      "8-й элемент списка 'rabbit'\n"
     ]
    }
   ],
   "source": [
    "# second task\n",
    "animals = [\"cat\", \"dog\", \"homyak\", \"cow\", \"horse\", \"fox\", \"wolf\", \"rabbit\" ]\n",
    "\n",
    "for i in range(len(animals)):\n",
    "    print(\"{}-й элемент списка '{}'\".format(i+1, animals[i]))"
   ]
  },
  {
   "cell_type": "code",
   "execution_count": 50,
   "metadata": {},
   "outputs": [
    {
     "name": "stdout",
     "output_type": "stream",
     "text": [
      "1-й элемент списка 'cat'\n",
      "2-й элемент списка 'dog'\n",
      "3-й элемент списка 'homyak'\n",
      "4-й элемент списка 'cow'\n",
      "5-й элемент списка 'horse'\n",
      "6-й элемент списка 'fox'\n",
      "7-й элемент списка 'wolf'\n",
      "8-й элемент списка 'rabbit'\n"
     ]
    }
   ],
   "source": [
    "# the third task\n",
    "animals = [\"cat\", \"dog\", \"homyak\", \"cow\", \"horse\", \"fox\", \"wolf\", \"rabbit\" ]\n",
    "\n",
    "for i, animal in enumerate(animals):\n",
    "    print(\"{}-й элемент списка '{}'\".format(i+1, number))"
   ]
  },
  {
   "cell_type": "markdown",
   "metadata": {},
   "source": [
    "### Генераторы списка"
   ]
  },
  {
   "cell_type": "code",
   "execution_count": 127,
   "metadata": {},
   "outputs": [
    {
     "name": "stdout",
     "output_type": "stream",
     "text": [
      "CPU times: user 3 µs, sys: 0 ns, total: 3 µs\n",
      "Wall time: 5.01 µs\n",
      "[100, 144, 196, 256, 324, 400, 484, 576]\n"
     ]
    }
   ],
   "source": [
    "## Создать спискок ....\n",
    "# the first task\n",
    "%time\n",
    "my_list = []\n",
    "\n",
    "for i in range(10,26,2):\n",
    "    number = i**2\n",
    "    my_list.append(number)\n",
    "\n",
    "print(my_list)"
   ]
  },
  {
   "cell_type": "code",
   "execution_count": 125,
   "metadata": {},
   "outputs": [
    {
     "name": "stdout",
     "output_type": "stream",
     "text": [
      "CPU times: user 3 µs, sys: 0 ns, total: 3 µs\n",
      "Wall time: 19.1 µs\n"
     ]
    },
    {
     "data": {
      "text/plain": [
       "[100, 144, 196, 256, 324, 400, 484, 576]"
      ]
     },
     "execution_count": 125,
     "metadata": {},
     "output_type": "execute_result"
    }
   ],
   "source": [
    "# the second task -> the best one \n",
    "%time\n",
    "[i**2 for i in range(10,26,2)]"
   ]
  },
  {
   "cell_type": "markdown",
   "metadata": {},
   "source": [
    "### Вложенные списки"
   ]
  },
  {
   "cell_type": "code",
   "execution_count": 90,
   "metadata": {},
   "outputs": [
    {
     "name": "stdout",
     "output_type": "stream",
     "text": [
      "8\n"
     ]
    }
   ],
   "source": [
    "my_list = [[1, 2, 3], [4, 5, 6], [7, 8, 9]]\n",
    "\n",
    "print(my_list[2][1]) \n",
    "# [2] - the third element in the list\n",
    "# [1] - the second in the inside list"
   ]
  },
  {
   "cell_type": "code",
   "execution_count": 120,
   "metadata": {},
   "outputs": [
    {
     "name": "stdout",
     "output_type": "stream",
     "text": [
      "OK\n"
     ]
    }
   ],
   "source": [
    "# найти тройку в списке \n",
    "my_list = [[1, 2, 3], [4, 5, 6], [7, 8, 9]]\n",
    "\n",
    "for small_list in my_list:\n",
    "    if 3 in small_list:\n",
    "        print(\"OK\")\n",
    "        break"
   ]
  },
  {
   "cell_type": "code",
   "execution_count": 123,
   "metadata": {},
   "outputs": [
    {
     "data": {
      "text/plain": [
       "[1, 4, 7]"
      ]
     },
     "execution_count": 123,
     "metadata": {},
     "output_type": "execute_result"
    }
   ],
   "source": [
    "# найти каждый 1-ый элемент каждого вложенного списка\n",
    "# использовать генераторы списка\n",
    "my_list = [[1, 2, 3], [4, 5, 6], [7, 8, 9]]\n",
    "new_list = []\n",
    "\n",
    "[i[0] for i in my_list]"
   ]
  },
  {
   "cell_type": "markdown",
   "metadata": {},
   "source": [
    "## Cловарь\n",
    "## Создание словарей, работа с ключами и значениями  "
   ]
  },
  {
   "cell_type": "code",
   "execution_count": 133,
   "metadata": {},
   "outputs": [],
   "source": [
    "my_school = {'математика': 'Иванова М.И.', \n",
    "             'русский язык': 'Пушкина А.С.', \n",
    "             'английский язык': 'Петров Д.Ю.', \n",
    "             'физика': 'Эйнштейн А.Э.', \n",
    "             'химия': 'Менделеева Д.И.', \n",
    "             'биология': 'Мендель Г.И.', \n",
    "             'физкультура': 'Тарасова Т.А.'}"
   ]
  },
  {
   "cell_type": "code",
   "execution_count": 134,
   "metadata": {},
   "outputs": [
    {
     "data": {
      "text/plain": [
       "'Эйнштейн А.Э.'"
      ]
     },
     "execution_count": 134,
     "metadata": {},
     "output_type": "execute_result"
    }
   ],
   "source": [
    "# Вывести на экран фамилию учителя физики\n",
    "my_school['физика']"
   ]
  },
  {
   "cell_type": "code",
   "execution_count": 151,
   "metadata": {},
   "outputs": [
    {
     "name": "stdin",
     "output_type": "stream",
     "text": [
      "Name? вф\n"
     ]
    },
    {
     "name": "stdout",
     "output_type": "stream",
     "text": [
      "Предмета вф не преподается\n"
     ]
    }
   ],
   "source": [
    "my_school = {'математика': 'Иванова М.И.', \n",
    "             'русский язык': 'Пушкина А.С.', \n",
    "             'английский язык': 'Петров Д.Ю.', \n",
    "             'физика': 'Эйнштейн А.Э.', \n",
    "             'химия': 'Менделеева Д.И.', \n",
    "             'биология': 'Мендель Г.И.', \n",
    "             'физкультура': 'Тарасова Т.А.'}\n",
    "\n",
    "\n",
    "subject = input(\"Name?\").lower()\n",
    "if subject in my_school:\n",
    "    print(\"Предмет {} преподает учитель {}.\".format(subject, my_school[subject]))\n",
    "else:\n",
    "    print(\"Предмета {} не преподается\".format(subject))"
   ]
  },
  {
   "cell_type": "code",
   "execution_count": 159,
   "metadata": {},
   "outputs": [
    {
     "name": "stdout",
     "output_type": "stream",
     "text": [
      "Предмет математика препадает Иванова М.И.\n",
      "Предмет русский язык препадает Пушкина А.С.\n",
      "Предмет английский язык препадает Петров Д.Ю.\n",
      "Предмет физика препадает Эйнштейн А.Э.\n",
      "Предмет химия препадает Менделеева Д.И.\n",
      "Предмет биология препадает Мендель Г.И.\n",
      "Предмет физкультура препадает Тарасова Т.А.\n"
     ]
    }
   ],
   "source": [
    "for something, anything in my_school.items():\n",
    "    print(\"Предмет {} препадает {}\".format(something, anything)) # пример - 1ое слово = ключ, второе - равно значение"
   ]
  },
  {
   "cell_type": "code",
   "execution_count": 158,
   "metadata": {},
   "outputs": [
    {
     "name": "stdout",
     "output_type": "stream",
     "text": [
      "математика\n",
      "русский язык\n",
      "английский язык\n",
      "физика\n",
      "химия\n",
      "биология\n",
      "физкультура\n"
     ]
    }
   ],
   "source": [
    "# Перебор ключей \n",
    "for key in my_school.keys():\n",
    "    print(key) # ключи"
   ]
  },
  {
   "cell_type": "code",
   "execution_count": 157,
   "metadata": {},
   "outputs": [
    {
     "name": "stdout",
     "output_type": "stream",
     "text": [
      "Иванова М.И.\n",
      "Пушкина А.С.\n",
      "Петров Д.Ю.\n",
      "Эйнштейн А.Э.\n",
      "Менделеева Д.И.\n",
      "Мендель Г.И.\n",
      "Тарасова Т.А.\n"
     ]
    }
   ],
   "source": [
    "# Перебор значений \n",
    "for value in my_school.values():\n",
    "    print(value) # ключи"
   ]
  },
  {
   "cell_type": "markdown",
   "metadata": {},
   "source": [
    "### Вложеннные конструкции в словари"
   ]
  },
  {
   "cell_type": "code",
   "execution_count": 181,
   "metadata": {},
   "outputs": [],
   "source": [
    "math = ['Иванова М.И.', 'Колмогоров А.Н.', 'Перельман Г.Я.']\n",
    "russian = ['Пушкина А.С.', 'Лермонтов М.Ю.', 'Толстой Л.Н.']\n",
    "english = ['Петров Д.Ю.', 'Шекспир У.Б.']\n",
    "physics = ['Эйнштейн А.Э.', 'Коллайдер Б.А.']\n",
    "chemistry = ['Менделеева Д.И.', 'Кислота Л.И.']\n",
    "biology = ['Мендель Г.И.', 'Дарвин Ч.Р.']\n",
    "sports = ['Тарасова Т.А.', 'Черчесов С.С.']"
   ]
  },
  {
   "cell_type": "code",
   "execution_count": 162,
   "metadata": {},
   "outputs": [],
   "source": [
    "my_big_school = {'математика': math,\n",
    "                 'русский язык': russian,\n",
    "                 'английский язык': english,\n",
    "                 'физика': physics,\n",
    "                 'химия': chemistry, \n",
    "                 'биология': biology,\n",
    "                 'физкультура': sports}"
   ]
  },
  {
   "cell_type": "code",
   "execution_count": 164,
   "metadata": {},
   "outputs": [
    {
     "name": "stdout",
     "output_type": "stream",
     "text": [
      "математика ['Иванова М.И.', 'Колмогоров А.Н.', 'Перельман Г.Я.']\n",
      "русский язык ['Пушкина А.С.', 'Лермонтов М.Ю.', 'Толстой Л.Н.']\n",
      "английский язык ['Петров Д.Ю.', 'Шекспир У.Б.']\n",
      "физика ['Эйнштейн А.Э.', 'Коллайдер Б.А.']\n",
      "химия ['Менделеева Д.И.', 'Кислота Л.И.']\n",
      "биология ['Мендель Г.И.', 'Дарвин Ч.Р.']\n",
      "физкультура ['Тарасова Т.А.', 'Черчесов С.С.']\n"
     ]
    }
   ],
   "source": [
    "for subject, teachers in my_big_school.items():\n",
    "    print(subject, teachers)"
   ]
  },
  {
   "cell_type": "code",
   "execution_count": 168,
   "metadata": {},
   "outputs": [
    {
     "data": {
      "text/plain": [
       "'Черчесов С.С.'"
      ]
     },
     "execution_count": 168,
     "metadata": {},
     "output_type": "execute_result"
    }
   ],
   "source": [
    "# вывести на экран фамилию Черчесов С.С.\n",
    "my_big_school['физкультура'][1]"
   ]
  },
  {
   "cell_type": "code",
   "execution_count": 189,
   "metadata": {},
   "outputs": [
    {
     "name": "stdout",
     "output_type": "stream",
     "text": [
      "['Иванова М.И.', 'Колмогоров А.Н.', 'Перельман Г.Я.']\n",
      "\n",
      "\n",
      "Иванова М.И.\n",
      "Колмогоров А.Н.\n",
      "Перельман Г.Я.\n",
      "\n",
      "\n",
      "Иванова М.И.\n",
      "Колмогоров А.Н.\n",
      "Перельман Г.Я.\n"
     ]
    }
   ],
   "source": [
    "# вывести на экран фамилии всех математиков\n",
    "print(my_big_school['математика'][::]) # решение в строчку\n",
    "\n",
    "print(\"\\n\")\n",
    "for teacher in my_big_school['математика']:\n",
    "    print(teacher) # решение в столбик\n",
    "\n",
    "print(\"\\n\")\n",
    "print(\"\\n\".join(my_big_school['математика'])) # более красивый вариант решения"
   ]
  },
  {
   "cell_type": "code",
   "execution_count": 186,
   "metadata": {},
   "outputs": [
    {
     "name": "stdout",
     "output_type": "stream",
     "text": [
      "Предмет 'математика' преподают учителя\n",
      "Иванова М.И.\n",
      "Колмогоров А.Н.\n",
      "Перельман Г.Я.\n",
      "\n",
      "Предмет 'русский язык' преподают учителя\n",
      "Пушкина А.С.\n",
      "Лермонтов М.Ю.\n",
      "Толстой Л.Н.\n",
      "\n",
      "Предмет 'английский язык' преподают учителя\n",
      "Петров Д.Ю.\n",
      "Шекспир У.Б.\n",
      "\n",
      "Предмет 'физика' преподают учителя\n",
      "Эйнштейн А.Э.\n",
      "Коллайдер Б.А.\n",
      "\n",
      "Предмет 'химия' преподают учителя\n",
      "Менделеева Д.И.\n",
      "Кислота Л.И.\n",
      "\n",
      "Предмет 'биология' преподают учителя\n",
      "Мендель Г.И.\n",
      "Дарвин Ч.Р.\n",
      "\n",
      "Предмет 'физкультура' преподают учителя\n",
      "Тарасова Т.А.\n",
      "Черчесов С.С.\n",
      "\n"
     ]
    }
   ],
   "source": [
    "for subject in my_big_school.keys():\n",
    "    print(\"Предмет '{}' преподают учителя\".format(subject))\n",
    "    for teacher in my_big_school[subject]:\n",
    "        print(teacher)\n",
    "    print()"
   ]
  },
  {
   "cell_type": "code",
   "execution_count": null,
   "metadata": {},
   "outputs": [],
   "source": [
    "math = {'Иванова М.И.': {'кабинет': 1, \n",
    "                         'классы': [5, 6]}, \n",
    "        'Колмогоров А.Н.': {'кабинет': 2, \n",
    "                            'классы': [7, 8, 9]}, \n",
    "        'Перельман Г.Я.': {'кабинет': 3, \n",
    "                           'классы': [10, 11]}}"
   ]
  },
  {
   "cell_type": "code",
   "execution_count": null,
   "metadata": {},
   "outputs": [],
   "source": [
    "# в каком кабинете работает Колмогоров \n",
    "\n",
    "math[\"Колмогоров А.Н.\"]['кабинет']"
   ]
  },
  {
   "cell_type": "code",
   "execution_count": null,
   "metadata": {},
   "outputs": [],
   "source": [
    "# в каких классах преподает Иванова \n",
    "\n",
    "math[\"Иванова М.И.\"]['классы']"
   ]
  },
  {
   "cell_type": "code",
   "execution_count": null,
   "metadata": {},
   "outputs": [],
   "source": [
    "# какой класс, где преподает Перльман стоит первый в списке?\n",
    "\n",
    "math[\"Перельман Г.Я.\"]['классы'][0]"
   ]
  },
  {
   "cell_type": "code",
   "execution_count": null,
   "metadata": {},
   "outputs": [],
   "source": [
    "# самый старший класс, где преподает Колмогоров\n",
    "\n",
    "max(math[\"Колмогоров А.Н.\"]['классы'])"
   ]
  },
  {
   "cell_type": "code",
   "execution_count": null,
   "metadata": {},
   "outputs": [],
   "source": [
    "russian = {'Пушкина А.С.': {'кабинет': 4, 'классы': [5, 6, 7]}, \n",
    "           'Лермонтов М.Ю.': {'кабинет': 5, 'классы': [8, 9]}, \n",
    "           'Толстой Л.Н.': {'кабинет': 6, 'классы': [10, 11]}}\n",
    "english = {'Петров Д.Ю.': {'кабинет': 7, 'классы': [5, 6, 7, 8]}, \n",
    "           'Шекспир У.Б.': {'кабинет': 8, 'классы': [9, 10, 11]}}\n",
    "physics = {'Эйнштейн А.Э.': {'кабинет': 9, 'классы': [7, 8, 9]}, \n",
    "           'Коллайдер Б.А.': {'кабинет': 10, 'классы': [10, 11]}}\n",
    "chemistry = {'Менделеева Д.И.': {'кабинет': 11, 'классы': [8, 9]}, \n",
    "             'Кислота Л.И.': {'кабинет': 12, 'классы': [10, 11]}}\n",
    "biology = {'Мендель Г.И.': {'кабинет': 13, 'классы': [6, 7, 9]}, \n",
    "           'Дарвин Ч.Р.': {'кабинет': 14, 'классы': [8, 10, 11]}}\n",
    "sports = {'Тарасова Т.А.': {'кабинет': 'спортзал', 'классы': [5, 6, 7, 8]}, \n",
    "          'Черчесов С.С.': {'кабинет': 'спортзал', 'классы': [9, 10, 11]}}"
   ]
  },
  {
   "cell_type": "code",
   "execution_count": null,
   "metadata": {},
   "outputs": [],
   "source": [
    "my_new_school = {'математика': math,\n",
    "                 'русский язык': russian,\n",
    "                 'английский язык': english,\n",
    "                 'физика': physics,\n",
    "                 'химия': chemistry, \n",
    "                 'биология': biology,\n",
    "                 'физкультура': sports}"
   ]
  },
  {
   "cell_type": "code",
   "execution_count": null,
   "metadata": {},
   "outputs": [],
   "source": [
    "asked_subject = input('Какой предмет Вас интересует? ').lower()\n",
    "asked_class = int(input('В каком классе учится Ваш ребенок? '))\n",
    "\n",
    "for teacher, info in my_new_school[asked_subject].items():\n",
    "    print(teacher, info)"
   ]
  },
  {
   "cell_type": "code",
   "execution_count": 219,
   "metadata": {},
   "outputs": [
    {
     "ename": "KeyboardInterrupt",
     "evalue": "",
     "output_type": "error",
     "traceback": [
      "\u001b[0;31m---------------------------------------------------------------------------\u001b[0m",
      "\u001b[0;31mKeyboardInterrupt\u001b[0m                         Traceback (most recent call last)",
      "\u001b[0;32m/anaconda3/lib/python3.7/site-packages/ipykernel/kernelbase.py\u001b[0m in \u001b[0;36m_input_request\u001b[0;34m(self, prompt, ident, parent, password)\u001b[0m\n\u001b[1;32m    877\u001b[0m             \u001b[0;32mtry\u001b[0m\u001b[0;34m:\u001b[0m\u001b[0;34m\u001b[0m\u001b[0;34m\u001b[0m\u001b[0m\n\u001b[0;32m--> 878\u001b[0;31m                 \u001b[0mident\u001b[0m\u001b[0;34m,\u001b[0m \u001b[0mreply\u001b[0m \u001b[0;34m=\u001b[0m \u001b[0mself\u001b[0m\u001b[0;34m.\u001b[0m\u001b[0msession\u001b[0m\u001b[0;34m.\u001b[0m\u001b[0mrecv\u001b[0m\u001b[0;34m(\u001b[0m\u001b[0mself\u001b[0m\u001b[0;34m.\u001b[0m\u001b[0mstdin_socket\u001b[0m\u001b[0;34m,\u001b[0m \u001b[0;36m0\u001b[0m\u001b[0;34m)\u001b[0m\u001b[0;34m\u001b[0m\u001b[0;34m\u001b[0m\u001b[0m\n\u001b[0m\u001b[1;32m    879\u001b[0m             \u001b[0;32mexcept\u001b[0m \u001b[0mException\u001b[0m\u001b[0;34m:\u001b[0m\u001b[0;34m\u001b[0m\u001b[0;34m\u001b[0m\u001b[0m\n",
      "\u001b[0;32m/anaconda3/lib/python3.7/site-packages/jupyter_client/session.py\u001b[0m in \u001b[0;36mrecv\u001b[0;34m(self, socket, mode, content, copy)\u001b[0m\n\u001b[1;32m    802\u001b[0m         \u001b[0;32mtry\u001b[0m\u001b[0;34m:\u001b[0m\u001b[0;34m\u001b[0m\u001b[0;34m\u001b[0m\u001b[0m\n\u001b[0;32m--> 803\u001b[0;31m             \u001b[0mmsg_list\u001b[0m \u001b[0;34m=\u001b[0m \u001b[0msocket\u001b[0m\u001b[0;34m.\u001b[0m\u001b[0mrecv_multipart\u001b[0m\u001b[0;34m(\u001b[0m\u001b[0mmode\u001b[0m\u001b[0;34m,\u001b[0m \u001b[0mcopy\u001b[0m\u001b[0;34m=\u001b[0m\u001b[0mcopy\u001b[0m\u001b[0;34m)\u001b[0m\u001b[0;34m\u001b[0m\u001b[0;34m\u001b[0m\u001b[0m\n\u001b[0m\u001b[1;32m    804\u001b[0m         \u001b[0;32mexcept\u001b[0m \u001b[0mzmq\u001b[0m\u001b[0;34m.\u001b[0m\u001b[0mZMQError\u001b[0m \u001b[0;32mas\u001b[0m \u001b[0me\u001b[0m\u001b[0;34m:\u001b[0m\u001b[0;34m\u001b[0m\u001b[0;34m\u001b[0m\u001b[0m\n",
      "\u001b[0;32m/anaconda3/lib/python3.7/site-packages/zmq/sugar/socket.py\u001b[0m in \u001b[0;36mrecv_multipart\u001b[0;34m(self, flags, copy, track)\u001b[0m\n\u001b[1;32m    469\u001b[0m         \"\"\"\n\u001b[0;32m--> 470\u001b[0;31m         \u001b[0mparts\u001b[0m \u001b[0;34m=\u001b[0m \u001b[0;34m[\u001b[0m\u001b[0mself\u001b[0m\u001b[0;34m.\u001b[0m\u001b[0mrecv\u001b[0m\u001b[0;34m(\u001b[0m\u001b[0mflags\u001b[0m\u001b[0;34m,\u001b[0m \u001b[0mcopy\u001b[0m\u001b[0;34m=\u001b[0m\u001b[0mcopy\u001b[0m\u001b[0;34m,\u001b[0m \u001b[0mtrack\u001b[0m\u001b[0;34m=\u001b[0m\u001b[0mtrack\u001b[0m\u001b[0;34m)\u001b[0m\u001b[0;34m]\u001b[0m\u001b[0;34m\u001b[0m\u001b[0;34m\u001b[0m\u001b[0m\n\u001b[0m\u001b[1;32m    471\u001b[0m         \u001b[0;31m# have first part already, only loop while more to receive\u001b[0m\u001b[0;34m\u001b[0m\u001b[0;34m\u001b[0m\u001b[0;34m\u001b[0m\u001b[0m\n",
      "\u001b[0;32mzmq/backend/cython/socket.pyx\u001b[0m in \u001b[0;36mzmq.backend.cython.socket.Socket.recv\u001b[0;34m()\u001b[0m\n",
      "\u001b[0;32mzmq/backend/cython/socket.pyx\u001b[0m in \u001b[0;36mzmq.backend.cython.socket.Socket.recv\u001b[0;34m()\u001b[0m\n",
      "\u001b[0;32mzmq/backend/cython/socket.pyx\u001b[0m in \u001b[0;36mzmq.backend.cython.socket._recv_copy\u001b[0;34m()\u001b[0m\n",
      "\u001b[0;32m/anaconda3/lib/python3.7/site-packages/zmq/backend/cython/checkrc.pxd\u001b[0m in \u001b[0;36mzmq.backend.cython.checkrc._check_rc\u001b[0;34m()\u001b[0m\n",
      "\u001b[0;31mKeyboardInterrupt\u001b[0m: ",
      "\nDuring handling of the above exception, another exception occurred:\n",
      "\u001b[0;31mKeyboardInterrupt\u001b[0m                         Traceback (most recent call last)",
      "\u001b[0;32m<ipython-input-219-1ddea5c5df82>\u001b[0m in \u001b[0;36m<module>\u001b[0;34m\u001b[0m\n\u001b[1;32m      1\u001b[0m \u001b[0;31m# найти учителя и номер кабинете\u001b[0m\u001b[0;34m\u001b[0m\u001b[0;34m\u001b[0m\u001b[0;34m\u001b[0m\u001b[0m\n\u001b[0;32m----> 2\u001b[0;31m \u001b[0masked_subject\u001b[0m \u001b[0;34m=\u001b[0m \u001b[0minput\u001b[0m\u001b[0;34m(\u001b[0m\u001b[0;34m'Какой предмет Вас интересует? '\u001b[0m\u001b[0;34m)\u001b[0m\u001b[0;34m.\u001b[0m\u001b[0mlower\u001b[0m\u001b[0;34m(\u001b[0m\u001b[0;34m)\u001b[0m\u001b[0;34m\u001b[0m\u001b[0;34m\u001b[0m\u001b[0m\n\u001b[0m\u001b[1;32m      3\u001b[0m \u001b[0masked_class\u001b[0m \u001b[0;34m=\u001b[0m \u001b[0mint\u001b[0m\u001b[0;34m(\u001b[0m\u001b[0minput\u001b[0m\u001b[0;34m(\u001b[0m\u001b[0;34m'В каком классе учится Ваш ребенок? '\u001b[0m\u001b[0;34m)\u001b[0m\u001b[0;34m)\u001b[0m\u001b[0;34m\u001b[0m\u001b[0;34m\u001b[0m\u001b[0m\n\u001b[1;32m      4\u001b[0m \u001b[0;34m\u001b[0m\u001b[0m\n\u001b[1;32m      5\u001b[0m \u001b[0;32mfor\u001b[0m \u001b[0mteacher\u001b[0m\u001b[0;34m,\u001b[0m \u001b[0minfo\u001b[0m \u001b[0;32min\u001b[0m \u001b[0mmy_new_school\u001b[0m\u001b[0;34m[\u001b[0m\u001b[0masked_subject\u001b[0m\u001b[0;34m]\u001b[0m\u001b[0;34m.\u001b[0m\u001b[0mitems\u001b[0m\u001b[0;34m(\u001b[0m\u001b[0;34m)\u001b[0m\u001b[0;34m:\u001b[0m\u001b[0;34m\u001b[0m\u001b[0;34m\u001b[0m\u001b[0m\n",
      "\u001b[0;32m/anaconda3/lib/python3.7/site-packages/ipykernel/kernelbase.py\u001b[0m in \u001b[0;36mraw_input\u001b[0;34m(self, prompt)\u001b[0m\n\u001b[1;32m    851\u001b[0m             \u001b[0mself\u001b[0m\u001b[0;34m.\u001b[0m\u001b[0m_parent_ident\u001b[0m\u001b[0;34m,\u001b[0m\u001b[0;34m\u001b[0m\u001b[0;34m\u001b[0m\u001b[0m\n\u001b[1;32m    852\u001b[0m             \u001b[0mself\u001b[0m\u001b[0;34m.\u001b[0m\u001b[0m_parent_header\u001b[0m\u001b[0;34m,\u001b[0m\u001b[0;34m\u001b[0m\u001b[0;34m\u001b[0m\u001b[0m\n\u001b[0;32m--> 853\u001b[0;31m             \u001b[0mpassword\u001b[0m\u001b[0;34m=\u001b[0m\u001b[0;32mFalse\u001b[0m\u001b[0;34m,\u001b[0m\u001b[0;34m\u001b[0m\u001b[0;34m\u001b[0m\u001b[0m\n\u001b[0m\u001b[1;32m    854\u001b[0m         )\n\u001b[1;32m    855\u001b[0m \u001b[0;34m\u001b[0m\u001b[0m\n",
      "\u001b[0;32m/anaconda3/lib/python3.7/site-packages/ipykernel/kernelbase.py\u001b[0m in \u001b[0;36m_input_request\u001b[0;34m(self, prompt, ident, parent, password)\u001b[0m\n\u001b[1;32m    881\u001b[0m             \u001b[0;32mexcept\u001b[0m \u001b[0mKeyboardInterrupt\u001b[0m\u001b[0;34m:\u001b[0m\u001b[0;34m\u001b[0m\u001b[0;34m\u001b[0m\u001b[0m\n\u001b[1;32m    882\u001b[0m                 \u001b[0;31m# re-raise KeyboardInterrupt, to truncate traceback\u001b[0m\u001b[0;34m\u001b[0m\u001b[0;34m\u001b[0m\u001b[0;34m\u001b[0m\u001b[0m\n\u001b[0;32m--> 883\u001b[0;31m                 \u001b[0;32mraise\u001b[0m \u001b[0mKeyboardInterrupt\u001b[0m\u001b[0;34m\u001b[0m\u001b[0;34m\u001b[0m\u001b[0m\n\u001b[0m\u001b[1;32m    884\u001b[0m             \u001b[0;32melse\u001b[0m\u001b[0;34m:\u001b[0m\u001b[0;34m\u001b[0m\u001b[0;34m\u001b[0m\u001b[0m\n\u001b[1;32m    885\u001b[0m                 \u001b[0;32mbreak\u001b[0m\u001b[0;34m\u001b[0m\u001b[0;34m\u001b[0m\u001b[0m\n",
      "\u001b[0;31mKeyboardInterrupt\u001b[0m: "
     ]
    }
   ],
   "source": [
    "# найти учителя и номер кабинете \n",
    "asked_subject = input('Какой предмет Вас интересует? ').lower()\n",
    "asked_class = int(input('В каком классе учится Ваш ребенок? '))\n",
    "\n",
    "for teacher, info in my_new_school[asked_subject].items():\n",
    "    if asked_class in info['классы']:\n",
    "        print('Предмет \"{}\" у Вашего ребенка преподаёт учитель {}'.format(asked_subject, teacher))\n",
    "        print('Учитель работает в кабинете №{}.'.format(info['кабинет']))"
   ]
  },
  {
   "cell_type": "code",
   "execution_count": null,
   "metadata": {},
   "outputs": [],
   "source": []
  },
  {
   "cell_type": "code",
   "execution_count": null,
   "metadata": {},
   "outputs": [],
   "source": []
  }
 ],
 "metadata": {
  "kernelspec": {
   "display_name": "Python 3",
   "language": "python",
   "name": "python3"
  },
  "language_info": {
   "codemirror_mode": {
    "name": "ipython",
    "version": 3
   },
   "file_extension": ".py",
   "mimetype": "text/x-python",
   "name": "python",
   "nbconvert_exporter": "python",
   "pygments_lexer": "ipython3",
   "version": "3.7.3"
  }
 },
 "nbformat": 4,
 "nbformat_minor": 2
}
