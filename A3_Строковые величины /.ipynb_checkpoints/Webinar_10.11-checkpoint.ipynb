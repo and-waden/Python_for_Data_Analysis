{
 "cells": [
  {
   "cell_type": "code",
   "execution_count": 1,
   "metadata": {},
   "outputs": [],
   "source": [
    "string = 'Семь бед — один reset'"
   ]
  },
  {
   "cell_type": "code",
   "execution_count": 5,
   "metadata": {},
   "outputs": [
    {
     "data": {
      "text/plain": [
       "'Семь'"
      ]
     },
     "execution_count": 5,
     "metadata": {},
     "output_type": "execute_result"
    }
   ],
   "source": [
    "string[:4]"
   ]
  },
  {
   "cell_type": "code",
   "execution_count": 13,
   "metadata": {},
   "outputs": [
    {
     "data": {
      "text/plain": [
       "'один'"
      ]
     },
     "execution_count": 13,
     "metadata": {},
     "output_type": "execute_result"
    }
   ],
   "source": [
    "string[11:15]"
   ]
  },
  {
   "cell_type": "code",
   "execution_count": 28,
   "metadata": {},
   "outputs": [
    {
     "data": {
      "text/plain": [
       "'reset'"
      ]
     },
     "execution_count": 28,
     "metadata": {},
     "output_type": "execute_result"
    }
   ],
   "source": [
    "string[-5:]"
   ]
  },
  {
   "cell_type": "code",
   "execution_count": 47,
   "metadata": {},
   "outputs": [
    {
     "name": "stdout",
     "output_type": "stream",
     "text": [
      "teser\n"
     ]
    }
   ],
   "source": [
    "print(string[-1:-6:-1])"
   ]
  },
  {
   "cell_type": "code",
   "execution_count": 60,
   "metadata": {},
   "outputs": [
    {
     "name": "stdout",
     "output_type": "stream",
     "text": [
      "С\n",
      "е\n",
      "м\n",
      "ь\n",
      " \n",
      "б\n",
      "е\n",
      "д\n",
      " \n",
      "—\n",
      " \n",
      "о\n",
      "д\n",
      "и\n",
      "н\n",
      " \n",
      "r\n",
      "e\n",
      "s\n",
      "e\n",
      "t\n"
     ]
    }
   ],
   "source": [
    "for i in string:\n",
    "    print(i)"
   ]
  },
  {
   "cell_type": "code",
   "execution_count": 62,
   "metadata": {},
   "outputs": [
    {
     "name": "stdout",
     "output_type": "stream",
     "text": [
      "С*е*м*ь* *б*е*д* *—* *о*д*и*н* *r*e*s*e*t*\n",
      "С*е*м*ь* *б*е*д* *—* *о*д*и*н* *r*e*s*e*t\n"
     ]
    }
   ],
   "source": [
    "for i in string:\n",
    "    print(i+\"*\", end=\"\")\n",
    "    \n",
    "print()\n",
    "print(\"*\".join(string))"
   ]
  },
  {
   "cell_type": "code",
   "execution_count": null,
   "metadata": {},
   "outputs": [],
   "source": []
  },
  {
   "cell_type": "code",
   "execution_count": 54,
   "metadata": {},
   "outputs": [
    {
     "name": "stdout",
     "output_type": "stream",
     "text": [
      "teser нидо — деб ьмеС\n"
     ]
    }
   ],
   "source": [
    "print(string[::-1])"
   ]
  },
  {
   "cell_type": "code",
   "execution_count": 69,
   "metadata": {},
   "outputs": [
    {
     "name": "stdout",
     "output_type": "stream",
     "text": [
      "Сteser нидо — деб ьмеС"
     ]
    }
   ],
   "source": [
    "for i in range(0, len(string)+1):\n",
    "    print(string[-i], end=\"\")"
   ]
  },
  {
   "cell_type": "markdown",
   "metadata": {},
   "source": [
    "## Поиск подстроки в строке"
   ]
  },
  {
   "cell_type": "code",
   "execution_count": 70,
   "metadata": {},
   "outputs": [],
   "source": [
    "info = 'Фамилия: Иванов, имя: Иван, e-mail: vanya@ivanov.me'"
   ]
  },
  {
   "cell_type": "code",
   "execution_count": 137,
   "metadata": {},
   "outputs": [
    {
     "name": "stdout",
     "output_type": "stream",
     "text": [
      "vanya@ivanov.me\n",
      "vanya@ivanov.me\n",
      "\n"
     ]
    },
    {
     "data": {
      "text/plain": [
       "'vanya@ivanov.me'"
      ]
     },
     "execution_count": 137,
     "metadata": {},
     "output_type": "execute_result"
    }
   ],
   "source": [
    "print(info.split()[5])\n",
    "print(info[36:51])\n",
    "\n",
    "print()\n",
    "info.split()[5]"
   ]
  },
  {
   "cell_type": "code",
   "execution_count": 140,
   "metadata": {},
   "outputs": [
    {
     "data": {
      "text/plain": [
       "'vanya@ivanov.me'"
      ]
     },
     "execution_count": 140,
     "metadata": {},
     "output_type": "execute_result"
    }
   ],
   "source": [
    "info.find(\"vanya@ivanov.me\") # this will return index of the element\n",
    "\n",
    "info[info.find(\"e-mail\")+8:] # count from e-mail"
   ]
  },
  {
   "cell_type": "code",
   "execution_count": 106,
   "metadata": {},
   "outputs": [
    {
     "data": {
      "text/plain": [
       "'vanya@ivanov.me'"
      ]
     },
     "execution_count": 106,
     "metadata": {},
     "output_type": "execute_result"
    }
   ],
   "source": [
    "info[info.find(\"e-mail\")+len(\"email:  \"):] # count from e-mail"
   ]
  },
  {
   "cell_type": "code",
   "execution_count": 107,
   "metadata": {},
   "outputs": [
    {
     "data": {
      "text/plain": [
       "': Иванов, имя: Иван, e-mail: vanya@ivanov.me'"
      ]
     },
     "execution_count": 107,
     "metadata": {},
     "output_type": "execute_result"
    }
   ],
   "source": [
    "start = info.find(\"email\") \n",
    "start += len(\"email:  \")\n",
    "info[start:]"
   ]
  },
  {
   "cell_type": "markdown",
   "metadata": {},
   "source": [
    "### Выделить из строки имя человека"
   ]
  },
  {
   "cell_type": "code",
   "execution_count": 116,
   "metadata": {},
   "outputs": [
    {
     "name": "stdout",
     "output_type": "stream",
     "text": [
      "['Фамилия:', 'Иванов,', 'имя:', 'Иван,', 'e-mail:', 'vanya@ivanov.me']\n"
     ]
    }
   ],
   "source": [
    "info = 'Фамилия: Иванов, имя: Иван, e-mail: vanya@ivanov.me'\n",
    "print(info.split())"
   ]
  },
  {
   "cell_type": "code",
   "execution_count": 170,
   "metadata": {},
   "outputs": [
    {
     "data": {
      "text/plain": [
       "'Иван'"
      ]
     },
     "execution_count": 170,
     "metadata": {},
     "output_type": "execute_result"
    }
   ],
   "source": [
    "info.split()[3][:-1]"
   ]
  },
  {
   "cell_type": "code",
   "execution_count": 152,
   "metadata": {},
   "outputs": [
    {
     "data": {
      "text/plain": [
       "17"
      ]
     },
     "execution_count": 152,
     "metadata": {},
     "output_type": "execute_result"
    }
   ],
   "source": [
    "info.find(\"имя:\")"
   ]
  },
  {
   "cell_type": "code",
   "execution_count": 167,
   "metadata": {},
   "outputs": [
    {
     "data": {
      "text/plain": [
       "' имя: Иван, e-mail: vanya@ivanov.me'"
      ]
     },
     "execution_count": 167,
     "metadata": {},
     "output_type": "execute_result"
    }
   ],
   "source": [
    "start = info.find(\"имя:  \") + len(\"имя:  \")\n",
    "start += "
   ]
  },
  {
   "cell_type": "code",
   "execution_count": 200,
   "metadata": {},
   "outputs": [
    {
     "data": {
      "text/plain": [
       "'Иван'"
      ]
     },
     "execution_count": 200,
     "metadata": {},
     "output_type": "execute_result"
    }
   ],
   "source": [
    "info[info.find('имя:')+len('имя: '): info.find(', e-mail')]"
   ]
  },
  {
   "cell_type": "code",
   "execution_count": null,
   "metadata": {},
   "outputs": [],
   "source": []
  },
  {
   "cell_type": "code",
   "execution_count": null,
   "metadata": {},
   "outputs": [],
   "source": []
  },
  {
   "cell_type": "code",
   "execution_count": 221,
   "metadata": {},
   "outputs": [
    {
     "name": "stdout",
     "output_type": "stream",
     "text": [
      "Иван Иванов (vanya@ivanov.me)\n"
     ]
    }
   ],
   "source": [
    "# Задание вывести имя фамилию и мейл\n",
    "\n",
    "test = 'Фамилия: Иванов, имя: Иван, e-mail: vanya@ivanov.me'\n",
    "\n",
    "name = info[info.find('имя:')+len('имя: '): info.find(', e-mail')]\n",
    "surname = info[info.find('Фамилия:')+len('Фамилия: '): info.find(', имя')]\n",
    "email = info[info.find(\"e-mail\")+len(\"email:  \"):] # count from e-mail\n",
    "\n",
    "print(\"{} {} ({})\".format(name, surname, email))"
   ]
  },
  {
   "cell_type": "markdown",
   "metadata": {},
   "source": [
    "### Работа c файломи и RegEx"
   ]
  },
  {
   "cell_type": "code",
   "execution_count": 236,
   "metadata": {},
   "outputs": [
    {
     "name": "stdout",
     "output_type": "stream",
     "text": [
      "Ivanov\tIvan\t1.01.1996\tvanya@mail.ru\t+7 (903) 221-23-35\n",
      "Smith\tAnna\t3.09.1985\tbeauty@gmail.com\t+1 (501) 342-52-31\n",
      "Petrov\tPetr\t5.05.1965\tbig_boss@mail.ru\t+7 (999) 345-67-89\n",
      "Sidorova\tAngelina\t21.06.1977\ta.sidorova@yandex.ru\t+7 (777) 234-56-83\n",
      "Dyatlov\tAnatoliy\t13.02.1997\tterminator@mail.ru\t+7 (920) 253-43-21\n",
      "Kracavceva\tJulia\t15.04.1998\tyulechka@gmail.com\t+45 (3452) 234-32-34"
     ]
    }
   ],
   "source": [
    "with open('info_2.txt', encoding = 'utf-8') as f:\n",
    "    for line in f: \n",
    "        print(line, end = '')"
   ]
  },
  {
   "cell_type": "code",
   "execution_count": 242,
   "metadata": {},
   "outputs": [
    {
     "name": "stdout",
     "output_type": "stream",
     "text": [
      "Ivan\n",
      "Anna\n",
      "Petr\n",
      "Angelina\n",
      "Anatoliy\n",
      "Julia\n"
     ]
    }
   ],
   "source": [
    "# список имен сотрудников\n",
    "\n",
    "with open('info_2.txt', encoding = 'utf-8') as f:\n",
    "    for line in f: \n",
    "        print(line.split(\"\\t\")[1]) # delimeter tabulation"
   ]
  },
  {
   "cell_type": "code",
   "execution_count": 250,
   "metadata": {},
   "outputs": [
    {
     "name": "stdout",
     "output_type": "stream",
     "text": [
      "МОЛОДЫЕ\n",
      "Ivan, Ivanov\n",
      "Anatoliy, Dyatlov\n",
      "Julia, Kracavceva\n",
      "\n",
      "ОПЫТНЫЕ\n",
      "Anna, Smith\n",
      "Petr, Petrov\n",
      "Angelina, Sidorova\n",
      "\n"
     ]
    }
   ],
   "source": [
    "# Вывести отдельго имена молодых и опытных сотрудников. Молодых < 25 лет, опытные > 25 лет\n",
    "\n",
    "staff = {\"молодые\":[] , \"опытные\":[]}\n",
    "\n",
    "with open('info_2.txt') as f:\n",
    "    for line in f: \n",
    "        info = line.split(\"\\t\")\n",
    "        name = info[1]\n",
    "        surname = info[0]\n",
    "        age = 2019 - int(info[2][-4:]) # to find the BD in a file and then change to int \n",
    "        if age < 25:\n",
    "            staff[\"молодые\"].append(\"{}, {}\".format(name, surname))\n",
    "        else:\n",
    "            staff[\"опытные\"].append(\"{}, {}\".format(name, surname))\n",
    "staff\n",
    "\n",
    "for experience in staff:\n",
    "    print(experience.upper())\n",
    "    for person in staff[experience]:\n",
    "        print(person)\n",
    "    print()   "
   ]
  },
  {
   "cell_type": "code",
   "execution_count": 251,
   "metadata": {},
   "outputs": [],
   "source": [
    "# С использованием регулярных выражений:\n",
    "import re\n",
    "\n",
    "new_staff = {'Россия':0, 'Казахстан':0, 'Дальнее зарубежье':0}\n",
    "pattern = re.compile('\\+\\d+ \\(\\d')\n",
    "\n",
    "\n"
   ]
  },
  {
   "cell_type": "code",
   "execution_count": null,
   "metadata": {},
   "outputs": [],
   "source": []
  },
  {
   "cell_type": "code",
   "execution_count": null,
   "metadata": {},
   "outputs": [],
   "source": []
  }
 ],
 "metadata": {
  "kernelspec": {
   "display_name": "Python 3",
   "language": "python",
   "name": "python3"
  },
  "language_info": {
   "codemirror_mode": {
    "name": "ipython",
    "version": 3
   },
   "file_extension": ".py",
   "mimetype": "text/x-python",
   "name": "python",
   "nbconvert_exporter": "python",
   "pygments_lexer": "ipython3",
   "version": "3.7.3"
  }
 },
 "nbformat": 4,
 "nbformat_minor": 2
}
