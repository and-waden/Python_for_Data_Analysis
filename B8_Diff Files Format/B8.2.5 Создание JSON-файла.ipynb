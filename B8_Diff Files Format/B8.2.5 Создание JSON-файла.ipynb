{
 "cells": [
  {
   "cell_type": "markdown",
   "metadata": {},
   "source": [
    "## B8.2.5 Создание JSON-файла"
   ]
  },
  {
   "cell_type": "code",
   "execution_count": 7,
   "metadata": {},
   "outputs": [],
   "source": [
    "import pandas as pd\n",
    "import numpy as np\n",
    "import json"
   ]
  },
  {
   "cell_type": "code",
   "execution_count": 8,
   "metadata": {},
   "outputs": [],
   "source": [
    "with open('recipes.json') as f:\n",
    "    recipes = json.load(f)"
   ]
  },
  {
   "cell_type": "code",
   "execution_count": 9,
   "metadata": {},
   "outputs": [
    {
     "data": {
      "text/html": [
       "<div>\n",
       "<style scoped>\n",
       "    .dataframe tbody tr th:only-of-type {\n",
       "        vertical-align: middle;\n",
       "    }\n",
       "\n",
       "    .dataframe tbody tr th {\n",
       "        vertical-align: top;\n",
       "    }\n",
       "\n",
       "    .dataframe thead th {\n",
       "        text-align: right;\n",
       "    }\n",
       "</style>\n",
       "<table border=\"1\" class=\"dataframe\">\n",
       "  <thead>\n",
       "    <tr style=\"text-align: right;\">\n",
       "      <th></th>\n",
       "      <th>id</th>\n",
       "      <th>cuisine</th>\n",
       "      <th>ingredients</th>\n",
       "    </tr>\n",
       "  </thead>\n",
       "  <tbody>\n",
       "    <tr>\n",
       "      <th>0</th>\n",
       "      <td>10259</td>\n",
       "      <td>greek</td>\n",
       "      <td>[romaine lettuce, black olives, grape tomatoes...</td>\n",
       "    </tr>\n",
       "    <tr>\n",
       "      <th>1</th>\n",
       "      <td>25693</td>\n",
       "      <td>southern_us</td>\n",
       "      <td>[plain flour, ground pepper, salt, tomatoes, g...</td>\n",
       "    </tr>\n",
       "    <tr>\n",
       "      <th>2</th>\n",
       "      <td>20130</td>\n",
       "      <td>filipino</td>\n",
       "      <td>[eggs, pepper, salt, mayonaise, cooking oil, g...</td>\n",
       "    </tr>\n",
       "    <tr>\n",
       "      <th>3</th>\n",
       "      <td>22213</td>\n",
       "      <td>indian</td>\n",
       "      <td>[water, vegetable oil, wheat, salt]</td>\n",
       "    </tr>\n",
       "    <tr>\n",
       "      <th>4</th>\n",
       "      <td>13162</td>\n",
       "      <td>indian</td>\n",
       "      <td>[black pepper, shallots, cornflour, cayenne pe...</td>\n",
       "    </tr>\n",
       "    <tr>\n",
       "      <th>...</th>\n",
       "      <td>...</td>\n",
       "      <td>...</td>\n",
       "      <td>...</td>\n",
       "    </tr>\n",
       "    <tr>\n",
       "      <th>495</th>\n",
       "      <td>1121</td>\n",
       "      <td>chinese</td>\n",
       "      <td>[ground pepper, garlic, safflower oil, green o...</td>\n",
       "    </tr>\n",
       "    <tr>\n",
       "      <th>496</th>\n",
       "      <td>18376</td>\n",
       "      <td>italian</td>\n",
       "      <td>[penne, garlic, eggplant, lemon juice, olive o...</td>\n",
       "    </tr>\n",
       "    <tr>\n",
       "      <th>497</th>\n",
       "      <td>17815</td>\n",
       "      <td>italian</td>\n",
       "      <td>[cold water, dry white wine, fish fillets, cho...</td>\n",
       "    </tr>\n",
       "    <tr>\n",
       "      <th>498</th>\n",
       "      <td>32878</td>\n",
       "      <td>southern_us</td>\n",
       "      <td>[water, cajun seasoning, yellow onion, shrimp,...</td>\n",
       "    </tr>\n",
       "    <tr>\n",
       "      <th>499</th>\n",
       "      <td>24410</td>\n",
       "      <td>british</td>\n",
       "      <td>[mint, large eggs, heavy cream, berries, groun...</td>\n",
       "    </tr>\n",
       "  </tbody>\n",
       "</table>\n",
       "<p>500 rows × 3 columns</p>\n",
       "</div>"
      ],
      "text/plain": [
       "        id      cuisine                                        ingredients\n",
       "0    10259        greek  [romaine lettuce, black olives, grape tomatoes...\n",
       "1    25693  southern_us  [plain flour, ground pepper, salt, tomatoes, g...\n",
       "2    20130     filipino  [eggs, pepper, salt, mayonaise, cooking oil, g...\n",
       "3    22213       indian                [water, vegetable oil, wheat, salt]\n",
       "4    13162       indian  [black pepper, shallots, cornflour, cayenne pe...\n",
       "..     ...          ...                                                ...\n",
       "495   1121      chinese  [ground pepper, garlic, safflower oil, green o...\n",
       "496  18376      italian  [penne, garlic, eggplant, lemon juice, olive o...\n",
       "497  17815      italian  [cold water, dry white wine, fish fillets, cho...\n",
       "498  32878  southern_us  [water, cajun seasoning, yellow onion, shrimp,...\n",
       "499  24410      british  [mint, large eggs, heavy cream, berries, groun...\n",
       "\n",
       "[500 rows x 3 columns]"
      ]
     },
     "execution_count": 9,
     "metadata": {},
     "output_type": "execute_result"
    }
   ],
   "source": [
    "df = pd.DataFrame(recipes)\n",
    "df"
   ]
  },
  {
   "cell_type": "code",
   "execution_count": 10,
   "metadata": {},
   "outputs": [],
   "source": [
    "df.to_csv('recipes.csv', index = False)"
   ]
  },
  {
   "cell_type": "code",
   "execution_count": 11,
   "metadata": {},
   "outputs": [],
   "source": [
    "df = pd.read_csv('recipes.csv')"
   ]
  },
  {
   "cell_type": "code",
   "execution_count": 14,
   "metadata": {},
   "outputs": [
    {
     "data": {
      "text/html": [
       "<div>\n",
       "<style scoped>\n",
       "    .dataframe tbody tr th:only-of-type {\n",
       "        vertical-align: middle;\n",
       "    }\n",
       "\n",
       "    .dataframe tbody tr th {\n",
       "        vertical-align: top;\n",
       "    }\n",
       "\n",
       "    .dataframe thead th {\n",
       "        text-align: right;\n",
       "    }\n",
       "</style>\n",
       "<table border=\"1\" class=\"dataframe\">\n",
       "  <thead>\n",
       "    <tr style=\"text-align: right;\">\n",
       "      <th></th>\n",
       "      <th>id</th>\n",
       "      <th>cuisine</th>\n",
       "      <th>ingredients</th>\n",
       "    </tr>\n",
       "  </thead>\n",
       "  <tbody>\n",
       "    <tr>\n",
       "      <th>0</th>\n",
       "      <td>10259</td>\n",
       "      <td>greek</td>\n",
       "      <td>['romaine lettuce', 'black olives', 'grape tom...</td>\n",
       "    </tr>\n",
       "    <tr>\n",
       "      <th>1</th>\n",
       "      <td>25693</td>\n",
       "      <td>southern_us</td>\n",
       "      <td>['plain flour', 'ground pepper', 'salt', 'toma...</td>\n",
       "    </tr>\n",
       "    <tr>\n",
       "      <th>2</th>\n",
       "      <td>20130</td>\n",
       "      <td>filipino</td>\n",
       "      <td>['eggs', 'pepper', 'salt', 'mayonaise', 'cooki...</td>\n",
       "    </tr>\n",
       "    <tr>\n",
       "      <th>3</th>\n",
       "      <td>22213</td>\n",
       "      <td>indian</td>\n",
       "      <td>['water', 'vegetable oil', 'wheat', 'salt']</td>\n",
       "    </tr>\n",
       "    <tr>\n",
       "      <th>4</th>\n",
       "      <td>13162</td>\n",
       "      <td>indian</td>\n",
       "      <td>['black pepper', 'shallots', 'cornflour', 'cay...</td>\n",
       "    </tr>\n",
       "    <tr>\n",
       "      <th>...</th>\n",
       "      <td>...</td>\n",
       "      <td>...</td>\n",
       "      <td>...</td>\n",
       "    </tr>\n",
       "    <tr>\n",
       "      <th>495</th>\n",
       "      <td>1121</td>\n",
       "      <td>chinese</td>\n",
       "      <td>['ground pepper', 'garlic', 'safflower oil', '...</td>\n",
       "    </tr>\n",
       "    <tr>\n",
       "      <th>496</th>\n",
       "      <td>18376</td>\n",
       "      <td>italian</td>\n",
       "      <td>['penne', 'garlic', 'eggplant', 'lemon juice',...</td>\n",
       "    </tr>\n",
       "    <tr>\n",
       "      <th>497</th>\n",
       "      <td>17815</td>\n",
       "      <td>italian</td>\n",
       "      <td>['cold water', 'dry white wine', 'fish fillets...</td>\n",
       "    </tr>\n",
       "    <tr>\n",
       "      <th>498</th>\n",
       "      <td>32878</td>\n",
       "      <td>southern_us</td>\n",
       "      <td>['water', 'cajun seasoning', 'yellow onion', '...</td>\n",
       "    </tr>\n",
       "    <tr>\n",
       "      <th>499</th>\n",
       "      <td>24410</td>\n",
       "      <td>british</td>\n",
       "      <td>['mint', 'large eggs', 'heavy cream', 'berries...</td>\n",
       "    </tr>\n",
       "  </tbody>\n",
       "</table>\n",
       "<p>500 rows × 3 columns</p>\n",
       "</div>"
      ],
      "text/plain": [
       "        id      cuisine                                        ingredients\n",
       "0    10259        greek  ['romaine lettuce', 'black olives', 'grape tom...\n",
       "1    25693  southern_us  ['plain flour', 'ground pepper', 'salt', 'toma...\n",
       "2    20130     filipino  ['eggs', 'pepper', 'salt', 'mayonaise', 'cooki...\n",
       "3    22213       indian        ['water', 'vegetable oil', 'wheat', 'salt']\n",
       "4    13162       indian  ['black pepper', 'shallots', 'cornflour', 'cay...\n",
       "..     ...          ...                                                ...\n",
       "495   1121      chinese  ['ground pepper', 'garlic', 'safflower oil', '...\n",
       "496  18376      italian  ['penne', 'garlic', 'eggplant', 'lemon juice',...\n",
       "497  17815      italian  ['cold water', 'dry white wine', 'fish fillets...\n",
       "498  32878  southern_us  ['water', 'cajun seasoning', 'yellow onion', '...\n",
       "499  24410      british  ['mint', 'large eggs', 'heavy cream', 'berries...\n",
       "\n",
       "[500 rows x 3 columns]"
      ]
     },
     "execution_count": 14,
     "metadata": {},
     "output_type": "execute_result"
    }
   ],
   "source": [
    "df"
   ]
  },
  {
   "cell_type": "markdown",
   "metadata": {},
   "source": [
    "#### B8.2.5.1 Задание 1\n",
    "Напишите код для создания списка id всех блюд, представленных в датафрейме.\n",
    "\n",
    "Обратите внимание на следующие моменты:\n",
    "\n",
    "1. Тип структуры, в которой должны храниться id блюд - список (list).\n",
    "2. Имя переменной, в которой будет храниьтся список - ids.\n",
    "3. Порядок id в списке не имеет значения.\n",
    "4. Код должен начинаться с чтения файла recipes.csv"
   ]
  },
  {
   "cell_type": "code",
   "execution_count": 25,
   "metadata": {},
   "outputs": [],
   "source": [
    "df = pd.read_csv('recipes.csv')\n",
    "ids = df['id'].unique()\n",
    "# ids"
   ]
  },
  {
   "cell_type": "markdown",
   "metadata": {},
   "source": [
    "#### B8.2.5.2 Задание 2\n",
    "Напишите код для создания списка ингредиентов всех блюд, представленных в датафрейме.\n",
    "\n",
    "Обратите внимание на следующие моменты:\n",
    "\n",
    "1. Тип структуры, в которой должны храниться названия ингредиентов блюд, — список (list).\n",
    "2. Имя переменной, в которой будет храниться список, — ingredients.\n",
    "3. Порядок ингредиентов в списке не имеет значения.\n",
    "4. Код должен начинаться с чтения файла recipes.csv\n",
    "\n",
    "Подсказка: поскольку названия ингредиентов используются как названия столбцов датафрейма, вы можете воспользоваться командой df.columns для получения перечня всех названий столбцов, после чего превратить перечень в список и извлечь из него нужные данные."
   ]
  },
  {
   "cell_type": "code",
   "execution_count": 85,
   "metadata": {},
   "outputs": [
    {
     "ename": "AttributeError",
     "evalue": "'list' object has no attribute 'columns'",
     "output_type": "error",
     "traceback": [
      "\u001b[0;31m---------------------------------------------------------------------------\u001b[0m",
      "\u001b[0;31mAttributeError\u001b[0m                            Traceback (most recent call last)",
      "\u001b[0;32m<ipython-input-85-0b0c1579abe1>\u001b[0m in \u001b[0;36m<module>\u001b[0;34m\u001b[0m\n\u001b[1;32m      7\u001b[0m     \u001b[0mingredients\u001b[0m\u001b[0;34m.\u001b[0m\u001b[0mappend\u001b[0m\u001b[0;34m(\u001b[0m\u001b[0mdf\u001b[0m\u001b[0;34m[\u001b[0m\u001b[0;34m\"ingredients\"\u001b[0m\u001b[0;34m]\u001b[0m\u001b[0;34m)\u001b[0m\u001b[0;34m\u001b[0m\u001b[0;34m\u001b[0m\u001b[0m\n\u001b[1;32m      8\u001b[0m \u001b[0;34m\u001b[0m\u001b[0m\n\u001b[0;32m----> 9\u001b[0;31m \u001b[0mingredients\u001b[0m\u001b[0;34m.\u001b[0m\u001b[0mcolumns\u001b[0m\u001b[0;34m(\u001b[0m\u001b[0;34m)\u001b[0m\u001b[0;34m\u001b[0m\u001b[0;34m\u001b[0m\u001b[0m\n\u001b[0m",
      "\u001b[0;31mAttributeError\u001b[0m: 'list' object has no attribute 'columns'"
     ]
    }
   ],
   "source": [
    "df = pd.read_csv('recipes.csv')\n",
    "ingredients = []\n",
    "# type(df)\n",
    "# type(ingredients)\n",
    "\n",
    "for ingredient in df[\"ingredients\"]:\n",
    "    ingredients.append(df[\"ingredients\"])\n"
   ]
  },
  {
   "cell_type": "code",
   "execution_count": null,
   "metadata": {},
   "outputs": [],
   "source": [
    "# list(data.columns) \n"
   ]
  },
  {
   "cell_type": "markdown",
   "metadata": {},
   "source": [
    "#### B8.2.5.3 Задание 3\n",
    "Напишите код функции make_list, которая принимает строку датафрейма df, содержащую данные об одном рецепте, и возвращает перечень ингредиентов этого блюда в виде списка.\n",
    "\n",
    "Обратите внимание на следующие моменты:\n",
    "\n",
    "1. Тип структуры, котоую должна вернуть функция в результате работы, — список (list).\n",
    "2. В процессе работы функция должна обращаться к списку, в котором хранятся названия всех ингредиентов. Используйте имя переменной ingredients для списка.\n",
    "3. Добавьте код для чтения файла recipes.csv и создания списка ingredients перед кодом функции.\n",
    "4. Порядок ингредиентов в возвращаемом списке не имеет значения."
   ]
  },
  {
   "cell_type": "code",
   "execution_count": 70,
   "metadata": {},
   "outputs": [],
   "source": [
    "df = pd.read_csv('recipes.csv')\n",
    "ingredients = []\n",
    "for i in df.columns[3::]:\n",
    "    ingredients.append(i)\n",
    "    \n",
    "def make_list(df_I):\n",
    "    list_ingredients = []\n",
    "    \n",
    "    for a in ingredients:\n",
    "        if df_I[a].item() > 0:\n",
    "            list_ingredients.append(a)\n",
    "    return list_ingredients"
   ]
  },
  {
   "cell_type": "code",
   "execution_count": null,
   "metadata": {},
   "outputs": [],
   "source": []
  },
  {
   "cell_type": "code",
   "execution_count": null,
   "metadata": {},
   "outputs": [],
   "source": []
  }
 ],
 "metadata": {
  "kernelspec": {
   "display_name": "Python 3",
   "language": "python",
   "name": "python3"
  },
  "language_info": {
   "codemirror_mode": {
    "name": "ipython",
    "version": 3
   },
   "file_extension": ".py",
   "mimetype": "text/x-python",
   "name": "python",
   "nbconvert_exporter": "python",
   "pygments_lexer": "ipython3",
   "version": "3.7.3"
  }
 },
 "nbformat": 4,
 "nbformat_minor": 4
}
