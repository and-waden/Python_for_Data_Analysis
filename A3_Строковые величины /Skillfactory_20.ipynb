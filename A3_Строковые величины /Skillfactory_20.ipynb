{
 "cells": [
  {
   "cell_type": "markdown",
   "metadata": {},
   "source": [
    "## А3.4.1 Построчное чтение файла"
   ]
  },
  {
   "cell_type": "code",
   "execution_count": 145,
   "metadata": {},
   "outputs": [],
   "source": [
    "f = open('StudentsPerformance.csv') "
   ]
  },
  {
   "cell_type": "code",
   "execution_count": null,
   "metadata": {},
   "outputs": [],
   "source": []
  },
  {
   "cell_type": "code",
   "execution_count": 148,
   "metadata": {},
   "outputs": [],
   "source": [
    "for line in f:\n",
    "    print(line)"
   ]
  },
  {
   "cell_type": "code",
   "execution_count": 7,
   "metadata": {},
   "outputs": [
    {
     "name": "stdout",
     "output_type": "stream",
     "text": [
      "Мальчиков: 482, девочек: 518\n"
     ]
    }
   ],
   "source": [
    "# Перебрать все строки файла, \n",
    "# извлечь из них информацию про пол каждого из абитуриентов и \n",
    "# посчитать соотношение мальчиков и девочек среди сдающих экзамен.\n",
    "\n",
    "f = open('StudentsPerformance.csv')\n",
    "males = 0\n",
    "females = 0\n",
    "\n",
    "for line in f:\n",
    "    info = line.split(',') # превращаем строку в список с помощью  метода split\n",
    "    gender = info[0][1:-1] # Извлекаем из списка первый элемент и отрезаем от него первый и последний символы (кавычки)\n",
    "    \n",
    "    if gender == 'female':\n",
    "        females += 1\n",
    "    \n",
    "    elif gender == 'male':\n",
    "        males +=1\n",
    "        \n",
    "print('Мальчиков: {}, девочек: {}'.format(males, females))"
   ]
  },
  {
   "cell_type": "markdown",
   "metadata": {},
   "source": [
    "# А3.4.1.1 Задание 1\n",
    "\n",
    "У скольких абитуриентов родители имеют диплом бакалавра \n",
    "(bachelor's degree)?\n",
    "\n",
    "Введите ответ в виде целого числа. \n",
    "При написании кода обратите внимание на использование кавычек/апострофов"
   ]
  },
  {
   "cell_type": "code",
   "execution_count": 38,
   "metadata": {},
   "outputs": [
    {
     "name": "stdout",
     "output_type": "stream",
     "text": [
      "118\n"
     ]
    }
   ],
   "source": [
    "# Architecture\n",
    "# for i in ...\n",
    "# degres \n",
    "\n",
    "\n",
    "f = open('StudentsPerformance.csv')\n",
    "count = 0\n",
    "\n",
    "for i in f:\n",
    "    if \"bachelor's degree\" in i:\n",
    "        count += 1\n",
    "\n",
    "print(count)"
   ]
  },
  {
   "cell_type": "code",
   "execution_count": 39,
   "metadata": {},
   "outputs": [
    {
     "ename": "FileNotFoundError",
     "evalue": "[Errno 2] No such file or directory: 'example.txt'",
     "output_type": "error",
     "traceback": [
      "\u001b[0;31m---------------------------------------------------------------------------\u001b[0m",
      "\u001b[0;31mFileNotFoundError\u001b[0m                         Traceback (most recent call last)",
      "\u001b[0;32m<ipython-input-39-0a1ad7974678>\u001b[0m in \u001b[0;36m<module>\u001b[0;34m\u001b[0m\n\u001b[1;32m      1\u001b[0m \u001b[0;31m# check if string in file\u001b[0m\u001b[0;34m\u001b[0m\u001b[0;34m\u001b[0m\u001b[0;34m\u001b[0m\u001b[0m\n\u001b[0;32m----> 2\u001b[0;31m \u001b[0;32mwith\u001b[0m \u001b[0mopen\u001b[0m\u001b[0;34m(\u001b[0m\u001b[0;34m'example.txt'\u001b[0m\u001b[0;34m)\u001b[0m \u001b[0;32mas\u001b[0m \u001b[0mf\u001b[0m\u001b[0;34m:\u001b[0m\u001b[0;34m\u001b[0m\u001b[0;34m\u001b[0m\u001b[0m\n\u001b[0m\u001b[1;32m      3\u001b[0m     \u001b[0;32mif\u001b[0m \u001b[0;34m'blabla'\u001b[0m \u001b[0;32min\u001b[0m \u001b[0mf\u001b[0m\u001b[0;34m.\u001b[0m\u001b[0mread\u001b[0m\u001b[0;34m(\u001b[0m\u001b[0;34m)\u001b[0m\u001b[0;34m:\u001b[0m\u001b[0;34m\u001b[0m\u001b[0;34m\u001b[0m\u001b[0m\n\u001b[1;32m      4\u001b[0m         \u001b[0mprint\u001b[0m\u001b[0;34m(\u001b[0m\u001b[0;34m\"true\"\u001b[0m\u001b[0;34m)\u001b[0m\u001b[0;34m\u001b[0m\u001b[0;34m\u001b[0m\u001b[0m\n",
      "\u001b[0;31mFileNotFoundError\u001b[0m: [Errno 2] No such file or directory: 'example.txt'"
     ]
    }
   ],
   "source": [
    "# check if string in file \n",
    "\n",
    "with open('example.txt') as f:\n",
    "    if 'blabla' in f.read():\n",
    "        print(\"true\")"
   ]
  },
  {
   "cell_type": "markdown",
   "metadata": {},
   "source": [
    "## А3.4.1.2 Задание 2\n",
    "\n",
    "Сколько разных вариантов значений встречается в столбце \"parental level of education\"?\n",
    "\n",
    "Введите ответ в виде целого числа.\n",
    "\n",
    "Подсказка 1: для хранения уникальных вариантов вы можете использовать список.\n",
    "Подсказка 2: не забудьте, что \n",
    "первая строка файла содержит заголовки столбцов и не должна учитываться при обработке"
   ]
  },
  {
   "cell_type": "code",
   "execution_count": 152,
   "metadata": {},
   "outputs": [
    {
     "name": "stdout",
     "output_type": "stream",
     "text": [
      "6\n"
     ]
    }
   ],
   "source": [
    "f = open('StudentsPerformance.csv')\n",
    "parental_group = []\n",
    "for line in f:\n",
    "    info = line.split(',')\n",
    "    parental = info[2][1:-1]\n",
    "    if info[0] == '\"gender\"':\n",
    "        continue\n",
    "        \n",
    "    elif parental not in parental_group:\n",
    "        parental_group.append(parental)\n",
    "\n",
    "print(len(parental_group))\n",
    "\n",
    "\n",
    "\n",
    "# print(len(set(parent_education)))\n",
    "\n",
    "# Counter(parent_education).keys()\n",
    "# Counter(parent_education).values()"
   ]
  },
  {
   "cell_type": "markdown",
   "metadata": {},
   "source": [
    "### А3.4.1.3 Задание 3\n",
    "\n",
    "Сколько процентов абитуриентов полноценно пообедали перед экзаменом? \n",
    "(У скольких процентов абитуриентов значение столбца \"lunch\" = \"standard\").\n",
    "\n",
    "Ответ введите в виде десятичной дроби. Знак процента вводить не нужно."
   ]
  },
  {
   "cell_type": "code",
   "execution_count": 126,
   "metadata": {},
   "outputs": [
    {
     "name": "stdout",
     "output_type": "stream",
     "text": [
      "64.5\n"
     ]
    }
   ],
   "source": [
    "f = open('StudentsPerformance.csv')\n",
    "eat = 0\n",
    "neat = -1\n",
    "for line in f:\n",
    "    info = line.split(',')\n",
    "    lunch = info[3][1:-1]\n",
    "    if lunch == \"standard\":\n",
    "        eat += 1\n",
    "    else :\n",
    "        neat += 1        \n",
    "print(eat/(eat+neat)*100)"
   ]
  },
  {
   "cell_type": "markdown",
   "metadata": {},
   "source": [
    "### А3.4.1.4 Задание 4\n",
    "\n",
    "Сколько абитуриентов относится к этнической группе \"group C\"?\n",
    "\n",
    "Введите ответ в виде целого числа."
   ]
  },
  {
   "cell_type": "code",
   "execution_count": 166,
   "metadata": {},
   "outputs": [
    {
     "name": "stdout",
     "output_type": "stream",
     "text": [
      "319\n"
     ]
    }
   ],
   "source": [
    "f = open('StudentsPerformance.csv')\n",
    "count = 0\n",
    "\n",
    "for line in f:\n",
    "    info = line.split(',')\n",
    "    group = info[1][1:-1] # обращание к группе и убрать кавычки\n",
    "    # print(group)\n",
    "    if \"group C\" in group:\n",
    "        count += 1\n",
    "\n",
    "print(count)"
   ]
  },
  {
   "cell_type": "markdown",
   "metadata": {},
   "source": [
    "### А3.4.1.5 Задание 5\n",
    "Сколько разных этнических групп встречается в файле?\n",
    "\n",
    "Введите ответ в виде целого числа.\n",
    "\n",
    "Подсказка 1: для хранения уникальных вариантов Вы можете использовать список.\n",
    "Подсказка 2: не забудьте, что первая строка файла содержит заголовки столбцов и не должна учитываться при обработке"
   ]
  },
  {
   "cell_type": "code",
   "execution_count": 170,
   "metadata": {},
   "outputs": [
    {
     "name": "stdout",
     "output_type": "stream",
     "text": [
      "5\n"
     ]
    }
   ],
   "source": [
    "f = open('StudentsPerformance.csv')\n",
    "etnic_group = []\n",
    "\n",
    "for line in f:\n",
    "    info = line.split(',')\n",
    "    etnic = info[1][1:-1]\n",
    "    if info[0] == '\"gender\"':\n",
    "        continue\n",
    "        \n",
    "    elif etnic not in etnic_group:\n",
    "        etnic_group.append(etnic)\n",
    "\n",
    "print(len(etnic_group))"
   ]
  },
  {
   "cell_type": "code",
   "execution_count": null,
   "metadata": {},
   "outputs": [],
   "source": []
  }
 ],
 "metadata": {
  "kernelspec": {
   "display_name": "Python 3",
   "language": "python",
   "name": "python3"
  },
  "language_info": {
   "codemirror_mode": {
    "name": "ipython",
    "version": 3
   },
   "file_extension": ".py",
   "mimetype": "text/x-python",
   "name": "python",
   "nbconvert_exporter": "python",
   "pygments_lexer": "ipython3",
   "version": "3.7.3"
  }
 },
 "nbformat": 4,
 "nbformat_minor": 2
}
