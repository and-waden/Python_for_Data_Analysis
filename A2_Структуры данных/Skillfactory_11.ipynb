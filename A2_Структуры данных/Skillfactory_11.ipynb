{
 "cells": [
  {
   "cell_type": "markdown",
   "metadata": {},
   "source": [
    "### A2.2.5 Методы для работы со списками\n"
   ]
  },
  {
   "cell_type": "code",
   "execution_count": 3,
   "metadata": {},
   "outputs": [
    {
     "name": "stdout",
     "output_type": "stream",
     "text": [
      "[1, 2, 3, 4, 5, 100500]\n"
     ]
    }
   ],
   "source": [
    "my_list = [1, 2, 3, 4, 5]\n",
    "my_list.append(100500)\n",
    "print(my_list)"
   ]
  },
  {
   "cell_type": "code",
   "execution_count": 4,
   "metadata": {},
   "outputs": [
    {
     "name": "stdout",
     "output_type": "stream",
     "text": [
      "[66500.0, 95000.0, 123500.0, 93100.0, 104500.0]\n"
     ]
    }
   ],
   "source": [
    "\"\"\"После выступления руководителя \n",
    "зарплата каждого члена команды увеличивается на 90%.\"\"\"\n",
    "old_salary = [35000, 50000, 65000, 49000, 55000]\n",
    "new_salary = []\n",
    "for salary in old_salary:\n",
    "    new_salary.append(salary * 1.9)\n",
    "\n",
    "print(new_salary)"
   ]
  },
  {
   "cell_type": "code",
   "execution_count": 5,
   "metadata": {},
   "outputs": [
    {
     "name": "stdout",
     "output_type": "stream",
     "text": [
      "[10, 29, 31, 65, 87, 90, 100]\n"
     ]
    }
   ],
   "source": [
    "my_list = [10, 65, 31, 29, 90, 87, 100]\n",
    "my_list.sort()\n",
    "print(my_list)"
   ]
  },
  {
   "cell_type": "code",
   "execution_count": 10,
   "metadata": {},
   "outputs": [
    {
     "name": "stdout",
     "output_type": "stream",
     "text": [
      "[10, 29, 31, 65, 87, 90, 100]\n"
     ]
    }
   ],
   "source": [
    "my_list = [10, 65, 31, 29, 90, 87, 100]\n",
    "my_list.sort(reverse = False)\n",
    "print(my_list)"
   ]
  },
  {
   "cell_type": "code",
   "execution_count": 11,
   "metadata": {},
   "outputs": [
    {
     "name": "stdout",
     "output_type": "stream",
     "text": [
      "[100, 90, 87, 65, 31, 29, 10]\n"
     ]
    }
   ],
   "source": [
    "my_list = [10, 65, 31, 29, 90, 87, 100]\n",
    "my_list.sort(reverse = True)\n",
    "print(my_list)"
   ]
  },
  {
   "cell_type": "code",
   "execution_count": 12,
   "metadata": {},
   "outputs": [
    {
     "name": "stdout",
     "output_type": "stream",
     "text": [
      "['апельсин', 'банан', 'вишня', 'груша', 'дыня']\n"
     ]
    }
   ],
   "source": [
    "my_list = ['банан', 'дыня', 'апельсин', 'груша', 'вишня']\n",
    "my_list.sort(reverse = False)\n",
    "print(my_list)"
   ]
  },
  {
   "cell_type": "code",
   "execution_count": 13,
   "metadata": {},
   "outputs": [
    {
     "name": "stdout",
     "output_type": "stream",
     "text": [
      "['дыня', 'груша', 'вишня', 'банан', 'апельсин']\n"
     ]
    }
   ],
   "source": [
    "my_list = ['банан', 'дыня', 'апельсин', 'груша', 'вишня']\n",
    "my_list.sort(reverse = True)\n",
    "print(my_list)"
   ]
  },
  {
   "cell_type": "code",
   "execution_count": 16,
   "metadata": {},
   "outputs": [
    {
     "name": "stdout",
     "output_type": "stream",
     "text": [
      "29000\n"
     ]
    }
   ],
   "source": [
    "salary = [100000, 45000, 78000, 29000, 55000, 60000]\n",
    "lowest_salary = min(salary)\n",
    "print(lowest_salary) "
   ]
  },
  {
   "cell_type": "code",
   "execution_count": 19,
   "metadata": {},
   "outputs": [
    {
     "name": "stdout",
     "output_type": "stream",
     "text": [
      "3\n"
     ]
    }
   ],
   "source": [
    "my_friends = ['Дмитрий', 'Евгений', 'Елена', 'Михаил', 'Елена', 'Татьяна', 'Антон', 'Елена']\n",
    "popular_name = my_friends.count('Елена')\n",
    "print(popular_name)"
   ]
  },
  {
   "cell_type": "code",
   "execution_count": 22,
   "metadata": {},
   "outputs": [
    {
     "name": "stdout",
     "output_type": "stream",
     "text": [
      "[1, 4, 9, 16, 25, 36, 49, 64, 81, 100]\n"
     ]
    }
   ],
   "source": [
    "# A2.2.5.1 Задание 1\n",
    "# создаёт список, содержащий квадраты натуральных чисел от 1 до 10\n",
    "\n",
    "my_list = []\n",
    "for number in range(1,11):\n",
    "    my_list.append(number**2)\n",
    "print(my_list)"
   ]
  },
  {
   "cell_type": "code",
   "execution_count": 23,
   "metadata": {},
   "outputs": [
    {
     "name": "stdout",
     "output_type": "stream",
     "text": [
      "2\n"
     ]
    }
   ],
   "source": [
    "# A2.2.5.2 Задание 2\n",
    "# количество имён с минимальной длиной в списке names верно\n",
    "\n",
    "names = ['Андрей', 'Илья', 'Александр', 'Ипполит', 'Анна', 'Константин', 'Елена', 'Мария']\n",
    "my_list = []\n",
    "for name in names:\n",
    "    my_list.append(len(name))\n",
    "name_length = min(my_list)\n",
    "result = my_list.count(name_length)\n",
    "print(result)"
   ]
  },
  {
   "cell_type": "code",
   "execution_count": 24,
   "metadata": {},
   "outputs": [
    {
     "name": "stdout",
     "output_type": "stream",
     "text": [
      "97\n"
     ]
    }
   ],
   "source": [
    "# A2.2.5.3 Задание 3\n",
    "\n",
    "\n",
    "my_list = [1, 10, 45, 31, 12, 54, 111, 398, 97, 63]\n",
    "my_list.sort(reverse = True)\n",
    "print(my_list[2])"
   ]
  },
  {
   "cell_type": "code",
   "execution_count": 29,
   "metadata": {},
   "outputs": [
    {
     "name": "stdout",
     "output_type": "stream",
     "text": [
      "399\n"
     ]
    }
   ],
   "source": [
    "my_list = [1, 10, 45, 31, 12, 54, 111, 398, 97, 63]\n",
    "result = max(my_list) + min(my_list) + my_list.count(\"OK\")\n",
    "print(result)"
   ]
  },
  {
   "cell_type": "code",
   "execution_count": 37,
   "metadata": {},
   "outputs": [
    {
     "name": "stdout",
     "output_type": "stream",
     "text": [
      "590\n"
     ]
    }
   ],
   "source": [
    "my_list = [1, 10, 45, 31, 12, 54, 111, 398, 97, 63]\n",
    "my_list.sort(reverse = True)\n",
    "new_list = my_list[::2]\n",
    "result = 0\n",
    "# print(new_list)\n",
    "for number in new_list:\n",
    "    result += number\n",
    "    # print(result)\n",
    "print(result)"
   ]
  },
  {
   "cell_type": "code",
   "execution_count": 70,
   "metadata": {},
   "outputs": [
    {
     "name": "stdout",
     "output_type": "stream",
     "text": [
      "0 Step\n",
      "[1, 2] Values in the list\n",
      "1 Step\n",
      "[1, 2, 4] Values in the list\n",
      "2 Step\n",
      "[1, 2, 4, 8] Values in the list\n",
      "3 Step\n",
      "[1, 2, 4, 8, 16] Values in the list\n",
      "4 Step\n",
      "[1, 2, 4, 8, 16, 32] Values in the list\n",
      "5 Step\n",
      "[1, 2, 4, 8, 16, 32, 64] Values in the list\n",
      "6 Step\n",
      "[1, 2, 4, 8, 16, 32, 64, 128] Values in the list\n",
      "7 Step\n",
      "[1, 2, 4, 8, 16, 32, 64, 128, 256] Values in the list\n",
      "8 Step\n",
      "[1, 2, 4, 8, 16, 32, 64, 128, 256, 512] Values in the list\n",
      "9 Step\n",
      "[1, 2, 4, 8, 16, 32, 64, 128, 256, 512, 1024] Values in the list\n",
      "[1024, 512, 256, 128, 64, 32, 16, 8, 4, 2, 1]\n"
     ]
    }
   ],
   "source": [
    "# A2.2.5.6 Задание 6\n",
    "# в списке 11 элементов\n",
    "# my_list[5] == 32\n",
    "# элементы списка упорядочены по убыванию\n",
    "\n",
    "my_list = [1]\n",
    "for i in range(10):\n",
    "    my_list.append(my_list[i] * 2)\n",
    "    print(i, \"Step\")\n",
    "    print(my_list, \"Values in the list\")\n",
    "my_list.sort(reverse = True)\n",
    "print(my_list)"
   ]
  },
  {
   "cell_type": "code",
   "execution_count": 48,
   "metadata": {},
   "outputs": [
    {
     "name": "stdout",
     "output_type": "stream",
     "text": [
      "['я']\n",
      "['я', 'б']\n",
      "['я', 'б', 'а']\n",
      "['я', 'б', 'а', 'б']\n",
      "['я', 'б', 'а', 'б', 'п']\n",
      "['я', 'б', 'а', 'б', 'п', 'п']\n",
      "['я', 'б', 'а', 'б', 'п', 'п', 'а']\n",
      "['я', 'б', 'а', 'б', 'п', 'п', 'а', 'а']\n",
      "['а', 'а', 'а', 'б', 'б', 'п', 'п', 'я']\n"
     ]
    },
    {
     "data": {
      "text/plain": [
       "3"
      ]
     },
     "execution_count": 48,
     "metadata": {},
     "output_type": "execute_result"
    }
   ],
   "source": [
    "# элементы списка — буквы\n",
    "# элементы списка — строковые величины\n",
    "# my_list.count(my_list[0]) == 3\n",
    "\n",
    "\n",
    "fruits = 'яблоко банан апельсин баклажан перец помидор арбуз ананас'.split()\n",
    "my_list = []\n",
    "for fruit in fruits:\n",
    "    my_list.append(fruit[0])\n",
    "    print(my_list)\n",
    "my_list.sort()\n",
    "print(my_list)\n",
    "my_list.count(my_list[0])"
   ]
  },
  {
   "cell_type": "markdown",
   "metadata": {},
   "source": [
    "### A2.2.5.8 Задание 8\n",
    "\n",
    "Напишите программу, которая создаёт список, \n",
    "содержащий целые, кратные трём числа в интервале от 1 до 50. \n",
    "\n",
    "Найдите сумму элементов этого списка. \n",
    "Результат вычислений сохраните в переменной с именем result."
   ]
  },
  {
   "cell_type": "code",
   "execution_count": 127,
   "metadata": {},
   "outputs": [
    {
     "name": "stdout",
     "output_type": "stream",
     "text": [
      "[3] 1\n",
      "[3, 6] 2\n",
      "[3, 6, 9] 3\n",
      "[3, 6, 9, 12] 4\n",
      "[3, 6, 9, 12, 15] 5\n",
      "[3, 6, 9, 12, 15, 18] 6\n",
      "[3, 6, 9, 12, 15, 18, 21] 7\n",
      "[3, 6, 9, 12, 15, 18, 21, 24] 8\n",
      "[3, 6, 9, 12, 15, 18, 21, 24, 27] 9\n",
      "[3, 6, 9, 12, 15, 18, 21, 24, 27, 30] 10\n",
      "[3, 6, 9, 12, 15, 18, 21, 24, 27, 30, 33] 11\n",
      "[3, 6, 9, 12, 15, 18, 21, 24, 27, 30, 33, 36] 12\n",
      "[3, 6, 9, 12, 15, 18, 21, 24, 27, 30, 33, 36, 39] 13\n",
      "[3, 6, 9, 12, 15, 18, 21, 24, 27, 30, 33, 36, 39, 42] 14\n",
      "[3, 6, 9, 12, 15, 18, 21, 24, 27, 30, 33, 36, 39, 42, 45] 15\n",
      "[3, 6, 9, 12, 15, 18, 21, 24, 27, 30, 33, 36, 39, 42, 45, 48] 16\n",
      "3\n",
      "9\n",
      "18\n",
      "30\n",
      "45\n",
      "63\n",
      "84\n",
      "108\n",
      "135\n",
      "165\n",
      "198\n",
      "234\n",
      "273\n",
      "315\n",
      "360\n",
      "408\n",
      "408\n"
     ]
    }
   ],
   "source": [
    "# Architecture\n",
    "# list = [0:50:3]\n",
    "# sum \n",
    "\n",
    "my_list = []\n",
    "result = 0\n",
    "\n",
    "for i in range(1, 50 // 3 + 1):\n",
    "    my_list.append(i * 3)\n",
    "    print(my_list, i)\n",
    "    \n",
    "for n in my_list:\n",
    "    result += n\n",
    "    print(result)\n",
    "\n",
    "print(result)"
   ]
  },
  {
   "cell_type": "markdown",
   "metadata": {},
   "source": [
    "### A2.2.5.9 Задание 9\n",
    "Напишите программу, которая создаёт список my_list, \n",
    "содержащий длины слов из списка raw_list (дан в начале кода), \n",
    "и находит сумму минимального и максимального элементов нового списка (my_list).\n",
    "\n",
    "Результат вычислений (сумма минимального и максимального элементов списка my_list)\n",
    "присвойте переменной result."
   ]
  },
  {
   "cell_type": "code",
   "execution_count": 178,
   "metadata": {},
   "outputs": [
    {
     "name": "stdout",
     "output_type": "stream",
     "text": [
      "переменные\n",
      "циклы\n",
      "условия\n",
      "списки\n",
      "словари\n",
      "файлы\n",
      "функции\n",
      "15\n"
     ]
    }
   ],
   "source": [
    "# Architecture\n",
    "# func. min\n",
    "# func. max\n",
    "# result = sum(min,max)\n",
    "\n",
    "raw_list = ['переменные', 'циклы', 'условия', 'списки', 'словари', 'файлы', 'функции']\n",
    "my_list = []\n",
    "\n",
    "for name in raw_list:\n",
    "    my_list.append(len(name))\n",
    "    print(name)\n",
    "     \n",
    "min_name_length = min(my_list)\n",
    "max_name_length = max(my_list)\n",
    "print(min_name_length + max_name_length)"
   ]
  },
  {
   "cell_type": "markdown",
   "metadata": {},
   "source": [
    "### A2.2.5.10 Задание 10*\n",
    "\n",
    "Дан список raw_list (содержимое списка приведено в начале кода). \n",
    "Найдите минимальное (x_min) и максимальное (x_max) значения элементов данного списка.\n",
    "\n",
    "Создайте новый список my_list, состоящий из элементов списка raw_list, \n",
    "умноженных на x_min, если элемент является чётным числом и на x_max в случае, если элемент нечётный.\n",
    "\n",
    "Найдите максимальное значение списка my_list. Результат присвойте переменной result."
   ]
  },
  {
   "cell_type": "code",
   "execution_count": 31,
   "metadata": {},
   "outputs": [
    {
     "name": "stdout",
     "output_type": "stream",
     "text": [
      "[4]\n",
      "[4, 16]\n",
      "[4, 16, 20]\n",
      "[4, 16, 20, 1633]\n",
      "[4, 16, 20, 1633, 128]\n",
      "[4, 16, 20, 1633, 128, 3479]\n",
      "[4, 16, 20, 1633, 128, 3479, 781]\n",
      "[4, 16, 20, 1633, 128, 3479, 781, 104]\n",
      "[4, 16, 20, 1633, 128, 3479, 781, 104, 5041]\n",
      "[4, 16, 20, 1633, 128, 3479, 781, 104, 5041, 28]\n",
      "2 71 73 [4, 16, 20, 1633, 128, 3479, 781, 104, 5041, 28]\n"
     ]
    },
    {
     "data": {
      "text/plain": [
       "5041"
      ]
     },
     "execution_count": 31,
     "metadata": {},
     "output_type": "execute_result"
    }
   ],
   "source": [
    "# Architecture\n",
    "# Need to find x_min and x_max of raw_list\n",
    "# values in raw_list * x_min if values in x_min = even num\n",
    "# if values in raw_list * x_max if values in x_min = odd num\n",
    "\n",
    "raw_list = [2, 8, 10, 23, 64, 49, 11, 52, 71, 14]\n",
    "my_list = []\n",
    "# result\n",
    "\n",
    "for i in raw_list:\n",
    "    x_min = min(raw_list)\n",
    "    x_max = max(raw_list)\n",
    "    all_list = min_list + max_list\n",
    "\n",
    "    if i % 2 == 0:\n",
    "        i *= x_min\n",
    "        my_list.append(i)\n",
    "        print(my_list)\n",
    "            \n",
    "    elif i % 2 != 0:\n",
    "        i *= x_max\n",
    "        my_list.append(i)\n",
    "        print(my_list)\n",
    "\n",
    "print(x_min, x_max, all_list, my_list)\n",
    "max(my_list)"
   ]
  },
  {
   "cell_type": "code",
   "execution_count": null,
   "metadata": {},
   "outputs": [],
   "source": []
  },
  {
   "cell_type": "code",
   "execution_count": null,
   "metadata": {},
   "outputs": [],
   "source": []
  }
 ],
 "metadata": {
  "kernelspec": {
   "display_name": "Python 3",
   "language": "python",
   "name": "python3"
  },
  "language_info": {
   "codemirror_mode": {
    "name": "ipython",
    "version": 3
   },
   "file_extension": ".py",
   "mimetype": "text/x-python",
   "name": "python",
   "nbconvert_exporter": "python",
   "pygments_lexer": "ipython3",
   "version": "3.7.3"
  }
 },
 "nbformat": 4,
 "nbformat_minor": 2
}
