{
 "cells": [
  {
   "cell_type": "markdown",
   "metadata": {},
   "source": [
    "## B9.5.1 Введение в API"
   ]
  },
  {
   "cell_type": "code",
   "execution_count": null,
   "metadata": {},
   "outputs": [],
   "source": [
    "# skillfactory_test - Создание приложения VK"
   ]
  },
  {
   "cell_type": "code",
   "execution_count": null,
   "metadata": {},
   "outputs": [],
   "source": [
    "# db0e8eafdb0e8eafdb0e8eaf9edb6056e4ddb0edb0e8eaf850628eddae3e4d318614881 - security token"
   ]
  },
  {
   "cell_type": "markdown",
   "metadata": {},
   "source": [
    "Мы делали запрос в браузере, теперь давайте сделаем запрос из кода. Будем пользоваться всё той же библиотекой requests."
   ]
  },
  {
   "cell_type": "code",
   "execution_count": 2,
   "metadata": {},
   "outputs": [
    {
     "data": {
      "text/plain": [
       "'{\"response\":[{\"id\":1,\"first_name\":\"Павел\",\"last_name\":\"Дуров\",\"is_closed\":false,\"can_access_closed\":true,\"sex\":2,\"bdate\":\"10.10.1984\"}]}'"
      ]
     },
     "execution_count": 2,
     "metadata": {},
     "output_type": "execute_result"
    }
   ],
   "source": [
    "import requests  \n",
    "  \n",
    "url = 'https://api.vk.com/method/users.get'   \n",
    "params = {'user_id': 1, 'v': 5.95, 'fields': 'sex,bdate', 'access_token': \"db0e8eafdb0e8eafdb0e8eaf9edb6056e4ddb0edb0e8eaf850628eddae3e4d318614881\", 'lang': 'ru'}  \n",
    "  \n",
    "# Мы можем выставить параметры запроса через аргумент params  \n",
    "response = requests.get(url, params=params)  \n",
    "response.text  "
   ]
  },
  {
   "cell_type": "markdown",
   "metadata": {},
   "source": [
    "Мы получили строку в формате JSON. Как мы помним по первому разделу, её можно преобразовать в словарь методом json и после этого обращаться к различным полям. Кроме того, такие большие вложенные словари нагляднее выводить с помощью функции pprint (~pretty print, красивый вывод), которым мы и воспользуемся"
   ]
  },
  {
   "cell_type": "code",
   "execution_count": 5,
   "metadata": {},
   "outputs": [
    {
     "name": "stdout",
     "output_type": "stream",
     "text": [
      "{'response': [{'bdate': '10.10.1984',\n",
      "               'can_access_closed': True,\n",
      "               'first_name': 'Павел',\n",
      "               'id': 1,\n",
      "               'is_closed': False,\n",
      "               'last_name': 'Дуров',\n",
      "               'sex': 2}]}\n",
      "10.10.1984\n",
      "Павел\n"
     ]
    }
   ],
   "source": [
    "from pprint import pprint  \n",
    "  \n",
    "pprint(response.json())  \n",
    "  \n",
    "user = response.json()['response'][0]  \n",
    "  \n",
    "# Выведем дату рождения  \n",
    "print(user['bdate'])  \n",
    "  \n",
    "# Выведем имя  \n",
    "print(user['first_name'])  "
   ]
  },
  {
   "cell_type": "code",
   "execution_count": 7,
   "metadata": {},
   "outputs": [
    {
     "name": "stdout",
     "output_type": "stream",
     "text": [
      "Дуров\n"
     ]
    }
   ],
   "source": [
    "print(user['last_name'])  "
   ]
  },
  {
   "cell_type": "markdown",
   "metadata": {},
   "source": [
    "Данный метод позволяет запрашивать сразу много пользователей (до 1000).  Для этого нужно использовать параметр user_ids и передавать id через запятую в строковом формате, например: '1,2,3'."
   ]
  },
  {
   "cell_type": "code",
   "execution_count": 10,
   "metadata": {},
   "outputs": [
    {
     "name": "stdout",
     "output_type": "stream",
     "text": [
      "1,2,3,4,5,6,7,8,9,10\n",
      "\n",
      "{'response': [{'can_access_closed': True,\n",
      "               'first_name': 'Павел',\n",
      "               'id': 1,\n",
      "               'is_closed': False,\n",
      "               'last_name': 'Дуров'},\n",
      "              {'can_access_closed': False,\n",
      "               'first_name': 'Александра',\n",
      "               'id': 2,\n",
      "               'is_closed': True,\n",
      "               'last_name': 'Владимирова'},\n",
      "              {'deactivated': 'deleted',\n",
      "               'first_name': 'DELETED',\n",
      "               'id': 3,\n",
      "               'last_name': ''},\n",
      "              {'deactivated': 'deleted',\n",
      "               'first_name': 'DELETED',\n",
      "               'id': 4,\n",
      "               'last_name': ''},\n",
      "              {'can_access_closed': True,\n",
      "               'first_name': 'Илья',\n",
      "               'id': 5,\n",
      "               'is_closed': False,\n",
      "               'last_name': 'Перекопский'},\n",
      "              {'can_access_closed': True,\n",
      "               'first_name': 'Николай',\n",
      "               'id': 6,\n",
      "               'is_closed': False,\n",
      "               'last_name': 'Дуров'},\n",
      "              {'can_access_closed': True,\n",
      "               'first_name': 'Алексей',\n",
      "               'id': 7,\n",
      "               'is_closed': False,\n",
      "               'last_name': 'Кобылянский'},\n",
      "              {'can_access_closed': True,\n",
      "               'first_name': 'Аки',\n",
      "               'id': 8,\n",
      "               'is_closed': False,\n",
      "               'last_name': 'Сепиашвили'},\n",
      "              {'can_access_closed': False,\n",
      "               'first_name': 'Настя',\n",
      "               'id': 9,\n",
      "               'is_closed': True,\n",
      "               'last_name': 'Васильева'},\n",
      "              {'can_access_closed': True,\n",
      "               'first_name': 'Александр',\n",
      "               'id': 10,\n",
      "               'is_closed': False,\n",
      "               'last_name': 'Кузнецов'}]}\n"
     ]
    }
   ],
   "source": [
    "ids = \",\".join(map(str, range(1, 11)))  \n",
    "print(ids)  \n",
    "# => 1,2,3,4,5,6,7,8,9,10  \n",
    "  \n",
    "params = {'user_ids': ids, 'v': 5.95, 'fields': 'bday', 'access_token': \"db0e8eafdb0e8eafdb0e8eaf9edb6056e4ddb0edb0e8eaf850628eddae3e4d318614881\", 'lang': 'ru'} \n",
    "print()\n",
    "pprint(requests.get(url, params=params).json())  "
   ]
  },
  {
   "cell_type": "markdown",
   "metadata": {},
   "source": [
    "#### Задание 1 Гендерный баланс\n",
    "Используя API, определите долю женщин(sex=1) среди пользователе с id от 1 до 500. Иногда вам будут попадать пользователи, у которых пол не указан (sex=0), их не нужно учитывать в общем числе.\n",
    "\n",
    "В ответе укажите число, округлив до двух знаков после запятой, например, 0.55.\n",
    "\n",
    "Пример: если у нас будет 300 пользователей sex=1, 100 пользователей с sex=2 и 100 пользователей с sex=0, то в ответе должно быть 0.75."
   ]
  },
  {
   "cell_type": "code",
   "execution_count": null,
   "metadata": {},
   "outputs": [],
   "source": [
    "url = 'https://api.vk.com/method/users.get'\n",
    "id_500 = \",\".join(map(str,range(1,501)))\n",
    "params_500 ={'user_ids':id_500, 'v':5.95, 'fields':'sex','access_token':'db0e8eafdb0e8eafdb0e8eaf9edb6056e4ddb0edb0e8eaf850628eddae3e4d318614881', 'lang':'ru'}\n",
    "\n",
    "fix = requests.get(url, params = params_500)\n",
    "user_500 = fix.json()['response']\n",
    "\n",
    "male =[]\n",
    "no = []\n",
    "female = []\n",
    "\n",
    "for x in user_500:\n",
    "    if x['sex']==0:\n",
    "        no.append(x['sex'])\n",
    "    elif x['sex']==1:\n",
    "        female.append(x['sex'])\n",
    "    else:\n",
    "        male.append(x['sex'])\n",
    "        \n",
    "overall = len(male) + len(female)\n",
    "part_f = len(female) / overall\n",
    "part_f"
   ]
  },
  {
   "cell_type": "markdown",
   "metadata": {},
   "source": [
    "## B9.5.5 Ограничения API"
   ]
  },
  {
   "cell_type": "markdown",
   "metadata": {},
   "source": [
    "Согласно документации, обязательным параметром является ID или короткое имя группы. В нашем случае это habr: https://vk.com/habr. Тестируем, как работает метод в самом простом случае:"
   ]
  },
  {
   "cell_type": "code",
   "execution_count": 23,
   "metadata": {},
   "outputs": [
    {
     "data": {
      "text/plain": [
       "1000"
      ]
     },
     "execution_count": 23,
     "metadata": {},
     "output_type": "execute_result"
    }
   ],
   "source": [
    "import requests  \n",
    "url = 'https://api.vk.com/method/groups.getMembers'  \n",
    "params = {  \n",
    "    'group_id': 'habr',  \n",
    "    'v': 5.95,  \n",
    "    'access_token': \"db0e8eafdb0e8eafdb0e8eaf9edb6056e4ddb0edb0e8eaf850628eddae3e4d318614881\"  \n",
    "}  \n",
    "response = requests.get(url, params = params)  \n",
    "data = response.json()  \n",
    "# print(data)  \n",
    "# => {'response': {'count': 810724, 'items': [6, 10, 11, 17, 24, 34 ...  \n",
    "  \n",
    "len(data['response']['items'])  \n",
    "# => 1000  "
   ]
  },
  {
   "cell_type": "markdown",
   "metadata": {},
   "source": [
    "Давайте выведем на экран первые 20 пользователей из нашей первой попытки с 1000 пользователей, чтобы было с чем сверить результат выгрузки из 20 пользователей:"
   ]
  },
  {
   "cell_type": "code",
   "execution_count": 24,
   "metadata": {},
   "outputs": [
    {
     "name": "stdout",
     "output_type": "stream",
     "text": [
      "[6, 10, 11, 17, 24, 34, 55, 161, 169, 239, 243, 251, 341, 345, 404, 409, 453, 478, 480, 488]\n"
     ]
    }
   ],
   "source": [
    "users_for_checking = data['response']['items'][:20]  \n",
    "print(users_for_checking)  \n",
    "# => [6, 10, 11, 17, 24, 34, 47, 55, 57, 161, 169, 239, 243, 251, 341, 345, 347, 348, 404, 409] "
   ]
  },
  {
   "cell_type": "markdown",
   "metadata": {},
   "source": [
    "Теперь используем count и offset, чтобы получить те же id по 5 за раз"
   ]
  },
  {
   "cell_type": "code",
   "execution_count": 29,
   "metadata": {},
   "outputs": [
    {
     "name": "stdout",
     "output_type": "stream",
     "text": [
      "Выгружаю 5 пользователей с offset = 0\n",
      "Выгружаю 5 пользователей с offset = 5\n",
      "Выгружаю 5 пользователей с offset = 10\n",
      "Выгружаю 5 пользователей с offset = 15\n",
      "[6, 10, 11, 17, 24, 34, 55, 161, 169, 239, 243, 251, 341, 345, 404, 409, 453, 478, 480, 488]\n"
     ]
    },
    {
     "data": {
      "text/plain": [
       "True"
      ]
     },
     "execution_count": 29,
     "metadata": {},
     "output_type": "execute_result"
    }
   ],
   "source": [
    "count = 5  \n",
    "offset = 0  \n",
    "\n",
    "user_ids = []\n",
    "max_count = 20  \n",
    "\n",
    "while offset < max_count:  \n",
    "    print('Выгружаю {} пользователей с offset = {}'.format(count, offset))     \n",
    "    params = {  \n",
    "        'group_id': 'habr',  \n",
    "        'v': 5.95,  \n",
    "        'count': count,  \n",
    "        'offset': offset,  \n",
    "        'access_token': \"db0e8eafdb0e8eafdb0e8eaf9edb6056e4ddb0edb0e8eaf850628eddae3e4d318614881\"  \n",
    "    }     \n",
    "    # такой же запрос как в прошлый раз  \n",
    "    r = requests.get(url, params = params)  \n",
    "    data = r.json()     \n",
    "    user_ids += data['response']['items']   \n",
    "  \n",
    "    # увеличиваем смещение на количество строк выгрузки  \n",
    "    offset += count  \n",
    "      \n",
    "# Выгружаю 5 пользователей с offset = 0  \n",
    "# Выгружаю 5 пользователей с offset = 5  \n",
    "# Выгружаю 5 пользователей с offset = 10  \n",
    "# Выгружаю 5 пользователей с offset = 15  \n",
    "print(user_ids)  \n",
    "# => [6, 10, 11, 17, 24, 34, 47, 55, 57, 161, 169, 239, 243, 251, 341, 345, 347, 348, 404, 409]  \n",
    "  \n",
    "user_ids == users_for_checking  \n",
    "# => True "
   ]
  },
  {
   "cell_type": "code",
   "execution_count": null,
   "metadata": {},
   "outputs": [],
   "source": [
    "# Видим, что подход корректно работает. \n",
    "# Теперь мы можем получить всех пользователей, выставив count = 1000 и max_count = data['response']['count']."
   ]
  },
  {
   "cell_type": "markdown",
   "metadata": {},
   "source": [
    "#### Задание 1 Юбилейный пользователь\n",
    "Используя API, определите id стотысячного пользователя в группе хабр. Т.е. если бы у нас не было ограничения на размер запроса, то мы бы запросили data['response']['items'][99999] ."
   ]
  },
  {
   "cell_type": "code",
   "execution_count": 79,
   "metadata": {},
   "outputs": [
    {
     "name": "stdout",
     "output_type": "stream",
     "text": [
      "10478306\n"
     ]
    }
   ],
   "source": [
    "import time  \n",
    "  \n",
    "count = 1000  \n",
    "offset = 0  \n",
    "user_ids = []  \n",
    "while offset < 100000:  \n",
    "    #print('Выгружаю {} пользователей с offset = {}'.format(count, offset))     \n",
    "    params = {  \n",
    "        'group_id': 'habr',  \n",
    "        'v': 5.95,  \n",
    "        'count': count,  \n",
    "        'offset': offset,  \n",
    "        'access_token': \"db0e8eafdb0e8eafdb0e8eaf9edb6056e4ddb0edb0e8eaf850628eddae3e4d318614881\"  \n",
    "    }    \n",
    "    \n",
    "    # такой же запрос, как в прошлый раз  \n",
    "    r = requests.get(url, params = params)  \n",
    "    data = r.json()     \n",
    "    user_ids += data['response']['items']    \n",
    "  \n",
    "    # увеличиваем смещение на количество строк выгрузки  \n",
    "    offset += count  \n",
    "    \n",
    "    #print('Ожидаю 0.5 секунды...')  \n",
    "    time.sleep(0.5) \n",
    "print(user_ids[99999])"
   ]
  },
  {
   "cell_type": "markdown",
   "metadata": {},
   "source": [
    "## B9.5.7 Лайки, репосты и комментарии"
   ]
  },
  {
   "cell_type": "code",
   "execution_count": 88,
   "metadata": {},
   "outputs": [],
   "source": [
    "import requests  \n",
    "from pprint import pprint  \n",
    "  \n",
    "url = 'https://api.vk.com/method/wall.get'  \n",
    "\n",
    "params = {  \n",
    "    'domain': 'habr',  \n",
    "    'filter': 'owner',  \n",
    "    'count': 10,  \n",
    "    'offset': 0,  \n",
    "    'access_token': \"db0e8eafdb0e8eafdb0e8eaf9edb6056e4ddb0edb0e8eaf850628eddae3e4d318614881\",  \n",
    "    'v': 5.103\n",
    "}  \n",
    "response = requests.get(url, params = params)  \n",
    "\n",
    "# => {'response': {'count': 102572,  \n",
    "#               'items': [{'attachments': [{'photo': {'access_key': 'b8e5ff1b99fd5a952f',  \n",
    "#                                                     'album_id': -7,  \n",
    "#                                                     'date': 1559305857,  \n",
    "#                                                     'height': 420,  \n",
    "#                                                     'id': 456266043,  \n",
    "#                                                     'owner_id': -20629724,  \n",
    "# ... "
   ]
  },
  {
   "cell_type": "code",
   "execution_count": 103,
   "metadata": {},
   "outputs": [
    {
     "data": {
      "text/plain": [
       "{'id': 1264781,\n",
       " 'from_id': -20629724,\n",
       " 'owner_id': -20629724,\n",
       " 'date': 1577376938,\n",
       " 'marked_as_ads': 0,\n",
       " 'post_type': 'post',\n",
       " 'text': 'Соперник, ученик, помощник: игры, в которые играют люди… и машины.\\n\\nРазвитие искусственного интеллекта прошло сложный путь и продолжается на наших глазах. Пришло время окончательно решить, кем является ИИ для человека и кем человек является для ИИ: http://amp.gs/ibWi\\n\\n#разработка@habr #гиктаймс@habr',\n",
       " 'is_pinned': 1,\n",
       " 'attachments': [{'type': 'photo',\n",
       "   'photo': {'id': 457274762,\n",
       "    'album_id': -7,\n",
       "    'owner_id': -20629724,\n",
       "    'user_id': 100,\n",
       "    'sizes': [{'type': 'm',\n",
       "      'url': 'https://sun9-41.userapi.com/c635101/v635101979/487b4/f69FQPj6oEA.jpg',\n",
       "      'width': 130,\n",
       "      'height': 68},\n",
       "     {'type': 'o',\n",
       "      'url': 'https://sun9-71.userapi.com/c635101/v635101979/487b7/eElnAhjY5i0.jpg',\n",
       "      'width': 130,\n",
       "      'height': 87},\n",
       "     {'type': 'p',\n",
       "      'url': 'https://sun9-53.userapi.com/c635101/v635101979/487b8/UExkStLDlPw.jpg',\n",
       "      'width': 200,\n",
       "      'height': 133},\n",
       "     {'type': 'q',\n",
       "      'url': 'https://sun9-10.userapi.com/c635101/v635101979/487b9/di_u0Dgs6vU.jpg',\n",
       "      'width': 320,\n",
       "      'height': 213},\n",
       "     {'type': 'r',\n",
       "      'url': 'https://sun9-29.userapi.com/c635101/v635101979/487ba/2N5M-qIAvu4.jpg',\n",
       "      'width': 510,\n",
       "      'height': 340},\n",
       "     {'type': 's',\n",
       "      'url': 'https://sun9-15.userapi.com/c635101/v635101979/487b3/MmFhFLM45WE.jpg',\n",
       "      'width': 75,\n",
       "      'height': 39},\n",
       "     {'type': 'x',\n",
       "      'url': 'https://sun9-10.userapi.com/c635101/v635101979/487b5/OLYJftTXkrQ.jpg',\n",
       "      'width': 604,\n",
       "      'height': 317},\n",
       "     {'type': 'y',\n",
       "      'url': 'https://sun9-64.userapi.com/c635101/v635101979/487b6/h7GvyXITHAo.jpg',\n",
       "      'width': 800,\n",
       "      'height': 420}],\n",
       "    'text': 'Соперник, ученик, помощник: игры, в которые играют люди… и машины.\\n\\nРазвитие искусственного интеллекта прошло сложный путь и продолжается на наших глазах. Пришло время окончательно решить, кем является ИИ для человека и кем человек является для ИИ: http://amp.gs/ibWi\\n\\n#разработка@habr #гиктаймс@habr',\n",
       "    'date': 1577376938,\n",
       "    'post_id': 1264781,\n",
       "    'access_key': '96e0913396ec04eb89'}}],\n",
       " 'post_source': {'type': 'api'},\n",
       " 'comments': {'count': 1, 'can_post': 1},\n",
       " 'likes': {'count': 46, 'user_likes': 0, 'can_like': 1, 'can_publish': 1},\n",
       " 'reposts': {'count': 6, 'user_reposted': 0},\n",
       " 'views': {'count': 28380}}"
      ]
     },
     "execution_count": 103,
     "metadata": {},
     "output_type": "execute_result"
    }
   ],
   "source": [
    "response.json()['response']['items'][0]  "
   ]
  },
  {
   "cell_type": "markdown",
   "metadata": {},
   "source": [
    "Нужная нам статистика находится в полях 'comments', 'likes' и 'reposts'. Соберем итоговую статистику для каждого поста в словарь stats. В качестве ключа будем использовать начало статьи, в качестве значения — список с тремя интересующими нас метриками и временем публикации: [комментарии, лайки, репосты, дата публикации]"
   ]
  },
  {
   "cell_type": "code",
   "execution_count": 94,
   "metadata": {},
   "outputs": [
    {
     "name": "stdout",
     "output_type": "stream",
     "text": [
      "{'Assembler в 30 строк на Excel,': [3, 41, 2, 1577613601],\n",
      " '«После изобретения печатного с': [3, 72, 6, 1577599286],\n",
      " '«Приёмом аналогового ТВ я заин': [1, 63, 7, 1577559686],\n",
      " 'Дизеринг: зашумляем сигнал, чт': [3, 93, 12, 1577628095],\n",
      " 'Итоги слепого тестирования кам': [23, 57, 2, 1577563265],\n",
      " 'Математики нашли закономерност': [14, 168, 17, 1577556072],\n",
      " 'На уходящей неделе мы оправдыв': [0, 43, 2, 1577620915],\n",
      " 'Процессорные войны: история си': [37, 116, 20, 1577606551],\n",
      " 'Пять причин, почему вы должны ': [0, 15, 1, 1577635351],\n",
      " 'Соперник, ученик, помощник: иг': [1, 46, 6, 1577376938]}\n"
     ]
    }
   ],
   "source": [
    "stats = {}  \n",
    "              \n",
    "for record in response.json()['response']['items'][:]:  \n",
    "    title = record['text'][:30]  \n",
    "    if title:  \n",
    "        stats[title] = [record['comments']['count'], \n",
    "                        record['likes']['count'], \n",
    "                        record['reposts']['count'], \n",
    "                        record['date'] ]  \n",
    "pprint(stats)"
   ]
  },
  {
   "cell_type": "markdown",
   "metadata": {},
   "source": [
    "#### Задание 1 SMM index\n",
    "Напишите функцию get_smm_index(group_name, token), которая по имени группы и авторизационному токену API возвращает smm_index группы - сумму лайков, комментариев и репостов для последних 10 постов, поделённую на количество участников в группе."
   ]
  },
  {
   "cell_type": "code",
   "execution_count": 127,
   "metadata": {},
   "outputs": [
    {
     "data": {
      "text/plain": [
       "7.940988349848182e-05"
      ]
     },
     "execution_count": 127,
     "metadata": {},
     "output_type": "execute_result"
    }
   ],
   "source": [
    "token='db0e8eafdb0e8eafdb0e8eaf9edb6056e4ddb0edb0e8eaf850628eddae3e4d318614881'\n",
    "group = 'habr'\n",
    "followers = 692609\n",
    "    \n",
    "    \n",
    "def get_smm_index(group,token):\n",
    "    url = 'https://api.vk.com/method/wall.get'\n",
    "    \n",
    "    params = {\n",
    "           'domain': group,\n",
    "           'filter': 'owner',\n",
    "           'count': 10,\n",
    "           'offset': 0,\n",
    "           'access_token': token,\n",
    "           'v': 5.95\n",
    "           }\n",
    "    \n",
    "    response = requests.get(url, params = params)\n",
    "    num = 0\n",
    "    data = response.json()\n",
    "    \n",
    "    for record in response.json()['response']['items'][-11:]:\n",
    "        num += (record['likes']['count'] + \n",
    "                record['reposts']['count'] + \n",
    "                record['comments']['count'])\n",
    "        result = num / followers\n",
    "\n",
    "        return result\n",
    "    \n",
    "get_smm_index('habr', 'db0e8eafdb0e8eafdb0e8eaf9edb6056e4ddb0edb0e8eaf850628eddae3e4d318614881')"
   ]
  },
  {
   "cell_type": "markdown",
   "metadata": {},
   "source": [
    "## B9.6.2 Тесты\n",
    "Задание 1 Статус запроса\n",
    "Какая строчка вернёт номер статуса для get-запроса к www.google.com?\n",
    "\n",
    "- requests.get(\"http://www.google.com\").status_code"
   ]
  },
  {
   "cell_type": "markdown",
   "metadata": {},
   "source": [
    "#### Задание 2 Аргументированный суп\n",
    "У вас есть строковая переменная html_page, которая содержит html-страницу. Что нужно указать вторым аргументом?"
   ]
  },
  {
   "cell_type": "code",
   "execution_count": null,
   "metadata": {},
   "outputs": [],
   "source": [
    "page = BeautifulSoup(html_page, 'html.parser')"
   ]
  },
  {
   "cell_type": "markdown",
   "metadata": {},
   "source": [
    "#### Задание 3 Рекламный метод\n",
    "Воспользовавшись документацией , найдите метод, который возвращает статистику показателей эффективности по рекламным объявлениям. В ответ запишите название этого метода."
   ]
  },
  {
   "cell_type": "code",
   "execution_count": null,
   "metadata": {},
   "outputs": [],
   "source": [
    "ads.getStatistics"
   ]
  },
  {
   "cell_type": "markdown",
   "metadata": {},
   "source": [
    "#### Задание 4 Информативные блоки\n",
    "У вас есть переменная page, которая представляет собой объект BeautifulSoup. Что из этого вернёт все элементы div с классом 'info-block'?"
   ]
  },
  {
   "cell_type": "code",
   "execution_count": null,
   "metadata": {},
   "outputs": [],
   "source": [
    "page.find_all('div', class_='info-block')"
   ]
  },
  {
   "cell_type": "code",
   "execution_count": null,
   "metadata": {},
   "outputs": [],
   "source": []
  },
  {
   "cell_type": "code",
   "execution_count": null,
   "metadata": {},
   "outputs": [],
   "source": []
  },
  {
   "cell_type": "code",
   "execution_count": 2,
   "metadata": {},
   "outputs": [
    {
     "ename": "NameError",
     "evalue": "name 'groups' is not defined",
     "output_type": "error",
     "traceback": [
      "\u001b[0;31m---------------------------------------------------------------------------\u001b[0m",
      "\u001b[0;31mNameError\u001b[0m                                 Traceback (most recent call last)",
      "\u001b[0;32m<ipython-input-2-31c78ec43502>\u001b[0m in \u001b[0;36m<module>\u001b[0;34m\u001b[0m\n\u001b[1;32m      1\u001b[0m \u001b[0mtoken\u001b[0m\u001b[0;34m=\u001b[0m\u001b[0;34m'db0e8eafdb0e8eafdb0e8eaf9edb6056e4ddb0edb0e8eaf850628eddae3e4d318614881'\u001b[0m\u001b[0;34m\u001b[0m\u001b[0;34m\u001b[0m\u001b[0m\n\u001b[1;32m      2\u001b[0m \u001b[0mgroup\u001b[0m \u001b[0;34m=\u001b[0m \u001b[0;34m'habr'\u001b[0m\u001b[0;34m\u001b[0m\u001b[0;34m\u001b[0m\u001b[0m\n\u001b[0;32m----> 3\u001b[0;31m \u001b[0mfollowers\u001b[0m \u001b[0;34m=\u001b[0m \u001b[0mgroups\u001b[0m\u001b[0;34m.\u001b[0m\u001b[0mgetMembers\u001b[0m\u001b[0;34m\u001b[0m\u001b[0;34m\u001b[0m\u001b[0m\n\u001b[0m\u001b[1;32m      4\u001b[0m \u001b[0;34m\u001b[0m\u001b[0m\n\u001b[1;32m      5\u001b[0m \u001b[0;34m\u001b[0m\u001b[0m\n",
      "\u001b[0;31mNameError\u001b[0m: name 'groups' is not defined"
     ]
    }
   ],
   "source": [
    "token='db0e8eafdb0e8eafdb0e8eaf9edb6056e4ddb0edb0e8eaf850628eddae3e4d318614881'\n",
    "group = 'habr'\n",
    "followers = groups.getMembers\n",
    "    \n",
    "    \n",
    "def get_smm_index(group,token):\n",
    "    url = 'https://api.vk.com/method/wall.get'\n",
    "    \n",
    "    params = {\n",
    "           'domain': group,\n",
    "           'filter': 'owner',\n",
    "           'count': 10,\n",
    "           'offset': 0,\n",
    "           'access_token': token,\n",
    "           'v': 5.95\n",
    "           }\n",
    "    \n",
    "    response = requests.get(url, params = params)\n",
    "    num = 0\n",
    "    data = response.json()\n",
    "    \n",
    "    for record in response.json()['response']['items'][-11:]:\n",
    "        num += (record['likes']['count'] + \n",
    "                record['reposts']['count'] + \n",
    "                record['comments']['count'])\n",
    "        result = num / followers\n",
    "\n",
    "        return result\n",
    "    \n",
    "get_smm_index('habr', 'db0e8eafdb0e8eafdb0e8eaf9edb6056e4ddb0edb0e8eaf850628eddae3e4d318614881')"
   ]
  },
  {
   "cell_type": "code",
   "execution_count": null,
   "metadata": {},
   "outputs": [],
   "source": []
  },
  {
   "cell_type": "code",
   "execution_count": null,
   "metadata": {},
   "outputs": [],
   "source": []
  }
 ],
 "metadata": {
  "kernelspec": {
   "display_name": "Python 3",
   "language": "python",
   "name": "python3"
  },
  "language_info": {
   "codemirror_mode": {
    "name": "ipython",
    "version": 3
   },
   "file_extension": ".py",
   "mimetype": "text/x-python",
   "name": "python",
   "nbconvert_exporter": "python",
   "pygments_lexer": "ipython3",
   "version": "3.7.3"
  }
 },
 "nbformat": 4,
 "nbformat_minor": 4
}
