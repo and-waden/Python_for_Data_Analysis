{
 "cells": [
  {
   "cell_type": "markdown",
   "metadata": {},
   "source": [
    "### Test Notes"
   ]
  },
  {
   "cell_type": "code",
   "execution_count": null,
   "metadata": {},
   "outputs": [],
   "source": [
    "# input(\"Decide if you need Skillfactory's Python Course or not!\")"
   ]
  },
  {
   "cell_type": "code",
   "execution_count": null,
   "metadata": {},
   "outputs": [],
   "source": [
    "# user_name = input('Введите своё имя: \\n')"
   ]
  },
  {
   "cell_type": "code",
   "execution_count": 60,
   "metadata": {},
   "outputs": [
    {
     "name": "stdin",
     "output_type": "stream",
     "text": [
      "Введите множитель для числа 5: \n",
      " 25\n"
     ]
    },
    {
     "name": "stdout",
     "output_type": "stream",
     "text": [
      "125\n"
     ]
    }
   ],
   "source": [
    "# multiplier = int(input('Введите множитель для числа 5: \\n'))\n",
    "# print(5*multiplier)"
   ]
  },
  {
   "cell_type": "code",
   "execution_count": 90,
   "metadata": {},
   "outputs": [],
   "source": [
    "# a = float(input('Введите основание степени: \\n'))\n",
    "# b = float(input('Введите показатель степени: \\n'))\n",
    "# В функции print() можно в качестве аргументов \n",
    "# перечислять через запятую все нужные для вывода данные\n",
    "# print('Полученное число:', a**b) "
   ]
  },
  {
   "cell_type": "markdown",
   "metadata": {},
   "source": [
    "### Task 1 \n",
    "\n",
    "Напишите программу, которая просит пользователя ввести своё имя в переменную name, а затем выводит на экран фразу: \"Сегодня Вас зовут ...\", где вместо многоточия отображается имя пользователя. Вместо name = input() используйте name = 'Алексей' для проверки.\n",
    "\n",
    "Пояснения:\n",
    "\n",
    "Чтобы вывести строку в нужном формате, можно либо перечислять то, что нужно вывести на экран, внутри функции print(): print('Привет,', name), либо складывать строки, например: print('Привет, ' + name).\n",
    "\n",
    "Обратите внимание на использование пробелов в строке, которая будет выводиться на экран с помощью функции print(): между каждой парой слов должен быть только один пробел; в начале и в конце выводимой на экран строки пробелов быть не должно; перед запятой пробел не ставится, после - ставится один пробел."
   ]
  },
  {
   "cell_type": "code",
   "execution_count": 76,
   "metadata": {},
   "outputs": [
    {
     "name": "stdin",
     "output_type": "stream",
     "text": [
      "Введите своё имя: \n",
      " Алексей\n"
     ]
    },
    {
     "name": "stdout",
     "output_type": "stream",
     "text": [
      "Сегодня Вас зовут Алексей\n"
     ]
    }
   ],
   "source": [
    "name = \"Алексей\"\n",
    "print(\"Сегодня Вас зовут\", user_name)"
   ]
  },
  {
   "cell_type": "code",
   "execution_count": 78,
   "metadata": {},
   "outputs": [],
   "source": [
    "# Another way of the code implementation\"\"\"\n",
    "# user_name = input('Введите своё имя: \\n')\n",
    "# print(\"Сегодня Вас зовут\", user_name)"
   ]
  },
  {
   "cell_type": "markdown",
   "metadata": {},
   "source": [
    "### Task 2\n",
    "Напишите программу, которая выводит на экран длину слова, значение которого хранится в переменной word. Вместо word = input() используйте word = 'Очаровательно' для проверки.\n",
    "\n",
    "Подсказка №1: Длину слова (и не только слова) в Python можно узнать с помощью функции len().\n",
    "\n",
    "Подсказка №2: Программа должна вывести на экран только одно число, равное количеству символов в заданном слове."
   ]
  },
  {
   "cell_type": "code",
   "execution_count": 94,
   "metadata": {},
   "outputs": [
    {
     "name": "stdout",
     "output_type": "stream",
     "text": [
      "13\n"
     ]
    }
   ],
   "source": [
    "word = \"Очаровательно\"\n",
    "print(len(word))"
   ]
  },
  {
   "cell_type": "markdown",
   "metadata": {},
   "source": [
    "### Test 3\n",
    "Напишите программу, которая принимает на вход два целых числа (a и b) и выводит на экран остаток от деления первого числа а на второе число b.\n",
    "\n",
    "Вместо a = int(input()) и b = int(input()) используйте a = 117 и b = 23."
   ]
  },
  {
   "cell_type": "code",
   "execution_count": 103,
   "metadata": {},
   "outputs": [
    {
     "name": "stdout",
     "output_type": "stream",
     "text": [
      "2\n"
     ]
    }
   ],
   "source": [
    "a = 117 \n",
    "b = 23\n",
    "print(a % b)"
   ]
  },
  {
   "cell_type": "markdown",
   "metadata": {},
   "source": [
    "### Test 4\n",
    "Напишите программу, с помощью которой пользователь может ввести три положительных числа и увидеть на экране их среднее геометрическое. Названия переменных a, b, c. Для теста используйте значения a=12, b=17, c=25\n",
    "\n",
    "Среднее геометрическое N чисел - это корень N-ной степени из произведения этих чисел."
   ]
  },
  {
   "cell_type": "code",
   "execution_count": 190,
   "metadata": {},
   "outputs": [
    {
     "name": "stdin",
     "output_type": "stream",
     "text": [
      " 5\n",
      " 3\n",
      " 12\n"
     ]
    },
    {
     "name": "stdout",
     "output_type": "stream",
     "text": [
      "5.64621617328617\n"
     ]
    }
   ],
   "source": [
    "# a = 5\n",
    "# b = 3\n",
    "# c = 12\n",
    "\n",
    "a = float(input())\n",
    "b = float(input())\n",
    "c = float(input())\n",
    "\n",
    "print((a*b*c) ** (1/3))"
   ]
  },
  {
   "cell_type": "markdown",
   "metadata": {},
   "source": [
    "### Test 5\n",
    "Напишите программу, с помощью которой пользователь может рассчитать значение функции, предварительно указав значение аргумента x. Для проверок используйте x = 100500\n"
   ]
  },
  {
   "cell_type": "code",
   "execution_count": 232,
   "metadata": {},
   "outputs": [
    {
     "name": "stdout",
     "output_type": "stream",
     "text": [
      "113628013506.996\n"
     ]
    }
   ],
   "source": [
    "x = 100500\n",
    "y = 6.996 + 45 * (x/2) ** 2 + (2 * x)\n",
    "print(y)"
   ]
  },
  {
   "cell_type": "markdown",
   "metadata": {},
   "source": [
    "### Test 6\n",
    "Напишите программу, с помощью которой пользователь сможет рассчитать свой индекс массы тела (ИМТ - масса тела в килограммах делённая на квадрат роста в метрах). Выведите ИМТ на экран. Названия переменных weight и height. Для теста используйте значения weight=80, height = 1.8"
   ]
  },
  {
   "cell_type": "code",
   "execution_count": 161,
   "metadata": {},
   "outputs": [
    {
     "name": "stdout",
     "output_type": "stream",
     "text": [
      "My BMI is: 24.691358024691358\n"
     ]
    }
   ],
   "source": [
    "weight=80\n",
    "height = 1.8\n",
    "bmi = weight / (height ** 2)\n",
    "\n",
    "print (\"My BMI is:\", bmi)"
   ]
  },
  {
   "cell_type": "markdown",
   "metadata": {},
   "source": [
    "### Task 7\n",
    "Напишите программу, которая принимает на вход два числа a и b и выводит корень третьей степени их среднего арифметического на экран."
   ]
  },
  {
   "cell_type": "code",
   "execution_count": 166,
   "metadata": {},
   "outputs": [
    {
     "data": {
      "text/plain": [
       "21116119.743999995"
      ]
     },
     "execution_count": 166,
     "metadata": {},
     "output_type": "execute_result"
    }
   ],
   "source": [
    "a = 270.0\n",
    "b = 12.8\n",
    "(a + b / 2) ** 3\n",
    "\n",
    "\n",
    "# Another way of the code implementation\n",
    "# a = 270.0\n",
    "# b = 12.8\n",
    "# с = a + b / 2\n",
    "# d = c ** 3\n",
    "# print(c, d)"
   ]
  },
  {
   "cell_type": "markdown",
   "metadata": {},
   "source": [
    "### Test 8\n",
    "Напишите программу, которая принимает на вход целое число, умножает его на 3 и выводит на экран сообщение: \"Вы ввели число, которое при умножении на 3 даёт ...\". В сообщении вместо многоточия должен быть отображён результат умножения в виде целого числа."
   ]
  },
  {
   "cell_type": "code",
   "execution_count": 173,
   "metadata": {},
   "outputs": [
    {
     "name": "stdin",
     "output_type": "stream",
     "text": [
      " 23\n"
     ]
    },
    {
     "name": "stdout",
     "output_type": "stream",
     "text": [
      "Вы ввели число, которое при умножении на 3 даёт 69\n"
     ]
    }
   ],
   "source": [
    "a = 23\n",
    "b = a * 3\n",
    "print(\"Вы ввели число, которое при умножении на 3 даёт\", b)\n",
    "\n",
    "\n",
    "# Another way of the code implementation\n",
    "# a = int(input())\n",
    "# b = a * 3\n",
    "# print(\"Вы ввели число, которое при умножении на 3 даёт\", b)"
   ]
  },
  {
   "cell_type": "markdown",
   "metadata": {},
   "source": [
    "### Test 9\n",
    "Напишите программу, которая на вход принимает 3 строки и выводит на экран среднее геометрическое длин этих строк \n",
    "Названия переменных string_1, string_2, string_3. \n",
    "Для теста используйте значения string_1 = 'Hello, world!', string_2 = 'Python <3', string_3 = 'qwerty'"
   ]
  },
  {
   "cell_type": "code",
   "execution_count": 212,
   "metadata": {},
   "outputs": [
    {
     "name": "stdout",
     "output_type": "stream",
     "text": [
      "8.88748820522211\n"
     ]
    }
   ],
   "source": [
    "string_1 = 'Hello, world!'\n",
    "string_2 = 'Python <3'\n",
    "string_3 = 'qwerty'\n",
    "string_len_1 = len(string_1)\n",
    "string_len_2 = len(string_2)\n",
    "string_len_3 = len(string_3)\n",
    "conc = (string_len_1 * string_len_2 * string_len_3) ** (1/3)\n",
    "\n",
    "print(conc)\n",
    "\n",
    "# conc = len(string_1 + string_2 + string_3) = 28"
   ]
  },
  {
   "cell_type": "markdown",
   "metadata": {},
   "source": [
    "### Test 10\n",
    "Напишите программу, которая принимает на вход строку и целое число и выводит на экран эту строку, \n",
    "её длину и её длину в степени введённого целого числа. \n",
    "При введении, например, строки \"привет\" и числа 2 на экране должно быть выведено \"привет 6 36\".\n",
    "Названия переменных string и power. Для теста используйте значения string = 'Привет!', power = 5"
   ]
  },
  {
   "cell_type": "code",
   "execution_count": 231,
   "metadata": {},
   "outputs": [
    {
     "name": "stdout",
     "output_type": "stream",
     "text": [
      "Привет! 7 16807\n"
     ]
    }
   ],
   "source": [
    "string = \"Привет!\"\n",
    "power = 5\n",
    "\n",
    "print(string, len(string), len(string) ** power)\n",
    "\n",
    "\n",
    "\n",
    "# Another way of the code implementation\n",
    "# string = input()\n",
    "# power = float(input())\n",
    "\n",
    "# print(string,len(string), len(string) ** power)"
   ]
  },
  {
   "cell_type": "code",
   "execution_count": null,
   "metadata": {},
   "outputs": [],
   "source": []
  }
 ],
 "metadata": {
  "kernelspec": {
   "display_name": "Python 3",
   "language": "python",
   "name": "python3"
  },
  "language_info": {
   "codemirror_mode": {
    "name": "ipython",
    "version": 3
   },
   "file_extension": ".py",
   "mimetype": "text/x-python",
   "name": "python",
   "nbconvert_exporter": "python",
   "pygments_lexer": "ipython3",
   "version": "3.7.3"
  }
 },
 "nbformat": 4,
 "nbformat_minor": 2
}
