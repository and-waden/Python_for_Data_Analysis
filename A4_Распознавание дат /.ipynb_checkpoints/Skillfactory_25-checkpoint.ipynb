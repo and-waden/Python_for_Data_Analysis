{
 "cells": [
  {
   "cell_type": "markdown",
   "metadata": {},
   "source": [
    "### А 4.3.1 Библиотека datetime"
   ]
  },
  {
   "cell_type": "code",
   "execution_count": 1,
   "metadata": {},
   "outputs": [],
   "source": [
    "from datetime import datetime, timedelta"
   ]
  },
  {
   "cell_type": "code",
   "execution_count": 6,
   "metadata": {},
   "outputs": [
    {
     "data": {
      "text/plain": [
       "datetime.datetime(2019, 5, 5, 21, 0)"
      ]
     },
     "execution_count": 6,
     "metadata": {},
     "output_type": "execute_result"
    }
   ],
   "source": [
    "date_string = '05.05.2019 21:00'\n",
    "dt = datetime.strptime(date_string, '%d.%m.%Y %H:%M')\n",
    "\n",
    "dt"
   ]
  },
  {
   "cell_type": "code",
   "execution_count": 7,
   "metadata": {},
   "outputs": [
    {
     "data": {
      "text/plain": [
       "21"
      ]
     },
     "execution_count": 7,
     "metadata": {},
     "output_type": "execute_result"
    }
   ],
   "source": [
    "dt.hour"
   ]
  },
  {
   "cell_type": "code",
   "execution_count": 10,
   "metadata": {},
   "outputs": [
    {
     "data": {
      "text/plain": [
       "5"
      ]
     },
     "execution_count": 10,
     "metadata": {},
     "output_type": "execute_result"
    }
   ],
   "source": [
    "dt.month"
   ]
  },
  {
   "cell_type": "code",
   "execution_count": 11,
   "metadata": {},
   "outputs": [
    {
     "data": {
      "text/plain": [
       "'2019-05-05'"
      ]
     },
     "execution_count": 11,
     "metadata": {},
     "output_type": "execute_result"
    }
   ],
   "source": [
    "dt = datetime(2019, 5, 5, 21, 0)\n",
    "dt.strftime('%Y-%m-%d')"
   ]
  },
  {
   "cell_type": "code",
   "execution_count": 14,
   "metadata": {},
   "outputs": [
    {
     "data": {
      "text/plain": [
       "'2019-04-01-18-59-44'"
      ]
     },
     "execution_count": 14,
     "metadata": {},
     "output_type": "execute_result"
    }
   ],
   "source": [
    "# Выведите ее в виде строки формата %Y-%m-%d\n",
    "\n",
    "dt = datetime(2019, 4, 1, 18, 59, 44)\n",
    "dt.strftime(\"%Y-%m-%d-%H-%M-%S\")"
   ]
  },
  {
   "cell_type": "code",
   "execution_count": null,
   "metadata": {},
   "outputs": [],
   "source": []
  },
  {
   "cell_type": "markdown",
   "metadata": {},
   "source": [
    "### Задание 1\n",
    "\n",
    "Дана строка с датой date_string = '2019-07-07T18:59:33'\n",
    "\n",
    "Преобразуйте ее в строку с форматом %d.%m.%Y. Результат запишите в переменную date_format"
   ]
  },
  {
   "cell_type": "code",
   "execution_count": 25,
   "metadata": {},
   "outputs": [
    {
     "data": {
      "text/plain": [
       "'07.07.2019'"
      ]
     },
     "execution_count": 25,
     "metadata": {},
     "output_type": "execute_result"
    }
   ],
   "source": [
    "from datetime import datetime\n",
    "date_string = '2019-07-07T18:59:33'\n",
    "\n",
    "\n",
    "test_1 = datetime.strptime(date_string, \"%Y-%m-%dT%H:%M:%S\")\n",
    "date_format = test_1.strftime(\"%d.%m.%Y\")\n",
    "\n",
    "date_format"
   ]
  },
  {
   "cell_type": "markdown",
   "metadata": {},
   "source": [
    "### Задание 2\n",
    "Дан список запуска отчета по расписанию\n",
    "\n",
    "Переведите эти значения из строк в формат datetime и \n",
    "запишите результат в переменную datetime_list.\n",
    "\n",
    "Т. е. в переменной datetime_list должен быть \n",
    "список элементов вида datetime(2019, 7, 7, 18, 59, 6)"
   ]
  },
  {
   "cell_type": "code",
   "execution_count": 39,
   "metadata": {},
   "outputs": [
    {
     "name": "stdout",
     "output_type": "stream",
     "text": [
      "[datetime.datetime(2019, 7, 7, 18, 59, 6), datetime.datetime(2019, 7, 7, 19, 0, 2), datetime.datetime(2019, 7, 7, 19, 1, 4)]\n"
     ]
    }
   ],
   "source": [
    "dt_list = ['2019-07-07T18:59:06', '2019-07-07T19:00:02', '2019-07-07T19:01:04']\n",
    "datetime_list = []\n",
    "\n",
    "# test_1 = datetime.strptime(dt_list, \"%Y-%m-%dT%H:%M:%S\")\n",
    "\n",
    "for i in dt_list:\n",
    "    date_format = datetime.strptime(i, \"%Y-%m-%dT%H:%M:%S\")\n",
    "    datetime_list.append(date_format)\n",
    "\n",
    "print(datetime_list)\n",
    "    \n",
    "\n"
   ]
  },
  {
   "cell_type": "markdown",
   "metadata": {},
   "source": [
    "### Задание 3\n",
    "В прошлом задании у вас получился список datetime_list с элементами типа datetime.\n",
    "\n",
    "Наш отчет запускался каждую минуту в 18:59:00, 19:00:00 и 19:01:00. \n",
    "\n",
    "Посчитайте для каждого элемента количество секунд, которое работал скрипт. Результат запишите в список report_seconds (каждый элемент, соответственно, целое число)."
   ]
  },
  {
   "cell_type": "code",
   "execution_count": 48,
   "metadata": {},
   "outputs": [
    {
     "name": "stdout",
     "output_type": "stream",
     "text": [
      "[6, 2, 4]\n"
     ]
    }
   ],
   "source": [
    "from datetime import datetime \n",
    "datetime_list1 = [\n",
    "    datetime(2019, 7, 7, 18, 59, 6),\n",
    "    datetime(2019, 7, 7, 19, 0, 2),\n",
    "    datetime(2019, 7, 7, 19, 1, 4)\n",
    "]\n",
    "report_seconds=[]\n",
    "\n",
    "for i in datetime_list:\n",
    "    report_seconds+=[i.second] \n",
    "print(report_seconds)\n",
    "\n",
    "# Просто я ничего не вычитал просто вытащил секунды из дат\n",
    "# Да, поскольку, как мне показалось, в списке datetime_list хранится время, \n",
    "# когда скрипт заканчивал работать. А запускался он каждый раз в 00 секунд, \n",
    "# поэтому логично."
   ]
  },
  {
   "cell_type": "markdown",
   "metadata": {},
   "source": [
    "### Задание 4\n",
    "Посчитайте суммарное время выполнения скрипта в секундах из списка report_seconds прошлого задания.\n",
    "\n",
    "Результат запишите в переменную total_time (целое число секунд)"
   ]
  },
  {
   "cell_type": "code",
   "execution_count": 40,
   "metadata": {},
   "outputs": [
    {
     "name": "stdout",
     "output_type": "stream",
     "text": [
      "12\n"
     ]
    }
   ],
   "source": [
    "from datetime import datetime, timedelta\n",
    "\n",
    "report_seconds = [6, 2, 4]\n",
    "total_time=0\n",
    "\n",
    "for i in report_seconds:\n",
    "    m=timedelta(seconds=i).total_seconds()\n",
    "    total_time+=m\n",
    "print(round(total_time))"
   ]
  },
  {
   "cell_type": "code",
   "execution_count": null,
   "metadata": {},
   "outputs": [],
   "source": []
  }
 ],
 "metadata": {
  "kernelspec": {
   "display_name": "Python 3",
   "language": "python",
   "name": "python3"
  },
  "language_info": {
   "codemirror_mode": {
    "name": "ipython",
    "version": 3
   },
   "file_extension": ".py",
   "mimetype": "text/x-python",
   "name": "python",
   "nbconvert_exporter": "python",
   "pygments_lexer": "ipython3",
   "version": "3.7.3"
  }
 },
 "nbformat": 4,
 "nbformat_minor": 2
}
