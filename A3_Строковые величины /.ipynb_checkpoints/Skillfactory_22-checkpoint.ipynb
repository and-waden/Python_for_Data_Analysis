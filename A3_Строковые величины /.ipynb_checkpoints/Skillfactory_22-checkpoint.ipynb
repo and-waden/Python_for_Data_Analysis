{
 "cells": [
  {
   "cell_type": "markdown",
   "metadata": {},
   "source": [
    "## А3.4.3 Преобразование файла в словарь\n"
   ]
  },
  {
   "cell_type": "code",
   "execution_count": 4,
   "metadata": {},
   "outputs": [],
   "source": [
    "students = {}\n",
    "\n",
    "f = open('StudentsPerformance.csv')\n",
    "\n",
    "for line in f:\n",
    "    info = line.split(',')\n",
    "    if info[0] == '\"gender\"':\n",
    "        continue\n",
    "    else:\n",
    "        ethnicity = info[1][1:-1]"
   ]
  },
  {
   "cell_type": "code",
   "execution_count": 5,
   "metadata": {},
   "outputs": [
    {
     "name": "stdout",
     "output_type": "stream",
     "text": [
      "group D\n"
     ]
    }
   ],
   "source": [
    "print(ethnicity)"
   ]
  },
  {
   "cell_type": "code",
   "execution_count": 6,
   "metadata": {},
   "outputs": [],
   "source": [
    "students = {}\n",
    "\n",
    "f = open('StudentsPerformance.csv')\n",
    "\n",
    "for line in f:\n",
    "    info = line.split(',')\n",
    "    if info[0] == '\"gender\"':\n",
    "        continue\n",
    "    else:\n",
    "        ethnicity = info[1][1:-1]\n",
    "        if ethnicity in students:\n",
    "            students[ethnicity] += 1\n",
    "            print\n",
    "        else:\n",
    "            students[ethnicity] = 1"
   ]
  },
  {
   "cell_type": "code",
   "execution_count": 9,
   "metadata": {},
   "outputs": [
    {
     "name": "stdout",
     "output_type": "stream",
     "text": [
      "{'group B': 190, 'group C': 319, 'group A': 89, 'group D': 262, 'group E': 140}\n"
     ]
    }
   ],
   "source": [
    "print(students)"
   ]
  },
  {
   "cell_type": "code",
   "execution_count": 25,
   "metadata": {},
   "outputs": [],
   "source": [
    "students = {}\n",
    "\n",
    "f = open('StudentsPerformance.csv')\n",
    "\n",
    "for line in f:\n",
    "    info = line.split(',')\n",
    "    if info[0] == '\"gender\"':\n",
    "        continue\n",
    "    else:\n",
    "        ethnicity = info[1][1:-1]\n",
    "        parents = info[2][1:-1]\n",
    "        if ethnicity in students:\n",
    "            if parents in students[ethnicity]:\n",
    "                students[ethnicity][parents] += 1\n",
    "                # print(students[ethnicity][parents])\n",
    "            else:\n",
    "                students[ethnicity][parents] = 1\n",
    "        else:\n",
    "            students[ethnicity] = {}\n",
    "            students[ethnicity][parents] = 1 \n"
   ]
  },
  {
   "cell_type": "code",
   "execution_count": 15,
   "metadata": {},
   "outputs": [
    {
     "name": "stdout",
     "output_type": "stream",
     "text": [
      "group B {\"bachelor's degree\": 20, \"master's degree\": 6, \"associate's degree\": 41, 'some college': 37, 'high school': 48, 'some high school': 38}\n",
      "group C {'some college': 69, \"associate's degree\": 78, 'some high school': 49, 'high school': 64, \"master's degree\": 19, \"bachelor's degree\": 40}\n",
      "group A {\"associate's degree\": 14, 'some college': 18, \"master's degree\": 3, 'some high school': 24, \"bachelor's degree\": 12, 'high school': 18}\n",
      "group D {'high school': 44, \"associate's degree\": 50, 'some college': 67, \"bachelor's degree\": 28, \"master's degree\": 23, 'some high school': 50}\n",
      "group E {\"master's degree\": 8, 'some college': 35, \"associate's degree\": 39, \"bachelor's degree\": 18, 'some high school': 18, 'high school': 22}\n"
     ]
    }
   ],
   "source": [
    "for key, value in students.items():\n",
    "    print(key, value)"
   ]
  },
  {
   "cell_type": "markdown",
   "metadata": {},
   "source": [
    "### А3.4.3.1 Задание 1\n"
   ]
  },
  {
   "cell_type": "code",
   "execution_count": 80,
   "metadata": {},
   "outputs": [
    {
     "name": "stdout",
     "output_type": "stream",
     "text": [
      "316\n"
     ]
    }
   ],
   "source": [
    "f = open('StudentsPerformance.csv')\n",
    "\n",
    "total_count = 0\n",
    "\n",
    "for line in f:\n",
    "    info = line.split(',')\n",
    "    lunch = info[3][1:-1] # обращание к группе и убрать кавычки    \n",
    "    gender = info[0][1:-1]\n",
    "    if gender == \"male\" and lunch == \"standard\" :\n",
    "        total_count += 1\n",
    "\n",
    "print(total_count)"
   ]
  },
  {
   "cell_type": "markdown",
   "metadata": {},
   "source": [
    "### А3.4.3.2 Задание 2\n",
    "Сколько мальчиков закончили подготовительные курсы (test preparation course = completed)?\n",
    "\n",
    "Ответ введите в виде одного числа."
   ]
  },
  {
   "cell_type": "code",
   "execution_count": 87,
   "metadata": {},
   "outputs": [
    {
     "name": "stdout",
     "output_type": "stream",
     "text": [
      "174\n"
     ]
    }
   ],
   "source": [
    "f = open('StudentsPerformance.csv')\n",
    "\n",
    "course_count = 0\n",
    "\n",
    "for line in f:\n",
    "    info = line.split(',')\n",
    "    course = info[4][1:-1] # обращание к группе и убрать кавычки \n",
    "    gender = info[0][1:-1]\n",
    "    if gender == \"male\" and course == \"completed\":\n",
    "        course_count += 1\n",
    "\n",
    "print(course_count)"
   ]
  },
  {
   "cell_type": "markdown",
   "metadata": {},
   "source": [
    "### А3.4.3.3 Задание 3\n",
    "У скольких девочек родители имеют степень магистра (parental level of education = master's degree)?\n",
    "\n",
    "Ответ введите в виде одного числа."
   ]
  },
  {
   "cell_type": "code",
   "execution_count": 102,
   "metadata": {},
   "outputs": [
    {
     "name": "stdout",
     "output_type": "stream",
     "text": [
      "36\n"
     ]
    }
   ],
   "source": [
    "f = open('StudentsPerformance.csv')\n",
    "# for i in f:\n",
    "#     print(i)\n",
    "\n",
    "degree_count = 0\n",
    "\n",
    "for line in f:\n",
    "    info = line.split(',')\n",
    "    education = info[2][1:-1] # обращание к группе и убрать кавычки \n",
    "    gender = info[0][1:-1]\n",
    "    if gender == \"female\" and education == \"master's degree\":\n",
    "        degree_count += 1\n",
    "\n",
    "print(degree_count)"
   ]
  },
  {
   "cell_type": "markdown",
   "metadata": {},
   "source": [
    "### А3.4.3.3 Задание 3\n",
    "Сколько абитуриентов, относящихся к этнической группе С, закончили подготовительные курсы?\n",
    "\n",
    "Ответ введите в виде одного числа."
   ]
  },
  {
   "cell_type": "code",
   "execution_count": 116,
   "metadata": {},
   "outputs": [
    {
     "name": "stdout",
     "output_type": "stream",
     "text": [
      "117\n"
     ]
    }
   ],
   "source": [
    "f = open('StudentsPerformance.csv')\n",
    "# for i in f:\n",
    "#     print(i)\n",
    "\n",
    "prepare_count = 0\n",
    "\n",
    "for line in f:\n",
    "    info = line.split(',')\n",
    "    etnic = info[1][1:-1] # обращание к группе и убрать кавычки \n",
    "    course = info[4][1:-1]\n",
    "    # print(etnic)\n",
    "    if etnic == \"group C\" and course == \"completed\":\n",
    "        prepare_count += 1\n",
    "\n",
    "print(prepare_count)"
   ]
  },
  {
   "cell_type": "markdown",
   "metadata": {},
   "source": [
    "### А3.4.3.5 Задание 5*\n",
    "Сколько девочек, родители которых имеют степень магистра, набрали по математике больше 90 баллов?"
   ]
  },
  {
   "cell_type": "code",
   "execution_count": 171,
   "metadata": {},
   "outputs": [
    {
     "name": "stdout",
     "output_type": "stream",
     "text": [
      "36 0\n"
     ]
    }
   ],
   "source": [
    "f = open('StudentsPerformance.csv')\n",
    "\n",
    "girls_count = 0\n",
    "math = 0\n",
    "next(f)\n",
    "\n",
    "for line in f:\n",
    "    info = line.split(',')\n",
    "    gender = info[0][1:-1] # обращание к группе и убрать кавычки \n",
    "    education = info[2][1:-1]\n",
    "    mark = int(info[5][1:-1])\n",
    "    \n",
    "    if gender == \"female\" and education == \"master's degree\":\n",
    "        girls_count += 1\n",
    "        continue\n",
    "        \n",
    "        for i in f:\n",
    "            if mark > 90:\n",
    "                math += 1\n",
    "                print(math)\n",
    "\n",
    "print(girls_count, math)"
   ]
  },
  {
   "cell_type": "code",
   "execution_count": null,
   "metadata": {},
   "outputs": [],
   "source": [
    "lunch_count = 0\n",
    "write_count = 0\n",
    "write_list = []\n",
    "\n",
    "f = open('StudentsPerformance.csv')\n",
    "next(f)\n",
    "\n",
    "for line in f:\n",
    "    info = line.split(\",\")\n",
    "    \n",
    "    if int(info[7][1:-2]) <= 90:\n",
    "        continue\n",
    "        \n",
    "    write_count += 1\n",
    "        \n",
    "    if info[3][1:-1] == \"standard\":\n",
    "        lunch_count += 1\n",
    "            \n",
    "print(lunch_count / write_count * 100)"
   ]
  },
  {
   "cell_type": "code",
   "execution_count": 187,
   "metadata": {},
   "outputs": [],
   "source": [
    "math = []\n",
    "\n",
    "f = open('StudentsPerformance.csv')\n",
    "# for i in f:\n",
    "#     print(i)\n",
    "next(f)\n",
    "\n",
    "for line in f:\n",
    "    info = line.split(',')\n",
    "    lunch = info[3][1:-1]\n",
    "    mark = int(info[7][1:-2])\n",
    "#     writing = info[5]\n",
    "    \n",
    "    if lunch == \"free/reduced\":\n",
    "        math.append(mark) \n",
    "# print(math)"
   ]
  },
  {
   "cell_type": "code",
   "execution_count": 188,
   "metadata": {},
   "outputs": [
    {
     "name": "stdout",
     "output_type": "stream",
     "text": [
      "63.02253521126761\n"
     ]
    }
   ],
   "source": [
    "math_avg = sum(math)/len(math)\n",
    "print(math_avg)"
   ]
  },
  {
   "cell_type": "code",
   "execution_count": 158,
   "metadata": {},
   "outputs": [
    {
     "name": "stdout",
     "output_type": "stream",
     "text": [
      "{'mail.ru': 3, 'yandex.ru': 5, 'gmail.com': 2}\n"
     ]
    }
   ],
   "source": [
    "emails_list = ['vasya@mail.ru', \n",
    "          'akakiy@yandex.ru', \n",
    "          'spyderman@yandex.ru', \n",
    "          'XFiles@gmail.com', \n",
    "          'hello@mail.ru', \n",
    "          'noname@gmail.com', \n",
    "          'DonaldTrump@mail.ru', \n",
    "          'a768#af@yandex.ru', \n",
    "          'Ivan_Ivanovich@yandex.ru', \n",
    "          'thebestmail@yandex.ru']\n",
    "\n",
    "\n",
    "emails_dict={}\n",
    "\n",
    "for i in emails_list:\n",
    "    domain=i[i.find('@')+1:]\n",
    "    email=i[:i.find('@')]\n",
    "    \n",
    "    if domain in emails_dict:\n",
    "        emails_dict[domain]+=1\n",
    "        \n",
    "    else:\n",
    "        emails_dict[domain]={}\n",
    "        emails_dict[domain]=1\n",
    "        \n",
    "print(emails_dict)"
   ]
  },
  {
   "cell_type": "code",
   "execution_count": null,
   "metadata": {},
   "outputs": [],
   "source": []
  }
 ],
 "metadata": {
  "kernelspec": {
   "display_name": "Python 3",
   "language": "python",
   "name": "python3"
  },
  "language_info": {
   "codemirror_mode": {
    "name": "ipython",
    "version": 3
   },
   "file_extension": ".py",
   "mimetype": "text/x-python",
   "name": "python",
   "nbconvert_exporter": "python",
   "pygments_lexer": "ipython3",
   "version": "3.7.3"
  }
 },
 "nbformat": 4,
 "nbformat_minor": 2
}
