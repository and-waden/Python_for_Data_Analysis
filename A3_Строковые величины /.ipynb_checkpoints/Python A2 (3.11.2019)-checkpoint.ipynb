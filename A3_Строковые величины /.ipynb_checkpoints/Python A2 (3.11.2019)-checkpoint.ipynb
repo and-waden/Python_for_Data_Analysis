{
 "cells": [
  {
   "cell_type": "markdown",
   "metadata": {},
   "source": [
    "# Списки"
   ]
  },
  {
   "cell_type": "code",
   "execution_count": 1,
   "metadata": {},
   "outputs": [],
   "source": [
    "animals = ['кошка', 'собака', 'хомяк', 'корова', 'лошадь', 'лиса', 'волк', 'заяц']"
   ]
  },
  {
   "cell_type": "markdown",
   "metadata": {},
   "source": [
    "Выполняем задания по выводу на экран элементов списка с помощью срезов"
   ]
  },
  {
   "cell_type": "code",
   "execution_count": 3,
   "metadata": {},
   "outputs": [
    {
     "data": {
      "text/plain": [
       "'лиса'"
      ]
     },
     "execution_count": 3,
     "metadata": {},
     "output_type": "execute_result"
    }
   ],
   "source": [
    "# Вывести на экран название своего любимого животного\n",
    "animals[-3]"
   ]
  },
  {
   "cell_type": "code",
   "execution_count": 7,
   "metadata": {},
   "outputs": [
    {
     "data": {
      "text/plain": [
       "['кошка', 'собака', 'хомяк']"
      ]
     },
     "execution_count": 7,
     "metadata": {},
     "output_type": "execute_result"
    }
   ],
   "source": [
    "# Вывести на экран список домашних животных, которых можно содержать в городской квартире\n",
    "animals[:3]"
   ]
  },
  {
   "cell_type": "code",
   "execution_count": 11,
   "metadata": {},
   "outputs": [
    {
     "data": {
      "text/plain": [
       "['корова', 'лошадь']"
      ]
     },
     "execution_count": 11,
     "metadata": {},
     "output_type": "execute_result"
    }
   ],
   "source": [
    "#Вывести на экран список домашних животных, которых нельзя содержать в городской квартире\n",
    "animals[3:-3]"
   ]
  },
  {
   "cell_type": "code",
   "execution_count": 16,
   "metadata": {},
   "outputs": [
    {
     "data": {
      "text/plain": [
       "['лиса', 'волк', 'заяц']"
      ]
     },
     "execution_count": 16,
     "metadata": {},
     "output_type": "execute_result"
    }
   ],
   "source": [
    "# Вывести на экран список диких животных\n",
    "animals[-3:]"
   ]
  },
  {
   "cell_type": "code",
   "execution_count": 17,
   "metadata": {},
   "outputs": [
    {
     "data": {
      "text/plain": [
       "['кошка', 'хомяк', 'лошадь', 'волк']"
      ]
     },
     "execution_count": 17,
     "metadata": {},
     "output_type": "execute_result"
    }
   ],
   "source": [
    "# Вывести на экран список: кошка, хомяк, лошадь, волк\n",
    "animals[::2]"
   ]
  },
  {
   "cell_type": "code",
   "execution_count": 22,
   "metadata": {},
   "outputs": [
    {
     "data": {
      "text/plain": [
       "['заяц', 'волк', 'лиса']"
      ]
     },
     "execution_count": 22,
     "metadata": {},
     "output_type": "execute_result"
    }
   ],
   "source": [
    "# Вывести на экран список животных задом наперёд (заяц, волк, ..., кошка) \n",
    "animals[-1:-4:-1]"
   ]
  },
  {
   "cell_type": "markdown",
   "metadata": {},
   "source": [
    "#### Задание:\n",
    "Вывести на экран сообщение:  \n",
    "1-й элемент списка - \"кошка\"  \n",
    "2-й элемент списка - \"собака\"  \n",
    "и т.д."
   ]
  },
  {
   "cell_type": "code",
   "execution_count": 25,
   "metadata": {},
   "outputs": [
    {
     "name": "stdout",
     "output_type": "stream",
     "text": [
      "1-й элемент списка - \"кошка\"\n",
      "2-й элемент списка - \"собака\"\n",
      "3-й элемент списка - \"хомяк\"\n",
      "4-й элемент списка - \"корова\"\n",
      "5-й элемент списка - \"лошадь\"\n",
      "6-й элемент списка - \"лиса\"\n",
      "7-й элемент списка - \"волк\"\n",
      "8-й элемент списка - \"заяц\"\n"
     ]
    }
   ],
   "source": [
    "# Используйте в качестве параметра цикла элемента списка\n",
    "number = 0\n",
    "for animal in animals:\n",
    "    number += 1\n",
    "    print('{}-й элемент списка - \"{}\"'.format(number, animal))"
   ]
  },
  {
   "cell_type": "code",
   "execution_count": 26,
   "metadata": {},
   "outputs": [
    {
     "name": "stdout",
     "output_type": "stream",
     "text": [
      "1-й элемен списка - \"кошка\"\n",
      "2-й элемен списка - \"собака\"\n",
      "3-й элемен списка - \"хомяк\"\n",
      "4-й элемен списка - \"корова\"\n",
      "5-й элемен списка - \"лошадь\"\n",
      "6-й элемен списка - \"лиса\"\n",
      "7-й элемен списка - \"волк\"\n",
      "8-й элемен списка - \"заяц\"\n"
     ]
    }
   ],
   "source": [
    "# Используйте в качестве параметра цикла индексы элементов списка\n",
    "for i in range(len(animals)):\n",
    "    print('{}-й элемен списка - \"{}\"'.format(i+1, animals[i]))"
   ]
  },
  {
   "cell_type": "code",
   "execution_count": 29,
   "metadata": {},
   "outputs": [
    {
     "name": "stdout",
     "output_type": "stream",
     "text": [
      "1-й элемент списка - \"кошка\"\n",
      "2-й элемент списка - \"собака\"\n",
      "3-й элемент списка - \"хомяк\"\n",
      "4-й элемент списка - \"корова\"\n",
      "5-й элемент списка - \"лошадь\"\n",
      "6-й элемент списка - \"лиса\"\n",
      "7-й элемент списка - \"волк\"\n",
      "8-й элемент списка - \"заяц\"\n"
     ]
    }
   ],
   "source": [
    "# Используйте enumerate, т.е. организуйте цикл с двумя параметрами\n",
    "for index, animal in enumerate(animals):\n",
    "    print('{}-й элемент списка - \"{}\"'.format(index + 1, animal))"
   ]
  },
  {
   "cell_type": "markdown",
   "metadata": {},
   "source": [
    "### Генератор списка"
   ]
  },
  {
   "cell_type": "markdown",
   "metadata": {},
   "source": [
    "Задание: создать список, содержащий квадраты двузначных чётных чисел, не превышающих 25, сначала традиционным способом, а потом с помощью генератора списка."
   ]
  },
  {
   "cell_type": "code",
   "execution_count": 30,
   "metadata": {},
   "outputs": [
    {
     "data": {
      "text/plain": [
       "[100, 144, 196, 256, 324, 400, 484, 576]"
      ]
     },
     "execution_count": 30,
     "metadata": {},
     "output_type": "execute_result"
    }
   ],
   "source": [
    "# Традиционный подход\n",
    "my_list = []\n",
    "for i in range(10,26,2):\n",
    "    number = i**2\n",
    "    my_list.append(number)\n",
    "my_list"
   ]
  },
  {
   "cell_type": "code",
   "execution_count": 36,
   "metadata": {},
   "outputs": [],
   "source": [
    "# Использование генератора списка\n",
    "my_new_list = [i**2 for i in range(10,26,2)]"
   ]
  },
  {
   "cell_type": "code",
   "execution_count": 37,
   "metadata": {},
   "outputs": [
    {
     "data": {
      "text/plain": [
       "[100, 144, 196, 256, 324, 400, 484, 576]"
      ]
     },
     "execution_count": 37,
     "metadata": {},
     "output_type": "execute_result"
    }
   ],
   "source": [
    "my_new_list"
   ]
  },
  {
   "cell_type": "markdown",
   "metadata": {},
   "source": [
    "## Вложенные списки"
   ]
  },
  {
   "cell_type": "code",
   "execution_count": 39,
   "metadata": {},
   "outputs": [],
   "source": [
    "my_list = [[1,2,3], [4,5,6], [7,8,9]]"
   ]
  },
  {
   "cell_type": "code",
   "execution_count": 47,
   "metadata": {},
   "outputs": [
    {
     "data": {
      "text/plain": [
       "1"
      ]
     },
     "execution_count": 47,
     "metadata": {},
     "output_type": "execute_result"
    }
   ],
   "source": [
    "# Разбираемся со структурой переменной my_list \n",
    "my_list[0][0]"
   ]
  },
  {
   "cell_type": "code",
   "execution_count": 51,
   "metadata": {},
   "outputs": [
    {
     "name": "stdout",
     "output_type": "stream",
     "text": [
      "Нашел!!!\n"
     ]
    }
   ],
   "source": [
    "# Проверяем, есть ли в списке число 3\n",
    "for x in my_list:\n",
    "    for y in x:\n",
    "        if y == 3:\n",
    "            print('Нашел!!!')\n",
    "            break"
   ]
  },
  {
   "cell_type": "code",
   "execution_count": 52,
   "metadata": {},
   "outputs": [
    {
     "name": "stdout",
     "output_type": "stream",
     "text": [
      "Нашел!!!\n"
     ]
    }
   ],
   "source": [
    "for small_list in my_list:\n",
    "    if 3 in small_list:\n",
    "        print('Нашел!!!')\n",
    "        break"
   ]
  },
  {
   "cell_type": "markdown",
   "metadata": {},
   "source": [
    "Пробуем извлекать элементы списка по индексам"
   ]
  },
  {
   "cell_type": "code",
   "execution_count": 50,
   "metadata": {},
   "outputs": [
    {
     "data": {
      "text/plain": [
       "8"
      ]
     },
     "execution_count": 50,
     "metadata": {},
     "output_type": "execute_result"
    }
   ],
   "source": [
    "# Задание: извлечь из списка число 8\n",
    "my_list[2][1]"
   ]
  },
  {
   "cell_type": "code",
   "execution_count": 56,
   "metadata": {},
   "outputs": [
    {
     "name": "stdout",
     "output_type": "stream",
     "text": [
      "Wall time: 0 ns\n"
     ]
    },
    {
     "data": {
      "text/plain": [
       "[1, 4, 7]"
      ]
     },
     "execution_count": 56,
     "metadata": {},
     "output_type": "execute_result"
    }
   ],
   "source": [
    "# *Получить из списка my_list список, содержащий первые элементы каждого вложенного списка\n",
    "# Подсказка: можно использовать генератор списка\n",
    "[i[0] for i in my_list]"
   ]
  },
  {
   "cell_type": "markdown",
   "metadata": {},
   "source": [
    "Задание: Вывести на экран список в виде таблицы:\n",
    "\n",
    "1 2 3  \n",
    "4 5 6  \n",
    "7 8 9"
   ]
  },
  {
   "cell_type": "code",
   "execution_count": null,
   "metadata": {},
   "outputs": [],
   "source": []
  },
  {
   "cell_type": "markdown",
   "metadata": {},
   "source": [
    "# Работа со словарями"
   ]
  },
  {
   "cell_type": "markdown",
   "metadata": {},
   "source": [
    "## Создание словарей, работа с ключами и значениями  "
   ]
  },
  {
   "cell_type": "code",
   "execution_count": 57,
   "metadata": {},
   "outputs": [],
   "source": [
    "my_school = {'математика': 'Иванова М.И.', \n",
    "             'русский язык': 'Пушкина А.С.', \n",
    "             'английский язык': 'Петров Д.Ю.', \n",
    "             'физика': 'Эйнштейн А.Э.', \n",
    "             'химия': 'Менделеева Д.И.', \n",
    "             'биология': 'Мендель Г.И.', \n",
    "             'физкультура': 'Тарасова Т.А.'}"
   ]
  },
  {
   "cell_type": "markdown",
   "metadata": {},
   "source": [
    "Попробуем найти фамилии учителей, преподающих разные предметы, разными способами"
   ]
  },
  {
   "cell_type": "code",
   "execution_count": 58,
   "metadata": {},
   "outputs": [
    {
     "data": {
      "text/plain": [
       "'Эйнштейн А.Э.'"
      ]
     },
     "execution_count": 58,
     "metadata": {},
     "output_type": "execute_result"
    }
   ],
   "source": [
    "# Вывести на экран фамилию учителя физики\n",
    "my_school['физика']"
   ]
  },
  {
   "cell_type": "code",
   "execution_count": 62,
   "metadata": {},
   "outputs": [
    {
     "name": "stdout",
     "output_type": "stream",
     "text": [
      "Какой предмет Вас интересует? информатика\n",
      "К сожалению, в нашей школе не преподается предмет \"информатика\"\n"
     ]
    }
   ],
   "source": [
    "# Вывести на экран фамилию учителя, преподающего предмет, введённый с клавиатуры\n",
    "subject = input('Какой предмет Вас интересует? ').lower()\n",
    "if subject in my_school:\n",
    "    print('Предмет \"{}\" преподает учитель {}'.format(subject, my_school[subject]))\n",
    "else:\n",
    "    print('К сожалению, в нашей школе не преподается предмет \"{}\"'.format(subject))"
   ]
  },
  {
   "cell_type": "markdown",
   "metadata": {},
   "source": [
    "Перебор элементов словаря (ключей, значений пар \"ключ-значение\" с помощью цикла с параметром)"
   ]
  },
  {
   "cell_type": "code",
   "execution_count": 63,
   "metadata": {},
   "outputs": [
    {
     "name": "stdout",
     "output_type": "stream",
     "text": [
      "математика\n",
      "русский язык\n",
      "английский язык\n",
      "физика\n",
      "химия\n",
      "биология\n",
      "физкультура\n"
     ]
    }
   ],
   "source": [
    "for something in my_school:\n",
    "    print(something)"
   ]
  },
  {
   "cell_type": "code",
   "execution_count": 64,
   "metadata": {},
   "outputs": [
    {
     "name": "stdout",
     "output_type": "stream",
     "text": [
      "математика\n",
      "русский язык\n",
      "английский язык\n",
      "физика\n",
      "химия\n",
      "биология\n",
      "физкультура\n"
     ]
    }
   ],
   "source": [
    "# Перебор ключей словаря\n",
    "for subject in my_school.keys():\n",
    "    print(subject)"
   ]
  },
  {
   "cell_type": "code",
   "execution_count": 65,
   "metadata": {},
   "outputs": [
    {
     "name": "stdout",
     "output_type": "stream",
     "text": [
      "Иванова М.И.\n",
      "Пушкина А.С.\n",
      "Петров Д.Ю.\n",
      "Эйнштейн А.Э.\n",
      "Менделеева Д.И.\n",
      "Мендель Г.И.\n",
      "Тарасова Т.А.\n"
     ]
    }
   ],
   "source": [
    "# Перебор значений словаря\n",
    "for teacher in my_school.values():\n",
    "    print(teacher)"
   ]
  },
  {
   "cell_type": "code",
   "execution_count": 66,
   "metadata": {},
   "outputs": [
    {
     "name": "stdout",
     "output_type": "stream",
     "text": [
      "Предмет \"математика\" преподает Иванова М.И.\n",
      "Предмет \"русский язык\" преподает Пушкина А.С.\n",
      "Предмет \"английский язык\" преподает Петров Д.Ю.\n",
      "Предмет \"физика\" преподает Эйнштейн А.Э.\n",
      "Предмет \"химия\" преподает Менделеева Д.И.\n",
      "Предмет \"биология\" преподает Мендель Г.И.\n",
      "Предмет \"физкультура\" преподает Тарасова Т.А.\n"
     ]
    }
   ],
   "source": [
    "# Перебор пар ключ-значение в словаре\n",
    "for subject, teacher in my_school.items():\n",
    "    print('Предмет \"{}\" преподает {}'.format(subject, teacher))"
   ]
  },
  {
   "cell_type": "markdown",
   "metadata": {},
   "source": [
    "## Вложенные конструкции"
   ]
  },
  {
   "cell_type": "markdown",
   "metadata": {},
   "source": [
    "Для начала создадим списки преподавателей"
   ]
  },
  {
   "cell_type": "code",
   "execution_count": 67,
   "metadata": {},
   "outputs": [],
   "source": [
    "math = ['Иванова М.И.', 'Колмогоров А.Н.', 'Перельман Г.Я.']\n",
    "russian = ['Пушкина А.С.', 'Лермонтов М.Ю.', 'Толстой Л.Н.']\n",
    "english = ['Петров Д.Ю.', 'Шекспир У.Б.']\n",
    "physics = ['Эйнштейн А.Э.', 'Коллайдер Б.А.']\n",
    "chemistry = ['Менделеева Д.И.', 'Кислота Л.И.']\n",
    "biology = ['Мендель Г.И.', 'Дарвин Ч.Р.']\n",
    "sports = ['Тарасова Т.А.', 'Черчесов С.С.']"
   ]
  },
  {
   "cell_type": "code",
   "execution_count": 68,
   "metadata": {},
   "outputs": [],
   "source": [
    "my_big_school = {'математика': math,\n",
    "                 'русский язык': russian,\n",
    "                 'английский язык': english,\n",
    "                 'физика': physics,\n",
    "                 'химия': chemistry, \n",
    "                 'биология': biology,\n",
    "                 'физкультура': sports}"
   ]
  },
  {
   "cell_type": "markdown",
   "metadata": {},
   "source": [
    "Пробуем разные обращения к элементам словаря:"
   ]
  },
  {
   "cell_type": "code",
   "execution_count": 69,
   "metadata": {},
   "outputs": [
    {
     "name": "stdout",
     "output_type": "stream",
     "text": [
      "математика ['Иванова М.И.', 'Колмогоров А.Н.', 'Перельман Г.Я.']\n",
      "русский язык ['Пушкина А.С.', 'Лермонтов М.Ю.', 'Толстой Л.Н.']\n",
      "английский язык ['Петров Д.Ю.', 'Шекспир У.Б.']\n",
      "физика ['Эйнштейн А.Э.', 'Коллайдер Б.А.']\n",
      "химия ['Менделеева Д.И.', 'Кислота Л.И.']\n",
      "биология ['Мендель Г.И.', 'Дарвин Ч.Р.']\n",
      "физкультура ['Тарасова Т.А.', 'Черчесов С.С.']\n"
     ]
    }
   ],
   "source": [
    "for subject, teachers in my_big_school.items():\n",
    "    print(subject, teachers)"
   ]
  },
  {
   "cell_type": "code",
   "execution_count": 72,
   "metadata": {},
   "outputs": [
    {
     "data": {
      "text/plain": [
       "'Лермонтов М.Ю.'"
      ]
     },
     "execution_count": 72,
     "metadata": {},
     "output_type": "execute_result"
    }
   ],
   "source": [
    "# Задание: вывести на экран фамилию Лермонтова\n",
    "my_big_school['русский язык'][1]"
   ]
  },
  {
   "cell_type": "code",
   "execution_count": 73,
   "metadata": {},
   "outputs": [
    {
     "name": "stdout",
     "output_type": "stream",
     "text": [
      "Иванова М.И.\n",
      "Колмогоров А.Н.\n",
      "Перельман Г.Я.\n"
     ]
    }
   ],
   "source": [
    "# Вывести на экран фамилии всех учителей математики\n",
    "for teacher in my_big_school['математика']:\n",
    "    print(teacher)"
   ]
  },
  {
   "cell_type": "code",
   "execution_count": 75,
   "metadata": {},
   "outputs": [
    {
     "name": "stdout",
     "output_type": "stream",
     "text": [
      "Иванова М.И.\n",
      "Колмогоров А.Н.\n",
      "Перельман Г.Я.\n"
     ]
    }
   ],
   "source": [
    "print('\\n'.join(my_big_school['математика']))"
   ]
  },
  {
   "cell_type": "code",
   "execution_count": 74,
   "metadata": {},
   "outputs": [
    {
     "name": "stdout",
     "output_type": "stream",
     "text": [
      "Предмет \"математика\" преподают учителя:\n",
      "Иванова М.И.\n",
      "Колмогоров А.Н.\n",
      "Перельман Г.Я.\n",
      "\n",
      "Предмет \"русский язык\" преподают учителя:\n",
      "Пушкина А.С.\n",
      "Лермонтов М.Ю.\n",
      "Толстой Л.Н.\n",
      "\n",
      "Предмет \"английский язык\" преподают учителя:\n",
      "Петров Д.Ю.\n",
      "Шекспир У.Б.\n",
      "\n",
      "Предмет \"физика\" преподают учителя:\n",
      "Эйнштейн А.Э.\n",
      "Коллайдер Б.А.\n",
      "\n",
      "Предмет \"химия\" преподают учителя:\n",
      "Менделеева Д.И.\n",
      "Кислота Л.И.\n",
      "\n",
      "Предмет \"биология\" преподают учителя:\n",
      "Мендель Г.И.\n",
      "Дарвин Ч.Р.\n",
      "\n",
      "Предмет \"физкультура\" преподают учителя:\n",
      "Тарасова Т.А.\n",
      "Черчесов С.С.\n",
      "\n"
     ]
    }
   ],
   "source": [
    "for subject in my_big_school.keys():\n",
    "    print('Предмет \"{}\" преподают учителя:'.format(subject))\n",
    "    for teacher in my_big_school[subject]:\n",
    "        print(teacher)\n",
    "    print()"
   ]
  },
  {
   "cell_type": "markdown",
   "metadata": {},
   "source": [
    "Вкладываем словарь в словарь:"
   ]
  },
  {
   "cell_type": "code",
   "execution_count": 76,
   "metadata": {},
   "outputs": [],
   "source": [
    "math = {'Иванова М.И.': {'кабинет': 1, \n",
    "                         'классы': [5, 6]}, \n",
    "        'Колмогоров А.Н.': {'кабинет': 2, \n",
    "                            'классы': [7, 8, 9]}, \n",
    "        'Перельман Г.Я.': {'кабинет': 3, \n",
    "                           'классы': [10, 11]}}"
   ]
  },
  {
   "cell_type": "markdown",
   "metadata": {},
   "source": [
    "Потренируем работу с ключами и значениями"
   ]
  },
  {
   "cell_type": "code",
   "execution_count": 77,
   "metadata": {},
   "outputs": [
    {
     "data": {
      "text/plain": [
       "2"
      ]
     },
     "execution_count": 77,
     "metadata": {},
     "output_type": "execute_result"
    }
   ],
   "source": [
    "# В каком кабинете работает Колмогоров А.Н.?\n",
    "math['Колмогоров А.Н.']['кабинет']"
   ]
  },
  {
   "cell_type": "code",
   "execution_count": 78,
   "metadata": {},
   "outputs": [
    {
     "data": {
      "text/plain": [
       "[5, 6]"
      ]
     },
     "execution_count": 78,
     "metadata": {},
     "output_type": "execute_result"
    }
   ],
   "source": [
    "# В каких классах преподает Иванова М.И.?\n",
    "math['Иванова М.И.']['классы']"
   ]
  },
  {
   "cell_type": "code",
   "execution_count": 79,
   "metadata": {},
   "outputs": [
    {
     "data": {
      "text/plain": [
       "10"
      ]
     },
     "execution_count": 79,
     "metadata": {},
     "output_type": "execute_result"
    }
   ],
   "source": [
    "# Какой класс из тех, где учителем является Перельман Г.Я., стоит первый в списке?\n",
    "math['Перельман Г.Я.']['классы'][0]"
   ]
  },
  {
   "cell_type": "code",
   "execution_count": 80,
   "metadata": {},
   "outputs": [
    {
     "data": {
      "text/plain": [
       "9"
      ]
     },
     "execution_count": 80,
     "metadata": {},
     "output_type": "execute_result"
    }
   ],
   "source": [
    "# Самый старший класс, в котором преподает Колмогоров А.Н.\n",
    "max(math['Колмогоров А.Н.']['классы'])"
   ]
  },
  {
   "cell_type": "markdown",
   "metadata": {},
   "source": [
    "Введем дополнительную информацию для остальных предметов"
   ]
  },
  {
   "cell_type": "code",
   "execution_count": 82,
   "metadata": {},
   "outputs": [],
   "source": [
    "russian = {'Пушкина А.С.': {'кабинет': 4, 'классы': [5, 6, 7]}, \n",
    "           'Лермонтов М.Ю.': {'кабинет': 5, 'классы': [8, 9]}, \n",
    "           'Толстой Л.Н.': {'кабинет': 6, 'классы': [10, 11]}}\n",
    "english = {'Петров Д.Ю.': {'кабинет': 7, 'классы': [5, 6, 7, 8]}, \n",
    "           'Шекспир У.Б.': {'кабинет': 8, 'классы': [9, 10, 11]}}\n",
    "physics = {'Эйнштейн А.Э.': {'кабинет': 9, 'классы': [7, 8, 9]}, \n",
    "           'Коллайдер Б.А.': {'кабинет': 10, 'классы': [10, 11]}}\n",
    "chemistry = {'Менделеева Д.И.': {'кабинет': 11, 'классы': [8, 9]}, \n",
    "             'Кислота Л.И.': {'кабинет': 12, 'классы': [10, 11]}}\n",
    "biology = {'Мендель Г.И.': {'кабинет': 13, 'классы': [6, 7, 9]}, \n",
    "           'Дарвин Ч.Р.': {'кабинет': 14, 'классы': [8, 10, 11]}}\n",
    "sports = {'Тарасова Т.А.': {'кабинет': 'спортзал', 'классы': [5, 6, 7, 8]}, \n",
    "          'Черчесов С.С.': {'кабинет': 'спортзал', 'классы': [9, 10, 11]}}"
   ]
  },
  {
   "cell_type": "code",
   "execution_count": 83,
   "metadata": {},
   "outputs": [],
   "source": [
    "my_new_school = {'математика': math,\n",
    "                 'русский язык': russian,\n",
    "                 'английский язык': english,\n",
    "                 'физика': physics,\n",
    "                 'химия': chemistry, \n",
    "                 'биология': biology,\n",
    "                 'физкультура': sports}"
   ]
  },
  {
   "cell_type": "markdown",
   "metadata": {},
   "source": [
    "Пишем полезную программу :)"
   ]
  },
  {
   "cell_type": "code",
   "execution_count": 84,
   "metadata": {},
   "outputs": [
    {
     "name": "stdout",
     "output_type": "stream",
     "text": [
      "Какой предмет Вас интересует? химия\n",
      "В каком классе учится Ваш ребенок? 10\n",
      "Менделеева Д.И. {'кабинет': 11, 'классы': [8, 9]}\n",
      "Кислота Л.И. {'кабинет': 12, 'классы': [10, 11]}\n"
     ]
    }
   ],
   "source": [
    "asked_subject = input('Какой предмет Вас интересует? ').lower()\n",
    "asked_class = int(input('В каком классе учится Ваш ребенок? '))\n",
    "\n",
    "for teacher, info in my_new_school[asked_subject].items():\n",
    "    print(teacher, info)"
   ]
  },
  {
   "cell_type": "code",
   "execution_count": 88,
   "metadata": {},
   "outputs": [
    {
     "name": "stdout",
     "output_type": "stream",
     "text": [
      "Какой предмет Вас интересует? БИОЛОГИЯ\n",
      "В каком классе учится Ваш ребенок? 7\n",
      "\n",
      "Предмет биология у Вашего ребенка преподаёт учитель Мендель Г.И.\n",
      "Учитель работает в кабинете №13.\n"
     ]
    }
   ],
   "source": [
    "asked_subject = input('Какой предмет Вас интересует? ').lower()\n",
    "asked_class = int(input('В каком классе учится Ваш ребенок? '))\n",
    "print()\n",
    "\n",
    "for teacher, info in my_new_school[asked_subject].items():\n",
    "    if asked_class in info['классы']:\n",
    "        print('Предмет \"{}\" у Вашего ребенка преподаёт учитель {}'.format(asked_subject, teacher))\n",
    "        print('Учитель работает в кабинете №{}.'.format(info['кабинет']))"
   ]
  },
  {
   "cell_type": "code",
   "execution_count": null,
   "metadata": {},
   "outputs": [],
   "source": []
  }
 ],
 "metadata": {
  "kernelspec": {
   "display_name": "Python 3",
   "language": "python",
   "name": "python3"
  },
  "language_info": {
   "codemirror_mode": {
    "name": "ipython",
    "version": 3
   },
   "file_extension": ".py",
   "mimetype": "text/x-python",
   "name": "python",
   "nbconvert_exporter": "python",
   "pygments_lexer": "ipython3",
   "version": "3.7.1"
  }
 },
 "nbformat": 4,
 "nbformat_minor": 2
}
