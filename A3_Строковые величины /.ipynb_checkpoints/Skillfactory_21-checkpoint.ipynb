{
 "cells": [
  {
   "cell_type": "markdown",
   "metadata": {},
   "source": [
    "## А3.4.2 Преобразование файла в список\n"
   ]
  },
  {
   "cell_type": "code",
   "execution_count": 171,
   "metadata": {},
   "outputs": [],
   "source": [
    "math = []\n",
    "\n",
    "f = open('StudentsPerformance.csv')\n",
    "\n",
    "for line in f:\n",
    "    info = line.split(',')\n",
    "    if info[0] == '\"gender\"':\n",
    "        continue\n",
    "    else:\n",
    "        mark = int(info[5][1:-1])\n",
    "        math.append(mark) \n",
    "# print(math)"
   ]
  },
  {
   "cell_type": "code",
   "execution_count": 7,
   "metadata": {},
   "outputs": [
    {
     "name": "stdout",
     "output_type": "stream",
     "text": [
      "66.089\n"
     ]
    }
   ],
   "source": [
    "math_avg = sum(math)/len(math)\n",
    "print(math_avg)"
   ]
  },
  {
   "cell_type": "code",
   "execution_count": 8,
   "metadata": {},
   "outputs": [
    {
     "name": "stdout",
     "output_type": "stream",
     "text": [
      "0.493\n"
     ]
    }
   ],
   "source": [
    "above_avg = 0\n",
    "for mark in math:\n",
    "    if mark > math_avg:\n",
    "        above_avg += 1\n",
    "print(above_avg / 1000)"
   ]
  },
  {
   "cell_type": "code",
   "execution_count": 12,
   "metadata": {},
   "outputs": [],
   "source": [
    "import re\n",
    "pattern = re.compile('\\d+')\n",
    "\n",
    "exams = []\n",
    "\n",
    "f = open('StudentsPerformance.csv')\n",
    "\n",
    "for line in f:\n",
    "    info = line.split(',')\n",
    "    if info[0] == '\"gender\"':\n",
    "        continue\n",
    "    else:\n",
    "        new_line = []\n",
    "        for item in info:\n",
    "            if pattern.search(item) != None:\n",
    "                new_line.append(int(pattern.search(item)[0]))\n",
    "            else:\n",
    "                new_line.append(item[1:-1])\n",
    "        exams.append(new_line)\n",
    "   # print(exams)"
   ]
  },
  {
   "cell_type": "markdown",
   "metadata": {},
   "source": [
    "### А3.4.2.1 Задание 1\n",
    "Вычислите средний балл абитуриентов на экзамене по чтению (reading score).\n",
    "\n",
    "Введите ответ в виде одного числа. Не округляйте полученное значение.\n"
   ]
  },
  {
   "cell_type": "code",
   "execution_count": 18,
   "metadata": {},
   "outputs": [],
   "source": [
    "reading = []\n",
    "\n",
    "f = open('StudentsPerformance.csv')\n",
    "\n",
    "for line in f:\n",
    "    info = line.split(',')\n",
    "    # print(info)\n",
    "    if info[0] == '\"gender\"':\n",
    "        continue\n",
    "    else:\n",
    "        mark = int(info[6][1:-1])\n",
    "        reading.append(mark)\n",
    "# print(reading)"
   ]
  },
  {
   "cell_type": "code",
   "execution_count": 43,
   "metadata": {},
   "outputs": [
    {
     "name": "stdout",
     "output_type": "stream",
     "text": [
      "69.169\n",
      "513\n"
     ]
    }
   ],
   "source": [
    "reading_avg = sum(reading)/len(reading)\n",
    "print(reading_avg)\n",
    "\n",
    "for mark in reading:\n",
    "    if mark > reading_avg:\n",
    "        above_avg += 1\n",
    "print(above_avg)"
   ]
  },
  {
   "cell_type": "markdown",
   "metadata": {},
   "source": [
    "### А3.4.2.2 Задание 2\n",
    "Сколько абитуриентов получили на экзамене по чтению (reading score) оценку ниже среднего?\n",
    "\n",
    "Введите количество абитуриентов в окно для ответа."
   ]
  },
  {
   "cell_type": "code",
   "execution_count": 42,
   "metadata": {},
   "outputs": [
    {
     "name": "stdout",
     "output_type": "stream",
     "text": [
      "69.169\n",
      "487\n",
      "0.487\n"
     ]
    }
   ],
   "source": [
    "f = open('StudentsPerformance.csv')\n",
    "below_avg = 0\n",
    "count = 0\n",
    "reading = []\n",
    "\n",
    "\n",
    "for line in f:\n",
    "    info = line.split(',')\n",
    "    # print(info)\n",
    "    if info[0] == '\"gender\"':\n",
    "        continue\n",
    "    else:\n",
    "        mark = int(info[6][1:-1])\n",
    "        reading.append(mark)\n",
    "# print(reading)\n",
    "\n",
    "reading_avg = sum(reading)/len(reading)\n",
    "print(reading_avg)\n",
    "        \n",
    "for mark in reading:\n",
    "    if mark < reading_avg:\n",
    "        below_avg += 1\n",
    "print(below_avg)\n",
    "        \n",
    "print(below_avg / 1000)"
   ]
  },
  {
   "cell_type": "markdown",
   "metadata": {},
   "source": [
    "### А3.4.3.2.3 Задание 3\n",
    "Какой средний балл экзамене по чтению (reading score) получили девочки?\n",
    "\n",
    "Ответ округлите до трёх знаков после запятой."
   ]
  },
  {
   "cell_type": "code",
   "execution_count": 91,
   "metadata": {},
   "outputs": [
    {
     "name": "stdout",
     "output_type": "stream",
     "text": [
      "72.60810810810811\n"
     ]
    }
   ],
   "source": [
    "f = open('StudentsPerformance.csv')\n",
    "girl_mark=[]\n",
    "\n",
    "for line in f:\n",
    "    info = line.split(',')\n",
    "    gender = info[0][1:-1]\n",
    "    \n",
    "    if gender == \"female\":\n",
    "        v = info[6][1:-1]\n",
    "        girl_mark.append(int(v))\n",
    "\n",
    "girl_mark = sum(girl_mark)/len(girl_mark)\n",
    "print(girl_mark)"
   ]
  },
  {
   "cell_type": "markdown",
   "metadata": {},
   "source": [
    "### А3.4.2.4 Задание 4\n",
    "Сколько абитуриентов получили на экзамене по письму (writing score) оценку выше 90?\n",
    "\n",
    "Введите количество абитуриентов в окно для ответа."
   ]
  },
  {
   "cell_type": "code",
   "execution_count": 169,
   "metadata": {},
   "outputs": [],
   "source": [
    "f = open('StudentsPerformance.csv')\n",
    "writing_score = 0\n",
    "count = 0\n",
    "writing = []\n",
    "\n",
    "\n",
    "for line in f:\n",
    "    info = line.split(',')\n",
    "    # print(info[7][1:-2])\n",
    "    if info[0] == '\"gender\"':\n",
    "        continue\n",
    "    else:\n",
    "        mark = int(info[7][1:-2])\n",
    "        writing.append(mark)\n",
    "# print(reading)\n",
    "\n",
    "# writing_avg = sum(reading)/len(reading)\n",
    "# print(writing_avg)\n",
    "        \n",
    "# for mark in writing:\n",
    "#     if mark > 90:\n",
    "#         writing_score += 1\n",
    "# print(writing_score)\n",
    "        \n",
    "# print(writing_avg / 1000)"
   ]
  },
  {
   "cell_type": "markdown",
   "metadata": {},
   "source": [
    "## А3.4.2.5 Задание 5\n",
    "\n",
    "Сколько процентов абитуриентов, получивших на экзамене по письму (writing score) \n",
    "оценку более 90, хорошо пообедали перед экзаменом (lunch = standard)?\n",
    "\n",
    "Ответ округлите до одного знака после запятой и введите без знака процента."
   ]
  },
  {
   "cell_type": "code",
   "execution_count": 194,
   "metadata": {},
   "outputs": [
    {
     "name": "stdout",
     "output_type": "stream",
     "text": [
      "86.76470588235294\n"
     ]
    }
   ],
   "source": [
    "lunch_count = 0\n",
    "write_count = 0\n",
    "write_list = []\n",
    "\n",
    "f = open('StudentsPerformance.csv')\n",
    "next(f)\n",
    "\n",
    "for line in f:\n",
    "    info = line.split(\",\")\n",
    "    \n",
    "    if int(info[7][1:-2]) <= 90:\n",
    "        continue\n",
    "        \n",
    "    write_count += 1\n",
    "        \n",
    "    if info[3][1:-1] == \"standard\":\n",
    "        lunch_count += 1\n",
    "            \n",
    "print(lunch_count / write_count * 100)"
   ]
  },
  {
   "cell_type": "code",
   "execution_count": 190,
   "metadata": {},
   "outputs": [
    {
     "ename": "TypeError",
     "evalue": "unsupported operand type(s) for +: 'int' and 'str'",
     "output_type": "error",
     "traceback": [
      "\u001b[0;31m---------------------------------------------------------------------------\u001b[0m",
      "\u001b[0;31mTypeError\u001b[0m                                 Traceback (most recent call last)",
      "\u001b[0;32m<ipython-input-190-aa84b758e901>\u001b[0m in \u001b[0;36m<module>\u001b[0;34m\u001b[0m\n\u001b[1;32m     20\u001b[0m \u001b[0;34m\u001b[0m\u001b[0m\n\u001b[1;32m     21\u001b[0m         \u001b[0;32mfor\u001b[0m \u001b[0mmark\u001b[0m \u001b[0;32min\u001b[0m \u001b[0mlunch\u001b[0m\u001b[0;34m:\u001b[0m\u001b[0;34m\u001b[0m\u001b[0;34m\u001b[0m\u001b[0m\n\u001b[0;32m---> 22\u001b[0;31m             \u001b[0mwriting_avg\u001b[0m \u001b[0;34m=\u001b[0m \u001b[0msum\u001b[0m\u001b[0;34m(\u001b[0m\u001b[0mwriting\u001b[0m\u001b[0;34m)\u001b[0m\u001b[0;34m/\u001b[0m\u001b[0mlen\u001b[0m\u001b[0;34m(\u001b[0m\u001b[0mwriting\u001b[0m\u001b[0;34m)\u001b[0m\u001b[0;34m\u001b[0m\u001b[0;34m\u001b[0m\u001b[0m\n\u001b[0m\u001b[1;32m     23\u001b[0m             \u001b[0;31m# print(writing_avg)\u001b[0m\u001b[0;34m\u001b[0m\u001b[0;34m\u001b[0m\u001b[0;34m\u001b[0m\u001b[0m\n\u001b[1;32m     24\u001b[0m             \u001b[0;32mif\u001b[0m \u001b[0mmark\u001b[0m \u001b[0;34m>\u001b[0m \u001b[0;36m90\u001b[0m\u001b[0;34m:\u001b[0m\u001b[0;34m\u001b[0m\u001b[0;34m\u001b[0m\u001b[0m\n",
      "\u001b[0;31mTypeError\u001b[0m: unsupported operand type(s) for +: 'int' and 'str'"
     ]
    }
   ],
   "source": [
    "write_list = []\n",
    "lunch_count = 0\n",
    "write_count = 0\n",
    "\n",
    "f = open('StudentsPerformance.csv')\n",
    "for line in f:\n",
    "    info = line.split(',')\n",
    "    lunch = info[3][1:-1]\n",
    "    lunch_count += 1\n",
    "    \n",
    "#     if lunch == 'standard':\n",
    "#         mark = int(info[7][1:-2])\n",
    "#         write_list.append(mark)\n",
    "#         write_count += 1\n",
    "\n",
    "    if lunch == 'standard':\n",
    "        mark = int(info[7][1:-2])\n",
    "        write_list.append(mark)\n",
    "        # write_count += 1\n",
    "        \n",
    "        for mark in lunch:\n",
    "            writing_avg = sum(writing)/len(writing)\n",
    "            # print(writing_avg)\n",
    "            if mark > 90:\n",
    "                write_count += 1\n",
    "            \n",
    "        \n",
    "print(lunch_count / write_count * 100)"
   ]
  },
  {
   "cell_type": "code",
   "execution_count": null,
   "metadata": {},
   "outputs": [],
   "source": []
  }
 ],
 "metadata": {
  "kernelspec": {
   "display_name": "Python 3",
   "language": "python",
   "name": "python3"
  },
  "language_info": {
   "codemirror_mode": {
    "name": "ipython",
    "version": 3
   },
   "file_extension": ".py",
   "mimetype": "text/x-python",
   "name": "python",
   "nbconvert_exporter": "python",
   "pygments_lexer": "ipython3",
   "version": "3.7.3"
  }
 },
 "nbformat": 4,
 "nbformat_minor": 2
}
