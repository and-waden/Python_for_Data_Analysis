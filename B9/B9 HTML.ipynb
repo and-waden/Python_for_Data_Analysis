{
 "cells": [
  {
   "cell_type": "markdown",
   "metadata": {},
   "source": [
    "## B9.2.2 Веб-запросы"
   ]
  },
  {
   "cell_type": "markdown",
   "metadata": {},
   "source": [
    "#### Задание 1 Клиент-сервер\n",
    "Выберите корректные утверждения:\n",
    "- Обычно клиент-серверное взаимодействие начинает клиент\n",
    "- Любой компьютер, подключённый к интернету, может быть сервером\n",
    "- POST-запрос служит для отправки форм"
   ]
  },
  {
   "cell_type": "markdown",
   "metadata": {},
   "source": [
    "#### Задание 2 Методы HTTP\n",
    "Выберите правильные названия базовых методов HTTP:\n",
    "- GET\n",
    "- Post"
   ]
  },
  {
   "cell_type": "markdown",
   "metadata": {},
   "source": [
    "## B9.2.3 Библиотека requests"
   ]
  },
  {
   "cell_type": "code",
   "execution_count": 2,
   "metadata": {},
   "outputs": [
    {
     "name": "stdout",
     "output_type": "stream",
     "text": [
      "Requirement already satisfied: requests in /anaconda3/lib/python3.7/site-packages (2.22.0)\n",
      "Requirement already satisfied: urllib3!=1.25.0,!=1.25.1,<1.26,>=1.21.1 in /anaconda3/lib/python3.7/site-packages (from requests) (1.24.2)\n",
      "Requirement already satisfied: chardet<3.1.0,>=3.0.2 in /anaconda3/lib/python3.7/site-packages (from requests) (3.0.4)\n",
      "Requirement already satisfied: certifi>=2017.4.17 in /anaconda3/lib/python3.7/site-packages (from requests) (2019.9.11)\n",
      "Requirement already satisfied: idna<2.9,>=2.5 in /anaconda3/lib/python3.7/site-packages (from requests) (2.8)\n",
      "Note: you may need to restart the kernel to use updated packages.\n"
     ]
    }
   ],
   "source": [
    "pip install requests"
   ]
  },
  {
   "cell_type": "code",
   "execution_count": 3,
   "metadata": {},
   "outputs": [],
   "source": [
    "import requests  \n",
    "response = requests.get('https://www.cbr-xml-daily.ru/daily_json.js')  "
   ]
  },
  {
   "cell_type": "code",
   "execution_count": 4,
   "metadata": {},
   "outputs": [
    {
     "name": "stdout",
     "output_type": "stream",
     "text": [
      "<Response [200]>\n"
     ]
    }
   ],
   "source": [
    "print(response)"
   ]
  },
  {
   "cell_type": "code",
   "execution_count": 5,
   "metadata": {},
   "outputs": [
    {
     "name": "stdout",
     "output_type": "stream",
     "text": [
      "200\n"
     ]
    }
   ],
   "source": [
    "print(response.status_code)"
   ]
  },
  {
   "cell_type": "markdown",
   "metadata": {},
   "source": [
    "##### Задание 1 Первый запрос\n",
    "Допустим, вы уже импортировали модуль requests в ваш код. Какая команда сделает GET запрос к сайту https://www.cbr-xml-daily.ru/daily.xml и положит результат в переменную response?"
   ]
  },
  {
   "cell_type": "code",
   "execution_count": null,
   "metadata": {},
   "outputs": [],
   "source": [
    "response = requests.get('https://www.cbr-xml-daily.ru/daily.xml') "
   ]
  },
  {
   "cell_type": "code",
   "execution_count": 12,
   "metadata": {},
   "outputs": [],
   "source": [
    "import requests  \n",
    "response = requests.get('https://www.cbr-xml-daily.ru/daily_json.js') \n",
    "# print(response.text)"
   ]
  },
  {
   "cell_type": "code",
   "execution_count": 51,
   "metadata": {},
   "outputs": [
    {
     "data": {
      "text/plain": [
       "dict"
      ]
     },
     "execution_count": 51,
     "metadata": {},
     "output_type": "execute_result"
    }
   ],
   "source": [
    "currencies = response.json()\n",
    "# print(currencies)\n",
    "type(currencies)"
   ]
  },
  {
   "cell_type": "code",
   "execution_count": 18,
   "metadata": {},
   "outputs": [
    {
     "data": {
      "text/plain": [
       "{'ID': 'R01235',\n",
       " 'NumCode': '840',\n",
       " 'CharCode': 'USD',\n",
       " 'Nominal': 1,\n",
       " 'Name': 'Доллар США',\n",
       " 'Value': 62.0315,\n",
       " 'Previous': 61.7676}"
      ]
     },
     "execution_count": 18,
     "metadata": {},
     "output_type": "execute_result"
    }
   ],
   "source": [
    "currencies['Valute']['USD']  "
   ]
  },
  {
   "cell_type": "code",
   "execution_count": 28,
   "metadata": {},
   "outputs": [
    {
     "data": {
      "text/plain": [
       "dict_keys(['Date', 'PreviousDate', 'PreviousURL', 'Timestamp', 'Valute'])"
      ]
     },
     "execution_count": 28,
     "metadata": {},
     "output_type": "execute_result"
    }
   ],
   "source": [
    "currencies.keys()"
   ]
  },
  {
   "cell_type": "code",
   "execution_count": 61,
   "metadata": {},
   "outputs": [
    {
     "data": {
      "text/plain": [
       "'R01235'"
      ]
     },
     "execution_count": 61,
     "metadata": {},
     "output_type": "execute_result"
    }
   ],
   "source": [
    "currencies['Valute'][\"USD\"][\"ID\"]"
   ]
  },
  {
   "cell_type": "code",
   "execution_count": 31,
   "metadata": {},
   "outputs": [],
   "source": [
    "# currencies.values()"
   ]
  },
  {
   "cell_type": "code",
   "execution_count": 32,
   "metadata": {},
   "outputs": [
    {
     "name": "stdout",
     "output_type": "stream",
     "text": [
      "Чешских крон\n"
     ]
    }
   ],
   "source": [
    "# print(currencies['Valute']['CZK']['Name'])"
   ]
  },
  {
   "cell_type": "markdown",
   "metadata": {},
   "source": [
    "## B9.2.5 Оформляем функцию"
   ]
  },
  {
   "cell_type": "markdown",
   "metadata": {},
   "source": [
    "В завершение давайте оформим наши вычисления в отдельную функцию, которой будет удобно пользоваться. На вход она должна принимать два параметра:\n",
    "\n",
    "1. Название валюты currency. Например, 'EUR' или 'USD'.\n",
    "\n",
    "2. Формат ответа format. При значении 'full' будем отдавать все, что знаем о валюте. Например, для currency = 'USD'\n",
    "\n",
    "3. А при значении format = 'value' только значение ключа 'Value', т. е. курс: 69.0286."
   ]
  },
  {
   "cell_type": "code",
   "execution_count": 42,
   "metadata": {},
   "outputs": [
    {
     "data": {
      "text/plain": [
       "47.3414"
      ]
     },
     "execution_count": 42,
     "metadata": {},
     "output_type": "execute_result"
    }
   ],
   "source": [
    "def exchange_rates(currency, format = \"full\"):\n",
    "    url = \"https://www.cbr-xml-daily.ru/daily_json.js\"\n",
    "    response = requests.get(url).json()[\"Valute\"]\n",
    "    data = response[currency]\n",
    "    if format == \"full\":\n",
    "        return data\n",
    "    elif format == \"value\":\n",
    "        return data[\"Value\"]\n",
    "    \n",
    "exchange_rates(\"CAD\", \"value\")"
   ]
  },
  {
   "cell_type": "code",
   "execution_count": 67,
   "metadata": {},
   "outputs": [
    {
     "data": {
      "text/plain": [
       "{'ID': 'R01350',\n",
       " 'NumCode': '124',\n",
       " 'CharCode': 'CAD',\n",
       " 'Nominal': 1,\n",
       " 'Name': 'Канадский доллар',\n",
       " 'Value': 47.3414,\n",
       " 'Previous': 46.9608}"
      ]
     },
     "execution_count": 67,
     "metadata": {},
     "output_type": "execute_result"
    }
   ],
   "source": [
    "exchange_rates(\"CAD\")"
   ]
  },
  {
   "cell_type": "markdown",
   "metadata": {},
   "source": [
    "#### Задание 1 Названия валют\n",
    "Напишите функцию currency_name, которая по ID валюты возвращает ее название на русском языке."
   ]
  },
  {
   "cell_type": "code",
   "execution_count": 72,
   "metadata": {},
   "outputs": [
    {
     "data": {
      "text/plain": [
       "'Турецкая лира'"
      ]
     },
     "execution_count": 72,
     "metadata": {},
     "output_type": "execute_result"
    }
   ],
   "source": [
    "def currency_name(number):\n",
    "    error = \"id не найден\"\n",
    "    url = \"https://www.cbr-xml-daily.ru/daily_json.js\"\n",
    "    response = requests.get(url).json()[\"Valute\"]\n",
    "    for data in response.values():\n",
    "        if number == data[\"ID\"]:\n",
    "            return data[\"Name\"]\n",
    "    return error\n",
    "currency_name(\"R01700J\")\n",
    "\n",
    "\n",
    "# После выполнения запроса в переменной response словарь, ключи которого коды валюты,\n",
    "# а значения вложенные словари с детализацией. \n",
    "# В цикле обходим детализацию, для этого применяем метод values(). \n",
    "# Таким образом на каждом витке цикла в переменной data вложенный словарь с детализацией среди которой есть ключи 'ID'\n",
    "# и 'Name'. Далее сравниваешь ключа ID с параметром переданным в функцию и если совпадает, \n",
    "# бросаешь дальнейшее исполнение и возвращаешь значение ключа Name.\n",
    "# Если же цикл дойдет до конца, то это значит, что совпадений не найдено и возвращается текст ошибки."
   ]
  },
  {
   "cell_type": "markdown",
   "metadata": {},
   "source": [
    "## B9.3.2 Получаем данные"
   ]
  },
  {
   "cell_type": "code",
   "execution_count": 74,
   "metadata": {},
   "outputs": [
    {
     "name": "stdout",
     "output_type": "stream",
     "text": [
      "200\n"
     ]
    }
   ],
   "source": [
    "url = 'https://nplus1.ru/news/2019/06/04/slothbot'   \n",
    "  \n",
    "response = requests.get(url)  \n",
    "  \n",
    "# Убедимся, что мы успешно получили ответ     \n",
    "print(response.status_code)    \n",
    "  \n",
    "# Выведем полученные данные    \n",
    "# print(response.text)   "
   ]
  },
  {
   "cell_type": "markdown",
   "metadata": {},
   "source": [
    "#### Задание 1 Форматы на стиле\n",
    "Какие из этих форматов используются для визуальной разметки данных:\n",
    "- html\n",
    "- docx"
   ]
  },
  {
   "cell_type": "code",
   "execution_count": null,
   "metadata": {},
   "outputs": [],
   "source": []
  },
  {
   "cell_type": "code",
   "execution_count": null,
   "metadata": {},
   "outputs": [],
   "source": []
  },
  {
   "cell_type": "code",
   "execution_count": null,
   "metadata": {},
   "outputs": [],
   "source": []
  },
  {
   "cell_type": "code",
   "execution_count": null,
   "metadata": {},
   "outputs": [],
   "source": []
  },
  {
   "cell_type": "code",
   "execution_count": null,
   "metadata": {},
   "outputs": [],
   "source": []
  },
  {
   "cell_type": "code",
   "execution_count": null,
   "metadata": {},
   "outputs": [],
   "source": []
  },
  {
   "cell_type": "code",
   "execution_count": null,
   "metadata": {},
   "outputs": [],
   "source": []
  },
  {
   "cell_type": "code",
   "execution_count": null,
   "metadata": {},
   "outputs": [],
   "source": []
  },
  {
   "cell_type": "code",
   "execution_count": null,
   "metadata": {},
   "outputs": [],
   "source": []
  }
 ],
 "metadata": {
  "kernelspec": {
   "display_name": "Python 3",
   "language": "python",
   "name": "python3"
  },
  "language_info": {
   "codemirror_mode": {
    "name": "ipython",
    "version": 3
   },
   "file_extension": ".py",
   "mimetype": "text/x-python",
   "name": "python",
   "nbconvert_exporter": "python",
   "pygments_lexer": "ipython3",
   "version": "3.7.3"
  }
 },
 "nbformat": 4,
 "nbformat_minor": 4
}
