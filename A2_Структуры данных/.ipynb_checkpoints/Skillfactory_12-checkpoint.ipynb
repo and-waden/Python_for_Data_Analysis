{
 "cells": [
  {
   "cell_type": "markdown",
   "metadata": {},
   "source": [
    "## A2.2.6 Генераторы списков\n"
   ]
  },
  {
   "cell_type": "code",
   "execution_count": 5,
   "metadata": {},
   "outputs": [
    {
     "data": {
      "text/plain": [
       "[1, 3, 5, 7, 9, 11, 13, 15, 17, 19, 21, 23]"
      ]
     },
     "execution_count": 5,
     "metadata": {},
     "output_type": "execute_result"
    }
   ],
   "source": [
    "# Comprehesive list example\n",
    "my_list = [x for x in range(1, 25, 2)]\n",
    "my_list"
   ]
  },
  {
   "cell_type": "code",
   "execution_count": 4,
   "metadata": {},
   "outputs": [
    {
     "name": "stdout",
     "output_type": "stream",
     "text": [
      "[1, 3, 5, 7, 9, 11, 13, 15, 17, 19, 21, 23]\n"
     ]
    }
   ],
   "source": [
    "# Alternative\n",
    "my_list = []\n",
    "for x in range (1, 25, 2):\n",
    "    my_list.append(x)\n",
    "    \n",
    "print(my_list)"
   ]
  },
  {
   "cell_type": "code",
   "execution_count": 14,
   "metadata": {},
   "outputs": [
    {
     "data": {
      "text/plain": [
       "[15, 30, 45, 60, 75, 90]"
      ]
     },
     "execution_count": 14,
     "metadata": {},
     "output_type": "execute_result"
    }
   ],
   "source": [
    "# Например, в этом коде мы создаём список, содержащий двузначные числа, кратные одновременно трём и пяти:\n",
    "my_list = [x for x in range(10, 100) if x % 3 == 0 and x % 5 == 0]\n",
    "my_list"
   ]
  },
  {
   "cell_type": "code",
   "execution_count": 13,
   "metadata": {},
   "outputs": [
    {
     "name": "stdout",
     "output_type": "stream",
     "text": [
      "[1, 1, 4, 1024, 9, 59049, 16, 1048576, 25, 9765625, 36, 60466176, 49, 282475249, 64, 1073741824, 81, 3486784401]"
     ]
    }
   ],
   "source": [
    "# А здесь в результате выполнения кода получится список, \n",
    "# содержащий результаты возведения чисел от 1 до 9 включительно в квадрат и в десятую степень:\n",
    "\n",
    "powers = [x ** y for x in range(1, 10) for y in [2,10]]\n",
    "print(powers, end = \"\")"
   ]
  },
  {
   "cell_type": "code",
   "execution_count": 18,
   "metadata": {},
   "outputs": [
    {
     "name": "stdout",
     "output_type": "stream",
     "text": [
      "['michelle', 'dexter', 'gurukavari']\n"
     ]
    }
   ],
   "source": [
    "lst = ['michelle rodriguez', 'dexter king', 'gurukavari'] \n",
    "print([x.split()[0] for x in lst])"
   ]
  },
  {
   "cell_type": "code",
   "execution_count": 24,
   "metadata": {},
   "outputs": [
    {
     "name": "stdout",
     "output_type": "stream",
     "text": [
      "['welcome', 'to', 'the', 'jungle']\n"
     ]
    }
   ],
   "source": [
    "# split() example\n",
    "txt = \"welcome to the jungle\"\n",
    "\n",
    "x = txt.split()\n",
    "\n",
    "print(x)"
   ]
  },
  {
   "cell_type": "code",
   "execution_count": 25,
   "metadata": {},
   "outputs": [
    {
     "data": {
      "text/plain": [
       "3"
      ]
     },
     "execution_count": 25,
     "metadata": {},
     "output_type": "execute_result"
    }
   ],
   "source": [
    "# count the number of occurrences \n",
    "# of a certain value in a dictionary \n",
    "D = {'a': 97, 'c': 0 , 'b':0,'e': 94, 'r': 97 , 'g':0}\n",
    "sum(value == 0 for value in D.values())"
   ]
  },
  {
   "cell_type": "code",
   "execution_count": 34,
   "metadata": {},
   "outputs": [
    {
     "name": "stdout",
     "output_type": "stream",
     "text": [
      "[100, 225, 400, 625, 900, 1225, 1600, 2025, 2500, 3025, 3600, 4225, 4900, 5625, 6400, 7225, 8100, 9025]"
     ]
    }
   ],
   "source": [
    "# квадраты всех двузначных чисел, кратных пяти \n",
    "numbers = [x**2 for x in range(10, 100, 5)]\n",
    "print(numbers, end=\"\")"
   ]
  },
  {
   "cell_type": "code",
   "execution_count": 36,
   "metadata": {},
   "outputs": [
    {
     "name": "stdout",
     "output_type": "stream",
     "text": [
      "[3, 5, 7, 6, 10, 14, 9, 15, 21, 12, 20, 28, 15, 25, 35, 18, 30, 42, 21, 35, 49, 24, 40, 56, 27, 45, 63]"
     ]
    }
   ],
   "source": [
    "# числа от 1 до 63 включительно, кратные 3, 5 или 7\n",
    "numbers = [x*y for x in range(1, 10) for y in [3, 5, 7]]\n",
    "print(numbers, end=\"\")"
   ]
  },
  {
   "cell_type": "code",
   "execution_count": 38,
   "metadata": {},
   "outputs": [
    {
     "name": "stdout",
     "output_type": "stream",
     "text": [
      "[3, 5, 7, 11, 13, 17, 19, 23, 29, 31, 37, 41, 43, 47, 53, 59, 61, 67, 71, 73, 79, 83, 89, 97]"
     ]
    }
   ],
   "source": [
    "# все простые числа в интервале от 3 до 100 \n",
    "numbers = [x for x in range(3,100) if [x%y for y in range(2,x)].count(0) == 0]\n",
    "print(numbers, end=\"\")"
   ]
  },
  {
   "cell_type": "code",
   "execution_count": 41,
   "metadata": {},
   "outputs": [
    {
     "data": {
      "text/plain": [
       "['п', 'р', 'в', 'т']"
      ]
     },
     "execution_count": 41,
     "metadata": {},
     "output_type": "execute_result"
    }
   ],
   "source": [
    "# Какой для создания списка, содержащего согласные буквы из слова \"привет\"\n",
    "my_list = [x for x in 'привет' if x in ['п', 'р', 'в', 'т']]\n",
    "my_list"
   ]
  },
  {
   "cell_type": "code",
   "execution_count": 42,
   "metadata": {},
   "outputs": [
    {
     "data": {
      "text/plain": [
       "['а', 'з', 'и', 'н', 'н', 'о', 'о', 'о', 'р', 'р', 'с', 'т', 'ф', 'х']"
      ]
     },
     "execution_count": 42,
     "metadata": {},
     "output_type": "execute_result"
    }
   ],
   "source": [
    "# Код для создания списка, содержащего буквы из слова \"синхрофазотрон\",\n",
    "# расставленные в алфавитном порядке\n",
    "my_list = sorted([x for x in 'синхрофазотрон'])\n",
    "my_list"
   ]
  },
  {
   "cell_type": "code",
   "execution_count": 44,
   "metadata": {},
   "outputs": [
    {
     "name": "stdout",
     "output_type": "stream",
     "text": [
      "[9.9, 11, 12.100000000000001, 10.8, 12, 13.200000000000001, 11.700000000000001, 13, 14.3, 12.6, 14, 15.400000000000002, 13.5, 15, 16.5, 14.4, 16, 17.6, 15.3, 17, 18.700000000000003, 16.2, 18, 19.8, 17.1, 19, 20.900000000000002]"
     ]
    }
   ],
   "source": [
    "# Код для создания списка, содержащего значения 90%, 100% и 110% \n",
    "# от каждого целого числа в интервале от 11 до 19 \n",
    "\n",
    "my_list = [x*y for x in range(11,20) for y in [0.9, 1, 1.1]] \n",
    "print(my_list, end=\"\")"
   ]
  },
  {
   "cell_type": "markdown",
   "metadata": {},
   "source": [
    "### A2.2.6.9 Задание 9\n",
    "Перепишите привёденный ниже код, \n",
    "используя генератор списков. \n",
    "\n",
    "Полученный в результате работы генератора список должен иметь имя my_list."
   ]
  },
  {
   "cell_type": "code",
   "execution_count": 71,
   "metadata": {},
   "outputs": [
    {
     "name": "stdout",
     "output_type": "stream",
     "text": [
      "49\n",
      "[2.6457513110645907, 3.7416573867739413, 4.58257569495584, 5.291502622129181, 5.916079783099616, 6.48074069840786, 7.0]\n"
     ]
    }
   ],
   "source": [
    "# Original solution\n",
    "my_list = []\n",
    "for x in range(1, 50):\n",
    "    if x%7 == 0:\n",
    "        my_list.append(x**0.5)"
   ]
  },
  {
   "cell_type": "code",
   "execution_count": 72,
   "metadata": {},
   "outputs": [
    {
     "name": "stdout",
     "output_type": "stream",
     "text": [
      "49\n",
      "[2.6457513110645907, 3.7416573867739413, 4.58257569495584, 5.291502622129181, 5.916079783099616, 6.48074069840786, 7.0]\n"
     ]
    }
   ],
   "source": [
    "# List comprehension solution\n",
    "my_list = [x**y for x in range(1, 50) if x % 7 == 0 for y in [0.5]]\n",
    "print(x)\n",
    "print(my_list)"
   ]
  },
  {
   "cell_type": "markdown",
   "metadata": {},
   "source": [
    "### A2.2.6.10 Задание 10*\n",
    "Перепишите привёденный ниже код, используя генератор списков. \n",
    "\n",
    "Полученный в результате работы генератора список должен иметь имя my_list."
   ]
  },
  {
   "cell_type": "code",
   "execution_count": 136,
   "metadata": {},
   "outputs": [
    {
     "name": "stdout",
     "output_type": "stream",
     "text": [
      "\n",
      "\n",
      "Step 1\n",
      "This is the first d -> 9\n",
      "Step 2\n",
      "This is the last d -> 0\n",
      "Step 3\n",
      "This is the sum of d -> 9\n",
      "\n",
      "\n",
      "Step 1\n",
      "This is the first d -> 9\n",
      "Step 2\n",
      "This is the last d -> 1\n",
      "Step 3\n",
      "This is the sum of d -> 10\n",
      "\n",
      "\n",
      "Step 1\n",
      "This is the first d -> 9\n",
      "Step 2\n",
      "This is the last d -> 2\n",
      "Step 3\n",
      "This is the sum of d -> 11\n",
      "\n",
      "\n",
      "Step 1\n",
      "This is the first d -> 9\n",
      "Step 2\n",
      "This is the last d -> 3\n",
      "Step 3\n",
      "This is the sum of d -> 12\n",
      "\n",
      "\n",
      "Step 1\n",
      "This is the first d -> 9\n",
      "Step 2\n",
      "This is the last d -> 4\n",
      "Step 3\n",
      "This is the sum of d -> 13\n",
      "\n",
      "\n",
      "Step 1\n",
      "This is the first d -> 9\n",
      "Step 2\n",
      "This is the last d -> 5\n",
      "Step 3\n",
      "This is the sum of d -> 14\n",
      "\n",
      "\n",
      "Step 1\n",
      "This is the first d -> 9\n",
      "Step 2\n",
      "This is the last d -> 6\n",
      "Step 3\n",
      "This is the sum of d -> 15\n",
      "\n",
      "\n",
      "Step 1\n",
      "This is the first d -> 9\n",
      "Step 2\n",
      "This is the last d -> 7\n",
      "Step 3\n",
      "This is the sum of d -> 16\n",
      "\n",
      "\n",
      "Step 1\n",
      "This is the first d -> 9\n",
      "Step 2\n",
      "This is the last d -> 8\n",
      "Step 3\n",
      "This is the sum of d -> 17\n",
      "\n",
      "\n",
      "Step 1\n",
      "This is the first d -> 9\n",
      "Step 2\n",
      "This is the last d -> 9\n",
      "Step 3\n",
      "This is the sum of d -> 18\n",
      "\n",
      "\n",
      "THIS IS THE RESULT -> [9, 10, 11, 12, 13, 14, 15, 16, 17, 18]\n"
     ]
    }
   ],
   "source": [
    "# Original example\n",
    "my_list = []\n",
    "for x in range(90, 100):\n",
    "    first_digit = x // 10\n",
    "    print(\"\\n\")\n",
    "    print(\"Step 1\")\n",
    "    print(\"This is the first d ->\", first_digit)\n",
    "    last_digit = x % 10\n",
    "    print(\"Step 2\")\n",
    "    print(\"This is the last d ->\", last_digit)\n",
    "    third_digit = first_digit + last_digit\n",
    "    print(\"Step 3\")\n",
    "    print(\"This is the sum of d ->\", third_digit)\n",
    "    my_list.append(first_digit + last_digit)\n",
    "\n",
    "# print(x)\n",
    "print(\"\\n\")\n",
    "print(\"This is the result ->\".upper(), my_list)"
   ]
  },
  {
   "cell_type": "code",
   "execution_count": 143,
   "metadata": {},
   "outputs": [
    {
     "name": "stdout",
     "output_type": "stream",
     "text": [
      "99\n",
      "[9, 10, 11, 12, 13, 14, 15, 16, 17, 18]\n"
     ]
    }
   ],
   "source": [
    "# List comprehesion\n",
    "my_list = [(x // 10) + (x % 10) for x in range(90, 100)]\n",
    "\n",
    "print(x)\n",
    "print(my_list)"
   ]
  },
  {
   "cell_type": "code",
   "execution_count": null,
   "metadata": {},
   "outputs": [],
   "source": []
  }
 ],
 "metadata": {
  "kernelspec": {
   "display_name": "Python 3",
   "language": "python",
   "name": "python3"
  },
  "language_info": {
   "codemirror_mode": {
    "name": "ipython",
    "version": 3
   },
   "file_extension": ".py",
   "mimetype": "text/x-python",
   "name": "python",
   "nbconvert_exporter": "python",
   "pygments_lexer": "ipython3",
   "version": "3.7.3"
  }
 },
 "nbformat": 4,
 "nbformat_minor": 2
}
