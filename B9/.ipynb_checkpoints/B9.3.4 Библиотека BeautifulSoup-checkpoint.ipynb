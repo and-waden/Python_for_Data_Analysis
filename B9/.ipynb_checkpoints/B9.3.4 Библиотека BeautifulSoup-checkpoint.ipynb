{
 "cells": [
  {
   "cell_type": "code",
   "execution_count": 2,
   "metadata": {},
   "outputs": [
    {
     "name": "stdout",
     "output_type": "stream",
     "text": [
      "<title>Робота-ленивца научили лазать по паутине из тросов</title>\n"
     ]
    },
    {
     "data": {
      "text/plain": [
       "'Робота-ленивца научили лазать по паутине из тросов'"
      ]
     },
     "execution_count": 2,
     "metadata": {},
     "output_type": "execute_result"
    }
   ],
   "source": [
    "# Импортируем наши библиотеки    \n",
    "from bs4 import BeautifulSoup    \n",
    "import requests    \n",
    "    \n",
    "# Получаем данные, как и ранее    \n",
    "url = 'https://nplus1.ru/news/2019/06/04/slothbot'   \n",
    "response = requests.get(url)    \n",
    "    \n",
    "# Теперь создадим объект BeautifulSoup, указывая html парсер    \n",
    "page = BeautifulSoup(response.text, 'html.parser')    \n",
    "    \n",
    "# Всё готово, чтобы получать данные из страницы    \n",
    "# Для начала получим title, отображающийся на закладках браузера    \n",
    "print(page.title)  \n",
    "# => <title>Робота-ленивца научили лазать по паутине из тросов</title>  \n",
    "    \n",
    "# Мы получили тэг. Чтобы достать из него текст, вызовем атрибут text    \n",
    "page.title.text    \n",
    "# => 'Робота-ленивца научили лазать по паутине из тросов' "
   ]
  },
  {
   "cell_type": "markdown",
   "metadata": {},
   "source": [
    "### Мой тест"
   ]
  },
  {
   "cell_type": "code",
   "execution_count": 3,
   "metadata": {},
   "outputs": [
    {
     "name": "stdout",
     "output_type": "stream",
     "text": [
      "<title>Monsey stabbing: Five people wounded at home of New York rabbi - BBC News</title>\n"
     ]
    },
    {
     "data": {
      "text/plain": [
       "'Monsey stabbing: Five people wounded at home of New York rabbi - BBC News'"
      ]
     },
     "execution_count": 3,
     "metadata": {},
     "output_type": "execute_result"
    }
   ],
   "source": [
    "# Получаем данные, как и ранее    \n",
    "url = 'https://www.bbc.com/news/world-us-canada-50937186'   \n",
    "response = requests.get(url)    \n",
    "    \n",
    "# Теперь создадим объект BeautifulSoup, указывая html парсер    \n",
    "page_1 = BeautifulSoup(response.text, 'html.parser')    \n",
    "    \n",
    "# Всё готово, чтобы получать данные из страницы    \n",
    "# Для начала получим title, отображающийся на закладках браузера    \n",
    "print(page_1.title)  \n",
    "    \n",
    "# Мы получили тэг. Чтобы достать из него текст, вызовем атрибут text    \n",
    "page_1.title.text    "
   ]
  },
  {
   "cell_type": "markdown",
   "metadata": {},
   "source": [
    "#### Задание 1 Готовим суп\n",
    "Что из этого корректно создаёт объект BeautifulSoup из html страницы?\n",
    "- html_parsed = BeautifulSoup(html_str)\n",
    "- soup = BeautifulSoup(html_str, 'html.parser')"
   ]
  },
  {
   "cell_type": "markdown",
   "metadata": {},
   "source": [
    "#### Задание 2 Текст тайтла\n",
    "У вас переменная soup с объектом BeautifulSoup для html-страницы. Введите строку, которая вернёт текст для тайтла (title) страницы:"
   ]
  },
  {
   "cell_type": "code",
   "execution_count": 5,
   "metadata": {},
   "outputs": [
    {
     "name": "stdout",
     "output_type": "stream",
     "text": [
      "Monsey stabbing: Five people wounded at home of New York rabbi - BBC News\n"
     ]
    }
   ],
   "source": [
    "soup = BeautifulSoup(response.text, 'html.parser')    \n",
    "print(soup.title.text)  "
   ]
  },
  {
   "cell_type": "markdown",
   "metadata": {},
   "source": [
    "## B9.3.5 Данные со страницы\n",
    "Мы получили данные из title, но как нам забрать текст с самой страницы? Мы можем сделать это, запросив содержимое определённых тэгов. \n",
    "\n",
    "Пусть мы знаем, что заголовок статьи находиться в тэге h1. Тогда мы можем получить его текст с помощью метода find"
   ]
  },
  {
   "cell_type": "code",
   "execution_count": 6,
   "metadata": {},
   "outputs": [
    {
     "name": "stdout",
     "output_type": "stream",
     "text": [
      "Робота-ленивца научили лазать по паутине из тросов\n"
     ]
    }
   ],
   "source": [
    "print(page.find('h1').text)   "
   ]
  },
  {
   "cell_type": "code",
   "execution_count": 13,
   "metadata": {},
   "outputs": [
    {
     "name": "stdout",
     "output_type": "stream",
     "text": [
      "Monsey stabbing: Five people wounded at home of New York rabbi\n"
     ]
    }
   ],
   "source": [
    "print(soup.find('h1').text)   "
   ]
  },
  {
   "cell_type": "code",
   "execution_count": 11,
   "metadata": {},
   "outputs": [
    {
     "name": "stdout",
     "output_type": "stream",
     "text": [
      "\n",
      "18:27\n",
      "04 Июнь 2019\n",
      "\n"
     ]
    }
   ],
   "source": [
    "print(page.find('time').text)   # https://nplus1.ru/news/2019/06/04/slothbot"
   ]
  },
  {
   "cell_type": "code",
   "execution_count": 19,
   "metadata": {},
   "outputs": [
    {
     "name": "stdout",
     "output_type": "stream",
     "text": [
      "<title>Pink Floyd — Википедия</title>\n"
     ]
    },
    {
     "data": {
      "text/plain": [
       "'Pink Floyd — Википедия'"
      ]
     },
     "execution_count": 19,
     "metadata": {},
     "output_type": "execute_result"
    }
   ],
   "source": [
    "url = 'https://ru.wikipedia.org/wiki/Pink_Floyd'   \n",
    "response = requests.get(url)    \n",
    "    \n",
    "# Теперь создадим объект BeautifulSoup, указывая html парсер    \n",
    "wiki = BeautifulSoup(response.text, 'html.parser')    \n",
    "    \n",
    "# Всё готово, чтобы получать данные из страницы    \n",
    "# Для начала получим title, отображающийся на закладках браузера    \n",
    "print(wiki.title)  \n",
    "    \n",
    "# Мы получили тэг. Чтобы достать из него текст, вызовем атрибут text    \n",
    "wiki.title.text  "
   ]
  },
  {
   "cell_type": "code",
   "execution_count": 22,
   "metadata": {},
   "outputs": [
    {
     "name": "stdout",
     "output_type": "stream",
     "text": [
      "Pink Floyd\n"
     ]
    }
   ],
   "source": [
    "print(wiki.find('h1').text)   "
   ]
  },
  {
   "cell_type": "markdown",
   "metadata": {},
   "source": [
    "#### Задание 2 Автоматический сбор заголовков\n",
    "Напишите функцию wiki_header, которая по адресу страницы возвращает заголовок для статей на википедии"
   ]
  },
  {
   "cell_type": "code",
   "execution_count": 31,
   "metadata": {},
   "outputs": [
    {
     "data": {
      "text/plain": [
       "'Operating system'"
      ]
     },
     "execution_count": 31,
     "metadata": {},
     "output_type": "execute_result"
    }
   ],
   "source": [
    "def wiki_header(item):\n",
    "    url = \"https://en.wikipedia.org/wiki/Operating_system\"\n",
    "    response = requests.get(url)  \n",
    "    page = BeautifulSoup(response.text, \"html.parser\")\n",
    "    #return page.title.text\n",
    "    return page.find(\"h1\").text\n",
    "\n",
    "wiki_header('https://en.wikipedia.org/wiki/Operating_system')"
   ]
  },
  {
   "cell_type": "code",
   "execution_count": 34,
   "metadata": {},
   "outputs": [
    {
     "data": {
      "text/plain": [
       "'Operating system'"
      ]
     },
     "execution_count": 34,
     "metadata": {},
     "output_type": "execute_result"
    }
   ],
   "source": [
    "def wiki_header(urlock):\n",
    "    url = urlock\n",
    "    response = requests.get(url)\n",
    "    page = BeautifulSoup(response.text,'html.parser')\n",
    "    return page.find('h1').text\n",
    "wiki_header('https://en.wikipedia.org/wiki/Operating_system')"
   ]
  },
  {
   "cell_type": "code",
   "execution_count": 28,
   "metadata": {},
   "outputs": [
    {
     "ename": "AttributeError",
     "evalue": "'NoneType' object has no attribute 'text'",
     "output_type": "error",
     "traceback": [
      "\u001b[0;31m---------------------------------------------------------------------------\u001b[0m",
      "\u001b[0;31mAttributeError\u001b[0m                            Traceback (most recent call last)",
      "\u001b[0;32m<ipython-input-28-a27a242787aa>\u001b[0m in \u001b[0;36m<module>\u001b[0;34m\u001b[0m\n\u001b[1;32m      6\u001b[0m     \u001b[0;32mreturn\u001b[0m \u001b[0mpage\u001b[0m\u001b[0;34m.\u001b[0m\u001b[0mfind\u001b[0m\u001b[0;34m(\u001b[0m\u001b[0;34m\"h1\"\u001b[0m\u001b[0;34m)\u001b[0m\u001b[0;34m.\u001b[0m\u001b[0mtext\u001b[0m\u001b[0;34m\u001b[0m\u001b[0;34m\u001b[0m\u001b[0m\n\u001b[1;32m      7\u001b[0m \u001b[0;34m\u001b[0m\u001b[0m\n\u001b[0;32m----> 8\u001b[0;31m \u001b[0mpobeda\u001b[0m\u001b[0;34m(\u001b[0m\u001b[0;34m'https://www.pobeda.aero'\u001b[0m\u001b[0;34m)\u001b[0m\u001b[0;34m\u001b[0m\u001b[0;34m\u001b[0m\u001b[0m\n\u001b[0m",
      "\u001b[0;32m<ipython-input-28-a27a242787aa>\u001b[0m in \u001b[0;36mpobeda\u001b[0;34m(item)\u001b[0m\n\u001b[1;32m      4\u001b[0m     \u001b[0mpage\u001b[0m \u001b[0;34m=\u001b[0m \u001b[0mBeautifulSoup\u001b[0m\u001b[0;34m(\u001b[0m\u001b[0mresponse\u001b[0m\u001b[0;34m.\u001b[0m\u001b[0mtext\u001b[0m\u001b[0;34m,\u001b[0m \u001b[0;34m\"html.parser\"\u001b[0m\u001b[0;34m)\u001b[0m\u001b[0;34m\u001b[0m\u001b[0;34m\u001b[0m\u001b[0m\n\u001b[1;32m      5\u001b[0m     \u001b[0;31m#return page.title.text\u001b[0m\u001b[0;34m\u001b[0m\u001b[0;34m\u001b[0m\u001b[0;34m\u001b[0m\u001b[0m\n\u001b[0;32m----> 6\u001b[0;31m     \u001b[0;32mreturn\u001b[0m \u001b[0mpage\u001b[0m\u001b[0;34m.\u001b[0m\u001b[0mfind\u001b[0m\u001b[0;34m(\u001b[0m\u001b[0;34m\"h1\"\u001b[0m\u001b[0;34m)\u001b[0m\u001b[0;34m.\u001b[0m\u001b[0mtext\u001b[0m\u001b[0;34m\u001b[0m\u001b[0;34m\u001b[0m\u001b[0m\n\u001b[0m\u001b[1;32m      7\u001b[0m \u001b[0;34m\u001b[0m\u001b[0m\n\u001b[1;32m      8\u001b[0m \u001b[0mpobeda\u001b[0m\u001b[0;34m(\u001b[0m\u001b[0;34m'https://www.pobeda.aero'\u001b[0m\u001b[0;34m)\u001b[0m\u001b[0;34m\u001b[0m\u001b[0;34m\u001b[0m\u001b[0m\n",
      "\u001b[0;31mAttributeError\u001b[0m: 'NoneType' object has no attribute 'text'"
     ]
    }
   ],
   "source": [
    "def pobeda(item):\n",
    "    url = \"https://www.pobeda.aero\"\n",
    "    response = requests.get(url)  \n",
    "    page = BeautifulSoup(response.text, \"html.parser\")\n",
    "    #return page.title.text\n",
    "    return page.find(\"h1\").text\n",
    "\n",
    "pobeda('https://www.pobeda.aero')"
   ]
  },
  {
   "cell_type": "code",
   "execution_count": 29,
   "metadata": {},
   "outputs": [],
   "source": [
    "url = \"https://www.pobeda.aero\"\n",
    "response = requests.get(url)  \n",
    "pobeda_page = BeautifulSoup(response.text, \"html.parser\")"
   ]
  },
  {
   "cell_type": "code",
   "execution_count": 30,
   "metadata": {},
   "outputs": [
    {
     "data": {
      "text/plain": [
       "'ООО «Авиакомпания «Победа», Группа «Аэрофлот»'"
      ]
     },
     "execution_count": 30,
     "metadata": {},
     "output_type": "execute_result"
    }
   ],
   "source": [
    "pobeda_page.title.text   "
   ]
  },
  {
   "cell_type": "markdown",
   "metadata": {},
   "source": [
    "#### B9.3.6 Больше данных"
   ]
  },
  {
   "cell_type": "code",
   "execution_count": 35,
   "metadata": {},
   "outputs": [
    {
     "name": "stdout",
     "output_type": "stream",
     "text": [
      "Функционирует при финансовой поддержке Федерального агентства по печати и массовым коммуникациям (Роспечать)\n"
     ]
    }
   ],
   "source": [
    "print(page.find('div').text)  "
   ]
  },
  {
   "cell_type": "code",
   "execution_count": 37,
   "metadata": {},
   "outputs": [],
   "source": [
    "# print(page.find('div', class_='body').text)"
   ]
  },
  {
   "cell_type": "markdown",
   "metadata": {},
   "source": [
    "#### Задание 1 Поиск элемента\n",
    "У вас есть переменная page, в которой хранится содержимое html-страницы. На странице есть элемента в тэге span, у которого атрибут id равен 'target'. Напишите строчку кода, которая присвоит текст этого элемента переменной value.\n",
    "\n",
    "Запишите ваш код в одну строку без пробелов. Используйте апострофы для передачи параметров, содержащих значение тэга и его id."
   ]
  },
  {
   "cell_type": "code",
   "execution_count": null,
   "metadata": {},
   "outputs": [],
   "source": [
    "value=page.find('span',id='target').text"
   ]
  },
  {
   "cell_type": "markdown",
   "metadata": {},
   "source": [
    "## B9.3.7 Сбор нескольких элементов"
   ]
  },
  {
   "cell_type": "markdown",
   "metadata": {},
   "source": [
    "Для ссылок существует тэг <a></a>.  Давайте попробуем использовать find  "
   ]
  },
  {
   "cell_type": "code",
   "execution_count": 46,
   "metadata": {},
   "outputs": [
    {
     "data": {
      "text/plain": [
       "<a id=\"top\"></a>"
      ]
     },
     "execution_count": 46,
     "metadata": {},
     "output_type": "execute_result"
    }
   ],
   "source": [
    "url = 'https://en.wikipedia.org/wiki/List_of_programming_languages'  \n",
    "  \n",
    "response = requests.get(url)  \n",
    "page = BeautifulSoup(response.text, 'html.parser')  \n",
    "page.find('a') "
   ]
  },
  {
   "cell_type": "markdown",
   "metadata": {},
   "source": [
    "Что-то пошло не так, и мы получили только одну ссылку, хотя на странице их явно больше. Это происходит, потому что метод find возвращает только первый подходящий элемент. Если нам надо их больше, нужно воспользоваться методом find_all"
   ]
  },
  {
   "cell_type": "code",
   "execution_count": 48,
   "metadata": {},
   "outputs": [
    {
     "data": {
      "text/plain": [
       "943"
      ]
     },
     "execution_count": 48,
     "metadata": {},
     "output_type": "execute_result"
    }
   ],
   "source": [
    "links = page.find_all('a')  \n",
    "# Посмотрим, сколько всего мы получили  \n",
    "len(links)"
   ]
  },
  {
   "cell_type": "code",
   "execution_count": 49,
   "metadata": {},
   "outputs": [
    {
     "name": "stdout",
     "output_type": "stream",
     "text": [
      "['OPS5', 'OptimJ', 'Orc', 'ORCA/Modula-2', 'Oriel', 'Orwell', 'Oxygene', 'Oz', 'edit', 'P']\n"
     ]
    }
   ],
   "source": [
    "# Посмотрим на некоторые из ссылок  \n",
    "print([link.text for link in links[500:510]])  "
   ]
  },
  {
   "cell_type": "markdown",
   "metadata": {},
   "source": [
    "Ещё одна полезная вещь:  последовательный поиск, т.е. мы можем найти сначала один элемент, а потом сделать внутри него второй поиск. Давайте выведем названия всех ссылок для языков программирования на букву A"
   ]
  },
  {
   "cell_type": "code",
   "execution_count": 52,
   "metadata": {},
   "outputs": [
    {
     "data": {
      "text/plain": [
       "<div class=\"div-col columns column-width\" style=\"-moz-column-width: 22em; -webkit-column-width: 22em; column-width: 22em;\">\n",
       "<ul><li><a class=\"mw-redirect\" href=\"/wiki/1C:Enterprise_programming_language\" title=\"1C:Enterprise programming language\">1C:Enterprise programming language</a></li></ul>\n",
       "</div>"
      ]
     },
     "execution_count": 52,
     "metadata": {},
     "output_type": "execute_result"
    }
   ],
   "source": [
    "# Получаем элемент первого блока со ссылками  \n",
    "first_block = page.find('div', class_='div-col')  \n",
    "first_block"
   ]
  },
  {
   "cell_type": "code",
   "execution_count": 53,
   "metadata": {},
   "outputs": [
    {
     "name": "stdout",
     "output_type": "stream",
     "text": [
      "['1C:Enterprise programming language']\n"
     ]
    }
   ],
   "source": [
    "# Берём оттуда все ссылки  \n",
    "links = first_block.find_all('a')  \n",
    "print([link.text for link in links[:10]]) "
   ]
  },
  {
   "cell_type": "markdown",
   "metadata": {},
   "source": [
    "#### Задание 1 Актёры\n",
    "Напишите функцию get_actors, которая по ссылке на страницу фильма на кинопоиске возвращает список актёров из колонки справа."
   ]
  },
  {
   "cell_type": "code",
   "execution_count": 77,
   "metadata": {},
   "outputs": [
    {
     "ename": "AttributeError",
     "evalue": "'NoneType' object has no attribute 'find_all'",
     "output_type": "error",
     "traceback": [
      "\u001b[0;31m---------------------------------------------------------------------------\u001b[0m",
      "\u001b[0;31mAttributeError\u001b[0m                            Traceback (most recent call last)",
      "\u001b[0;32m<ipython-input-77-e8094188a2ad>\u001b[0m in \u001b[0;36m<module>\u001b[0;34m\u001b[0m\n\u001b[1;32m      6\u001b[0m     \u001b[0;32mreturn\u001b[0m \u001b[0;34m[\u001b[0m\u001b[0mlink\u001b[0m\u001b[0;34m.\u001b[0m\u001b[0mtext\u001b[0m \u001b[0;32mfor\u001b[0m \u001b[0mlink\u001b[0m \u001b[0;32min\u001b[0m \u001b[0mactor\u001b[0m\u001b[0;34m[\u001b[0m\u001b[0;34m:\u001b[0m\u001b[0;36m10\u001b[0m\u001b[0;34m]\u001b[0m\u001b[0;34m]\u001b[0m\u001b[0;34m\u001b[0m\u001b[0;34m\u001b[0m\u001b[0m\n\u001b[1;32m      7\u001b[0m \u001b[0;34m\u001b[0m\u001b[0m\n\u001b[0;32m----> 8\u001b[0;31m \u001b[0mget_actors\u001b[0m\u001b[0;34m(\u001b[0m\u001b[0;34m\"https://www.kinopoisk.ru/film/42326/\"\u001b[0m\u001b[0;34m)\u001b[0m\u001b[0;34m\u001b[0m\u001b[0;34m\u001b[0m\u001b[0m\n\u001b[0m",
      "\u001b[0;32m<ipython-input-77-e8094188a2ad>\u001b[0m in \u001b[0;36mget_actors\u001b[0;34m(url)\u001b[0m\n\u001b[1;32m      3\u001b[0m     \u001b[0mpage\u001b[0m \u001b[0;34m=\u001b[0m \u001b[0mBeautifulSoup\u001b[0m\u001b[0;34m(\u001b[0m\u001b[0mresponse\u001b[0m\u001b[0;34m.\u001b[0m\u001b[0mtext\u001b[0m\u001b[0;34m,\u001b[0m \u001b[0;34m'html.parser'\u001b[0m\u001b[0;34m)\u001b[0m\u001b[0;34m\u001b[0m\u001b[0;34m\u001b[0m\u001b[0m\n\u001b[1;32m      4\u001b[0m     \u001b[0mactor_block\u001b[0m \u001b[0;34m=\u001b[0m \u001b[0mpage\u001b[0m\u001b[0;34m.\u001b[0m\u001b[0mfind\u001b[0m\u001b[0;34m(\u001b[0m\u001b[0;34m\"div\"\u001b[0m\u001b[0;34m,\u001b[0m \u001b[0mid\u001b[0m \u001b[0;34m=\u001b[0m \u001b[0;34m\"actorList\"\u001b[0m\u001b[0;34m)\u001b[0m\u001b[0;34m\u001b[0m\u001b[0;34m\u001b[0m\u001b[0m\n\u001b[0;32m----> 5\u001b[0;31m     \u001b[0mactor\u001b[0m \u001b[0;34m=\u001b[0m \u001b[0mactor_block\u001b[0m\u001b[0;34m.\u001b[0m\u001b[0mfind_all\u001b[0m\u001b[0;34m(\u001b[0m\u001b[0;34m\"a\"\u001b[0m\u001b[0;34m)\u001b[0m\u001b[0;34m\u001b[0m\u001b[0;34m\u001b[0m\u001b[0m\n\u001b[0m\u001b[1;32m      6\u001b[0m     \u001b[0;32mreturn\u001b[0m \u001b[0;34m[\u001b[0m\u001b[0mlink\u001b[0m\u001b[0;34m.\u001b[0m\u001b[0mtext\u001b[0m \u001b[0;32mfor\u001b[0m \u001b[0mlink\u001b[0m \u001b[0;32min\u001b[0m \u001b[0mactor\u001b[0m\u001b[0;34m[\u001b[0m\u001b[0;34m:\u001b[0m\u001b[0;36m10\u001b[0m\u001b[0;34m]\u001b[0m\u001b[0;34m]\u001b[0m\u001b[0;34m\u001b[0m\u001b[0;34m\u001b[0m\u001b[0m\n\u001b[1;32m      7\u001b[0m \u001b[0;34m\u001b[0m\u001b[0m\n",
      "\u001b[0;31mAttributeError\u001b[0m: 'NoneType' object has no attribute 'find_all'"
     ]
    }
   ],
   "source": [
    "def get_actors(url):\n",
    "    response = requests.get(url)  \n",
    "    page = BeautifulSoup(response.text, 'html.parser') \n",
    "    actor_block = page.find(\"div\", id = \"actorList\")\n",
    "    actor = actor_block.find_all(\"a\")\n",
    "    return [link.text for link in actor[:10]]\n",
    "\n",
    "get_actors(\"https://www.kinopoisk.ru/film/42326/\")"
   ]
  },
  {
   "cell_type": "code",
   "execution_count": 89,
   "metadata": {},
   "outputs": [
    {
     "ename": "AttributeError",
     "evalue": "'NoneType' object has no attribute 'find_all'",
     "output_type": "error",
     "traceback": [
      "\u001b[0;31m---------------------------------------------------------------------------\u001b[0m",
      "\u001b[0;31mAttributeError\u001b[0m                            Traceback (most recent call last)",
      "\u001b[0;32m<ipython-input-89-75406a931c81>\u001b[0m in \u001b[0;36m<module>\u001b[0;34m\u001b[0m\n\u001b[1;32m      8\u001b[0m     \u001b[0mactor\u001b[0m \u001b[0;34m=\u001b[0m \u001b[0mactor_block\u001b[0m\u001b[0;34m.\u001b[0m\u001b[0mfind_all\u001b[0m\u001b[0;34m(\u001b[0m\u001b[0;34m'a'\u001b[0m\u001b[0;34m)\u001b[0m\u001b[0;34m\u001b[0m\u001b[0;34m\u001b[0m\u001b[0m\n\u001b[1;32m      9\u001b[0m     \u001b[0;32mreturn\u001b[0m \u001b[0;34m[\u001b[0m\u001b[0mlink\u001b[0m\u001b[0;34m.\u001b[0m\u001b[0mtext\u001b[0m \u001b[0;32mfor\u001b[0m \u001b[0mlink\u001b[0m \u001b[0;32min\u001b[0m \u001b[0mactor\u001b[0m\u001b[0;34m[\u001b[0m\u001b[0;34m:\u001b[0m\u001b[0;36m10\u001b[0m\u001b[0;34m]\u001b[0m\u001b[0;34m]\u001b[0m\u001b[0;34m\u001b[0m\u001b[0;34m\u001b[0m\u001b[0m\n\u001b[0;32m---> 10\u001b[0;31m \u001b[0mget_actors\u001b[0m\u001b[0;34m(\u001b[0m\u001b[0;34m\"https://www.kinopoisk.ru/film/42326/\"\u001b[0m\u001b[0;34m)\u001b[0m\u001b[0;34m\u001b[0m\u001b[0;34m\u001b[0m\u001b[0m\n\u001b[0m",
      "\u001b[0;32m<ipython-input-89-75406a931c81>\u001b[0m in \u001b[0;36mget_actors\u001b[0;34m(url)\u001b[0m\n\u001b[1;32m      6\u001b[0m     \u001b[0mpage\u001b[0m \u001b[0;34m=\u001b[0m \u001b[0mBeautifulSoup\u001b[0m\u001b[0;34m(\u001b[0m\u001b[0mresponse\u001b[0m\u001b[0;34m.\u001b[0m\u001b[0mtext\u001b[0m\u001b[0;34m,\u001b[0m\u001b[0;34m'html.parser'\u001b[0m\u001b[0;34m)\u001b[0m\u001b[0;34m\u001b[0m\u001b[0;34m\u001b[0m\u001b[0m\n\u001b[1;32m      7\u001b[0m     \u001b[0mactor_block\u001b[0m \u001b[0;34m=\u001b[0m \u001b[0mpage\u001b[0m\u001b[0;34m.\u001b[0m\u001b[0mfind\u001b[0m\u001b[0;34m(\u001b[0m\u001b[0;34m'div'\u001b[0m\u001b[0;34m,\u001b[0m\u001b[0mid\u001b[0m\u001b[0;34m=\u001b[0m\u001b[0;34m'actorList'\u001b[0m\u001b[0;34m)\u001b[0m\u001b[0;34m\u001b[0m\u001b[0;34m\u001b[0m\u001b[0m\n\u001b[0;32m----> 8\u001b[0;31m     \u001b[0mactor\u001b[0m \u001b[0;34m=\u001b[0m \u001b[0mactor_block\u001b[0m\u001b[0;34m.\u001b[0m\u001b[0mfind_all\u001b[0m\u001b[0;34m(\u001b[0m\u001b[0;34m'a'\u001b[0m\u001b[0;34m)\u001b[0m\u001b[0;34m\u001b[0m\u001b[0;34m\u001b[0m\u001b[0m\n\u001b[0m\u001b[1;32m      9\u001b[0m     \u001b[0;32mreturn\u001b[0m \u001b[0;34m[\u001b[0m\u001b[0mlink\u001b[0m\u001b[0;34m.\u001b[0m\u001b[0mtext\u001b[0m \u001b[0;32mfor\u001b[0m \u001b[0mlink\u001b[0m \u001b[0;32min\u001b[0m \u001b[0mactor\u001b[0m\u001b[0;34m[\u001b[0m\u001b[0;34m:\u001b[0m\u001b[0;36m10\u001b[0m\u001b[0;34m]\u001b[0m\u001b[0;34m]\u001b[0m\u001b[0;34m\u001b[0m\u001b[0;34m\u001b[0m\u001b[0m\n\u001b[1;32m     10\u001b[0m \u001b[0mget_actors\u001b[0m\u001b[0;34m(\u001b[0m\u001b[0;34m\"https://www.kinopoisk.ru/film/42326/\"\u001b[0m\u001b[0;34m)\u001b[0m\u001b[0;34m\u001b[0m\u001b[0;34m\u001b[0m\u001b[0m\n",
      "\u001b[0;31mAttributeError\u001b[0m: 'NoneType' object has no attribute 'find_all'"
     ]
    }
   ],
   "source": [
    "import requests\n",
    "from bs4 import BeautifulSoup\n",
    "\n",
    "def get_actors(url):\n",
    "    response = requests.get(url)  \n",
    "    page = BeautifulSoup(response.text,'html.parser')\n",
    "    actor_block = page.find('div',id='actorList')\n",
    "    actor = actor_block.find_all('a')\n",
    "    return [link.text for link in actor[:10]]\n",
    "get_actors(\"https://www.kinopoisk.ru/film/42326/\")"
   ]
  },
  {
   "cell_type": "code",
   "execution_count": 96,
   "metadata": {},
   "outputs": [
    {
     "name": "stdout",
     "output_type": "stream",
     "text": [
      "None\n"
     ]
    }
   ],
   "source": [
    "import requests\n",
    "from bs4 import BeautifulSoup\n",
    "url = 'https://www.kinopoisk.ru/film/4815/'  \n",
    "response = requests.get(url) \n",
    "response.encoding='utf-8'\n",
    "page = BeautifulSoup(response.text, 'html.parser')\n",
    "first_block = page.find('div', id=\"actorList\")\n",
    "print(first_block)\n",
    "# links = first_block.find_all('a')  \n",
    "# print([link.text for link in links[:10]]) "
   ]
  },
  {
   "cell_type": "code",
   "execution_count": 109,
   "metadata": {},
   "outputs": [],
   "source": [
    "def get_actors(url):\n",
    "    response = requests.get(url)  \n",
    "    page = BeautifulSoup(response.text,'html.parser')\n",
    "    actors = page.find_all('li', {'itemprop': 'actors'})\n",
    "    actors_list = [actor.text for actor in actors]\n",
    "    return actors_list"
   ]
  },
  {
   "cell_type": "code",
   "execution_count": 110,
   "metadata": {},
   "outputs": [
    {
     "data": {
      "text/plain": [
       "['Тим Роббинс',\n",
       " 'Морган Фриман',\n",
       " 'Боб Гантон',\n",
       " 'Уильям Сэдлер',\n",
       " 'Клэнси Браун',\n",
       " 'Джил Беллоуз',\n",
       " 'Марк Ролстон',\n",
       " 'Джеймс Уитмор',\n",
       " 'Джеффри ДеМанн',\n",
       " 'Ларри Бранденбург',\n",
       " '...',\n",
       " 'Диомид Виноградов',\n",
       " 'Игорь Старосельцев',\n",
       " 'Никита Прозоровский',\n",
       " 'Олег Вирозуб',\n",
       " 'Василий Дахненко',\n",
       " '...']"
      ]
     },
     "execution_count": 110,
     "metadata": {},
     "output_type": "execute_result"
    }
   ],
   "source": [
    "get_actors('https://www.kinopoisk.ru/film/326/')"
   ]
  },
  {
   "cell_type": "code",
   "execution_count": null,
   "metadata": {},
   "outputs": [],
   "source": []
  }
 ],
 "metadata": {
  "kernelspec": {
   "display_name": "Python 3",
   "language": "python",
   "name": "python3"
  },
  "language_info": {
   "codemirror_mode": {
    "name": "ipython",
    "version": 3
   },
   "file_extension": ".py",
   "mimetype": "text/x-python",
   "name": "python",
   "nbconvert_exporter": "python",
   "pygments_lexer": "ipython3",
   "version": "3.7.3"
  }
 },
 "nbformat": 4,
 "nbformat_minor": 4
}
