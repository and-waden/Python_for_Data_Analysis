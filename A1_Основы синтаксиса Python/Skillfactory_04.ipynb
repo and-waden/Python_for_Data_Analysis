{
 "cells": [
  {
   "cell_type": "markdown",
   "metadata": {},
   "source": [
    "## Boolean"
   ]
  },
  {
   "cell_type": "markdown",
   "metadata": {},
   "source": [
    "## А1.4.3.2 Задание 2\n",
    "Аня очень любит цветы, но далеко не все. Только если это синие или белые розы.\n",
    "\n",
    "Напишите программу, которая принимает на вход цвет цветов (color) и название цветов (flower) \n",
    "в начальной форме и говорит, понравятся ли они Ане. \n",
    "(Варианты ответа: \n",
    "\"Ане понравятся эти цветы\", \n",
    "\"Аня не фанат таких цветов\"). \n",
    "\n",
    "Для проверки используйте flower = 'роза' и color = 'фиолетовый'"
   ]
  },
  {
   "cell_type": "code",
   "execution_count": 8,
   "metadata": {},
   "outputs": [
    {
     "name": "stdout",
     "output_type": "stream",
     "text": [
      "Аня не фанат таких цветов\n"
     ]
    }
   ],
   "source": [
    "color = \"фиолетовый\"\n",
    "flower = \"роза\"\n",
    "\n",
    "\n",
    "# Architecture \n",
    "# color = blue and white = false \n",
    "# flower = rose = true \n",
    "# else = false \n",
    "# if cycle \n",
    "\n",
    "\n",
    "\n",
    "\n",
    "if \"синий\" in color or \"белый\" in color and \"роза\" in flower:\n",
    "    print(\"Ане понравятся эти цветы\")\n",
    "else:\n",
    "    print(\"Аня не фанат таких цветов\")"
   ]
  },
  {
   "cell_type": "markdown",
   "metadata": {},
   "source": [
    "### А1.4.3.3 Задание 3\n",
    "\n",
    "Вы работаете в агентстве знакомств. К Вам обратилась некая Алла, которая ищет мужчину \n",
    "ростом выше 170 см, \n",
    "весом менее 80 кг и любимый цвет которого красный. \n",
    "\n",
    "Напишите программу, которая позволит определить, подходит ли Алле тот или иной кандидат. \n",
    "Программа должна выводить фразу \"Ваша половинка нашлась!\", \n",
    "если подходит, и \"Попробуем поискать ещё...\", если нет. \n",
    "\n",
    "Для проверки используйте height = 180, weight = 92 и color = 'синий'."
   ]
  },
  {
   "cell_type": "code",
   "execution_count": 15,
   "metadata": {},
   "outputs": [
    {
     "name": "stdout",
     "output_type": "stream",
     "text": [
      "Попробуем поискать ещё...\n"
     ]
    }
   ],
   "source": [
    "# Architecture\n",
    "# weight > 170 cm = true\n",
    "# height >= 80 = true\n",
    "# color = red\n",
    "\n",
    "weight = 92\n",
    "height = 180\n",
    "color = \"синий\"\n",
    "\n",
    "if weight >= 80 and height > 170 and color == \"красный\":\n",
    "    print(\"Ваша половинка нашлась!\")\n",
    "else:\n",
    "    print(\"Попробуем поискать ещё...\")"
   ]
  },
  {
   "cell_type": "markdown",
   "metadata": {},
   "source": [
    "### А1.4.3.4 Задание 4\n",
    "Мальчику Вове для решения домашней работы по математике потребовалось написать программу, \n",
    "которая выясняет, имеется ли среди делителей числа числа 2, 5, 173 или 821. \n",
    "\n",
    "Напишите программу, которая получает на вход целое число (number) и отвечает Вове \"Вова, это нужное число\", \n",
    "если среди делителей есть хотя бы одно число из 2, 5, 173, 821 или \n",
    "\"Вова, в этот раз ты не попал\", если это не так. \n",
    "\n",
    "Для проверки используйте number = 346"
   ]
  },
  {
   "cell_type": "code",
   "execution_count": 28,
   "metadata": {},
   "outputs": [
    {
     "name": "stdout",
     "output_type": "stream",
     "text": [
      "Вова, это нужное число\n"
     ]
    }
   ],
   "source": [
    "# Architecture\n",
    "# number = variable\n",
    "# true if % 2, 5, 173, 821\n",
    "# else - false\n",
    "\n",
    "number = 346\n",
    "\n",
    "if number % 2 == 0 or number % 5 == 0 or number % 173 == 0 or number % 821 == 0:\n",
    "    print(\"Вова, это нужное число\")\n",
    "else:\n",
    "    print(\"Вова, в этот раз ты не попал\")"
   ]
  },
  {
   "cell_type": "markdown",
   "metadata": {},
   "source": [
    "### А1.4.3.5 Задание 5\n",
    "Вы решили сделать систему, которая может подобрать для людей язык программирования в зависимости от их любимого слова. \n",
    "Напишите программу, которая может вам в этом помочь. \n",
    "\n",
    "Программа принимает на вход слово (fav_word), \n",
    "и если это \"рептилия\", \"питон\" или \"змея\", выводит \"Python\", \n",
    "если это \"плюс\" или \"плюсы\", выводит \"C++\", \n",
    "если это \"рубин\" или \"кристалл\", выводит \"Ruby\". \n",
    "\n",
    "Ну а если что-то другое, то тоже выводит \"Python\". \n",
    "\n",
    "Для проверки используйте fav_word = 'Аппликация"
   ]
  },
  {
   "cell_type": "code",
   "execution_count": 30,
   "metadata": {},
   "outputs": [
    {
     "name": "stdout",
     "output_type": "stream",
     "text": [
      "Python\n"
     ]
    }
   ],
   "source": [
    "# Architecture\n",
    "# fav_word = \"\"\n",
    "# or + in + if cycle\n",
    "\n",
    "fav_word = \"Аппликация\"\n",
    "\n",
    "if \"рептилия\" or \"питон\" or \"змея\" in fav_word:\n",
    "    print(\"Python\")\n",
    "elif \"плюс\" or \"плюсы\" in fav_word:\n",
    "    print(\"C++\")\n",
    "elif \"рубин\" or \"кристалл\" in fav_word:\n",
    "    print(\"Ruby\")\n",
    "else:\n",
    "    print(\"Python\")"
   ]
  },
  {
   "cell_type": "markdown",
   "metadata": {},
   "source": [
    "### А1.4.3.6 Задание 6\n",
    "Преподаватель ведёт занятия с 10:30 до 12:00, с 13:40 до 15:00, с 18:00 до 19:30. \n",
    "\n",
    "В университет он приходит в 10 утра, а уходит - в 20 часов. \n",
    "Время в университете, свободное от пар, он посвящает консультациям студентов. \n",
    "\n",
    "Напишите программу, которая помогла бы студентам подстроиться под свободное время преподавателя: \n",
    "пусть они вводят желаемое время \n",
    "(сначала одно число - часы (hour), \n",
    "затем второе - минуты (minute)), \n",
    "\n",
    "а программа показывает, свободен преподаватель в это время или нет \n",
    "(выводит на экран \"Преподаватель свободен.\" или \"Преподаватель занят.\" соответственно). \n",
    "\n",
    "Для проверки используйте hour = 18 и minute = 47"
   ]
  },
  {
   "cell_type": "code",
   "execution_count": 72,
   "metadata": {},
   "outputs": [
    {
     "ename": "SyntaxError",
     "evalue": "invalid syntax (<ipython-input-72-0db36fc5c7b2>, line 39)",
     "output_type": "error",
     "traceback": [
      "\u001b[0;36m  File \u001b[0;32m\"<ipython-input-72-0db36fc5c7b2>\"\u001b[0;36m, line \u001b[0;32m39\u001b[0m\n\u001b[0;31m    if (hour and minute) < (start and end) or (lecture_1_start_h and lecture_1_start_m) /\u001b[0m\n\u001b[0m                                                                                         ^\u001b[0m\n\u001b[0;31mSyntaxError\u001b[0m\u001b[0;31m:\u001b[0m invalid syntax\n"
     ]
    }
   ],
   "source": [
    "# Architecture\n",
    "# devide time of the lectures by even chunks \n",
    "# hour - variable\n",
    "# minute - variable\n",
    "# input\n",
    "# or + in + if chunck cycle \n",
    "# compare hour and minute\n",
    "\n",
    "# hour = int(input(\"Enter hour\"))\n",
    "# minute = int(input(\"Enter minute\"))\n",
    "\n",
    "hour = 18\n",
    "minute = 47\n",
    "\n",
    "start = 10\n",
    "end = 20\n",
    "\n",
    "lecture_1_start_h = 10\n",
    "lecture_1_start_m = 30\n",
    "lecture_1_end_h = 12\n",
    "lecture_1_end_m = 0\n",
    "\n",
    "lecture_2_start_h = 13\n",
    "lecture_2_start_m = 40\n",
    "lecture_2_end_h = 15\n",
    "lecture_2_end_m = 0\n",
    "\n",
    "lecture_3_start_h = 18\n",
    "lecture_3_start_m = 0\n",
    "lecture_3_end_h = 19\n",
    "lecture_3_end_m = 30\n",
    "\n",
    "\n",
    "\n",
    "# lecture = \"10:30 до 12:00, 13:40 до 15:00, 18:00 до 19:30\"\n",
    "# lecture_2 = \"13:40 до 15:00\"\n",
    "# lecture_3 = \"18:00 до 19:30\"\n",
    "\n",
    "if (hour and minute) < (start and end) or (lecture_1_start_h and lecture_1_start_m) \n",
    "or (lecture_1_end_h and lecture_1_end_m) or (lecture_2_start_h and lecture_2_start_m) \n",
    "or (lecture_2_end_h and lecture_2_end_m) or (lecture_1_start_h and lecture_1_start_m) \n",
    "or (lecture_3_start_h and lecture_3_start_m) or (lecture_3_end_h and lecture_3_end_m):\n",
    "    print(\"Преподаватель занят.\")\n",
    "elif (hour and minute) > (start and end) or (lecture_1_start_h and lecture_1_start_m)\n",
    "or (lecture_1_end_h and lecture_1_end_m) or (lecture_2_start_h and lecture_2_start_m) \n",
    "or (lecture_2_end_h and lecture_2_end_m) or (lecture_1_start_h and lecture_1_start_m) \n",
    "or (lecture_3_start_h and lecture_3_start_m) or (lecture_3_end_h and lecture_3_end_m):\n",
    "    print(\"Преподаватель занят.\")\n",
    "else:\n",
    "    print(\"Преподаватель свободен.\")"
   ]
  },
  {
   "cell_type": "code",
   "execution_count": null,
   "metadata": {},
   "outputs": [],
   "source": []
  }
 ],
 "metadata": {
  "kernelspec": {
   "display_name": "Python 3",
   "language": "python",
   "name": "python3"
  },
  "language_info": {
   "codemirror_mode": {
    "name": "ipython",
    "version": 3
   },
   "file_extension": ".py",
   "mimetype": "text/x-python",
   "name": "python",
   "nbconvert_exporter": "python",
   "pygments_lexer": "ipython3",
   "version": "3.7.3"
  }
 },
 "nbformat": 4,
 "nbformat_minor": 2
}
