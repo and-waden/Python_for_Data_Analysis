{
 "cells": [
  {
   "cell_type": "code",
   "execution_count": 90,
   "metadata": {},
   "outputs": [],
   "source": [
    "import json  \n",
    "import numpy as np\n",
    "import pandas as pd\n",
    "from pprint import pprint"
   ]
  },
  {
   "cell_type": "code",
   "execution_count": 9,
   "metadata": {},
   "outputs": [],
   "source": [
    "with open('recipes.json') as f:\n",
    "    recipes = json.load(f)\n",
    "# recipes"
   ]
  },
  {
   "cell_type": "code",
   "execution_count": 57,
   "metadata": {},
   "outputs": [
    {
     "name": "stdout",
     "output_type": "stream",
     "text": [
      "500\n"
     ]
    }
   ],
   "source": [
    "# Итак, мы видим, что рецепт каждого блюда описан в виде словаря, состоящего из трёх пар \"ключ-значение\". \n",
    "# Ключ \"cuisine\" обозначает принадлежность блюда к определённой кухне, \n",
    "# \"id\" — это уникальный идентификационный номер блюда, \n",
    "# а ключ \"ingredients\" содержит перечень продуктов, входящих в состав блюда.\n",
    "\n",
    "# pprint(recipes[::])\n",
    "print(len(recipes))"
   ]
  },
  {
   "cell_type": "markdown",
   "metadata": {},
   "source": [
    "#### B8.2.2 Извлекаем данные из JSON"
   ]
  },
  {
   "cell_type": "code",
   "execution_count": 63,
   "metadata": {},
   "outputs": [
    {
     "data": {
      "text/plain": [
       "10259"
      ]
     },
     "execution_count": 63,
     "metadata": {},
     "output_type": "execute_result"
    }
   ],
   "source": [
    "# узнать id\n",
    "recipes[0]['id']"
   ]
  },
  {
   "cell_type": "code",
   "execution_count": 72,
   "metadata": {},
   "outputs": [
    {
     "data": {
      "text/plain": [
       "'greek'"
      ]
     },
     "execution_count": 72,
     "metadata": {},
     "output_type": "execute_result"
    }
   ],
   "source": [
    "recipes[0]['cuisine']"
   ]
  },
  {
   "cell_type": "code",
   "execution_count": 78,
   "metadata": {},
   "outputs": [
    {
     "data": {
      "text/plain": [
       "['romaine lettuce',\n",
       " 'black olives',\n",
       " 'grape tomatoes',\n",
       " 'garlic',\n",
       " 'pepper',\n",
       " 'purple onion',\n",
       " 'seasoning',\n",
       " 'garbanzo beans',\n",
       " 'feta cheese crumbles']"
      ]
     },
     "execution_count": 78,
     "metadata": {},
     "output_type": "execute_result"
    }
   ],
   "source": [
    "# Для получения списка ингредиентов первого блюда в списке\n",
    "\n",
    "recipes[0]['ingredients']"
   ]
  },
  {
   "cell_type": "markdown",
   "metadata": {},
   "source": [
    "Ещё один пример касается извлечения информации о конкретном блюде. Давайте попробуем найти информацию о том, к какой кухне относится блюдо с id = 13121. Сложность задачи заключается в том, что все id хранятся в словарях, которые являются элементами списка. Для получения данных о нужном блюде нам придётся перебрать все элементы списка, проверить их id, и при обнаружении совпадения извлечь нужную информацию:"
   ]
  },
  {
   "cell_type": "code",
   "execution_count": 74,
   "metadata": {},
   "outputs": [
    {
     "name": "stdout",
     "output_type": "stream",
     "text": [
      "thai\n"
     ]
    }
   ],
   "source": [
    "for recipe in recipes:  # начинаем перебор всех рецептов\n",
    "    \n",
    "    if recipe['id'] == 13121:  # если id текущего рецепта равен искомому\n",
    "        print(recipe['cuisine'])  # выводим на экран кухню, к которой относится блюдо\n",
    "        break   # и прерываем цикл, т.к. нужное блюдо уже найдено"
   ]
  },
  {
   "cell_type": "markdown",
   "metadata": {},
   "source": [
    "#### B8.2.2.1 Задание 1. Какую кухню (ключ 'cuisine') представляет последнее блюдо в списке recipes?"
   ]
  },
  {
   "cell_type": "code",
   "execution_count": 77,
   "metadata": {},
   "outputs": [
    {
     "data": {
      "text/plain": [
       "'british'"
      ]
     },
     "execution_count": 77,
     "metadata": {},
     "output_type": "execute_result"
    }
   ],
   "source": [
    "recipes[499]['cuisine']"
   ]
  },
  {
   "cell_type": "markdown",
   "metadata": {},
   "source": [
    "#### B8.2.2.2 Задание 2. Сколько ингредиентов входит в состав этого блюда?"
   ]
  },
  {
   "cell_type": "code",
   "execution_count": 82,
   "metadata": {},
   "outputs": [
    {
     "name": "stdout",
     "output_type": "stream",
     "text": [
      "17\n"
     ]
    }
   ],
   "source": [
    "print(len(recipes[499]['ingredients']))"
   ]
  },
  {
   "cell_type": "markdown",
   "metadata": {},
   "source": [
    "#### B8.2.2.3 Задание 3\n",
    "Какие из перечисленных ингредиентов присутствуют в блюде с id = 17636?"
   ]
  },
  {
   "cell_type": "code",
   "execution_count": 84,
   "metadata": {},
   "outputs": [
    {
     "name": "stdout",
     "output_type": "stream",
     "text": [
      "['tomato sauce', 'shredded carrots', 'spinach', 'part-skim mozzarella cheese', 'italian seasoning', 'english muffins, split and toasted', 'chopped onion', 'vegetable oil cooking spray', 'chopped green bell pepper']\n"
     ]
    }
   ],
   "source": [
    "for recipe in recipes:  # начинаем перебор всех рецептов\n",
    "    \n",
    "    if recipe['id'] == 17636:  # если id текущего рецепта равен искомому\n",
    "        print(recipe['ingredients'])  # выводим на экран кухню, к которой относится блюдо\n",
    "        break   # и прерываем цикл, т.к. нужное блюдо уже найдено"
   ]
  },
  {
   "cell_type": "code",
   "execution_count": 127,
   "metadata": {},
   "outputs": [
    {
     "data": {
      "text/plain": [
       "(14,\n",
       " [['water',\n",
       "   'extra-virgin olive oil',\n",
       "   'carrots',\n",
       "   'hot red pepper flakes',\n",
       "   'Turkish bay leaves',\n",
       "   'dried chickpeas',\n",
       "   'onions',\n",
       "   'celery ribs',\n",
       "   'semolina',\n",
       "   'fine sea salt',\n",
       "   'flat leaf parsley',\n",
       "   'warm water',\n",
       "   'vine ripened tomatoes',\n",
       "   'garlic cloves']])"
      ]
     },
     "execution_count": 127,
     "metadata": {},
     "output_type": "execute_result"
    }
   ],
   "source": [
    "list = []\n",
    "count = 0\n",
    "\n",
    "for recipe in recipes:\n",
    "    if recipe[\"id\"] == 42013:\n",
    "        list.append(recipe[\"ingredients\"])\n",
    "        for i in recipe[\"ingredients\"]:\n",
    "            count += 1\n",
    "        break\n",
    "\n",
    "count, list"
   ]
  },
  {
   "cell_type": "markdown",
   "metadata": {},
   "source": [
    "#### B8.2.2.5 Задание 5\n",
    "Какие ингредиенты отсутствуют в блюде с id = 23629?"
   ]
  },
  {
   "cell_type": "code",
   "execution_count": 128,
   "metadata": {},
   "outputs": [
    {
     "name": "stdout",
     "output_type": "stream",
     "text": [
      "['eggs', 'russet potatoes', 'mexican chorizo', 'black beans', 'salsa', 'canola oil', 'colby cheese', 'black olives', 'sour cream', 'avocado', 'half & half', 'goat cheese']\n"
     ]
    }
   ],
   "source": [
    "for recipe in recipes:  # начинаем перебор всех рецептов\n",
    "    \n",
    "    if recipe['id'] == 23629:  # если id текущего рецепта равен искомому\n",
    "        print(recipe['ingredients'])  # выводим на экран кухню, к которой относится блюдо\n",
    "        break   # и прерываем цикл, т.к. нужное блюдо уже найдено"
   ]
  },
  {
   "cell_type": "markdown",
   "metadata": {},
   "source": [
    "#### B8.2.3 Группировка данных"
   ]
  },
  {
   "cell_type": "code",
   "execution_count": 130,
   "metadata": {},
   "outputs": [
    {
     "data": {
      "text/plain": [
       "20"
      ]
     },
     "execution_count": 130,
     "metadata": {},
     "output_type": "execute_result"
    }
   ],
   "source": [
    "# Чтобы извлечь эту информацию, нам нужно создать пустой список и последовательно заполнять \n",
    "# его уникальными значениями, доступными по ключу 'cuisine' в каждом из словарей, \n",
    "# содержащих информацию о рецептах. \n",
    "# Поскольку словари объединены в список resipes, у нас не получится применить известный нам метод unique() \n",
    "# (этот метод не применим к словарям), и для извлечения всех уникальных значений нужно перебирать элементы \n",
    "# списка в цикле с параметром.\n",
    "\n",
    "\n",
    "cuisines = []  # создаём пустой список для хранения уникальных значений кухонь\n",
    "\n",
    "for recipe in recipes:  # начинаем перебор всех рецептов\n",
    "    if not(recipe['cuisine'] in cuisines):  # если тип кухни текущего блюда ещё не встречался\n",
    "        cuisines.append(recipe['cuisine']) # добавляем его к списку cuisines\n",
    "\n",
    "len(cuisines)"
   ]
  },
  {
   "cell_type": "code",
   "execution_count": 145,
   "metadata": {},
   "outputs": [
    {
     "data": {
      "text/plain": [
       "20"
      ]
     },
     "execution_count": 145,
     "metadata": {},
     "output_type": "execute_result"
    }
   ],
   "source": [
    "# Другой способ решения этой же задачи — использование для хранения данных о разных кухнях не списка, \n",
    "# а новой для вас конструкции — множества (set). \n",
    "\n",
    "cuisines = set()  # создаём пустое множество для хранения уникальных значений кухонь\n",
    "\n",
    "for recipe in recipes:  # начинаем перебор всех рецептов\n",
    "    cuisines.add(recipe['cuisine']) # добавляем название типа кухни к множеству\n",
    "\n",
    "len(cuisines)"
   ]
  },
  {
   "cell_type": "markdown",
   "metadata": {},
   "source": [
    "##### B8.2.3.1 Задание 1\n",
    "Сколько ингредиентов включено в состав всех блюд, описанных в наборе данных?\n",
    "\n",
    "Подсказка: Обратите внимание, что для добавления в список или множество нового ингредиента вам нужно будет организовать перебор ингредиентов каждого блюда в отдельном вложенном цикле."
   ]
  },
  {
   "cell_type": "code",
   "execution_count": 24,
   "metadata": {},
   "outputs": [],
   "source": [
    "# ingredients = []  # создаём пустой список для хранения уникальных значений кухонь\n",
    "\n",
    "# for ingredient in recipes:  # начинаем перебор всех рецептов\n",
    "#     if not (recipe['ingredients'] in ingredients): # добавляем название типа кухни к множеству\n",
    "#         ingredients.append(recipe[\"ingredients\"])\n",
    "        \n",
    "# len(ingredients)\n",
    "\n",
    "ingredients = []\n",
    "for recipe in recipes:\n",
    "    # print(recipe)\n",
    "    \n",
    "    for ingredient in recipe['ingredients']:\n",
    "       #print(ingredient)\n",
    "        \n",
    "        if not(ingredient in ingredients):\n",
    "            ingredients.append(ingredient)"
   ]
  },
  {
   "cell_type": "code",
   "execution_count": 41,
   "metadata": {},
   "outputs": [
    {
     "ename": "KeyError",
     "evalue": "'black olives'",
     "output_type": "error",
     "traceback": [
      "\u001b[0;31m---------------------------------------------------------------------------\u001b[0m",
      "\u001b[0;31mKeyError\u001b[0m                                  Traceback (most recent call last)",
      "\u001b[0;32m<ipython-input-41-2b08e22aa345>\u001b[0m in \u001b[0;36m<module>\u001b[0;34m\u001b[0m\n\u001b[1;32m     16\u001b[0m     \u001b[0;32mfor\u001b[0m \u001b[0mrecipe\u001b[0m \u001b[0;32min\u001b[0m \u001b[0mrecipes\u001b[0m\u001b[0;34m:\u001b[0m\u001b[0;34m\u001b[0m\u001b[0;34m\u001b[0m\u001b[0m\n\u001b[1;32m     17\u001b[0m         \u001b[0;32mfor\u001b[0m \u001b[0mitem\u001b[0m \u001b[0;32min\u001b[0m \u001b[0mrecipe\u001b[0m\u001b[0;34m[\u001b[0m\u001b[0;34m'ingredients'\u001b[0m\u001b[0;34m]\u001b[0m\u001b[0;34m:\u001b[0m\u001b[0;34m\u001b[0m\u001b[0;34m\u001b[0m\u001b[0m\n\u001b[0;32m---> 18\u001b[0;31m             \u001b[0mfood\u001b[0m\u001b[0;34m[\u001b[0m\u001b[0mitem\u001b[0m\u001b[0;34m]\u001b[0m \u001b[0;34m+=\u001b[0m \u001b[0;36m1\u001b[0m\u001b[0;34m\u001b[0m\u001b[0;34m\u001b[0m\u001b[0m\n\u001b[0m\u001b[1;32m     19\u001b[0m \u001b[0;34m\u001b[0m\u001b[0m\n\u001b[1;32m     20\u001b[0m \u001b[0ms\u001b[0m \u001b[0;34m=\u001b[0m \u001b[0msum\u001b[0m\u001b[0;34m(\u001b[0m\u001b[0mfood\u001b[0m\u001b[0;34m.\u001b[0m\u001b[0mvalues\u001b[0m\u001b[0;34m(\u001b[0m\u001b[0;34m)\u001b[0m\u001b[0;34m)\u001b[0m\u001b[0;34m\u001b[0m\u001b[0;34m\u001b[0m\u001b[0m\n",
      "\u001b[0;31mKeyError\u001b[0m: 'black olives'"
     ]
    }
   ],
   "source": [
    "ingredients = []\n",
    "for recipe in recipes:\n",
    "    # print(recipe)\n",
    "    \n",
    "    for ingredient in recipe['ingredients']:\n",
    "       #print(ingredient)\n",
    "        \n",
    "        if not(ingredient in ingredients):\n",
    "            ingredients.append(ingredient)\n",
    "\n",
    "            \n",
    "food = {}\n",
    "for item in ingredients:\n",
    "    food[item] = 0\n",
    "\n",
    "    for recipe in recipes:\n",
    "        for item in recipe['ingredients']:\n",
    "            food[item] += 1\n",
    "\n",
    "s = sum(food.values())\n",
    "\n",
    "for i, z in food.items():\n",
    "    pct = z * 100.0 / 500\n",
    "    \n",
    "    if pct>=20:\n",
    "        print(i, pct)\n",
    "\n",
    "print(i, pct)"
   ]
  },
  {
   "cell_type": "code",
   "execution_count": 42,
   "metadata": {},
   "outputs": [
    {
     "data": {
      "text/plain": [
       "1318"
      ]
     },
     "execution_count": 42,
     "metadata": {},
     "output_type": "execute_result"
    }
   ],
   "source": [
    "len(ingredients)"
   ]
  },
  {
   "cell_type": "markdown",
   "metadata": {},
   "source": [
    "#### B8.2.3.2 Задание 2\n",
    "Сколько ингредиентов встречается в рецептах блюд итальянской кухни ('cuisine' = italian)?"
   ]
  },
  {
   "cell_type": "markdown",
   "metadata": {},
   "source": [
    "В цикле for recipe in recipes: если if (recipe['cuisine'] == 'italian'), то, используя цикл for (for i in range(len(recipe['ingredients']))), перебирайте элементы внутри списка с ингредиентами, также проверяя, есть ли они уже в новом списке: if not(recipe['ingredients'][i] in uniqueitin) и после этого добавляйте его в список.\n",
    "И все это внутри ОДНОГО цикла for"
   ]
  },
  {
   "cell_type": "code",
   "execution_count": 40,
   "metadata": {},
   "outputs": [
    {
     "data": {
      "text/plain": [
       "406"
      ]
     },
     "execution_count": 40,
     "metadata": {},
     "output_type": "execute_result"
    }
   ],
   "source": [
    "italy_list =[] #создаю список для хранения ингридиентов итальянской кухни\n",
    "qingred = [] #создание списка с уникальными ингредиентами\n",
    "\n",
    "for recipe in recipes: #перебор всех рецептов\n",
    "    if (recipe['cuisine'] == 'italian'):\n",
    "        for i in range(len(recipe[\"ingredients\"])):\n",
    "            if not(recipe['ingredients'][i]) in qingred:\n",
    "                   # qingred.append(recipe['ingredients']) #добавляем его к списку uniqueitin\n",
    "                    qingred.append(recipe['ingredients'][i])\n",
    "len(qingred)             "
   ]
  },
  {
   "cell_type": "markdown",
   "metadata": {},
   "source": [
    "#### B8.2.3.3 Задание 3\n",
    "Какие ингредиенты не встречаются в рецептах блюд русской кухни ('cuisine' = 'russian')?"
   ]
  },
  {
   "cell_type": "code",
   "execution_count": 34,
   "metadata": {},
   "outputs": [
    {
     "data": {
      "text/plain": [
       "[['water', 'grits', 'mozzarella cheese', 'salt'],\n",
       " ['water',\n",
       "  'dill',\n",
       "  'sugar',\n",
       "  'buttermilk',\n",
       "  'onions',\n",
       "  'red beets',\n",
       "  'cucumber',\n",
       "  'boiled eggs',\n",
       "  'salt']]"
      ]
     },
     "execution_count": 34,
     "metadata": {},
     "output_type": "execute_result"
    }
   ],
   "source": [
    "cuisine =[] #создаю список для хранения ингридиентов итальянской кухни\n",
    "\n",
    "for recipe in recipes: #перебор всех рецептов\n",
    "    if (recipe['cuisine'] == 'russian'):\n",
    "        cuisine.append(recipe['ingredients'])\n",
    "cuisine"
   ]
  },
  {
   "cell_type": "markdown",
   "metadata": {},
   "source": [
    "### Кейс №2: Оцениваем популярность ингредиентов"
   ]
  },
  {
   "cell_type": "markdown",
   "metadata": {},
   "source": [
    "##### План решения задачи:\n",
    "\n",
    "Для хранения информации о частоте встречаемости ингредиентов мы создадим пустой словарь food.\n",
    "Заполним словарь food ключами, соответствующими названиями ингредиентов. В качестве значений по каждому ключу установим 0.\n",
    "<br> Организуем вложенный цикл, в котором будем перебирать рецепты (внешний цикл) и ингредиенты, использующиеся в каждом рецепте (внутренний цикл). \n",
    "<br> При каждом появлении очередного ингредиента мы будет увеличивать значение соответствующего элемента словаря food на единицу."
   ]
  },
  {
   "cell_type": "code",
   "execution_count": 45,
   "metadata": {},
   "outputs": [],
   "source": [
    "with open('recipes.json') as f:\n",
    "    recipes = json.load(f)\n",
    "# recipes"
   ]
  },
  {
   "cell_type": "markdown",
   "metadata": {},
   "source": [
    "Теперь мы можем обращаться к словарю food по ключам и получать информацию о количестве рецептов, включающих тот или иной ингредиент:"
   ]
  },
  {
   "cell_type": "code",
   "execution_count": 71,
   "metadata": {},
   "outputs": [],
   "source": [
    "food = {}  # создаём пустой словарь для хранения информации об ингредиентах\n",
    "for item in ingredients:  # перебираем список ингредиентов\n",
    "    food[item] = 0 # добавляем в словарь ключ, соответствующий очередному ингредиенту\n",
    "for recipe in recipes:   # перебираем список рецептов\n",
    "    for item in recipe['ingredients']:   # и список ингредиентов в каждом рецепте\n",
    "        food[item] += 1   # увеличиваем значение нужного ключа в словаре на 1"
   ]
  },
  {
   "cell_type": "code",
   "execution_count": 145,
   "metadata": {},
   "outputs": [
    {
     "data": {
      "text/plain": [
       "81"
      ]
     },
     "execution_count": 145,
     "metadata": {},
     "output_type": "execute_result"
    }
   ],
   "source": [
    "food[\"sugar\"]"
   ]
  },
  {
   "cell_type": "markdown",
   "metadata": {},
   "source": [
    "#### B8.2.3.4 Задание 4\n",
    "\n",
    "Какие ингредиенты входят в состав более чем 20% блюд, представленных в наборе данных?\n",
    "\n",
    "Подсказка: Напоминаем, что весь набор данных содержит сведения о 500 блюдах.\n",
    "\n"
   ]
  },
  {
   "cell_type": "code",
   "execution_count": 75,
   "metadata": {},
   "outputs": [
    {
     "name": "stdout",
     "output_type": "stream",
     "text": [
      "garlic 21.4\n",
      "salt 43.4\n"
     ]
    }
   ],
   "source": [
    "food = {}  # создаём пустой словарь для хранения информации об ингредиентах\n",
    "\n",
    "for item in ingredients:  # перебираем список ингредиентов\n",
    "    food[item] = 0 # добавляем в словарь ключ, соответствующий очередному ингредиенту\n",
    "    \n",
    "for recipe in recipes:   # перебираем список рецептов\n",
    "    for item in recipe['ingredients']:   # и список ингредиентов в каждом рецепте\n",
    "        food[item] += 1   # увеличиваем значение нужного ключа в словаре на 1        \n",
    "        \n",
    "for i, z in food.items():\n",
    "    percent = z * 100.0 / 500\n",
    "    if percent >= 20:\n",
    "        print(i, percent)"
   ]
  },
  {
   "cell_type": "markdown",
   "metadata": {},
   "source": [
    "#### B8.2.3.5 Задание 5\n",
    "Какой ингредиент входит в состав самого большого количества блюд?"
   ]
  },
  {
   "cell_type": "code",
   "execution_count": 88,
   "metadata": {},
   "outputs": [
    {
     "name": "stdout",
     "output_type": "stream",
     "text": [
      "salt 43.4\n"
     ]
    }
   ],
   "source": [
    "food = {}  # создаём пустой словарь для хранения информации об ингредиентах\n",
    "\n",
    "for item in ingredients:  # перебираем список ингредиентов\n",
    "    food[item] = 0 # добавляем в словарь ключ, соответствующий очередному ингредиенту\n",
    "    \n",
    "for recipe in recipes:   # перебираем список рецептов\n",
    "    for item in recipe['ingredients']:   # и список ингредиентов в каждом рецепте\n",
    "        food[item] += 1   # увеличиваем значение нужного ключа в словаре на 1        \n",
    "        \n",
    "for i, z in food.items():\n",
    "    percent = z * 100.0 / 500\n",
    "    if percent >=40:\n",
    "        print(i, percent)"
   ]
  },
  {
   "cell_type": "markdown",
   "metadata": {},
   "source": [
    "#### B8.2.3.6 Задание 6\n",
    "Сколько ингредиентов входит в состав только одного блюда?"
   ]
  },
  {
   "cell_type": "code",
   "execution_count": 166,
   "metadata": {},
   "outputs": [
    {
     "data": {
      "text/html": [
       "<div>\n",
       "<style scoped>\n",
       "    .dataframe tbody tr th:only-of-type {\n",
       "        vertical-align: middle;\n",
       "    }\n",
       "\n",
       "    .dataframe tbody tr th {\n",
       "        vertical-align: top;\n",
       "    }\n",
       "\n",
       "    .dataframe thead th {\n",
       "        text-align: right;\n",
       "    }\n",
       "</style>\n",
       "<table border=\"1\" class=\"dataframe\">\n",
       "  <thead>\n",
       "    <tr style=\"text-align: right;\">\n",
       "      <th></th>\n",
       "      <th>count</th>\n",
       "    </tr>\n",
       "  </thead>\n",
       "  <tbody>\n",
       "    <tr>\n",
       "      <th>romaine lettuce</th>\n",
       "      <td>5</td>\n",
       "    </tr>\n",
       "    <tr>\n",
       "      <th>black olives</th>\n",
       "      <td>4</td>\n",
       "    </tr>\n",
       "    <tr>\n",
       "      <th>grape tomatoes</th>\n",
       "      <td>4</td>\n",
       "    </tr>\n",
       "    <tr>\n",
       "      <th>garlic</th>\n",
       "      <td>107</td>\n",
       "    </tr>\n",
       "    <tr>\n",
       "      <th>pepper</th>\n",
       "      <td>53</td>\n",
       "    </tr>\n",
       "    <tr>\n",
       "      <th>...</th>\n",
       "      <td>...</td>\n",
       "    </tr>\n",
       "    <tr>\n",
       "      <th>Crystal Farms Shredded Gouda Cheese</th>\n",
       "      <td>1</td>\n",
       "    </tr>\n",
       "    <tr>\n",
       "      <th>mint</th>\n",
       "      <td>1</td>\n",
       "    </tr>\n",
       "    <tr>\n",
       "      <th>berries</th>\n",
       "      <td>1</td>\n",
       "    </tr>\n",
       "    <tr>\n",
       "      <th>figs</th>\n",
       "      <td>1</td>\n",
       "    </tr>\n",
       "    <tr>\n",
       "      <th>sprinkles</th>\n",
       "      <td>1</td>\n",
       "    </tr>\n",
       "  </tbody>\n",
       "</table>\n",
       "<p>1318 rows × 1 columns</p>\n",
       "</div>"
      ],
      "text/plain": [
       "                                     count\n",
       "romaine lettuce                          5\n",
       "black olives                             4\n",
       "grape tomatoes                           4\n",
       "garlic                                 107\n",
       "pepper                                  53\n",
       "...                                    ...\n",
       "Crystal Farms Shredded Gouda Cheese      1\n",
       "mint                                     1\n",
       "berries                                  1\n",
       "figs                                     1\n",
       "sprinkles                                1\n",
       "\n",
       "[1318 rows x 1 columns]"
      ]
     },
     "execution_count": 166,
     "metadata": {},
     "output_type": "execute_result"
    }
   ],
   "source": [
    "data=pd.DataFrame.from_dict(food, orient='index')\n",
    "data.columns=['count']\n",
    "data.nunique()"
   ]
  },
  {
   "cell_type": "code",
   "execution_count": null,
   "metadata": {},
   "outputs": [],
   "source": []
  },
  {
   "cell_type": "code",
   "execution_count": null,
   "metadata": {},
   "outputs": [],
   "source": [
    "# и дальше отобрать все, где count=1,2,max,min и т.д"
   ]
  },
  {
   "cell_type": "code",
   "execution_count": 159,
   "metadata": {},
   "outputs": [
    {
     "data": {
      "text/plain": [
       "5353"
      ]
     },
     "execution_count": 159,
     "metadata": {},
     "output_type": "execute_result"
    }
   ],
   "source": [
    "food = {}  # создаём пустой словарь для хранения информации об ингредиентах\n",
    "count = 0\n",
    "for item in ingredients:  # перебираем список ингредиентов\n",
    "    food[item] = 0 # добавляем в словарь ключ, соответствующий очередному ингредиенту\n",
    "for recipe in recipes:   # перебираем список рецептов\n",
    "    for item in recipe['ingredients']:   # и список ингредиентов в каждом рецепте\n",
    "        food[item] += 1   # увеличиваем значение нужного ключа в словаре на 1\n",
    "s = sum(food.values())\n",
    "s\n",
    "\n",
    "\n",
    "# for i, z in food.items():\n",
    "#     pct = z * 100.0 / 500\n",
    "#     if pct==1:\n",
    "#         count += 1\n",
    "#         print(i, pct)\n",
    "#         print(count)"
   ]
  },
  {
   "cell_type": "code",
   "execution_count": null,
   "metadata": {},
   "outputs": [],
   "source": []
  },
  {
   "cell_type": "code",
   "execution_count": 141,
   "metadata": {},
   "outputs": [
    {
     "name": "stdout",
     "output_type": "stream",
     "text": [
      "<class 'pandas.core.frame.DataFrame'>\n",
      "RangeIndex: 26 entries, 0 to 25\n",
      "Data columns (total 13 columns):\n",
      "0     0 non-null float64\n",
      "1     7 non-null object\n",
      "2     10 non-null object\n",
      "3     8 non-null object\n",
      "4     2 non-null object\n",
      "5     1 non-null object\n",
      "6     3 non-null object\n",
      "7     0 non-null float64\n",
      "8     3 non-null object\n",
      "9     3 non-null object\n",
      "10    0 non-null float64\n",
      "11    7 non-null object\n",
      "12    4 non-null object\n",
      "dtypes: float64(3), object(10)\n",
      "memory usage: 2.8+ KB\n"
     ]
    }
   ],
   "source": [
    "data = pd.read_excel(\"./nakladnaya.xls\", header=None, skiprows=2)\n",
    "data.iloc[:,:].dropna(axis=1, how='all')\n",
    "data.info()"
   ]
  },
  {
   "cell_type": "code",
   "execution_count": 134,
   "metadata": {},
   "outputs": [
    {
     "data": {
      "text/html": [
       "<div>\n",
       "<style scoped>\n",
       "    .dataframe tbody tr th:only-of-type {\n",
       "        vertical-align: middle;\n",
       "    }\n",
       "\n",
       "    .dataframe tbody tr th {\n",
       "        vertical-align: top;\n",
       "    }\n",
       "\n",
       "    .dataframe thead th {\n",
       "        text-align: right;\n",
       "    }\n",
       "</style>\n",
       "<table border=\"1\" class=\"dataframe\">\n",
       "  <thead>\n",
       "    <tr style=\"text-align: right;\">\n",
       "      <th></th>\n",
       "      <th>0</th>\n",
       "      <th>2</th>\n",
       "      <th>6</th>\n",
       "      <th>9</th>\n",
       "      <th>11</th>\n",
       "      <th>12</th>\n",
       "    </tr>\n",
       "  </thead>\n",
       "  <tbody>\n",
       "    <tr>\n",
       "      <th>6</th>\n",
       "      <td>NaN</td>\n",
       "      <td>NaN</td>\n",
       "      <td>NaN</td>\n",
       "      <td>NaN</td>\n",
       "      <td>NaN</td>\n",
       "      <td>NaN</td>\n",
       "    </tr>\n",
       "    <tr>\n",
       "      <th>7</th>\n",
       "      <td>NaN</td>\n",
       "      <td>NaN</td>\n",
       "      <td>NaN</td>\n",
       "      <td>NaN</td>\n",
       "      <td>NaN</td>\n",
       "      <td>NaN</td>\n",
       "    </tr>\n",
       "  </tbody>\n",
       "</table>\n",
       "</div>"
      ],
      "text/plain": [
       "   0    2    6    9    11   12\n",
       "6 NaN  NaN  NaN  NaN  NaN  NaN\n",
       "7 NaN  NaN  NaN  NaN  NaN  NaN"
      ]
     },
     "execution_count": 134,
     "metadata": {},
     "output_type": "execute_result"
    }
   ],
   "source": [
    "data.iloc[6:8, [0, 2, 6, 9, 11, 12]]"
   ]
  },
  {
   "cell_type": "code",
   "execution_count": 135,
   "metadata": {},
   "outputs": [
    {
     "data": {
      "text/html": [
       "<div>\n",
       "<style scoped>\n",
       "    .dataframe tbody tr th:only-of-type {\n",
       "        vertical-align: middle;\n",
       "    }\n",
       "\n",
       "    .dataframe tbody tr th {\n",
       "        vertical-align: top;\n",
       "    }\n",
       "\n",
       "    .dataframe thead th {\n",
       "        text-align: right;\n",
       "    }\n",
       "</style>\n",
       "<table border=\"1\" class=\"dataframe\">\n",
       "  <thead>\n",
       "    <tr style=\"text-align: right;\">\n",
       "      <th></th>\n",
       "    </tr>\n",
       "  </thead>\n",
       "  <tbody>\n",
       "    <tr>\n",
       "      <th>7</th>\n",
       "    </tr>\n",
       "  </tbody>\n",
       "</table>\n",
       "</div>"
      ],
      "text/plain": [
       "Empty DataFrame\n",
       "Columns: []\n",
       "Index: [7]"
      ]
     },
     "execution_count": 135,
     "metadata": {},
     "output_type": "execute_result"
    }
   ],
   "source": [
    "data.iloc[7:8, :].dropna(axis=1, how='all')"
   ]
  },
  {
   "cell_type": "code",
   "execution_count": 136,
   "metadata": {},
   "outputs": [
    {
     "data": {
      "text/html": [
       "<div>\n",
       "<style scoped>\n",
       "    .dataframe tbody tr th:only-of-type {\n",
       "        vertical-align: middle;\n",
       "    }\n",
       "\n",
       "    .dataframe tbody tr th {\n",
       "        vertical-align: top;\n",
       "    }\n",
       "\n",
       "    .dataframe thead th {\n",
       "        text-align: right;\n",
       "    }\n",
       "</style>\n",
       "<table border=\"1\" class=\"dataframe\">\n",
       "  <thead>\n",
       "    <tr style=\"text-align: right;\">\n",
       "      <th></th>\n",
       "    </tr>\n",
       "  </thead>\n",
       "  <tbody>\n",
       "    <tr>\n",
       "      <th>6</th>\n",
       "    </tr>\n",
       "    <tr>\n",
       "      <th>7</th>\n",
       "    </tr>\n",
       "  </tbody>\n",
       "</table>\n",
       "</div>"
      ],
      "text/plain": [
       "Empty DataFrame\n",
       "Columns: []\n",
       "Index: [6, 7]"
      ]
     },
     "execution_count": 136,
     "metadata": {},
     "output_type": "execute_result"
    }
   ],
   "source": [
    "data.iloc[6:8, :].dropna(axis=1, how='any')"
   ]
  },
  {
   "cell_type": "code",
   "execution_count": 137,
   "metadata": {},
   "outputs": [
    {
     "data": {
      "text/html": [
       "<div>\n",
       "<style scoped>\n",
       "    .dataframe tbody tr th:only-of-type {\n",
       "        vertical-align: middle;\n",
       "    }\n",
       "\n",
       "    .dataframe tbody tr th {\n",
       "        vertical-align: top;\n",
       "    }\n",
       "\n",
       "    .dataframe thead th {\n",
       "        text-align: right;\n",
       "    }\n",
       "</style>\n",
       "<table border=\"1\" class=\"dataframe\">\n",
       "  <thead>\n",
       "    <tr style=\"text-align: right;\">\n",
       "      <th></th>\n",
       "      <th>1</th>\n",
       "      <th>4</th>\n",
       "      <th>5</th>\n",
       "    </tr>\n",
       "  </thead>\n",
       "  <tbody>\n",
       "    <tr>\n",
       "      <th>6</th>\n",
       "      <td>Основание для отпуска: Договор №</td>\n",
       "      <td>86</td>\n",
       "      <td>от \"02\"апреля 2018 г.</td>\n",
       "    </tr>\n",
       "    <tr>\n",
       "      <th>7</th>\n",
       "      <td>NaN</td>\n",
       "      <td>NaN</td>\n",
       "      <td>NaN</td>\n",
       "    </tr>\n",
       "  </tbody>\n",
       "</table>\n",
       "</div>"
      ],
      "text/plain": [
       "                                   1    4                      5\n",
       "6  Основание для отпуска: Договор №    86  от \"02\"апреля 2018 г.\n",
       "7                                NaN  NaN                    NaN"
      ]
     },
     "execution_count": 137,
     "metadata": {},
     "output_type": "execute_result"
    }
   ],
   "source": [
    "data.iloc[6:8, :].dropna(axis=1, how='all')"
   ]
  },
  {
   "cell_type": "code",
   "execution_count": null,
   "metadata": {},
   "outputs": [],
   "source": []
  },
  {
   "cell_type": "code",
   "execution_count": null,
   "metadata": {},
   "outputs": [],
   "source": []
  },
  {
   "cell_type": "code",
   "execution_count": null,
   "metadata": {},
   "outputs": [],
   "source": []
  }
 ],
 "metadata": {
  "kernelspec": {
   "display_name": "Python 3",
   "language": "python",
   "name": "python3"
  },
  "language_info": {
   "codemirror_mode": {
    "name": "ipython",
    "version": 3
   },
   "file_extension": ".py",
   "mimetype": "text/x-python",
   "name": "python",
   "nbconvert_exporter": "python",
   "pygments_lexer": "ipython3",
   "version": "3.7.3"
  }
 },
 "nbformat": 4,
 "nbformat_minor": 4
}
