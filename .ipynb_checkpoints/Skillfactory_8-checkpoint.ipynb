{
 "cells": [
  {
   "cell_type": "markdown",
   "metadata": {},
   "source": [
    "money = 1\n",
    "year = 0\n",
    "yearly_multiplier = 1.06\n",
    "\n",
    "while money < 2:\n",
    "    money = money * yearly_multiplier\n",
    "    year += 1\n",
    "    print(year, money)\n",
    "else:\n",
    "    print('Деньги удвоятся через', year, 'лет')"
   ]
  },
  {
   "cell_type": "code",
   "execution_count": 9,
   "metadata": {},
   "outputs": [
    {
     "name": "stdout",
     "output_type": "stream",
     "text": [
      "[4, 11, 8, 5, 13, 2, 8]\n",
      "[4, 11, 8, 5, 13, 2]\n"
     ]
    }
   ],
   "source": [
    "card_deck = [4, 11, 8, 5, 13, 2, 8, 10]\n",
    "hand = []\n",
    "\n",
    "# adds the last element of the card_deck list to the hand list\n",
    "# until the values in hand add up to 17 or more\n",
    "while sum(hand)  < 17:\n",
    "    hand.append(card_deck.pop())\n",
    "    print(card_deck)"
   ]
  },
  {
   "cell_type": "code",
   "execution_count": 12,
   "metadata": {},
   "outputs": [
    {
     "name": "stdout",
     "output_type": "stream",
     "text": [
      "The count is: 0\n",
      "The count is: 1\n",
      "The count is: 2\n",
      "The count is: 3\n",
      "The count is: 4\n",
      "The count is: 5\n",
      "The count is: 6\n",
      "The count is: 7\n",
      "The count is: 8\n",
      "Good bye!\n"
     ]
    }
   ],
   "source": [
    "count = 0\n",
    "while (count < 9):\n",
    "    print('The count is:', count)\n",
    "    count = count + 1\n",
    "\n",
    "print(\"Good bye!\")"
   ]
  },
  {
   "cell_type": "markdown",
   "metadata": {},
   "source": [
    "### А1.5.4.1 Задание 1\n",
    "Клиент банка открыл вклад под 10% годовых и положил на этот счёт Y рублей. \n",
    "\n",
    "Напишите программу, позволяющую определить, через сколько лет клиент\n",
    "будет иметь на счету сумму не менее Z рублей. На вход программе идут два числа - Y, Z.\n",
    "\n",
    "Для проверки используйте Y = 170000, Z = 1000000. В результате работы программа \n",
    "должна вывести на экран число лет, которое потребуется для накопления требуемой суммы. \n",
    "\n",
    "Ответ должен быть выведен на экран в виде целого числа без какого-либо \n",
    "дополнительного поясняющего текста.\n",
    "\n",
    "Внимание: в процессе выполнения программы изменяйте переменную Y."
   ]
  },
  {
   "cell_type": "code",
   "execution_count": 42,
   "metadata": {},
   "outputs": [
    {
     "name": "stdout",
     "output_type": "stream",
     "text": [
      "19\n"
     ]
    }
   ],
   "source": [
    "# Architecture\n",
    "# while Z < ...\n",
    "# percent\n",
    "\n",
    "\n",
    "Y = 170000\n",
    "Z = 1000000\n",
    "percent = 1.10 # this is 10% \n",
    "year = 0\n",
    "\n",
    "while Y <= Z:\n",
    "    Y = Y * percent\n",
    "    year += 1\n",
    "    # print(year, Y)\n",
    "\n",
    "else:\n",
    "    print(year)"
   ]
  },
  {
   "cell_type": "markdown",
   "metadata": {},
   "source": [
    "### А1.5.4.2 Задание 2\n",
    "\n",
    "Пассажирский лифт имеет ограничение на перевозку: не более 400 кг единовременно. \n",
    "\n",
    "Пусть на вход программе поступает вес (weight) входящих в лифт людей, \n",
    "а в случае, когда возникает перевес, программа выдаёт предупреждение:\n",
    "\"Перевес ... кг\". \n",
    "\n",
    "Например, при перевесе в 15 кг должно быть выведено сообщение: \n",
    "\"Перевес 15 кг\". Обратите внимание, что в эталонной фразе не используются знаки препинания.\n",
    "\n",
    "Для проверки используйте weight = 77 и не меняйте его по ходу цикла."
   ]
  },
  {
   "cell_type": "code",
   "execution_count": 30,
   "metadata": {},
   "outputs": [
    {
     "name": "stdout",
     "output_type": "stream",
     "text": [
      "Перевес 62 кг\n"
     ]
    }
   ],
   "source": [
    "# Architecture\n",
    "# max_weight = \n",
    "# while max_weight < 400\n",
    "# if weight > 400 - print error msg\n",
    "\n",
    "# user_input = input(\"Give me the weight\")\n",
    "\n",
    "max_weight = 400\n",
    "weight = 77\n",
    "weight_count = 0\n",
    "\n",
    "while weight_count < max_weight:\n",
    "    weight_count += weight\n",
    "    # print(weight, weight_count)\n",
    "    \n",
    "    if weight_count > max_weight:\n",
    "        print(\"Перевес\", weight_count - max_weight, \"кг\")\n",
    "        break\n",
    "        "
   ]
  },
  {
   "cell_type": "markdown",
   "metadata": {},
   "source": [
    "### А1.5.4.3 Задание 3\n",
    "\n",
    "Вы играете в компьютерную игру, дошли до схватки с финальным боссом, но вот беда: ваш компьютер \"заглючил\", \n",
    "и вы не можете управлять персонажем в игре. Босс атакует и каждую секунду наносит один удар, который отнимает \n",
    "у вас 80 единиц здоровья. \n",
    "На схватку с боссом вы вышли с 500 единицами здоровья. \n",
    "\n",
    "Создайте цикл, позволяющий понять, через сколько секунд босс вас убьет.\n",
    "\n",
    "В результате работы программа должна вывести на экран число секунд,\n",
    "в течение которых будет длиться схватка. \n",
    "Ответ должен быть выведен на экран в виде целого числа без какого-либо дополнительного поясняющего текста.\n",
    "\n",
    "Для проверки используйте переменную current_health \n",
    "и для сохранения текущего уровня здоровья и изменяйте её по ходу цикла,\n",
    "и — переменную attack = 80 для хранения значения атаки Босса.\n",
    "\n"
   ]
  },
  {
   "cell_type": "code",
   "execution_count": 21,
   "metadata": {},
   "outputs": [
    {
     "name": "stdout",
     "output_type": "stream",
     "text": [
      "7\n"
     ]
    }
   ],
   "source": [
    "# Architecture \n",
    "# 1 hit - 80 health / sec\n",
    "# 500 health\n",
    "# attack = 80 \n",
    "\n",
    "\n",
    "attack = 80\n",
    "current_health = 500\n",
    "seconds = 0\n",
    "\n",
    "while current_health >= 0:\n",
    "    current_health -= attack\n",
    "    seconds += 1\n",
    "    # print(current_health, seconds)\n",
    "    \n",
    "    if current_health <= 0:\n",
    "        print(seconds)\n",
    "        # print(\"You are dead\")\n",
    "        break\n",
    "\n",
    "\n",
    "# attack = 80\n",
    "# health = 500\n",
    "# current_health = 0\n",
    "# seconds = 0\n",
    "\n",
    "# while current_health <= health:\n",
    "#     current_health += attack\n",
    "#     seconds += 1\n",
    "#     # print(current_health, seconds)\n",
    "    \n",
    "#     if current_health >= health:\n",
    "#         print(seconds)\n",
    "#         # print(\"You are dead\")\n",
    "#         break"
   ]
  },
  {
   "cell_type": "markdown",
   "metadata": {},
   "source": [
    "### А1.5.4.4 Задание 4\n",
    "\n",
    "На банковской карте хранятся 10 000 рублей. Хозяин карты написал программу, \n",
    "в которую вводит свои расходы (spent), после чего программа показывает баланс (balance). \n",
    "\n",
    "Баланс выводится в виде целого числа без каких-либо дополнительных сообщений. \n",
    "\n",
    "Например, при остатке 3500 рублей на экран выводится число 3500. \n",
    "Когда сумма средств на карте становится ниже нуля, программа выводит сообщение:\n",
    "\"Слишком большие расходы\".\n",
    "\n",
    "Напишите программу, которая выводит на экран начальный баланс карты (число 10000), \n",
    "баланс после каждого списания и сообщение \"Слишком большие расходы\" при достижении отрицательного баланса.\n",
    "\n",
    "Для проверки используйте переменную spent = 2800 и \n",
    "НЕ меняйте её по ходу цикла. Переменная balance должна меняться после каждого шага цикла."
   ]
  },
  {
   "cell_type": "code",
   "execution_count": 27,
   "metadata": {},
   "outputs": [
    {
     "name": "stdout",
     "output_type": "stream",
     "text": [
      "10000\n",
      "7200\n",
      "4400\n",
      "1600\n",
      "Слишком большие расходы\n"
     ]
    }
   ],
   "source": [
    "# Architecture\n",
    "# balance - 10k - chanhing\n",
    "# spent - 8k - can't change\n",
    "# input spent -> card's balance (int)\n",
    "\n",
    "spent = 2800\n",
    "balance = 10000\n",
    "print(balance)\n",
    "\n",
    "while balance >= 0:\n",
    "    balance -= spent\n",
    "    \n",
    "    if balance >= 0:\n",
    "        print(balance)\n",
    "    \n",
    "    elif balance <= 0:\n",
    "        print(\"Слишком большие расходы\")\n",
    "        break"
   ]
  },
  {
   "cell_type": "markdown",
   "metadata": {},
   "source": [
    "### А1.5.4.5 Задание 5\n",
    "Представьте, что перед вами большая цистерна объёмом 1000 литров, \n",
    "которую необходимо заполнить водой. \n",
    "У вас есть робот, который доставляет в цистерну сначала 5 литров, \n",
    "а затем каждый раз на 5 литров больше, чем в предыдущий. \n",
    "Изначально в цистерне нет воды. Через сколько заходов робота вода польётся через край?\n",
    "\n",
    "В результате работы программа должна вывести на экран число заходов, \n",
    "необходимых роботу для заполнения цистерны до краёв. \n",
    "Ответ должен быть выведен на экран в виде целого числа \n",
    "без какого-либо дополнительного поясняющего текста.\n",
    "\n",
    "Для проверки используйте переменную volume, \n",
    "равную свободному объёму в цистерне, \n",
    "и меняйте её по ходу цикла (на последнем шаге она должна быть меньше нуля)."
   ]
  },
  {
   "cell_type": "code",
   "execution_count": 48,
   "metadata": {},
   "outputs": [
    {
     "name": "stdout",
     "output_type": "stream",
     "text": [
      "1 5\n",
      "2 15\n",
      "3 30\n",
      "4 50\n",
      "5 75\n",
      "6 105\n",
      "7 140\n",
      "8 180\n",
      "9 225\n",
      "10 275\n",
      "11 330\n",
      "12 390\n",
      "13 455\n",
      "14 525\n",
      "15 600\n",
      "16 680\n",
      "17 765\n",
      "18 855\n",
      "19 950\n",
      "20 1050\n",
      "20\n"
     ]
    }
   ],
   "source": [
    "# Architecture\n",
    "# volume = 1000\n",
    "# step = + 5\n",
    "# need to print the number of steps before tank will be overfilled\n",
    "#\n",
    "\n",
    "volume = 0\n",
    "robot = 5\n",
    "step = 0\n",
    "\n",
    "# print(volume)\n",
    "\n",
    "while volume <= 1000:\n",
    "    step += 1\n",
    "    volume += (step * robot)\n",
    "    print(step, volume)\n",
    "    \n",
    "    if volume >= 1000:\n",
    "        print(step)\n",
    "        \n",
    "   "
   ]
  },
  {
   "cell_type": "code",
   "execution_count": 45,
   "metadata": {},
   "outputs": [
    {
     "name": "stdout",
     "output_type": "stream",
     "text": [
      "1 995\n",
      "2 985\n",
      "3 970\n",
      "4 950\n",
      "5 925\n",
      "6 895\n",
      "7 860\n",
      "8 820\n",
      "9 775\n",
      "10 725\n",
      "11 670\n",
      "12 610\n",
      "13 545\n",
      "14 475\n",
      "15 400\n",
      "16 320\n",
      "17 235\n",
      "18 145\n",
      "19 50\n",
      "20 -50\n",
      "20\n"
     ]
    }
   ],
   "source": [
    "volume = 1000\n",
    "robot = 5\n",
    "step = 0\n",
    "\n",
    "# print(volume)\n",
    "\n",
    "while volume >= 0:\n",
    "    step += 1\n",
    "    volume -= (step * robot)\n",
    "    print(step, volume)\n",
    "    \n",
    "    if volume <= 0:\n",
    "        print(step)\n",
    "        break"
   ]
  },
  {
   "cell_type": "code",
   "execution_count": 70,
   "metadata": {},
   "outputs": [
    {
     "name": "stdout",
     "output_type": "stream",
     "text": [
      "12\n"
     ]
    }
   ],
   "source": [
    "count = 1\n",
    "while count < 27:\n",
    "    if count % 2 == 0:\n",
    "        to_print = 12\n",
    "    else:\n",
    "        to_print = 10\n",
    "    count += 1\n",
    "\n",
    "\n",
    "print(to_print)"
   ]
  },
  {
   "cell_type": "code",
   "execution_count": null,
   "metadata": {},
   "outputs": [],
   "source": []
  }
 ],
 "metadata": {
  "kernelspec": {
   "display_name": "Python 3",
   "language": "python",
   "name": "python3"
  },
  "language_info": {
   "codemirror_mode": {
    "name": "ipython",
    "version": 3
   },
   "file_extension": ".py",
   "mimetype": "text/x-python",
   "name": "python",
   "nbconvert_exporter": "python",
   "pygments_lexer": "ipython3",
   "version": "3.7.3"
  }
 },
 "nbformat": 4,
 "nbformat_minor": 2
}
