{
 "cells": [
  {
   "cell_type": "markdown",
   "metadata": {},
   "source": [
    "## Dictionaries"
   ]
  },
  {
   "cell_type": "code",
   "execution_count": 1,
   "metadata": {},
   "outputs": [],
   "source": [
    "phones = [\"+79033923029\", \"+78125849204\", \"+79053049385\", \"+79265748370\", \"+79030598495\"]"
   ]
  },
  {
   "cell_type": "code",
   "execution_count": 52,
   "metadata": {},
   "outputs": [
    {
     "name": "stdout",
     "output_type": "stream",
     "text": [
      "+79033923029\n",
      "+78125849204\n",
      "NET\n",
      "NET\n"
     ]
    }
   ],
   "source": [
    "base = {\n",
    "    'Мария Никитина': '+79033923029',\n",
    "    'Егор Савичев': '+78125849204',\n",
    "    'Александр Пахомов': '+79053049385',\n",
    "    'Алина Егорова': '+79265748370',\n",
    "    'Руслан Башаров': '+79030598495'\n",
    "}\n",
    "# print(da['Алина Егорова'])\n",
    "\n",
    "request = ['Мария Никитина', 'Егор Савичев', 'Алексей Чернышевский', \"NONAME\"]\n",
    "\n",
    "for name in request:\n",
    "    if name in base:\n",
    "        print(base[name])\n",
    "    else:\n",
    "        print('NET')"
   ]
  },
  {
   "cell_type": "markdown",
   "metadata": {},
   "source": [
    "### Жеребьевка Чемпионата мира-2018\n",
    "### Метод простого ключа \n",
    "Напишите код, который по названию страны country присваивает переменной group название группы по результатам жеребьевки.\n",
    "Если страны нет в словаре draw_dict,  то переменной group присваивается значение 'unknown'. \n",
    "\n",
    "Выполните код для значения country = 'Италия'."
   ]
  },
  {
   "cell_type": "code",
   "execution_count": 123,
   "metadata": {},
   "outputs": [],
   "source": [
    "# draw_dict = {\n",
    "# \t'Россия': 'A',\n",
    "# \t'Португалия': 'B',\n",
    "# \t'Франция': 'C',\n",
    "# \t'Дания': 'C',\n",
    "# \t'Египет': 'A'\n",
    "# }\n",
    "\n",
    "# country = 'Италия'\n",
    "# group = \"\"\n",
    "\n",
    "# for name in country:\n",
    "#     if name in draw_dict:\n",
    "#         group = \"A\"\n",
    "#     else:\n",
    "#         group = 'unknown'\n",
    "\n",
    "# print(group)       "
   ]
  },
  {
   "cell_type": "code",
   "execution_count": 54,
   "metadata": {},
   "outputs": [
    {
     "name": "stdout",
     "output_type": "stream",
     "text": [
      "{'a': 1, 'b': 0}\n"
     ]
    }
   ],
   "source": [
    "simple_dict = {'a': 1}\n",
    "simple_dict.setdefault ('b', 0)\n",
    "print(simple_dict)"
   ]
  },
  {
   "cell_type": "code",
   "execution_count": 56,
   "metadata": {},
   "outputs": [
    {
     "name": "stdout",
     "output_type": "stream",
     "text": [
      "{'a': 1, 'b': 0}\n"
     ]
    }
   ],
   "source": [
    "simple_dict = {'a': 1, 'b': 0}\n",
    "\n",
    "simple_dict.setdefault ('b', 5)\n",
    "print(simple_dict)"
   ]
  },
  {
   "cell_type": "code",
   "execution_count": 59,
   "metadata": {},
   "outputs": [
    {
     "name": "stdout",
     "output_type": "stream",
     "text": [
      "+79033923029\n",
      "+78125849204\n",
      "XZ\n"
     ]
    }
   ],
   "source": [
    "base = {\n",
    "    'Мария Никитина': '+79033923029',\n",
    "    'Егор Савичев': '+78125849204',\n",
    "    'Александр Пахомов': '+79053049385',\n",
    "    'Алина Егорова': '+79265748370',\n",
    "    'Руслан Башаров': '+79030598495'\n",
    "}\n",
    "# print(da['Алина Егорова'])\n",
    "\n",
    "request = ['Мария Никитина', 'Егор Савичев', \"NONAME\"]\n",
    "\n",
    "for name in request:\n",
    "    base.setdefault(name, \"XZ\")\n",
    "    print(base[name])"
   ]
  },
  {
   "cell_type": "markdown",
   "metadata": {},
   "source": [
    "## Жеребьевка Чемпионата мира-2018\n",
    "### Метод setdefault \n",
    "Решите предыдущую задачу, используя метод setdefault. Вместо проверки на наличие ключа вы можете сразу назначить значение по умолчанию 'unknown'. Проверьте работу кода для country = 'Италия'. Результат запишите в переменную group"
   ]
  },
  {
   "cell_type": "code",
   "execution_count": 124,
   "metadata": {},
   "outputs": [],
   "source": [
    "# draw_dict = {\n",
    "# \t'Россия': 'A',\n",
    "# \t'Португалия': 'B',\n",
    "# \t'Франция': 'C',\n",
    "# \t'Дания': 'C',\n",
    "# \t'Египет': 'A'\n",
    "# }\n",
    "\n",
    "# country = 'Италия'\n",
    "# group = \"unknown\"\n",
    "\n",
    "# for name in country:\n",
    "#     draw_dict.setdefault(\"Италия\", group)\n",
    "    \n",
    "# print(draw_dict) "
   ]
  },
  {
   "cell_type": "code",
   "execution_count": 76,
   "metadata": {},
   "outputs": [
    {
     "data": {
      "text/plain": [
       "{'Мария Никитина': 'менеджер',\n",
       " 'Егор Савичев': 'разработчик',\n",
       " 'Александр Пахомов': 'дизайнер',\n",
       " 'Алина Егорова': 'разработчик',\n",
       " 'Руслан Башаров': 'верстальщик'}"
      ]
     },
     "execution_count": 76,
     "metadata": {},
     "output_type": "execute_result"
    }
   ],
   "source": [
    "employee_base = {'Мария Никитина': 'менеджер', \n",
    "                 'Егор Савичев': 'разработчик', \n",
    "                 'Александр Пахомов': 'дизайнер', \n",
    "                 'Алина Егорова': 'разработчик', \n",
    "                 'Руслан Башаров': 'верстальщик'\n",
    "}\n",
    "employee_base"
   ]
  },
  {
   "cell_type": "code",
   "execution_count": 78,
   "metadata": {},
   "outputs": [
    {
     "name": "stdout",
     "output_type": "stream",
     "text": [
      "Мария Никитина\n",
      "Егор Савичев\n",
      "Александр Пахомов\n",
      "Алина Егорова\n",
      "Руслан Башаров\n"
     ]
    }
   ],
   "source": [
    "employee_base = {'Мария Никитина': 'менеджер', \n",
    "                 'Егор Савичев': 'разработчик', \n",
    "                 'Александр Пахомов': 'дизайнер', \n",
    "                 'Алина Егорова': 'разработчик', \n",
    "                 'Руслан Башаров': 'верстальщик'\n",
    "}\n",
    "\n",
    "for employee in employee_base:\n",
    "    print(employee)"
   ]
  },
  {
   "cell_type": "code",
   "execution_count": 95,
   "metadata": {},
   "outputs": [
    {
     "name": "stdout",
     "output_type": "stream",
     "text": [
      "Мария Никитина менеджер\n",
      "Егор Савичев разработчик\n",
      "Александр Пахомов дизайнер\n",
      "Алина Егорова разработчик\n",
      "Руслан Башаров верстальщик\n"
     ]
    }
   ],
   "source": [
    "employee_base = {'Мария Никитина': 'менеджер', \n",
    "                 'Егор Савичев': 'разработчик', \n",
    "                 'Александр Пахомов': 'дизайнер', \n",
    "                 'Алина Егорова': 'разработчик', \n",
    "                 'Руслан Башаров': 'верстальщик'\n",
    "}\n",
    "\n",
    "for employee in employee_base:\n",
    "    print(employee, employee_base[employee])  "
   ]
  },
  {
   "cell_type": "code",
   "execution_count": 119,
   "metadata": {},
   "outputs": [
    {
     "name": "stdout",
     "output_type": "stream",
     "text": [
      "The First Case\n",
      "Vasya developer\n",
      "Sasha ux\n",
      "Kolya PM\n",
      "\n",
      "\n",
      "The Second Case\n",
      "Sasha\n"
     ]
    }
   ],
   "source": [
    "my_base = {'Vasya': 'developer', 'Sasha': 'ux', 'Kolya': 'PM'}\n",
    "print(\"The First Case\")\n",
    "for folks in my_base:\n",
    "    print(folks, my_base[folks])\n",
    "\n",
    "print(\"\\n\")\n",
    "print(\"The Second Case\")\n",
    "for folks in my_base:\n",
    "    if my_base[folks] == \"ux\":\n",
    "        print(folks)"
   ]
  },
  {
   "cell_type": "code",
   "execution_count": 106,
   "metadata": {},
   "outputs": [
    {
     "name": "stdout",
     "output_type": "stream",
     "text": [
      "Егор Савичев\n",
      "Алина Егорова\n"
     ]
    }
   ],
   "source": [
    "employee_base = {'Мария Никитина': 'менеджер', \n",
    "                 'Егор Савичев': 'разработчик', \n",
    "                 'Александр Пахомов': 'дизайнер', \n",
    "                 'Алина Егорова': 'разработчик', \n",
    "                 'Руслан Башаров': 'верстальщик'\n",
    "}\n",
    "\n",
    "for employee in employee_base:\n",
    "    if employee_base[employee] == \"разработчик\":\n",
    "        print(employee)"
   ]
  },
  {
   "cell_type": "markdown",
   "metadata": {},
   "source": [
    "### Фильтрация результатов жеребьевки\n",
    "Отфильтруйте словарь draw_dict, оставив в нем только страны группы A. \n",
    "\n",
    "Отфильтрованный результат запишите в новый словарь draw_new"
   ]
  },
  {
   "cell_type": "code",
   "execution_count": 164,
   "metadata": {},
   "outputs": [
    {
     "name": "stdout",
     "output_type": "stream",
     "text": [
      "Россия A\n",
      "Египет A\n",
      "{'Россия': 'A', 'Египет': 'A'}\n"
     ]
    }
   ],
   "source": [
    "# setdefault method to append values to a dict\n",
    "\n",
    "draw_dict = {\n",
    "\t'Россия': 'A',\n",
    "\t'Португалия': 'B',\n",
    "\t'Франция': 'C',\n",
    "\t'Дания': 'C',\n",
    "\t'Египет': 'A'\n",
    "}\n",
    "\n",
    "draw_new = {}\n",
    "\n",
    "for group in draw_dict:\n",
    "    if draw_dict[group] == \"A\":\n",
    "        print(group, draw_dict[group])\n",
    "        draw_new.setdefault(group, \"A\")\n",
    "        \n",
    "\n",
    "print(draw_new)"
   ]
  },
  {
   "cell_type": "code",
   "execution_count": 143,
   "metadata": {},
   "outputs": [
    {
     "name": "stdout",
     "output_type": "stream",
     "text": [
      "[[1, 2, 3, 4, 5], [123, 234, 456]]\n"
     ]
    }
   ],
   "source": [
    "# append method to a dict from Stackoverflow\n",
    "\n",
    "list1 = [1, 2, 3, 4, 5]\n",
    "list2 = [123, 234, 456]\n",
    "d = {'a': [], 'b': []}\n",
    "\n",
    "d['a'].append(list1)\n",
    "d['a'].append(list2)\n",
    "\n",
    "print(d['a'])"
   ]
  },
  {
   "cell_type": "markdown",
   "metadata": {},
   "source": [
    "### A2.3.10 Перебор значений словаря\n",
    "«разработчик»:\n",
    "\n",
    " заводим переменную-счетчик\n",
    "\n",
    "для позиции в employee_base.values ():\n",
    "    if position == 'разработчик':\n",
    "        # увеличиваем счетчик на 1\n",
    "        \n",
    " выводим значение счетчика на экране\n"
   ]
  },
  {
   "cell_type": "code",
   "execution_count": 168,
   "metadata": {},
   "outputs": [
    {
     "name": "stdout",
     "output_type": "stream",
     "text": [
      "2\n"
     ]
    }
   ],
   "source": [
    "employee_base = {'Мария Никитина': 'менеджер', \n",
    "                 'Егор Савичев': 'разработчик', \n",
    "                 'Александр Пахомов': 'дизайнер', \n",
    "                 'Алина Егорова': 'разработчик', \n",
    "                 'Руслан Башаров': 'верстальщик'\n",
    "}\n",
    "\n",
    "count = 0\n",
    "\n",
    "for position in employee_base.values():\n",
    "    if position == \"разработчик\":\n",
    "        count += 1\n",
    "print(count)"
   ]
  },
  {
   "cell_type": "markdown",
   "metadata": {},
   "source": [
    "### метод items"
   ]
  },
  {
   "cell_type": "code",
   "execution_count": 169,
   "metadata": {},
   "outputs": [
    {
     "name": "stdout",
     "output_type": "stream",
     "text": [
      "Мария Никитина менеджер\n",
      "Егор Савичев разработчик\n",
      "Александр Пахомов дизайнер\n",
      "Алина Егорова разработчик\n",
      "Руслан Башаров верстальщик\n"
     ]
    }
   ],
   "source": [
    "employee_base = {'Мария Никитина': 'менеджер', \n",
    "                 'Егор Савичев': 'разработчик', \n",
    "                 'Александр Пахомов': 'дизайнер', \n",
    "                 'Алина Егорова': 'разработчик', \n",
    "                 'Руслан Башаров': 'верстальщик'\n",
    "}\n",
    "\n",
    "for employee, position in employee_base.items():\n",
    "    print(employee, position)"
   ]
  },
  {
   "cell_type": "code",
   "execution_count": 170,
   "metadata": {},
   "outputs": [
    {
     "name": "stdout",
     "output_type": "stream",
     "text": [
      "Руслан Башаров\n"
     ]
    }
   ],
   "source": [
    "employee_base = {'Мария Никитина': 'менеджер', \n",
    "                 'Егор Савичев': 'разработчик', \n",
    "                 'Александр Пахомов': 'дизайнер', \n",
    "                 'Алина Егорова': 'разработчик', \n",
    "                 'Руслан Башаров': 'верстальщик'\n",
    "}\n",
    "\n",
    "for employee, position in employee_base.items():\n",
    "    if position == \"верстальщик\":\n",
    "        print(employee)"
   ]
  },
  {
   "cell_type": "markdown",
   "metadata": {},
   "source": [
    "### Фильтрация результатов жеребьевки\n",
    "Отфильтруйте словарь draw_dict с помощью метода items, \n",
    "оставив в нем только страны группы A. \n",
    "\n",
    "Отфильтрованный результат запишите в новый словарь draw_new"
   ]
  },
  {
   "cell_type": "code",
   "execution_count": 175,
   "metadata": {},
   "outputs": [
    {
     "name": "stdout",
     "output_type": "stream",
     "text": [
      "{'Россия': 'A', 'Египет': 'A'}\n"
     ]
    }
   ],
   "source": [
    "draw_dict = {\n",
    "\t'Россия': 'A',\n",
    "\t'Португалия': 'B',\n",
    "\t'Франция': 'C',\n",
    "\t'Дания': 'C',\n",
    "\t'Египет': 'A'\n",
    "}\n",
    "\n",
    "draw_new = {}\n",
    "\n",
    "for country, group in draw_dict.items():\n",
    "    if group == \"A\":\n",
    "        draw_new.setdefault(country, \"A\")\n",
    "\n",
    "print(draw_new)"
   ]
  },
  {
   "cell_type": "markdown",
   "metadata": {},
   "source": [
    "### Задание 1\n",
    "Сотрудник ведет запись ежедневных расходов по партнерам. \n",
    "\n",
    "Он мог бы записывать суммы за 1-3 апреля в знакомые нам списки, но это не очень удобно: \n",
    "[2504, 4994, 6343]. \n",
    "Оформите расходы в словарь, в котором ключами являются даты \n",
    "('2019-04-01', '2019-04-02', '2019-04-03' апреля),\n",
    "\n",
    "а значениями — суммы расходов (2504, 4994 и 6343 рублей соответственно)."
   ]
  },
  {
   "cell_type": "code",
   "execution_count": 187,
   "metadata": {},
   "outputs": [
    {
     "name": "stdout",
     "output_type": "stream",
     "text": [
      "2504\n",
      "4994\n",
      "6343\n"
     ]
    },
    {
     "data": {
      "text/plain": [
       "13841"
      ]
     },
     "execution_count": 187,
     "metadata": {},
     "output_type": "execute_result"
    }
   ],
   "source": [
    "acc_dict = {'2019-04-01': 2504, '2019-04-02': 4994, '2019-04-03': 6343}\n",
    "\n",
    "total_expenses = 0\n",
    "\n",
    "for expense in acc_dict.values():\n",
    "    print(expense)  \n",
    "\n",
    "sum(acc_dict.values())\n",
    "\n",
    "# sum(d.values())"
   ]
  },
  {
   "cell_type": "code",
   "execution_count": 189,
   "metadata": {},
   "outputs": [
    {
     "name": "stdout",
     "output_type": "stream",
     "text": [
      "Номер верен\n",
      "Номер верен\n",
      "Номер верен\n"
     ]
    }
   ],
   "source": [
    "# Задание 3\n",
    "\n",
    "phones = {\n",
    "\t'Гордиенко Виктория': 5140,\n",
    "\t'Анисимов Кирилл': 5145,\n",
    "\t'Кузнецова Дарья': 5142\n",
    "}\n",
    "\n",
    "# Solution 1\n",
    "if phones['Кузнецова Дарья'] == 5142:\n",
    "\tprint('Номер верен')\n",
    "    \n",
    "# Solution 2\n",
    "for name, phone in phones.items():\n",
    "\tif name == 'Кузнецова Дарья' and phone == 5142:\n",
    "\t\tprint('Номер верен')\n",
    "        \n",
    "# Solution 3\n",
    "for record in phones:\n",
    "\tif record == 'Кузнецова Дарья' and phones[record] == 5142:\n",
    "\t\tprint('Номер верен')"
   ]
  },
  {
   "cell_type": "code",
   "execution_count": null,
   "metadata": {},
   "outputs": [],
   "source": []
  }
 ],
 "metadata": {
  "kernelspec": {
   "display_name": "Python 3",
   "language": "python",
   "name": "python3"
  },
  "language_info": {
   "codemirror_mode": {
    "name": "ipython",
    "version": 3
   },
   "file_extension": ".py",
   "mimetype": "text/x-python",
   "name": "python",
   "nbconvert_exporter": "python",
   "pygments_lexer": "ipython3",
   "version": "3.7.3"
  }
 },
 "nbformat": 4,
 "nbformat_minor": 2
}
