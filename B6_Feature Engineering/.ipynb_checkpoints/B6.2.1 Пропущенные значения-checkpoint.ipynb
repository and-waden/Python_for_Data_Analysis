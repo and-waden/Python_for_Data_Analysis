{
 "cells": [
  {
   "cell_type": "markdown",
   "metadata": {},
   "source": [
    "### B6.2.1 Пропущенные значения\n",
    "Чтобы программа правильно интерпретировала пропуски, при чтении файла с помощью метода read_csv можно передать в параметр na_values значение или список значений, которые при чтении будут помечены как пропуски.\n",
    "\n",
    "На практике чаще всего вы будете встречать '', 'NaN', 'nan', 'null'"
   ]
  },
  {
   "cell_type": "code",
   "execution_count": 1,
   "metadata": {},
   "outputs": [],
   "source": [
    "import pandas as pd"
   ]
  },
  {
   "cell_type": "markdown",
   "metadata": {},
   "source": [
    "#### Как найти пропуски\n",
    "В pandas есть метод isna(), который возвращает таблицу такой же размерности, что и на вход, но значения в ней - True или False. True, если данное значение является пропуском, и False в ином случае."
   ]
  },
  {
   "cell_type": "code",
   "execution_count": 4,
   "metadata": {},
   "outputs": [
    {
     "data": {
      "text/html": [
       "<div>\n",
       "<style scoped>\n",
       "    .dataframe tbody tr th:only-of-type {\n",
       "        vertical-align: middle;\n",
       "    }\n",
       "\n",
       "    .dataframe tbody tr th {\n",
       "        vertical-align: top;\n",
       "    }\n",
       "\n",
       "    .dataframe thead th {\n",
       "        text-align: right;\n",
       "    }\n",
       "</style>\n",
       "<table border=\"1\" class=\"dataframe\">\n",
       "  <thead>\n",
       "    <tr style=\"text-align: right;\">\n",
       "      <th></th>\n",
       "      <th>user_id</th>\n",
       "      <th>time</th>\n",
       "      <th>bet</th>\n",
       "      <th>win</th>\n",
       "    </tr>\n",
       "  </thead>\n",
       "  <tbody>\n",
       "    <tr>\n",
       "      <th>0</th>\n",
       "      <td>False</td>\n",
       "      <td>False</td>\n",
       "      <td>True</td>\n",
       "      <td>True</td>\n",
       "    </tr>\n",
       "    <tr>\n",
       "      <th>1</th>\n",
       "      <td>False</td>\n",
       "      <td>False</td>\n",
       "      <td>True</td>\n",
       "      <td>True</td>\n",
       "    </tr>\n",
       "    <tr>\n",
       "      <th>2</th>\n",
       "      <td>False</td>\n",
       "      <td>False</td>\n",
       "      <td>True</td>\n",
       "      <td>True</td>\n",
       "    </tr>\n",
       "    <tr>\n",
       "      <th>3</th>\n",
       "      <td>False</td>\n",
       "      <td>False</td>\n",
       "      <td>True</td>\n",
       "      <td>True</td>\n",
       "    </tr>\n",
       "    <tr>\n",
       "      <th>4</th>\n",
       "      <td>False</td>\n",
       "      <td>False</td>\n",
       "      <td>True</td>\n",
       "      <td>True</td>\n",
       "    </tr>\n",
       "  </tbody>\n",
       "</table>\n",
       "</div>"
      ],
      "text/plain": [
       "   user_id   time   bet   win\n",
       "0    False  False  True  True\n",
       "1    False  False  True  True\n",
       "2    False  False  True  True\n",
       "3    False  False  True  True\n",
       "4    False  False  True  True"
      ]
     },
     "execution_count": 4,
     "metadata": {},
     "output_type": "execute_result"
    }
   ],
   "source": [
    "log = pd.read_csv(\"log.csv\", header=None)\n",
    "log.columns = ['user_id', 'time', 'bet', 'win'] \n",
    "log.head().isna()"
   ]
  },
  {
   "cell_type": "code",
   "execution_count": 6,
   "metadata": {},
   "outputs": [
    {
     "data": {
      "text/html": [
       "<div>\n",
       "<style scoped>\n",
       "    .dataframe tbody tr th:only-of-type {\n",
       "        vertical-align: middle;\n",
       "    }\n",
       "\n",
       "    .dataframe tbody tr th {\n",
       "        vertical-align: top;\n",
       "    }\n",
       "\n",
       "    .dataframe thead th {\n",
       "        text-align: right;\n",
       "    }\n",
       "</style>\n",
       "<table border=\"1\" class=\"dataframe\">\n",
       "  <thead>\n",
       "    <tr style=\"text-align: right;\">\n",
       "      <th></th>\n",
       "      <th>user_id</th>\n",
       "      <th>time</th>\n",
       "      <th>bet</th>\n",
       "      <th>win</th>\n",
       "    </tr>\n",
       "  </thead>\n",
       "  <tbody>\n",
       "    <tr>\n",
       "      <th>0</th>\n",
       "      <td>Запись пользователя № - user_919</td>\n",
       "      <td>[2019-01-01 14:06:51</td>\n",
       "      <td>NaN</td>\n",
       "      <td>NaN</td>\n",
       "    </tr>\n",
       "    <tr>\n",
       "      <th>1</th>\n",
       "      <td>Запись пользователя № - user_973</td>\n",
       "      <td>[2019-01-01 14:51:16</td>\n",
       "      <td>NaN</td>\n",
       "      <td>NaN</td>\n",
       "    </tr>\n",
       "    <tr>\n",
       "      <th>2</th>\n",
       "      <td>Запись пользователя № - user_903</td>\n",
       "      <td>[2019-01-01 16:31:16</td>\n",
       "      <td>NaN</td>\n",
       "      <td>NaN</td>\n",
       "    </tr>\n",
       "    <tr>\n",
       "      <th>3</th>\n",
       "      <td>Запись пользователя № - user_954</td>\n",
       "      <td>[2019-01-01 17:17:51</td>\n",
       "      <td>NaN</td>\n",
       "      <td>NaN</td>\n",
       "    </tr>\n",
       "    <tr>\n",
       "      <th>4</th>\n",
       "      <td>Запись пользователя № - user_954</td>\n",
       "      <td>[2019-01-01 21:31:18</td>\n",
       "      <td>NaN</td>\n",
       "      <td>NaN</td>\n",
       "    </tr>\n",
       "  </tbody>\n",
       "</table>\n",
       "</div>"
      ],
      "text/plain": [
       "                            user_id                  time  bet  win\n",
       "0  Запись пользователя № - user_919  [2019-01-01 14:06:51  NaN  NaN\n",
       "1  Запись пользователя № - user_973  [2019-01-01 14:51:16  NaN  NaN\n",
       "2  Запись пользователя № - user_903  [2019-01-01 16:31:16  NaN  NaN\n",
       "3  Запись пользователя № - user_954  [2019-01-01 17:17:51  NaN  NaN\n",
       "4  Запись пользователя № - user_954  [2019-01-01 21:31:18  NaN  NaN"
      ]
     },
     "execution_count": 6,
     "metadata": {},
     "output_type": "execute_result"
    }
   ],
   "source": [
    "log.head()"
   ]
  },
  {
   "cell_type": "markdown",
   "metadata": {},
   "source": [
    "В numpy пропущенные значения могут быть записаны как специальный объект np.nan, что означает Not a Number.\n",
    "\n",
    "Проверить на наличие таких значений можно с помощью np.isnan().\n",
    "\n",
    "P.S. Если вы все-таки хотите посмотреть на красивую (и, возможно, полезную) визуализацию пропущенных значений - обратите внимание на библиотеку missingno."
   ]
  },
  {
   "cell_type": "markdown",
   "metadata": {},
   "source": [
    "#### B6.2.1.1 Задание 1\n",
    "Посчитайте количество пропусков в столбце time. Метод isna() есть не только у DataFrame, но и у Series. Это значит, что применять его можно не только ко всей таблице, но и к каждому столбцу отдельно.\n",
    "Примените этот метод, затем просуммируйте количество строк в итоговом столбце. Ответ введите в поле ниже."
   ]
  },
  {
   "cell_type": "code",
   "execution_count": 15,
   "metadata": {},
   "outputs": [
    {
     "name": "stdout",
     "output_type": "stream",
     "text": [
      "<class 'pandas.core.frame.DataFrame'>\n",
      "RangeIndex: 1000 entries, 0 to 999\n",
      "Data columns (total 4 columns):\n",
      "user_id    1000 non-null object\n",
      "time       985 non-null object\n",
      "bet        485 non-null float64\n",
      "win        138 non-null float64\n",
      "dtypes: float64(2), object(2)\n",
      "memory usage: 31.4+ KB\n"
     ]
    }
   ],
   "source": [
    "# Вариант № 1\n",
    "log.time.isna()\n",
    "log.info()"
   ]
  },
  {
   "cell_type": "code",
   "execution_count": 17,
   "metadata": {},
   "outputs": [
    {
     "data": {
      "text/plain": [
       "15"
      ]
     },
     "execution_count": 17,
     "metadata": {},
     "output_type": "execute_result"
    }
   ],
   "source": [
    "# Вариант № 2\n",
    "log.time.isna().sum()"
   ]
  },
  {
   "cell_type": "markdown",
   "metadata": {},
   "source": [
    "#### Удаление пропусков\n",
    "Пропуски можно удалять автоматически. Во многих случаях это правильно, так как данные с большим количеством пропусков часто не имеют смысла и не приносят никакой пользы.  \n",
    "\n",
    "Удалять данные с пропусками можно с помощью метода dropna().\n",
    "\n",
    "Параметр axis в методе dropna() говорит методу, по какой оси удалять значения.  \n",
    "\n",
    "Если нужно удалить строки, в которых встречается пропуск (NaN), следует указать axis=0.  Зачем это делать? Например, у нас из 1000 примеров данных про пользователей пропуски есть в пяти. Разумно их удалить, так как их количество пренебрежимо мало.\n",
    "\n",
    "Если нужно удалить столбцы, в которых встречается пропуск (NaN), нужно указывать axis=1. Зачем? Иногда в одном конкретном столбце пропусков настолько много, что с ними просто не хочется возиться - смысла в них все равно почти нет. \n",
    "\n",
    "Еще один интересный параметр - subset. Что он делает? Если передать в него список значений по одной оси (например, названия столбцов) и задать при этом в параметре axis другую ось (в нашем случае 0), то мы удалим те строки, для которых в данных столбцах находится пропуск. То же самое работает и наоборот: нужно поменять axis на 1 и вместо названий столбцов передавать индексы строк.\n",
    "\n",
    "Перед удалением строк обязательно сделайте бэкап."
   ]
  },
  {
   "cell_type": "markdown",
   "metadata": {},
   "source": [
    "#### B6.2.1.2 Задание 2\n",
    "Удалите все столбцы, где есть пропуски. Запишите в поле, сколько осталось столбцов в данных после этого."
   ]
  },
  {
   "cell_type": "code",
   "execution_count": 50,
   "metadata": {},
   "outputs": [
    {
     "data": {
      "text/html": [
       "<div>\n",
       "<style scoped>\n",
       "    .dataframe tbody tr th:only-of-type {\n",
       "        vertical-align: middle;\n",
       "    }\n",
       "\n",
       "    .dataframe tbody tr th {\n",
       "        vertical-align: top;\n",
       "    }\n",
       "\n",
       "    .dataframe thead th {\n",
       "        text-align: right;\n",
       "    }\n",
       "</style>\n",
       "<table border=\"1\" class=\"dataframe\">\n",
       "  <thead>\n",
       "    <tr style=\"text-align: right;\">\n",
       "      <th></th>\n",
       "      <th>user_id</th>\n",
       "    </tr>\n",
       "  </thead>\n",
       "  <tbody>\n",
       "    <tr>\n",
       "      <th>0</th>\n",
       "      <td>Запись пользователя № - user_919</td>\n",
       "    </tr>\n",
       "    <tr>\n",
       "      <th>1</th>\n",
       "      <td>Запись пользователя № - user_973</td>\n",
       "    </tr>\n",
       "    <tr>\n",
       "      <th>2</th>\n",
       "      <td>Запись пользователя № - user_903</td>\n",
       "    </tr>\n",
       "    <tr>\n",
       "      <th>3</th>\n",
       "      <td>Запись пользователя № - user_954</td>\n",
       "    </tr>\n",
       "    <tr>\n",
       "      <th>4</th>\n",
       "      <td>Запись пользователя № - user_954</td>\n",
       "    </tr>\n",
       "    <tr>\n",
       "      <th>...</th>\n",
       "      <td>...</td>\n",
       "    </tr>\n",
       "    <tr>\n",
       "      <th>995</th>\n",
       "      <td>Запись пользователя № - user_984</td>\n",
       "    </tr>\n",
       "    <tr>\n",
       "      <th>996</th>\n",
       "      <td>#error</td>\n",
       "    </tr>\n",
       "    <tr>\n",
       "      <th>997</th>\n",
       "      <td>#error</td>\n",
       "    </tr>\n",
       "    <tr>\n",
       "      <th>998</th>\n",
       "      <td>#error</td>\n",
       "    </tr>\n",
       "    <tr>\n",
       "      <th>999</th>\n",
       "      <td>#error</td>\n",
       "    </tr>\n",
       "  </tbody>\n",
       "</table>\n",
       "<p>1000 rows × 1 columns</p>\n",
       "</div>"
      ],
      "text/plain": [
       "                              user_id\n",
       "0    Запись пользователя № - user_919\n",
       "1    Запись пользователя № - user_973\n",
       "2    Запись пользователя № - user_903\n",
       "3    Запись пользователя № - user_954\n",
       "4    Запись пользователя № - user_954\n",
       "..                                ...\n",
       "995  Запись пользователя № - user_984\n",
       "996                            #error\n",
       "997                            #error\n",
       "998                            #error\n",
       "999                            #error\n",
       "\n",
       "[1000 rows x 1 columns]"
      ]
     },
     "execution_count": 50,
     "metadata": {},
     "output_type": "execute_result"
    }
   ],
   "source": [
    "log = pd.read_csv(\"log.csv\", header=None)\n",
    "log.columns = ['user_id', 'time', 'bet', 'win']\n",
    "new_log = log.dropna(axis=1, how='any', thresh=None, subset=None, inplace=True)\n",
    "log"
   ]
  },
  {
   "cell_type": "markdown",
   "metadata": {},
   "source": [
    "#### B6.2.1.3 Задание 3\n",
    "Удалите все строки, где есть пропуски. Запишите в поле, сколько осталось строк в данных после этого."
   ]
  },
  {
   "cell_type": "code",
   "execution_count": 52,
   "metadata": {},
   "outputs": [
    {
     "data": {
      "text/plain": [
       "user_id    133\n",
       "time       133\n",
       "bet        133\n",
       "win        133\n",
       "dtype: int64"
      ]
     },
     "execution_count": 52,
     "metadata": {},
     "output_type": "execute_result"
    }
   ],
   "source": [
    "log = pd.read_csv(\"log.csv\", header=None)\n",
    "log.columns = ['user_id', 'time', 'bet', 'win']\n",
    "new_log = log.dropna(axis=0, how='any', thresh=None, subset=None, inplace=True)\n",
    "log.count()"
   ]
  },
  {
   "cell_type": "code",
   "execution_count": 47,
   "metadata": {},
   "outputs": [
    {
     "ename": "TypeError",
     "evalue": "object of type 'NoneType' has no len()",
     "output_type": "error",
     "traceback": [
      "\u001b[0;31m---------------------------------------------------------------------------\u001b[0m",
      "\u001b[0;31mTypeError\u001b[0m                                 Traceback (most recent call last)",
      "\u001b[0;32m<ipython-input-47-a2262cab8ac5>\u001b[0m in \u001b[0;36m<module>\u001b[0;34m\u001b[0m\n\u001b[1;32m      1\u001b[0m \u001b[0;31m# comparing sizes of data frames\u001b[0m\u001b[0;34m\u001b[0m\u001b[0;34m\u001b[0m\u001b[0;34m\u001b[0m\u001b[0m\n\u001b[1;32m      2\u001b[0m print(\"Old data frame length:\", len(log), \"\\nNew data frame length:\",  \n\u001b[0;32m----> 3\u001b[0;31m        \u001b[0mlen\u001b[0m\u001b[0;34m(\u001b[0m\u001b[0mnew_log\u001b[0m\u001b[0;34m)\u001b[0m\u001b[0;34m,\u001b[0m \u001b[0;34m\"\\nNumber of rows with at least 1 NA value: \"\u001b[0m\u001b[0;34m,\u001b[0m\u001b[0;34m\u001b[0m\u001b[0;34m\u001b[0m\u001b[0m\n\u001b[0m\u001b[1;32m      4\u001b[0m        (len(log)-len(new_log))) \n",
      "\u001b[0;31mTypeError\u001b[0m: object of type 'NoneType' has no len()"
     ]
    }
   ],
   "source": [
    "# comparing sizes of data frames \n",
    "print(\"Old data frame length:\", len(log), \"\\nNew data frame length:\",  \n",
    "       len(new_log), \"\\nNumber of rows with at least 1 NA value: \", \n",
    "       (len(log)-len(new_data))) "
   ]
  },
  {
   "cell_type": "markdown",
   "metadata": {},
   "source": [
    "#### B6.2.1.4 Задание 4\n",
    "А сейчас удалите все столбцы, где есть пропуски, среди столбцов user_id и time. Запишите в поле, сколько осталось столбцов в данных после этого."
   ]
  },
  {
   "cell_type": "code",
   "execution_count": 92,
   "metadata": {},
   "outputs": [
    {
     "data": {
      "text/html": [
       "<div>\n",
       "<style scoped>\n",
       "    .dataframe tbody tr th:only-of-type {\n",
       "        vertical-align: middle;\n",
       "    }\n",
       "\n",
       "    .dataframe tbody tr th {\n",
       "        vertical-align: top;\n",
       "    }\n",
       "\n",
       "    .dataframe thead th {\n",
       "        text-align: right;\n",
       "    }\n",
       "</style>\n",
       "<table border=\"1\" class=\"dataframe\">\n",
       "  <thead>\n",
       "    <tr style=\"text-align: right;\">\n",
       "      <th></th>\n",
       "      <th>user_id</th>\n",
       "      <th>time</th>\n",
       "    </tr>\n",
       "  </thead>\n",
       "  <tbody>\n",
       "    <tr>\n",
       "      <th>0</th>\n",
       "      <td>Запись пользователя № - user_919</td>\n",
       "      <td>[2019-01-01 14:06:51</td>\n",
       "    </tr>\n",
       "    <tr>\n",
       "      <th>1</th>\n",
       "      <td>Запись пользователя № - user_973</td>\n",
       "      <td>[2019-01-01 14:51:16</td>\n",
       "    </tr>\n",
       "    <tr>\n",
       "      <th>2</th>\n",
       "      <td>Запись пользователя № - user_903</td>\n",
       "      <td>[2019-01-01 16:31:16</td>\n",
       "    </tr>\n",
       "    <tr>\n",
       "      <th>3</th>\n",
       "      <td>Запись пользователя № - user_954</td>\n",
       "      <td>[2019-01-01 17:17:51</td>\n",
       "    </tr>\n",
       "    <tr>\n",
       "      <th>4</th>\n",
       "      <td>Запись пользователя № - user_954</td>\n",
       "      <td>[2019-01-01 21:31:18</td>\n",
       "    </tr>\n",
       "    <tr>\n",
       "      <th>...</th>\n",
       "      <td>...</td>\n",
       "      <td>...</td>\n",
       "    </tr>\n",
       "    <tr>\n",
       "      <th>995</th>\n",
       "      <td>Запись пользователя № - user_984</td>\n",
       "      <td>[2019-04-20 9:59:58</td>\n",
       "    </tr>\n",
       "    <tr>\n",
       "      <th>996</th>\n",
       "      <td>#error</td>\n",
       "      <td>NaN</td>\n",
       "    </tr>\n",
       "    <tr>\n",
       "      <th>997</th>\n",
       "      <td>#error</td>\n",
       "      <td>NaN</td>\n",
       "    </tr>\n",
       "    <tr>\n",
       "      <th>998</th>\n",
       "      <td>#error</td>\n",
       "      <td>NaN</td>\n",
       "    </tr>\n",
       "    <tr>\n",
       "      <th>999</th>\n",
       "      <td>#error</td>\n",
       "      <td>NaN</td>\n",
       "    </tr>\n",
       "  </tbody>\n",
       "</table>\n",
       "<p>1000 rows × 2 columns</p>\n",
       "</div>"
      ],
      "text/plain": [
       "                              user_id                  time\n",
       "0    Запись пользователя № - user_919  [2019-01-01 14:06:51\n",
       "1    Запись пользователя № - user_973  [2019-01-01 14:51:16\n",
       "2    Запись пользователя № - user_903  [2019-01-01 16:31:16\n",
       "3    Запись пользователя № - user_954  [2019-01-01 17:17:51\n",
       "4    Запись пользователя № - user_954  [2019-01-01 21:31:18\n",
       "..                                ...                   ...\n",
       "995  Запись пользователя № - user_984   [2019-04-20 9:59:58\n",
       "996                            #error                   NaN\n",
       "997                            #error                   NaN\n",
       "998                            #error                   NaN\n",
       "999                            #error                   NaN\n",
       "\n",
       "[1000 rows x 2 columns]"
      ]
     },
     "execution_count": 92,
     "metadata": {},
     "output_type": "execute_result"
    }
   ],
   "source": [
    "log = pd.read_csv(\"log.csv\", header=None)\n",
    "log.columns = ['user_id', 'time', 'bet', 'win']\n",
    "log.dropna(axis=1, how='any', thresh=None, subset= [0,1], inplace=True)\n",
    "# log.isna()\n",
    "log"
   ]
  },
  {
   "cell_type": "code",
   "execution_count": null,
   "metadata": {},
   "outputs": [],
   "source": [
    "log.time.isna().sum()"
   ]
  },
  {
   "cell_type": "markdown",
   "metadata": {},
   "source": [
    "#### B6.2.1.5 Задание 5\n",
    "К каким объектам можно применять метод isna()?\n",
    "\n",
    "- Строки в pd.DataFrame\n",
    "- Таблицы в pandas (pd.DataFrame)\n",
    "- Столбцы в pd.DataFrame"
   ]
  },
  {
   "cell_type": "markdown",
   "metadata": {},
   "source": [
    "## B6.2.2 Дубли"
   ]
  },
  {
   "cell_type": "markdown",
   "metadata": {},
   "source": [
    "#### B6.2.2.1 Задание 1\n",
    "Удалите дубли среди столбцов user_id и time. Запишите в поле ниже, сколько осталось строк после удаления дублей."
   ]
  },
  {
   "cell_type": "code",
   "execution_count": 107,
   "metadata": {},
   "outputs": [
    {
     "data": {
      "text/html": [
       "<div>\n",
       "<style scoped>\n",
       "    .dataframe tbody tr th:only-of-type {\n",
       "        vertical-align: middle;\n",
       "    }\n",
       "\n",
       "    .dataframe tbody tr th {\n",
       "        vertical-align: top;\n",
       "    }\n",
       "\n",
       "    .dataframe thead th {\n",
       "        text-align: right;\n",
       "    }\n",
       "</style>\n",
       "<table border=\"1\" class=\"dataframe\">\n",
       "  <thead>\n",
       "    <tr style=\"text-align: right;\">\n",
       "      <th></th>\n",
       "      <th>user_id</th>\n",
       "      <th>time</th>\n",
       "      <th>bet</th>\n",
       "      <th>win</th>\n",
       "    </tr>\n",
       "  </thead>\n",
       "  <tbody>\n",
       "    <tr>\n",
       "      <th>0</th>\n",
       "      <td>Запись пользователя № - user_919</td>\n",
       "      <td>[2019-01-01 14:06:51</td>\n",
       "      <td>NaN</td>\n",
       "      <td>NaN</td>\n",
       "    </tr>\n",
       "    <tr>\n",
       "      <th>1</th>\n",
       "      <td>Запись пользователя № - user_973</td>\n",
       "      <td>[2019-01-01 14:51:16</td>\n",
       "      <td>NaN</td>\n",
       "      <td>NaN</td>\n",
       "    </tr>\n",
       "    <tr>\n",
       "      <th>2</th>\n",
       "      <td>Запись пользователя № - user_903</td>\n",
       "      <td>[2019-01-01 16:31:16</td>\n",
       "      <td>NaN</td>\n",
       "      <td>NaN</td>\n",
       "    </tr>\n",
       "    <tr>\n",
       "      <th>3</th>\n",
       "      <td>Запись пользователя № - user_954</td>\n",
       "      <td>[2019-01-01 17:17:51</td>\n",
       "      <td>NaN</td>\n",
       "      <td>NaN</td>\n",
       "    </tr>\n",
       "    <tr>\n",
       "      <th>4</th>\n",
       "      <td>Запись пользователя № - user_954</td>\n",
       "      <td>[2019-01-01 21:31:18</td>\n",
       "      <td>NaN</td>\n",
       "      <td>NaN</td>\n",
       "    </tr>\n",
       "    <tr>\n",
       "      <th>...</th>\n",
       "      <td>...</td>\n",
       "      <td>...</td>\n",
       "      <td>...</td>\n",
       "      <td>...</td>\n",
       "    </tr>\n",
       "    <tr>\n",
       "      <th>991</th>\n",
       "      <td>Запись пользователя № - user_965</td>\n",
       "      <td>[2019-04-20 12:55:41</td>\n",
       "      <td>800.0</td>\n",
       "      <td>6927.0</td>\n",
       "    </tr>\n",
       "    <tr>\n",
       "      <th>992</th>\n",
       "      <td>Запись пользователя № - user_967</td>\n",
       "      <td>[2019-04-20 14:59:36</td>\n",
       "      <td>10154.0</td>\n",
       "      <td>NaN</td>\n",
       "    </tr>\n",
       "    <tr>\n",
       "      <th>993</th>\n",
       "      <td>Запись пользователя № - user_973</td>\n",
       "      <td>[2019-04-20 17:09:56</td>\n",
       "      <td>10254.0</td>\n",
       "      <td>NaN</td>\n",
       "    </tr>\n",
       "    <tr>\n",
       "      <th>994</th>\n",
       "      <td>Запись пользователя № - user_977</td>\n",
       "      <td>[2019-04-20 18:10:07</td>\n",
       "      <td>10354.0</td>\n",
       "      <td>NaN</td>\n",
       "    </tr>\n",
       "    <tr>\n",
       "      <th>995</th>\n",
       "      <td>Запись пользователя № - user_984</td>\n",
       "      <td>[2019-04-20 9:59:58</td>\n",
       "      <td>9754.0</td>\n",
       "      <td>NaN</td>\n",
       "    </tr>\n",
       "  </tbody>\n",
       "</table>\n",
       "<p>986 rows × 4 columns</p>\n",
       "</div>"
      ],
      "text/plain": [
       "                              user_id                  time      bet     win\n",
       "0    Запись пользователя № - user_919  [2019-01-01 14:06:51      NaN     NaN\n",
       "1    Запись пользователя № - user_973  [2019-01-01 14:51:16      NaN     NaN\n",
       "2    Запись пользователя № - user_903  [2019-01-01 16:31:16      NaN     NaN\n",
       "3    Запись пользователя № - user_954  [2019-01-01 17:17:51      NaN     NaN\n",
       "4    Запись пользователя № - user_954  [2019-01-01 21:31:18      NaN     NaN\n",
       "..                                ...                   ...      ...     ...\n",
       "991  Запись пользователя № - user_965  [2019-04-20 12:55:41    800.0  6927.0\n",
       "992  Запись пользователя № - user_967  [2019-04-20 14:59:36  10154.0     NaN\n",
       "993  Запись пользователя № - user_973  [2019-04-20 17:09:56  10254.0     NaN\n",
       "994  Запись пользователя № - user_977  [2019-04-20 18:10:07  10354.0     NaN\n",
       "995  Запись пользователя № - user_984   [2019-04-20 9:59:58   9754.0     NaN\n",
       "\n",
       "[986 rows x 4 columns]"
      ]
     },
     "execution_count": 107,
     "metadata": {},
     "output_type": "execute_result"
    }
   ],
   "source": [
    "log = pd.read_csv(\"log.csv\", header=None)\n",
    "log.columns = ['user_id', 'time', 'bet', 'win']\n",
    "log.drop_duplicates([\"user_id\", \"time\"])\n",
    "\n",
    "# correct answer is 986 rows"
   ]
  },
  {
   "cell_type": "markdown",
   "metadata": {},
   "source": [
    "#### B6.2.2.2 Задание 2\n",
    "В каких случаях мы точно можем сказать, что перед нами дубли?\n",
    "- \"Мама мыла раму\" и \"Мама мыла кошку\"\n",
    "- \"Иван Иванов Алексеевич\" и \"Иванов Иван Алексеевич\"\n",
    "- \"База данных 1\" и \"База данных 1\"\n",
    "- \"Удачи\" и \"удача\""
   ]
  },
  {
   "cell_type": "markdown",
   "metadata": {},
   "source": [
    "Ответ\n",
    "- \"База данных 1\" и \"База данных 1\""
   ]
  },
  {
   "cell_type": "markdown",
   "metadata": {},
   "source": [
    "#### B6.3.1 Преобразование к datetime"
   ]
  },
  {
   "cell_type": "markdown",
   "metadata": {},
   "source": [
    "#### B6.3.1.1 Задание 1\n",
    "Уберите лишний символ, преобразуйте признак time к datetime. После этого найдите наибольшую дату и выведите ее без времени.\n",
    "\n",
    "Подсказка: можно применить метод max() к получившемуся столбцу со временем.\n",
    "\n",
    "Не забудьте избавиться от пропусков.\n",
    "\n",
    "Запишите ответ в формате \"YYYY-MM-DD\".\n",
    "Например, 1993-06-08."
   ]
  },
  {
   "cell_type": "code",
   "execution_count": 108,
   "metadata": {},
   "outputs": [
    {
     "data": {
      "text/plain": [
       "Timestamp('2019-04-20 12:55:41')"
      ]
     },
     "execution_count": 108,
     "metadata": {},
     "output_type": "execute_result"
    }
   ],
   "source": [
    "log = pd.read_csv(\"log.csv\")\n",
    "log = log.dropna()\n",
    "log.columns = ['user_id', 'time', 'bet', 'win']\n",
    "log['time'] = log.time.apply(lambda x: str(x).replace('[','')) # Уберает лишний символ\n",
    "log['time'] = pd.to_datetime(log['time']) # преобразовывает столбец time к формату datetime\n",
    "log['time'].max() # находит наибольшую дату "
   ]
  },
  {
   "cell_type": "code",
   "execution_count": null,
   "metadata": {},
   "outputs": [],
   "source": []
  },
  {
   "cell_type": "code",
   "execution_count": 113,
   "metadata": {},
   "outputs": [
    {
     "data": {
      "text/plain": [
       "13     57\n",
       "28     59\n",
       "150    54\n",
       "188    34\n",
       "204    26\n",
       "Name: time, dtype: int64"
      ]
     },
     "execution_count": 113,
     "metadata": {},
     "output_type": "execute_result"
    }
   ],
   "source": [
    "log = pd.read_csv(\"log.csv\")  \n",
    "log = log.dropna()  \n",
    "log.columns = ['user_id', 'time', 'bet', 'win']  \n",
    "log['time'] = log['time'].apply(lambda x: x[1:])  \n",
    "log['time'] = pd.to_datetime(log['time'])  \n",
    "# Пропущенная строка  \n",
    "log.time = log.time.apply(lambda x: x.minute)\n",
    "log['time'].head() "
   ]
  },
  {
   "cell_type": "markdown",
   "metadata": {},
   "source": [
    "## B6.3.2 Извлечение признаков времени"
   ]
  },
  {
   "cell_type": "markdown",
   "metadata": {},
   "source": [
    "#### B6.3.2.1 Задание 1\n",
    "Используйте оригинальные данные log.csv, столбец time.\n",
    "\n",
    "Подсказка: можно использовать value_counts().\n",
    "\n",
    "Найдите минуту, которая встречалась в данных чаще всего. Введите ответ в поле ниже.\n",
    "Например, 7."
   ]
  },
  {
   "cell_type": "code",
   "execution_count": 138,
   "metadata": {},
   "outputs": [
    {
     "data": {
      "text/plain": [
       "36.0    25\n",
       "31.0    23\n",
       "50.0    22\n",
       "40.0    21\n",
       "18.0    21\n",
       "6.0     21\n",
       "5.0     21\n",
       "43.0    21\n",
       "29.0    21\n",
       "53.0    21\n",
       "14.0    21\n",
       "12.0    21\n",
       "48.0    20\n",
       "45.0    20\n",
       "2.0     20\n",
       "58.0    20\n",
       "57.0    20\n",
       "27.0    19\n",
       "21.0    19\n",
       "56.0    19\n",
       "20.0    18\n",
       "54.0    18\n",
       "35.0    18\n",
       "47.0    18\n",
       "33.0    18\n",
       "9.0     18\n",
       "34.0    18\n",
       "3.0     18\n",
       "51.0    17\n",
       "10.0    17\n",
       "17.0    16\n",
       "55.0    16\n",
       "25.0    16\n",
       "24.0    15\n",
       "38.0    15\n",
       "28.0    15\n",
       "16.0    15\n",
       "37.0    15\n",
       "15.0    15\n",
       "49.0    15\n",
       "30.0    15\n",
       "32.0    14\n",
       "4.0     14\n",
       "44.0    14\n",
       "7.0     14\n",
       "19.0    14\n",
       "41.0    13\n",
       "1.0     13\n",
       "59.0    13\n",
       "23.0    12\n",
       "39.0    12\n",
       "0.0     12\n",
       "13.0    11\n",
       "22.0    11\n",
       "42.0    11\n",
       "46.0    10\n",
       "52.0    10\n",
       "8.0      9\n",
       "26.0     9\n",
       "11.0     6\n",
       "Name: time, dtype: int64"
      ]
     },
     "execution_count": 138,
     "metadata": {},
     "output_type": "execute_result"
    }
   ],
   "source": [
    "log = pd.read_csv(\"log.csv\")  \n",
    "log.columns = ['user_id', 'time', 'bet', 'win']  \n",
    "log['time'] = log.time.apply(lambda x: str(x).replace('[','')) # Уберает лишний символ\n",
    "log['time'] = pd.to_datetime(log['time']) # преобразовывает столбец time к формату datetime\n",
    "\n",
    "# seconds_column = log[\"time\"].apply(lambda x: x.minute)\n",
    "seconds_column = log[\"time\"].dt.minute\n",
    "seconds_column.value_counts(ascending=False)"
   ]
  },
  {
   "cell_type": "markdown",
   "metadata": {},
   "source": [
    "#### B6.3.2.2 Задание 2\n",
    "\n",
    "Используйте оригинальные данные log.csv, столбец time.\n",
    "\n",
    "Подсказка: можно использовать value_counts().\n",
    "\n",
    "Найдите месяц, который встречался в данных реже всего. Введите ответ в поле ниже.\n",
    "Например, 2."
   ]
  },
  {
   "cell_type": "code",
   "execution_count": 139,
   "metadata": {},
   "outputs": [
    {
     "data": {
      "text/plain": [
       "4.0    170\n",
       "2.0    259\n",
       "3.0    264\n",
       "1.0    291\n",
       "Name: time, dtype: int64"
      ]
     },
     "execution_count": 139,
     "metadata": {},
     "output_type": "execute_result"
    }
   ],
   "source": [
    "log = pd.read_csv(\"log.csv\")  \n",
    "log.columns = ['user_id', 'time', 'bet', 'win']  \n",
    "log['time'] = log.time.apply(lambda x: str(x).replace('[','')) # Уберает лишний символ\n",
    "log['time'] = pd.to_datetime(log['time']) # преобразовывает столбец time к формату datetime\n",
    "\n",
    "# seconds_column = log[\"time\"].apply(lambda x: x.minute)\n",
    "seconds_column = log[\"time\"].dt.month\n",
    "seconds_column.value_counts(ascending=True)"
   ]
  },
  {
   "cell_type": "markdown",
   "metadata": {},
   "source": [
    "#### B6.3.2.3 Задание 3*\n",
    "Используйте оригинальные данные log.csv, столбец time.\n",
    "\n",
    "Подсказка: можно использовать sum().\n",
    "\n",
    "Посчитайте, сколько дней в данных являются выходными (то есть субботой или воскресеньем). Введите ответ в поле ниже.\n",
    "Например, 300."
   ]
  },
  {
   "cell_type": "code",
   "execution_count": 4,
   "metadata": {},
   "outputs": [],
   "source": [
    "import pandas as pd"
   ]
  },
  {
   "cell_type": "code",
   "execution_count": 32,
   "metadata": {},
   "outputs": [
    {
     "data": {
      "text/plain": [
       "5.0    152\n",
       "2.0    150\n",
       "1.0    149\n",
       "0.0    135\n",
       "4.0    135\n",
       "3.0    132\n",
       "6.0    131\n",
       "Name: time, dtype: int64"
      ]
     },
     "execution_count": 32,
     "metadata": {},
     "output_type": "execute_result"
    }
   ],
   "source": [
    "log = pd.read_csv(\"log.csv\")  \n",
    "log.columns = ['user_id', 'time', 'bet', 'win']  \n",
    "log['time'] = log.time.apply(lambda x: str(x).replace('[','')) # Уберает лишний символ\n",
    "log['time'] = pd.to_datetime(log['time']) # преобразовывает столбец time к формату datetime\n",
    "\n",
    "weekends_column = log[\"time\"].dt.dayofweek\n",
    "# weekends_column = log[\"time\"].dt.day_name\n",
    "\n",
    "weekends_column.value_counts(ascending=False)"
   ]
  },
  {
   "cell_type": "markdown",
   "metadata": {},
   "source": [
    "#### B6.3.2.4 Задание 4*\n",
    "Используйте оригинальные данные log.csv, столбец time.\n",
    "\n",
    "Подсказка: можно использовать value_counts(). Кроме этого, потребуется написать функцию, которая преобразует дату во время дня.\n",
    "\n",
    "Договоримся, что с 0 до 5 часов - ночь, с 6 до 11 - утро, с 12 до 17 - день, с 18 до 23 - вечер.\n",
    "\n",
    "Важно: для выполнения задания вам нужно будет избавиться от пропусков только в столбце time. Вспомните, как избавиться от пропусков только по конкретному признаку.\n",
    "\n",
    "Посчитайте, какое время дня встречается в данных реже всего. Введите ответ в поле ниже: ночь, утро, день или вечер.\n",
    "Например, ночь."
   ]
  },
  {
   "cell_type": "code",
   "execution_count": 77,
   "metadata": {},
   "outputs": [
    {
     "name": "stdout",
     "output_type": "stream",
     "text": [
      "This is hour column 10    10\n",
      "19     9\n",
      "23     7\n",
      "8      7\n",
      "15     7\n",
      "14     7\n",
      "22     6\n",
      "3      6\n",
      "4      6\n",
      "9      6\n",
      "0      6\n",
      "17     6\n",
      "20     6\n",
      "12     5\n",
      "7      5\n",
      "6      5\n",
      "1      5\n",
      "13     4\n",
      "18     4\n",
      "21     4\n",
      "2      4\n",
      "16     3\n",
      "5      3\n",
      "11     2\n",
      "Name: time, dtype: int64\n",
      "This is minute column 36    7\n",
      "57    5\n",
      "44    5\n",
      "18    5\n",
      "35    4\n",
      "40    4\n",
      "25    4\n",
      "2     4\n",
      "48    4\n",
      "8     4\n",
      "1     4\n",
      "55    4\n",
      "34    4\n",
      "16    3\n",
      "6     3\n",
      "23    3\n",
      "15    3\n",
      "31    3\n",
      "0     3\n",
      "11    3\n",
      "38    3\n",
      "43    3\n",
      "46    2\n",
      "10    2\n",
      "54    2\n",
      "52    2\n",
      "17    2\n",
      "50    2\n",
      "9     2\n",
      "20    2\n",
      "49    2\n",
      "45    2\n",
      "12    2\n",
      "5     2\n",
      "26    2\n",
      "58    2\n",
      "29    2\n",
      "42    2\n",
      "33    2\n",
      "3     1\n",
      "4     1\n",
      "59    1\n",
      "13    1\n",
      "14    1\n",
      "19    1\n",
      "21    1\n",
      "22    1\n",
      "24    1\n",
      "37    1\n",
      "39    1\n",
      "47    1\n",
      "53    1\n",
      "27    1\n",
      "Name: time, dtype: int64\n",
      "This is new column 13     65\n",
      "28     72\n",
      "150    75\n",
      "188    52\n",
      "204    31\n",
      "       ..\n",
      "966    47\n",
      "970    45\n",
      "971    45\n",
      "975    45\n",
      "990    67\n",
      "Name: time, Length: 133, dtype: int64\n"
     ]
    },
    {
     "data": {
      "text/html": [
       "<div>\n",
       "<style scoped>\n",
       "    .dataframe tbody tr th:only-of-type {\n",
       "        vertical-align: middle;\n",
       "    }\n",
       "\n",
       "    .dataframe tbody tr th {\n",
       "        vertical-align: top;\n",
       "    }\n",
       "\n",
       "    .dataframe thead th {\n",
       "        text-align: right;\n",
       "    }\n",
       "</style>\n",
       "<table border=\"1\" class=\"dataframe\">\n",
       "  <thead>\n",
       "    <tr style=\"text-align: right;\">\n",
       "      <th></th>\n",
       "      <th>user_id</th>\n",
       "      <th>time</th>\n",
       "      <th>bet</th>\n",
       "      <th>win</th>\n",
       "    </tr>\n",
       "  </thead>\n",
       "  <tbody>\n",
       "    <tr>\n",
       "      <th>13</th>\n",
       "      <td>Запись пользователя № - user_917</td>\n",
       "      <td>2019-01-02 08:57:36</td>\n",
       "      <td>145732.0</td>\n",
       "      <td>1987653.0</td>\n",
       "    </tr>\n",
       "    <tr>\n",
       "      <th>28</th>\n",
       "      <td>Запись пользователя № - user_942</td>\n",
       "      <td>2019-01-04 13:59:42</td>\n",
       "      <td>1678321.0</td>\n",
       "      <td>9876543.0</td>\n",
       "    </tr>\n",
       "    <tr>\n",
       "      <th>150</th>\n",
       "      <td>Запись пользователя № - user_982</td>\n",
       "      <td>2019-01-16 21:54:22</td>\n",
       "      <td>100.0</td>\n",
       "      <td>4749.0</td>\n",
       "    </tr>\n",
       "    <tr>\n",
       "      <th>188</th>\n",
       "      <td>Запись пользователя № - user_964</td>\n",
       "      <td>2019-01-21 18:34:44</td>\n",
       "      <td>200.0</td>\n",
       "      <td>4667.0</td>\n",
       "    </tr>\n",
       "    <tr>\n",
       "      <th>204</th>\n",
       "      <td>Запись пользователя № - user_931</td>\n",
       "      <td>2019-01-22 05:26:59</td>\n",
       "      <td>300.0</td>\n",
       "      <td>4319.0</td>\n",
       "    </tr>\n",
       "    <tr>\n",
       "      <th>...</th>\n",
       "      <td>...</td>\n",
       "      <td>...</td>\n",
       "      <td>...</td>\n",
       "      <td>...</td>\n",
       "    </tr>\n",
       "    <tr>\n",
       "      <th>966</th>\n",
       "      <td>Запись пользователя № - user_975</td>\n",
       "      <td>2019-04-19 22:25:15</td>\n",
       "      <td>1000.0</td>\n",
       "      <td>6108.0</td>\n",
       "    </tr>\n",
       "    <tr>\n",
       "      <th>970</th>\n",
       "      <td>Запись пользователя № - user_912</td>\n",
       "      <td>2019-04-20 10:35:49</td>\n",
       "      <td>10554.0</td>\n",
       "      <td>31799.0</td>\n",
       "    </tr>\n",
       "    <tr>\n",
       "      <th>971</th>\n",
       "      <td>Запись пользователя № - user_926</td>\n",
       "      <td>2019-04-20 10:35:50</td>\n",
       "      <td>10354.0</td>\n",
       "      <td>30244.0</td>\n",
       "    </tr>\n",
       "    <tr>\n",
       "      <th>975</th>\n",
       "      <td>Запись пользователя № - user_970</td>\n",
       "      <td>2019-04-20 10:35:54</td>\n",
       "      <td>10354.0</td>\n",
       "      <td>30691.0</td>\n",
       "    </tr>\n",
       "    <tr>\n",
       "      <th>990</th>\n",
       "      <td>Запись пользователя № - user_965</td>\n",
       "      <td>2019-04-20 12:55:41</td>\n",
       "      <td>800.0</td>\n",
       "      <td>6927.0</td>\n",
       "    </tr>\n",
       "  </tbody>\n",
       "</table>\n",
       "<p>133 rows × 4 columns</p>\n",
       "</div>"
      ],
      "text/plain": [
       "                              user_id                time        bet  \\\n",
       "13   Запись пользователя № - user_917 2019-01-02 08:57:36   145732.0   \n",
       "28   Запись пользователя № - user_942 2019-01-04 13:59:42  1678321.0   \n",
       "150  Запись пользователя № - user_982 2019-01-16 21:54:22      100.0   \n",
       "188  Запись пользователя № - user_964 2019-01-21 18:34:44      200.0   \n",
       "204  Запись пользователя № - user_931 2019-01-22 05:26:59      300.0   \n",
       "..                                ...                 ...        ...   \n",
       "966  Запись пользователя № - user_975 2019-04-19 22:25:15     1000.0   \n",
       "970  Запись пользователя № - user_912 2019-04-20 10:35:49    10554.0   \n",
       "971  Запись пользователя № - user_926 2019-04-20 10:35:50    10354.0   \n",
       "975  Запись пользователя № - user_970 2019-04-20 10:35:54    10354.0   \n",
       "990  Запись пользователя № - user_965 2019-04-20 12:55:41      800.0   \n",
       "\n",
       "           win  \n",
       "13   1987653.0  \n",
       "28   9876543.0  \n",
       "150     4749.0  \n",
       "188     4667.0  \n",
       "204     4319.0  \n",
       "..         ...  \n",
       "966     6108.0  \n",
       "970    31799.0  \n",
       "971    30244.0  \n",
       "975    30691.0  \n",
       "990     6927.0  \n",
       "\n",
       "[133 rows x 4 columns]"
      ]
     },
     "execution_count": 77,
     "metadata": {},
     "output_type": "execute_result"
    }
   ],
   "source": [
    "\n",
    "log = pd.read_csv(\"log.csv\")  \n",
    "log.columns = ['user_id', 'time', 'bet', 'win']  \n",
    "log = log.dropna()\n",
    "log['time'] = log.time.apply(lambda x: str(x).replace('[','')) # Уберает лишний символ\n",
    "log['time'] = pd.to_datetime(log['time']) # преобразовывает столбец time к формату datetime\n",
    "\n",
    "hour_column = log[\"time\"].dt.hour\n",
    "minute_column = log[\"time\"].dt.minute\n",
    "\n",
    "print(\"This is hour column {}\".format(hour_column.value_counts(ascending=False)))\n",
    "print(\"This is minute column {}\".format(minute_column.value_counts(ascending=False)))\n",
    "\n",
    "print(\"This is new column\", hour_column + minute_column)\n",
    "log\n",
    "\n",
    "    \n",
    "    \n",
    "    "
   ]
  },
  {
   "cell_type": "markdown",
   "metadata": {},
   "source": [
    "#### B6.3.2.4 Задание 4*\n",
    "\n",
    "\n",
    "Используйте оригинальные данные log.csv, столбец time.\n",
    "\n",
    "Подсказка: можно использовать value_counts(). Кроме этого, потребуется написать функцию, которая преобразует дату во время дня.\n",
    "\n",
    "Договоримся, что с 0 до 5 часов - ночь, с 6 до 11 - утро, с 12 до 17 - день, с 18 до 23 - вечер.\n",
    "\n",
    "Важно: для выполнения задания вам нужно будет избавиться от пропусков только в столбце time. Вспомните, как избавиться от пропусков только по конкретному признаку.\n",
    "\n",
    "Посчитайте, какое время дня встречается в данных реже всего. Введите ответ в поле ниже: ночь, утро, день или вечер.\n",
    "Например, ночь."
   ]
  },
  {
   "cell_type": "code",
   "execution_count": 35,
   "metadata": {},
   "outputs": [
    {
     "data": {
      "text/plain": [
       "Ночь      37\n",
       "День     248\n",
       "Утро     275\n",
       "Вечер    439\n",
       "Name: time, dtype: int64"
      ]
     },
     "execution_count": 35,
     "metadata": {},
     "output_type": "execute_result"
    }
   ],
   "source": [
    "def time_date(t):\n",
    "    if t <= 0 and t <= 5:\n",
    "        return \"Ночь\"\n",
    "    elif t <= 6 and t <= 11:\n",
    "        return \"Утро\"\n",
    "    elif t <= 12 and t <= 17:\n",
    "        return \"День\"\n",
    "    else:\n",
    "        return \"Вечер\"\n",
    "\n",
    "\n",
    "log = pd.read_csv(\"log.csv\")  \n",
    "log.columns = ['user_id', 'time', 'bet', 'win']  \n",
    "log['time'] = log.time.apply(lambda x: str(x).replace('[','')) # Уберает лишний символ\n",
    "log['time'] = pd.to_datetime(log['time']) # преобразовывает столбец time к формату datetime\n",
    "\n",
    "log[\"time\"] = log.time.apply(lambda x: x.hour)\n",
    "log['time'] = log.time.apply(time_date)\n",
    "log[\"time\"].dropna().value_counts(ascending = True)"
   ]
  },
  {
   "cell_type": "markdown",
   "metadata": {},
   "source": [
    "#### B6.3.2.5 Задание 5*\n",
    "\n",
    "Давайте повторим то, что мы прошли в этой секции. Напишите код, который создаст признак hour из признака time в датасете log.csv. Для этого:\n",
    "\n",
    "1. загрузите датасет log.csv в переменную log, дальше работать будем с ней;\n",
    "\n",
    "2. установите имена столбцов: ['user_id', 'time', 'bet', 'win'];\n",
    "\n",
    "3. избавьтесь от пропусков в log;\n",
    "\n",
    "4. приведите переменную time к подходящему для извлечения признаков виду;\n",
    "\n",
    "5. получите значение часа для каждой строки в переменной time и запишите в столбец hour в log.\n",
    "\n",
    "Результатом будет таблица log со столбцом hour внутри."
   ]
  },
  {
   "cell_type": "code",
   "execution_count": 146,
   "metadata": {},
   "outputs": [
    {
     "data": {
      "text/html": [
       "<div>\n",
       "<style scoped>\n",
       "    .dataframe tbody tr th:only-of-type {\n",
       "        vertical-align: middle;\n",
       "    }\n",
       "\n",
       "    .dataframe tbody tr th {\n",
       "        vertical-align: top;\n",
       "    }\n",
       "\n",
       "    .dataframe thead th {\n",
       "        text-align: right;\n",
       "    }\n",
       "</style>\n",
       "<table border=\"1\" class=\"dataframe\">\n",
       "  <thead>\n",
       "    <tr style=\"text-align: right;\">\n",
       "      <th></th>\n",
       "      <th>user_id</th>\n",
       "      <th>time</th>\n",
       "      <th>bet</th>\n",
       "      <th>win</th>\n",
       "      <th>hour</th>\n",
       "    </tr>\n",
       "  </thead>\n",
       "  <tbody>\n",
       "    <tr>\n",
       "      <th>14</th>\n",
       "      <td>Запись пользователя № - user_917</td>\n",
       "      <td>2019-01-02 08:57:36</td>\n",
       "      <td>145732.0</td>\n",
       "      <td>1987653.0</td>\n",
       "      <td>8</td>\n",
       "    </tr>\n",
       "    <tr>\n",
       "      <th>29</th>\n",
       "      <td>Запись пользователя № - user_942</td>\n",
       "      <td>2019-01-04 13:59:42</td>\n",
       "      <td>1678321.0</td>\n",
       "      <td>9876543.0</td>\n",
       "      <td>13</td>\n",
       "    </tr>\n",
       "    <tr>\n",
       "      <th>151</th>\n",
       "      <td>Запись пользователя № - user_982</td>\n",
       "      <td>2019-01-16 21:54:22</td>\n",
       "      <td>100.0</td>\n",
       "      <td>4749.0</td>\n",
       "      <td>21</td>\n",
       "    </tr>\n",
       "    <tr>\n",
       "      <th>189</th>\n",
       "      <td>Запись пользователя № - user_964</td>\n",
       "      <td>2019-01-21 18:34:44</td>\n",
       "      <td>200.0</td>\n",
       "      <td>4667.0</td>\n",
       "      <td>18</td>\n",
       "    </tr>\n",
       "    <tr>\n",
       "      <th>205</th>\n",
       "      <td>Запись пользователя № - user_931</td>\n",
       "      <td>2019-01-22 05:26:59</td>\n",
       "      <td>300.0</td>\n",
       "      <td>4319.0</td>\n",
       "      <td>5</td>\n",
       "    </tr>\n",
       "    <tr>\n",
       "      <th>...</th>\n",
       "      <td>...</td>\n",
       "      <td>...</td>\n",
       "      <td>...</td>\n",
       "      <td>...</td>\n",
       "      <td>...</td>\n",
       "    </tr>\n",
       "    <tr>\n",
       "      <th>967</th>\n",
       "      <td>Запись пользователя № - user_975</td>\n",
       "      <td>2019-04-19 22:25:15</td>\n",
       "      <td>1000.0</td>\n",
       "      <td>6108.0</td>\n",
       "      <td>22</td>\n",
       "    </tr>\n",
       "    <tr>\n",
       "      <th>971</th>\n",
       "      <td>Запись пользователя № - user_912</td>\n",
       "      <td>2019-04-20 10:35:49</td>\n",
       "      <td>10554.0</td>\n",
       "      <td>31799.0</td>\n",
       "      <td>10</td>\n",
       "    </tr>\n",
       "    <tr>\n",
       "      <th>972</th>\n",
       "      <td>Запись пользователя № - user_926</td>\n",
       "      <td>2019-04-20 10:35:50</td>\n",
       "      <td>10354.0</td>\n",
       "      <td>30244.0</td>\n",
       "      <td>10</td>\n",
       "    </tr>\n",
       "    <tr>\n",
       "      <th>976</th>\n",
       "      <td>Запись пользователя № - user_970</td>\n",
       "      <td>2019-04-20 10:35:54</td>\n",
       "      <td>10354.0</td>\n",
       "      <td>30691.0</td>\n",
       "      <td>10</td>\n",
       "    </tr>\n",
       "    <tr>\n",
       "      <th>991</th>\n",
       "      <td>Запись пользователя № - user_965</td>\n",
       "      <td>2019-04-20 12:55:41</td>\n",
       "      <td>800.0</td>\n",
       "      <td>6927.0</td>\n",
       "      <td>12</td>\n",
       "    </tr>\n",
       "  </tbody>\n",
       "</table>\n",
       "<p>133 rows × 5 columns</p>\n",
       "</div>"
      ],
      "text/plain": [
       "                              user_id                time        bet  \\\n",
       "14   Запись пользователя № - user_917 2019-01-02 08:57:36   145732.0   \n",
       "29   Запись пользователя № - user_942 2019-01-04 13:59:42  1678321.0   \n",
       "151  Запись пользователя № - user_982 2019-01-16 21:54:22      100.0   \n",
       "189  Запись пользователя № - user_964 2019-01-21 18:34:44      200.0   \n",
       "205  Запись пользователя № - user_931 2019-01-22 05:26:59      300.0   \n",
       "..                                ...                 ...        ...   \n",
       "967  Запись пользователя № - user_975 2019-04-19 22:25:15     1000.0   \n",
       "971  Запись пользователя № - user_912 2019-04-20 10:35:49    10554.0   \n",
       "972  Запись пользователя № - user_926 2019-04-20 10:35:50    10354.0   \n",
       "976  Запись пользователя № - user_970 2019-04-20 10:35:54    10354.0   \n",
       "991  Запись пользователя № - user_965 2019-04-20 12:55:41      800.0   \n",
       "\n",
       "           win  hour  \n",
       "14   1987653.0     8  \n",
       "29   9876543.0    13  \n",
       "151     4749.0    21  \n",
       "189     4667.0    18  \n",
       "205     4319.0     5  \n",
       "..         ...   ...  \n",
       "967     6108.0    22  \n",
       "971    31799.0    10  \n",
       "972    30244.0    10  \n",
       "976    30691.0    10  \n",
       "991     6927.0    12  \n",
       "\n",
       "[133 rows x 5 columns]"
      ]
     },
     "execution_count": 146,
     "metadata": {},
     "output_type": "execute_result"
    }
   ],
   "source": [
    "# 1. загрузите датасет log.csv в переменную log, дальше работать будем с ней;\n",
    "log = pd.read_csv(\"log.csv\", header=None)\n",
    "log.columns = ['user_id', 'time', 'bet', 'win']  \n",
    "\n",
    "# 2. установите имена столбцов: ['user_id', 'time', 'bet', 'win'];\n",
    "log = log.dropna()\n",
    "\n",
    "\n",
    "# 3. избавьтесь от пропусков в log;\n",
    "log['time'] = log.time.apply(lambda x: str(x).replace('[','')) # Уберает лишний символ\n",
    "\n",
    "\n",
    "# 4. приведите переменную time к подходящему для извлечения признаков виду;\n",
    "log[\"time\"] = pd.to_datetime(log[\"time\"]) # преобразовывает столбец time к формату datetime\n",
    "\n",
    "# 5. получите значение часа для каждой строки в переменной time и запишите в столбец hour в log.\n",
    "# log[\"time\"] = log.time.apply(lambda x: x.hour)\n",
    "log[\"hour\"] = log[\"time\"].dt.hour\n",
    "\n",
    "log"
   ]
  },
  {
   "cell_type": "code",
   "execution_count": 47,
   "metadata": {},
   "outputs": [
    {
     "data": {
      "text/html": [
       "<div>\n",
       "<style scoped>\n",
       "    .dataframe tbody tr th:only-of-type {\n",
       "        vertical-align: middle;\n",
       "    }\n",
       "\n",
       "    .dataframe tbody tr th {\n",
       "        vertical-align: top;\n",
       "    }\n",
       "\n",
       "    .dataframe thead th {\n",
       "        text-align: right;\n",
       "    }\n",
       "</style>\n",
       "<table border=\"1\" class=\"dataframe\">\n",
       "  <thead>\n",
       "    <tr style=\"text-align: right;\">\n",
       "      <th></th>\n",
       "      <th>user_id</th>\n",
       "      <th>time</th>\n",
       "      <th>bet</th>\n",
       "      <th>win</th>\n",
       "      <th>hour</th>\n",
       "    </tr>\n",
       "  </thead>\n",
       "  <tbody>\n",
       "    <tr>\n",
       "      <th>14</th>\n",
       "      <td>Запись пользователя № - user_917</td>\n",
       "      <td>2019-01-02 08:57:36</td>\n",
       "      <td>145732.0</td>\n",
       "      <td>1987653.0</td>\n",
       "      <td>8</td>\n",
       "    </tr>\n",
       "    <tr>\n",
       "      <th>29</th>\n",
       "      <td>Запись пользователя № - user_942</td>\n",
       "      <td>2019-01-04 13:59:42</td>\n",
       "      <td>1678321.0</td>\n",
       "      <td>9876543.0</td>\n",
       "      <td>13</td>\n",
       "    </tr>\n",
       "    <tr>\n",
       "      <th>151</th>\n",
       "      <td>Запись пользователя № - user_982</td>\n",
       "      <td>2019-01-16 21:54:22</td>\n",
       "      <td>100.0</td>\n",
       "      <td>4749.0</td>\n",
       "      <td>21</td>\n",
       "    </tr>\n",
       "    <tr>\n",
       "      <th>189</th>\n",
       "      <td>Запись пользователя № - user_964</td>\n",
       "      <td>2019-01-21 18:34:44</td>\n",
       "      <td>200.0</td>\n",
       "      <td>4667.0</td>\n",
       "      <td>18</td>\n",
       "    </tr>\n",
       "    <tr>\n",
       "      <th>205</th>\n",
       "      <td>Запись пользователя № - user_931</td>\n",
       "      <td>2019-01-22 05:26:59</td>\n",
       "      <td>300.0</td>\n",
       "      <td>4319.0</td>\n",
       "      <td>5</td>\n",
       "    </tr>\n",
       "    <tr>\n",
       "      <th>...</th>\n",
       "      <td>...</td>\n",
       "      <td>...</td>\n",
       "      <td>...</td>\n",
       "      <td>...</td>\n",
       "      <td>...</td>\n",
       "    </tr>\n",
       "    <tr>\n",
       "      <th>967</th>\n",
       "      <td>Запись пользователя № - user_975</td>\n",
       "      <td>2019-04-19 22:25:15</td>\n",
       "      <td>1000.0</td>\n",
       "      <td>6108.0</td>\n",
       "      <td>22</td>\n",
       "    </tr>\n",
       "    <tr>\n",
       "      <th>971</th>\n",
       "      <td>Запись пользователя № - user_912</td>\n",
       "      <td>2019-04-20 10:35:49</td>\n",
       "      <td>10554.0</td>\n",
       "      <td>31799.0</td>\n",
       "      <td>10</td>\n",
       "    </tr>\n",
       "    <tr>\n",
       "      <th>972</th>\n",
       "      <td>Запись пользователя № - user_926</td>\n",
       "      <td>2019-04-20 10:35:50</td>\n",
       "      <td>10354.0</td>\n",
       "      <td>30244.0</td>\n",
       "      <td>10</td>\n",
       "    </tr>\n",
       "    <tr>\n",
       "      <th>976</th>\n",
       "      <td>Запись пользователя № - user_970</td>\n",
       "      <td>2019-04-20 10:35:54</td>\n",
       "      <td>10354.0</td>\n",
       "      <td>30691.0</td>\n",
       "      <td>10</td>\n",
       "    </tr>\n",
       "    <tr>\n",
       "      <th>991</th>\n",
       "      <td>Запись пользователя № - user_965</td>\n",
       "      <td>2019-04-20 12:55:41</td>\n",
       "      <td>800.0</td>\n",
       "      <td>6927.0</td>\n",
       "      <td>12</td>\n",
       "    </tr>\n",
       "  </tbody>\n",
       "</table>\n",
       "<p>133 rows × 5 columns</p>\n",
       "</div>"
      ],
      "text/plain": [
       "                              user_id                time        bet  \\\n",
       "14   Запись пользователя № - user_917 2019-01-02 08:57:36   145732.0   \n",
       "29   Запись пользователя № - user_942 2019-01-04 13:59:42  1678321.0   \n",
       "151  Запись пользователя № - user_982 2019-01-16 21:54:22      100.0   \n",
       "189  Запись пользователя № - user_964 2019-01-21 18:34:44      200.0   \n",
       "205  Запись пользователя № - user_931 2019-01-22 05:26:59      300.0   \n",
       "..                                ...                 ...        ...   \n",
       "967  Запись пользователя № - user_975 2019-04-19 22:25:15     1000.0   \n",
       "971  Запись пользователя № - user_912 2019-04-20 10:35:49    10554.0   \n",
       "972  Запись пользователя № - user_926 2019-04-20 10:35:50    10354.0   \n",
       "976  Запись пользователя № - user_970 2019-04-20 10:35:54    10354.0   \n",
       "991  Запись пользователя № - user_965 2019-04-20 12:55:41      800.0   \n",
       "\n",
       "           win  hour  \n",
       "14   1987653.0     8  \n",
       "29   9876543.0    13  \n",
       "151     4749.0    21  \n",
       "189     4667.0    18  \n",
       "205     4319.0     5  \n",
       "..         ...   ...  \n",
       "967     6108.0    22  \n",
       "971    31799.0    10  \n",
       "972    30244.0    10  \n",
       "976    30691.0    10  \n",
       "991     6927.0    12  \n",
       "\n",
       "[133 rows x 5 columns]"
      ]
     },
     "execution_count": 47,
     "metadata": {},
     "output_type": "execute_result"
    }
   ],
   "source": [
    "log = pd.read_csv(\"log.csv\", header = None)\n",
    "log.columns = ['user_id', 'time', 'bet', 'win']\n",
    "log=log.dropna()\n",
    "\n",
    "def timer(tm):\n",
    "    if str(tm) == 'nan':\n",
    "        return tm\n",
    "    else:\n",
    "        return str(tm).strip('[')\n",
    "    \n",
    "log['time'] = log['time'].apply(timer)\n",
    "log.dropna(subset = ['time'], axis = 0, inplace = True)\n",
    "log['time'] = pd.to_datetime(log['time'])\n",
    "log['hour'] = log['time'].dt.hour\n",
    "\n",
    "log"
   ]
  },
  {
   "cell_type": "markdown",
   "metadata": {},
   "source": [
    "## B6.4.1 Снова смотрим на пропуски"
   ]
  },
  {
   "cell_type": "markdown",
   "metadata": {},
   "source": [
    "#### B6.4.1.1 Задание 1\n",
    "Подсказка: можно использовать value_counts().\n",
    "\n",
    "Посчитайте, сколько раз люди приходили, но не делали ставок. Для этого заполните пропуски в столбце bet значением 0 и посчитайте количество таких значений.\n",
    "Например, 66."
   ]
  },
  {
   "cell_type": "code",
   "execution_count": 62,
   "metadata": {},
   "outputs": [
    {
     "data": {
      "text/plain": [
       "0.0          515\n",
       "500.0         50\n",
       "100.0         48\n",
       "300.0         42\n",
       "800.0         42\n",
       "200.0         40\n",
       "400.0         40\n",
       "700.0         38\n",
       "600.0         37\n",
       "1000.0        37\n",
       "900.0         30\n",
       "9754.0        10\n",
       "10554.0       10\n",
       "10154.0        7\n",
       "10254.0        7\n",
       "10454.0        6\n",
       "9954.0         6\n",
       "10754.0        5\n",
       "10654.0        5\n",
       "10354.0        4\n",
       "10054.0        4\n",
       "9854.0         2\n",
       "5000.0         1\n",
       "27000.0        1\n",
       "9876.0         1\n",
       "156789.0       1\n",
       "12945.0        1\n",
       "12548.0        1\n",
       "145732.0       1\n",
       "1678321.0      1\n",
       "98753.0        1\n",
       "123981.0       1\n",
       "104540.0       1\n",
       "8700.0         1\n",
       "950.0          1\n",
       "8734.0         1\n",
       "7650.0         1\n",
       "Name: bet, dtype: int64"
      ]
     },
     "execution_count": 62,
     "metadata": {},
     "output_type": "execute_result"
    }
   ],
   "source": [
    "log = pd.read_csv(\"log.csv\", header = None)\n",
    "log.columns = ['user_id', 'time', 'bet', 'win']\n",
    "bet_count = log['bet'].fillna(0)\n",
    "bet_count.value_counts(ascending = False)"
   ]
  },
  {
   "cell_type": "markdown",
   "metadata": {},
   "source": [
    "#### B6.4.1.2 Задание 2\n",
    "Используйте оригинальный датасет log.csv. Проделайте с ним действия из задания 1, расположенного выше на этой странице, и из пункта \"Заполнение с помощью функции\".\n",
    "\n",
    "Результат запишите числом в поле ниже.\n",
    "\n",
    "Подсказка: можно использовать sum().\n",
    "\n",
    "Посчитайте, сколько раз участники ставок проиграли деньги. То есть посчитайте количество строк, для которых в столбце win находится отрицательное значение.\n",
    "Например, 616."
   ]
  },
  {
   "cell_type": "code",
   "execution_count": 106,
   "metadata": {},
   "outputs": [
    {
     "data": {
      "text/plain": [
       "347"
      ]
     },
     "execution_count": 106,
     "metadata": {},
     "output_type": "execute_result"
    }
   ],
   "source": [
    "log = pd.read_csv(\"log.csv\", header = None)\n",
    "log.columns = ['user_id', 'time', 'bet', 'win']\n",
    "\n",
    "log['time']=log['time'].str.replace('[', '')\n",
    "log['bet']=log['bet'].fillna(0)\n",
    "log['win']=log['win'].fillna(0)\n",
    "\n",
    "\n",
    "def fillna_win(row):\n",
    "    if row.win <= 0: \n",
    "        if row.bet == 0: # значение в столбце win существует (не пропуск) - вернуть это же значение. Человек выиграл.\n",
    "            row.win = 0 # Если в столбце bet в этом же месте стоит 0, вернуть 0. Человек зашел посмотреть.\n",
    "        else:\n",
    "            row.win = -row.bet # Если в столбце bet в этом же месте есть ненулевое значение, \n",
    "                               # вернуть то же значение, но с отрицательным знаком. Человек поставил деньги и проиграл их.\n",
    "            return row.win\n",
    "        \n",
    "\n",
    "# Применяем функцию  \n",
    "new_win = log.apply(lambda row: fillna_win(row), axis=1)  \n",
    "\n",
    "# Заменяем старый столбец с пропусками на новый без пропусков  \n",
    "log['win'] = new_win \n",
    "# new_win.sum()\n",
    "(log.win<0).sum()"
   ]
  },
  {
   "cell_type": "markdown",
   "metadata": {},
   "source": [
    "## B6.4.2 Есть ли смысл играть?"
   ]
  },
  {
   "cell_type": "code",
   "execution_count": null,
   "metadata": {},
   "outputs": [],
   "source": [
    "# log['net'] = # здесь должен быть код, создающий новый признак  "
   ]
  },
  {
   "cell_type": "markdown",
   "metadata": {},
   "source": [
    "#### B6.4.2.1 Задание 1\n",
    "Используйте модифицированный в прошлой секции датасет log.csv. Результат запишите числом в поле ниже.\n",
    "\n",
    "Подсказка - можно использовать sum().\n",
    "\n",
    "Создайте признак net, хранящий сумму выигрыша с учетом ставки. Для этого из признака win поэлементно вычтите признак bet и запишите в новый столбец. После этого посчитайте, у скольких людей выигрыш положительный.\n",
    "Например, 0."
   ]
  },
  {
   "cell_type": "code",
   "execution_count": 105,
   "metadata": {},
   "outputs": [
    {
     "data": {
      "text/plain": [
       "138"
      ]
     },
     "execution_count": 105,
     "metadata": {},
     "output_type": "execute_result"
    }
   ],
   "source": [
    "log = pd.read_csv(\"log.csv\", header = None)\n",
    "log.columns = ['user_id', 'time', 'bet', 'win']\n",
    "\n",
    "# log['time']=log['time'].str.replace('[', '')\n",
    "log['bet']=log['bet'].fillna(0)\n",
    "log['win']=log['win'].fillna(0)\n",
    "\n",
    "\n",
    "def fillna_win(row):\n",
    "    if row.win <= 0: \n",
    "        if row.bet == 0: # значение в столбце win существует (не пропуск) - вернуть это же значение. Человек выиграл.\n",
    "            row.win = 0 # Если в столбце bet в этом же месте стоит 0, вернуть 0. Человек зашел посмотреть.\n",
    "        else:\n",
    "            row.win = -row.bet # Если в столбце bet в этом же месте есть ненулевое значение, \n",
    "                               # вернуть то же значение, но с отрицательным знаком. Человек поставил деньги и проиграл их.\n",
    "    else:\n",
    "        return row.win\n",
    "        \n",
    "\n",
    "# Применяем функцию  \n",
    "new_win = log.apply(lambda row: fillna_win(row), axis=1)  \n",
    "\n",
    "# Заменяем старый столбец с пропусками на новый без пропусков  \n",
    "log['win'] = new_win \n",
    "\n",
    "log[\"net\"] = log[\"win\"] - log[\"bet\"]\n",
    "a = log[log.net > 0]\n",
    "a.net.count()"
   ]
  },
  {
   "cell_type": "markdown",
   "metadata": {},
   "source": [
    "#### B6.4.2.2 Задание 2\n",
    "Используйте датасет log.csv, получившийся в результате выполнения предыдущего задания. Посчитайте среднее значение выигрыша (из столбца net) в тех случаях, когда выигрыш больше 0. Результат округлите до целого, отбросив дробную часть.\n",
    "\n",
    "Подсказка: можно использовать mean()."
   ]
  },
  {
   "cell_type": "code",
   "execution_count": 118,
   "metadata": {},
   "outputs": [
    {
     "data": {
      "text/plain": [
       "80253.33333333333"
      ]
     },
     "execution_count": 118,
     "metadata": {},
     "output_type": "execute_result"
    }
   ],
   "source": [
    "log = pd.read_csv(\"log.csv\", header = None)\n",
    "log.columns = ['user_id', 'time', 'bet', 'win']\n",
    "\n",
    "log['time']=log['time'].str.replace('[', '')\n",
    "log['bet']=log['bet'].fillna(0)\n",
    "log['win']=log['win'].fillna(0)\n",
    "\n",
    "\n",
    "def fillna_win(row):\n",
    "    if row.win <= 0: \n",
    "        if row.bet == 0: # значение в столбце win существует (не пропуск) - вернуть это же значение. Человек выиграл.\n",
    "            row.win = 0 # Если в столбце bet в этом же месте стоит 0, вернуть 0. Человек зашел посмотреть.\n",
    "        else:\n",
    "            row.win = -row.bet # Если в столбце bet в этом же месте есть ненулевое значение, \n",
    "                               # вернуть то же значение, но с отрицательным знаком. Человек поставил деньги и проиграл их.\n",
    "    else:\n",
    "        return row.win\n",
    "        \n",
    "\n",
    "# Применяем функцию  \n",
    "new_win = log.apply(lambda row: fillna_win(row), axis=1)  \n",
    "\n",
    "# Заменяем старый столбец с пропусками на новый без пропусков  \n",
    "log['win'] = new_win \n",
    "\n",
    "log[\"net\"] = log[\"win\"] - log[\"bet\"]\n",
    "a = log[log.net > 0]\n",
    "a.net.mean()"
   ]
  },
  {
   "cell_type": "markdown",
   "metadata": {},
   "source": [
    "#### B6.4.2.3 Задание 3\n",
    "Используйте датасет log.csv, получившийся в результате выполнения первого задания этого блока. Посчитайте медианное значение выигрыша (из столбца net) в тех случаях, когда выигрыш больше 0. Результат округлите до целого, отбросив дробную часть.\n",
    "\n",
    "Подсказка: можно использовать median()."
   ]
  },
  {
   "cell_type": "code",
   "execution_count": 147,
   "metadata": {},
   "outputs": [
    {
     "data": {
      "text/plain": [
       "5347.0"
      ]
     },
     "execution_count": 147,
     "metadata": {},
     "output_type": "execute_result"
    }
   ],
   "source": [
    "import numpy as np\n",
    "log = pd.read_csv(\"log.csv\", header = None)\n",
    "log.columns = ['user_id', 'time', 'bet', 'win']\n",
    "\n",
    "log['time']=log['time'].str.replace('[', '')\n",
    "log['bet']=log['bet'].fillna(0)\n",
    "log['win']=log['win'].fillna(0)\n",
    "\n",
    "\n",
    "def fillna_win(row):\n",
    "    if row.win <= 0: \n",
    "        if row.bet == 0: # значение в столбце win существует (не пропуск) - вернуть это же значение. Человек выиграл.\n",
    "            row.win = 0 # Если в столбце bet в этом же месте стоит 0, вернуть 0. Человек зашел посмотреть.\n",
    "        else:\n",
    "            row.win = -row.bet # Если в столбце bet в этом же месте есть ненулевое значение, \n",
    "                               # вернуть то же значение, но с отрицательным знаком. Человек поставил деньги и проиграл их.\n",
    "    else:\n",
    "        return row.win\n",
    "        \n",
    "\n",
    "# Применяем функцию  \n",
    "new_win = log.apply(lambda row: fillna_win(row), axis=1)  \n",
    "\n",
    "# Заменяем старый столбец с пропусками на новый без пропусков  \n",
    "log['win'] = new_win \n",
    "\n",
    "log[\"net\"] = log[\"win\"] - log[\"bet\"] # медианное значение выигрыша, когда выигрыш больше 0.\n",
    "a = log[log.net > 0]\n",
    "a.net.median()"
   ]
  },
  {
   "cell_type": "markdown",
   "metadata": {},
   "source": [
    "#### B6.4.3.1 Задание 1\n",
    "Используйте модифицированный после решения задач предыдущей секции датасет log.csv. Посчитайте, какой процент посещений букмекерской конторы оборачивался ставкой. Для этого поделите количество ставок (значений больше 0) на общее количество посещений конторы. Результат округлите до одного знака после запятой.\n",
    "\n",
    "Подсказка: можно использовать sum()."
   ]
  },
  {
   "cell_type": "code",
   "execution_count": 163,
   "metadata": {},
   "outputs": [
    {
     "data": {
      "text/plain": [
       "48.5"
      ]
     },
     "execution_count": 163,
     "metadata": {},
     "output_type": "execute_result"
    }
   ],
   "source": [
    "log = pd.read_csv(\"log.csv\", header = None)\n",
    "log.columns = ['user_id', 'time', 'bet', 'win']\n",
    "\n",
    "log['time']=log['time'].str.replace('[', '')\n",
    "log['bet']=log['bet'].fillna(0)\n",
    "log['win']=log['win'].fillna(0)\n",
    "\n",
    "\n",
    "def fillna_win(row):\n",
    "    if row.win <= 0: \n",
    "        if row.bet == 0: # значение в столбце win существует (не пропуск) - вернуть это же значение. Человек выиграл.\n",
    "            row.win = 0 # Если в столбце bet в этом же месте стоит 0, вернуть 0. Человек зашел посмотреть.\n",
    "        else:\n",
    "            row.win = -row.bet # Если в столбце bet в этом же месте есть ненулевое значение, \n",
    "                               # вернуть то же значение, но с отрицательным знаком. Человек поставил деньги и проиграл их.\n",
    "    else:\n",
    "        return row.win\n",
    "        \n",
    "\n",
    "# Применяем функцию  \n",
    "new_win = log.apply(lambda row: fillna_win(row), axis=1)  \n",
    "\n",
    "# Заменяем старый столбец с пропусками на новый без пропусков  \n",
    "log['win'] = new_win \n",
    "\n",
    "log[\"net\"] = log[\"win\"] - log[\"bet\"]\n",
    "a = log[log.net > 0]\n",
    "\n",
    "average = log[log.bet > 0].bet.count() / log.bet.count() # какой процент посещений букмекерской конторы оборачивался ставкой\n",
    "average * 100"
   ]
  },
  {
   "cell_type": "markdown",
   "metadata": {},
   "source": [
    "#### B6.4.3.2 Задание 2\n",
    "Используйте модифицированный после решения задач предыдущей секции датасет log.csv. Посчитайте среднее значение ставки (из столбца bet) в тех случаях, когда ставка была сделана. Результат округлите до целого, отбросив дробную часть.\n",
    "\n",
    "Подсказка: можно использовать mean()."
   ]
  },
  {
   "cell_type": "code",
   "execution_count": 165,
   "metadata": {},
   "outputs": [
    {
     "data": {
      "text/plain": [
       "6785.738144329897"
      ]
     },
     "execution_count": 165,
     "metadata": {},
     "output_type": "execute_result"
    }
   ],
   "source": [
    "log = pd.read_csv(\"log.csv\", header = None)\n",
    "log.columns = ['user_id', 'time', 'bet', 'win']\n",
    "\n",
    "log['time']=log['time'].str.replace('[', '')\n",
    "log['bet']=log['bet'].fillna(0)\n",
    "log['win']=log['win'].fillna(0)\n",
    "\n",
    "\n",
    "def fillna_win(row):\n",
    "    if row.win <= 0: \n",
    "        if row.bet == 0: # значение в столбце win существует (не пропуск) - вернуть это же значение. Человек выиграл.\n",
    "            row.win = 0 # Если в столбце bet в этом же месте стоит 0, вернуть 0. Человек зашел посмотреть.\n",
    "        else:\n",
    "            row.win = -row.bet # Если в столбце bet в этом же месте есть ненулевое значение, \n",
    "                               # вернуть то же значение, но с отрицательным знаком. Человек поставил деньги и проиграл их.\n",
    "    else:\n",
    "        return row.win\n",
    "        \n",
    "\n",
    "# Применяем функцию  \n",
    "new_win = log.apply(lambda row: fillna_win(row), axis=1)  \n",
    "\n",
    "# Заменяем старый столбец с пропусками на новый без пропусков  \n",
    "log['win'] = new_win \n",
    "\n",
    "log[\"net\"] = log[\"win\"] - log[\"bet\"]\n",
    "a = log[log.net > 0]\n",
    "\n",
    "bet = log[log.bet > 0].bet.mean() # среднее значение ставки (из столбца bet) в тех случаях, когда ставка была сделана. \n",
    "bet"
   ]
  },
  {
   "cell_type": "markdown",
   "metadata": {},
   "source": [
    "#### B6.4.3.3 Задание 3\n",
    "Используйте модифицированный после решения задач предыдущей секции датасет log.csv. Посчитайте средний выигрыш (из столбца net) в тех случаях, когда ставка была сделана. Результат округлите до целого, отбросив дробную часть.\n",
    "\n",
    "Пояснение: выигрыш в данном случае означает изменение количества денег и может быть отрицательным. В таком случае это проигрыш.\n",
    "\n",
    "Подсказка: можно использовать mean()."
   ]
  },
  {
   "cell_type": "code",
   "execution_count": 187,
   "metadata": {},
   "outputs": [
    {
     "data": {
      "text/plain": [
       "bet    15367.688406\n",
       "win    95621.021739\n",
       "net    80253.333333\n",
       "dtype: float64"
      ]
     },
     "execution_count": 187,
     "metadata": {},
     "output_type": "execute_result"
    }
   ],
   "source": [
    "log = pd.read_csv(\"log.csv\", header = None)\n",
    "log.columns = ['user_id', 'time', 'bet', 'win']\n",
    "\n",
    "log['time']=log['time'].str.replace('[', '')\n",
    "log['bet']=log['bet'].fillna(0)\n",
    "log['win']=log['win'].fillna(0)\n",
    "\n",
    "\n",
    "log[\"net\"] = log[\"win\"] - log[\"bet\"]\n",
    "mean_win = log[log.net > 0]\n",
    "mean_win.mean()"
   ]
  },
  {
   "cell_type": "code",
   "execution_count": 181,
   "metadata": {},
   "outputs": [
    {
     "data": {
      "text/plain": [
       "bet     6785.738144\n",
       "win    27207.630928\n",
       "net    20421.892784\n",
       "dtype: float64"
      ]
     },
     "execution_count": 181,
     "metadata": {},
     "output_type": "execute_result"
    }
   ],
   "source": [
    "log = pd.read_csv(\"log.csv\", header = None)\n",
    "log.columns = ['user_id', 'time', 'bet', 'win']\n",
    "\n",
    "log['time']=log['time'].str.replace('[', '')\n",
    "log['bet']=log['bet'].fillna(0)\n",
    "log['win']=log['win'].fillna(0)\n",
    "log[\"net\"] = log[\"win\"] - log[\"bet\"]\n",
    "mean_win = log[log.bet > 0]\n",
    "mean_win.mean()"
   ]
  },
  {
   "cell_type": "markdown",
   "metadata": {},
   "source": [
    "#### B6.4.3.4 Задание 4\n",
    "Используйте модифицированный после решения задач предыдущей секции датасет log.csv. Посчитайте среднюю сумму потерь при проигрыше (из столбца net). Результат округлите до целого, отбросив дробную часть.\n",
    "\n",
    "Пояснение: ответ должен быть дан в виде отрицательного числа.\n",
    "\n",
    "Подсказка: можно использовать mean()."
   ]
  },
  {
   "cell_type": "code",
   "execution_count": 186,
   "metadata": {},
   "outputs": [
    {
     "data": {
      "text/plain": [
       "bet    3372.743516\n",
       "win       0.000000\n",
       "net   -3372.743516\n",
       "dtype: float64"
      ]
     },
     "execution_count": 186,
     "metadata": {},
     "output_type": "execute_result"
    }
   ],
   "source": [
    "log = pd.read_csv(\"log.csv\", header = None)\n",
    "log.columns = ['user_id', 'time', 'bet', 'win']\n",
    "\n",
    "log['time']=log['time'].str.replace('[', '')\n",
    "log['bet']=log['bet'].fillna(0)\n",
    "log['win']=log['win'].fillna(0)\n",
    "log[\"net\"] = log[\"win\"] - log[\"bet\"]\n",
    "loss = log[log[\"net\"] < 0].mean()\n",
    "loss"
   ]
  },
  {
   "cell_type": "markdown",
   "metadata": {},
   "source": [
    "#### B6.4.3.6 Задание 6*\n",
    "1 point possible (graded)\n",
    "Давайте повторим то, что мы прошли в этой секции. Напишите код, который узнает, чему была равна минимальная ставка и сколько людей сделали такую ставку. Для этого:\n",
    "\n",
    "1. загрузите датасет log.csv;\n",
    "\n",
    "2. посчитайте, чему равна минимальная ставка;\n",
    "\n",
    "3. посчитайте, сколько раз была сделана минимальная ставка, и запишите результат в переменную min_bet_amount в виде целого числа."
   ]
  },
  {
   "cell_type": "code",
   "execution_count": 226,
   "metadata": {},
   "outputs": [
    {
     "name": "stdout",
     "output_type": "stream",
     "text": [
      "100.0\n"
     ]
    }
   ],
   "source": [
    "log = pd.read_csv(\"log.csv\", header = None)\n",
    "log.columns = ['user_id', 'time', 'bet', 'win']\n",
    "log['bet']=log['bet'].fillna(0)\n",
    "log['time']=log['time'].str.replace('[', '')\n",
    "\n",
    "\n",
    "min_bet = log[log.bet > 0].bet.min()\n",
    "min_bet_amount =  log[log.bet > 0].min().count()\n"
   ]
  },
  {
   "cell_type": "code",
   "execution_count": 220,
   "metadata": {},
   "outputs": [],
   "source": [
    "log = pd.read_csv('log.csv', header = None)\n",
    "log.columns = ['user_id','time','bet','win']\n",
    "min_bet = log[log.bet > 0].min()['bet']\n",
    "min_bet_amount = log[log.bet > 0].min().count()"
   ]
  },
  {
   "cell_type": "markdown",
   "metadata": {},
   "source": [
    "## B6.5.1 Повторение merge/groupby"
   ]
  },
  {
   "cell_type": "markdown",
   "metadata": {},
   "source": [
    "#### B6.5.1.1 Задание 1\n",
    "\n",
    "Объедините датасеты log.csv и users.csv по признаку user_id по примеру выше. Ответ запишите в поле ниже.\n",
    "\n",
    "Запишите количество строк в получившейся таблице."
   ]
  },
  {
   "cell_type": "code",
   "execution_count": 250,
   "metadata": {},
   "outputs": [
    {
     "name": "stdout",
     "output_type": "stream",
     "text": [
      "<class 'pandas.core.frame.DataFrame'>\n",
      "Int64Index: 975 entries, 0 to 974\n",
      "Data columns (total 6 columns):\n",
      "user_id    975 non-null object\n",
      "time       975 non-null object\n",
      "bet        975 non-null float64\n",
      "win        132 non-null float64\n",
      "email      967 non-null object\n",
      "geo        950 non-null object\n",
      "dtypes: float64(2), object(4)\n",
      "memory usage: 53.3+ KB\n"
     ]
    }
   ],
   "source": [
    "log = pd.read_csv(\"log.csv\", header = None)\n",
    "log.columns = ['user_id', 'time', 'bet', 'win']\n",
    "\n",
    "# Избавимся от ошибок в user_id в df log \n",
    "log = log[log.user_id != '#error']  \n",
    "log.user_id = log.user_id.str.split(' - ').apply(lambda x: x[1])\n",
    "log['bet']=log['bet'].fillna(0)\n",
    "log['time']=log['time'].str.replace('[', '')\n",
    "\n",
    "# encoding = 'koi8_r', sep = '\\t' - решили проблему с кодировкой\n",
    "users = pd.read_csv('users.csv', encoding = 'koi8_r', sep = '\\t')  \n",
    "users.columns = ['user_id', 'email', 'geo'] \n",
    "\n",
    "# Приведем признак user_id к одному формату в обоих датасетах  \n",
    "users.user_id = us.user_id.apply(lambda x: x.lower())  \n",
    "\n",
    "united_df = pd.merge(log, users, on = \"user_id\")\n",
    "united_df.info()"
   ]
  },
  {
   "cell_type": "code",
   "execution_count": null,
   "metadata": {},
   "outputs": [],
   "source": [
    "# pd.merge(dataframe1, dataframe2, on='feature_name')  \n",
    "# df.groupby('user_id').win.median().median()  \n"
   ]
  },
  {
   "cell_type": "markdown",
   "metadata": {},
   "source": [
    "#### B6.5.2.1 Задание 1\n",
    "Используйте датасет, который получился в результате всех преобразований выше (в том числе, заполнение пропусков). Ответ запишите в поле ниже в виде целого числа (отбросьте дробную часть).\n",
    "\n",
    "Посчитайте медиану баланса по каждому пользователю. Для этого сгруппируйте по пользователям, возьмите признак net, просуммируйте по каждому пользователю и получите медиану.\n",
    "Например, 10382"
   ]
  },
  {
   "cell_type": "code",
   "execution_count": 268,
   "metadata": {},
   "outputs": [
    {
     "name": "stdout",
     "output_type": "stream",
     "text": [
      "1986.0\n"
     ]
    }
   ],
   "source": [
    "log = pd.read_csv('log.csv', header=None)\n",
    "log.columns = ['user_id','time', 'bet','win']\n",
    "\n",
    "# Убираем пропуски\n",
    "log = log.dropna(subset=['time'])\n",
    "\n",
    "# Меняем пропуски на 0\n",
    "log = log.fillna(0)\n",
    "\n",
    "# Избавимся от ошибок в user_id\n",
    "log = log[log.user_id != '#error']\n",
    "log.user_id = log.user_id.str.split(' - ').apply(lambda x: x[1])\n",
    "\n",
    "# Делаем столбец с выигрышем\n",
    "def fillna_win(row):\n",
    "    return row['win'] - row['bet']\n",
    "\n",
    "new_win = log.apply(lambda row: fillna_win(row), axis=1)\n",
    "\n",
    "# Создаем столбец с суммой выигрыша\n",
    "log['net'] = new_win\n",
    "\n",
    "united_df = pd.merge(log, users, on = \"user_id\")\n",
    "print(united_df.groupby(['user_id'])['net'].sum().median())"
   ]
  },
  {
   "cell_type": "markdown",
   "metadata": {},
   "source": [
    "#### B6.5.2.2 Задание 2*\n",
    "Используйте датасет, который получился в результате всех преобразований выше (в том числе, заполнение пропусков). Ответ запишите в поле ниже в виде целого числа (отбросьте дробную часть).\n",
    "\n",
    "Сколько раз в среднем каждый человек приходит, не делая ставок, при условии, что у этого человека все-таки есть хотя бы одна ставка? Для того, чтобы узнать это, просуммируйте в каждой группе количество записей со ставкой, равной 0, и поделите на общее количество групп. Если при этом в группе нет записей со ставкой больше 0, считаем количество записей в данной группе равным 0.\n",
    "Например, 2"
   ]
  },
  {
   "cell_type": "code",
   "execution_count": 272,
   "metadata": {},
   "outputs": [
    {
     "name": "stdout",
     "output_type": "stream",
     "text": [
      "5.05\n"
     ]
    }
   ],
   "source": [
    "#Слияние\n",
    "log_users=pd.merge(log, users, on='user_id')\n",
    "print((log_users[log_users.bet==0.0].groupby('user_id').bet.value_counts().sum())/(len(log_users.groupby('user_id'))))"
   ]
  },
  {
   "cell_type": "markdown",
   "metadata": {},
   "source": [
    "#### B6.5.2.3 Задание 3**\n",
    "Используйте датасет, который получился в результате всех преобразований выше (в том числе, заполнение пропусков). Ответ запишите в поле ниже в виде целого числа - количества дней.\n",
    "\n",
    "Сколько в среднем времени проходит между появлением человека в сервисе и первой ставкой? Считать нужно только тех, кто делал ставку. Для того, чтобы узнать это, напишите метод, считающий минимальное время среди ставок, равных 0, и минимальное время среди ставок больше 0. После этого верните разницу между вторым и первым числом. Пройдитесь по всем группам в цикле. Если в группе нет ставок больше 0, пропустите эту группу. Просуммируйте разницу во времени для каждой группы (с помощью метода, описанного выше) и поделите на количество групп, которые вы не пропустили.\n",
    "Например, если ваш результат Timedelta('23 days 12:24:32'), то в поле пишите 23."
   ]
  },
  {
   "cell_type": "code",
   "execution_count": 271,
   "metadata": {},
   "outputs": [
    {
     "name": "stdout",
     "output_type": "stream",
     "text": [
      "46 days 06:54:48\n"
     ]
    },
    {
     "data": {
      "text/plain": [
       "46.28"
      ]
     },
     "execution_count": 271,
     "metadata": {},
     "output_type": "execute_result"
    }
   ],
   "source": [
    "#log\n",
    "log = pd.read_csv(\"log.csv\", header=None)\n",
    "log.columns = ['user_id', 'time', 'bet', 'win']\n",
    "log['bet']=log['bet'].fillna(0)\n",
    "\n",
    "#log['win']=log['win'].fillna(0)\n",
    "#log['net']=log['win']-log['bet']\n",
    "log = log[log.user_id != '#error']\n",
    "log.user_id = log.user_id.str.split(' - ').apply(lambda x: x[1])\n",
    "log['time']=log['time'].str.replace('[', '')\n",
    "log.time=pd.to_datetime(log.time)\n",
    "\n",
    "#users\n",
    "us=pd.read_csv('users.csv', encoding='koi8-r', sep='\\t')\n",
    "us.columns = ['user_id', 'email', 'geo']\n",
    "us.user_id = us.user_id.apply(lambda x: x.lower())\n",
    "\n",
    "#Слияние\n",
    "df=pd.merge(log, us, on='user_id')\n",
    "# Отбор тех, кто делал ставки\n",
    "#df_make_bet=df[df.user_id.isin(df[(df.bet>0)].user_id)]\n",
    "# Время самого первого посещения\n",
    "#time_min=df_make_bet.groupby(['user_id']).time.min()\n",
    "\n",
    "time_min = df[df.bet == 0].groupby('user_id').time.min()\n",
    "\n",
    "# время самой первой ставки\n",
    "#time_min_notnul=df_make_bet[df_make_bet.bet>0].groupby(['user_id']).time.min()\n",
    "time_min_notnul = df[df.bet > 0].groupby('user_id').time.min()\n",
    "joined = pd.merge(time_min, time_min_notnul, on='user_id')\n",
    "\n",
    "# Разница времени для каждого юзера\n",
    "joined['delta']=(joined.time_y - joined.time_x)\n",
    "print(joined['delta'].mean())\n",
    "\n",
    "# Делим все дни на количество юзеров\n",
    "d=joined.delta.sum().days/joined.delta.count()\n",
    "d"
   ]
  },
  {
   "cell_type": "markdown",
   "metadata": {},
   "source": [
    "#### B6.5.3 Анализ по городам"
   ]
  },
  {
   "cell_type": "markdown",
   "metadata": {},
   "source": [
    "#### B6.5.3.1 Задание 1\n",
    "Используйте датасет, который получился в результате всех преобразований в прошлой секции (в том числе, заполнение пропусков).\n",
    "\n",
    "Ответ запишите в поле ниже в виде одного слова, с большой буквы.\n",
    "\n",
    "Наибольший суммарный выигрыш среди всех городов имеет Москва. Посчитайте следующий за ней город. Для этого сгруппируйте по городам, возьмите признак win, просуммируйте по каждому городу, отсортируйте и получите второй город.\n",
    "Например, Иннополис."
   ]
  },
  {
   "cell_type": "code",
   "execution_count": null,
   "metadata": {},
   "outputs": [],
   "source": [
    "#log\n",
    "log = pd.read_csv(\"log.csv\", header=None)\n",
    "log.columns = ['user_id', 'time', 'bet', 'win']\n",
    "log['bet']=log['bet'].fillna(0)\n",
    "\n",
    "log = log[log.user_id != '#error']\n",
    "log.user_id = log.user_id.str.split(' - ').apply(lambda x: x[1])\n",
    "log['time']=log['time'].str.replace('[', '')\n",
    "log.time=pd.to_datetime(log.time)\n",
    "\n",
    "#users\n",
    "us=pd.read_csv('users.csv', encoding='koi8-r', sep='\\t')\n",
    "us.columns = ['user_id', 'email', 'geo']\n",
    "us.user_id = us.user_id.apply(lambda x: x.lower())\n",
    "\n",
    "#Слияние\n",
    "df=pd.merge(log, us, on='user_id')\n",
    "# Отбор тех, кто делал ставки\n",
    "\n",
    "time_min = df[df.bet == 0].groupby('user_id').time.min()\n",
    "\n",
    "# время самой первой ставки\n",
    "#time_min_notnul=df_make_bet[df_make_bet.bet>0].groupby(['user_id']).time.min()\n",
    "time_min_notnul = df[df.bet > 0].groupby('user_id').time.min()\n",
    "joined = pd.merge(time_min, time_min_notnul, on='user_id')\n",
    "\n",
    "# Разница времени для каждого юзера\n",
    "joined['delta']=(joined.time_y - joined.time_x)\n",
    "print(joined['delta'].mean())\n",
    "\n",
    "# Делим все дни на количество юзеров\n",
    "d=joined.delta.sum().days/joined.delta.count()\n",
    "d"
   ]
  },
  {
   "cell_type": "code",
   "execution_count": 322,
   "metadata": {},
   "outputs": [
    {
     "name": "stdout",
     "output_type": "stream",
     "text": [
      "geo\n",
      "Арзангелтск           74375.0\n",
      "Воронеж              184338.0\n",
      "Екатеринбург          36682.0\n",
      "Ижевск                84895.0\n",
      "Казань                97806.0\n",
      "Краснодар             62718.0\n",
      "Красноярск            84767.0\n",
      "Москва             11959741.0\n",
      "Пермь                 67734.0\n",
      "Санкт-Петербург      151007.0\n",
      "Ставрополь            46003.0\n",
      "Тюмень                 4701.0\n",
      "Хабаровск             65459.0\n",
      "Ярославль             97441.0\n",
      "Name: win, dtype: float64\n"
     ]
    }
   ],
   "source": [
    "#log\n",
    "log = pd.read_csv(\"log.csv\", header=None)\n",
    "log.columns = ['user_id', 'time', 'bet', 'win']\n",
    "log['bet']=log['bet'].fillna(0)\n",
    "\n",
    "log = log[log.user_id != '#error']\n",
    "log.user_id = log.user_id.str.split(' - ').apply(lambda x: x[1])\n",
    "log['time']=log['time'].str.replace('[', '')\n",
    "log.time=pd.to_datetime(log.time)\n",
    "\n",
    "#users\n",
    "us=pd.read_csv('users.csv', encoding='koi8-r', sep='\\t')\n",
    "us.columns = ['user_id', 'email', 'geo']\n",
    "us.user_id = us.user_id.apply(lambda x: x.lower())\n",
    "\n",
    "#Слияние\n",
    "df = pd.merge(log, us, on='user_id')\n",
    "df = df.dropna(subset=['win'])\n",
    "print(df.groupby(['geo'])['win'].sum(ascending = True))"
   ]
  },
  {
   "cell_type": "markdown",
   "metadata": {},
   "source": [
    "#### B6.5.3.2 Задание 2*\n",
    "Используйте датасет, который получился в результате всех преобразований в прошлой секции (в том числе, заполнение пропусков).\n",
    "\n",
    "Ответ запишите в поле ниже в виде целого числа (нужно отбросить дробную часть).\n",
    "\n",
    "Подсказка: можно использовать методы min() и max().\n",
    "\n",
    "Во сколько раз различаются в среднем максимальная и минимальная ставки по городам? Для того, чтобы это посчитать, нужно сгруппировать по городам, взять среднее от признака bet, найти максимальное и минимальное значения, затем поделить одно на другое."
   ]
  },
  {
   "cell_type": "code",
   "execution_count": 347,
   "metadata": {},
   "outputs": [
    {
     "data": {
      "text/plain": [
       "227.3904449648712"
      ]
     },
     "execution_count": 347,
     "metadata": {},
     "output_type": "execute_result"
    }
   ],
   "source": [
    "#log\n",
    "log = pd.read_csv(\"log.csv\", header=None)\n",
    "log.columns = ['user_id', 'time', 'bet', 'win']\n",
    "log['bet']=log['bet'].fillna(0)\n",
    "\n",
    "log = log[log.user_id != '#error']\n",
    "log.user_id = log.user_id.str.split(' - ').apply(lambda x: x[1])\n",
    "log['time']=log['time'].str.replace('[', '')\n",
    "\n",
    "#users\n",
    "us=pd.read_csv('users.csv', encoding='koi8-r', sep='\\t')\n",
    "us.columns = ['user_id', 'email', 'geo']\n",
    "us.user_id = us.user_id.apply(lambda x: x.lower())\n",
    "\n",
    "#Слияние\n",
    "df = pd.merge(log, us, on='user_id')\n",
    "\n",
    "mean_max=df.groupby('geo')['bet'].mean().max()\n",
    "mean_min=df.groupby('geo')['bet'].mean().min()\n",
    "mean_max/mean_min"
   ]
  },
  {
   "cell_type": "markdown",
   "metadata": {},
   "source": [
    "#### B6.5.3.3 Задание 3*\n",
    "Давайте повторим все, что мы прошли в этой секции. Напишите код, который посчитает, сколько раз пользователи приходили в букмекерскую контору в каждом городе. Для этого:\n",
    "\n",
    "1. загрузите датасеты log.csv и users.csv;\n",
    "\n",
    "2. удалите user_id с ошибкой (#error) и приведите признак user_id к одному виду в обоих датасетах;\n",
    "\n",
    "3. слейте два датасета в один по признаку user_id;\n",
    "\n",
    "4. сгруппируйте данные по правильному признаку (какому - вам нужно понять самим), затем выберите user_id и воспользуйтесь функцией count() для подсчета наблюдений в каждой группе;\n",
    "\n",
    "5. результат (таблицу) запишите в sample2."
   ]
  },
  {
   "cell_type": "code",
   "execution_count": 378,
   "metadata": {},
   "outputs": [
    {
     "data": {
      "text/plain": [
       "geo\n",
       "Арзангелтск         96\n",
       "Воронеж             88\n",
       "Екатеринбург        49\n",
       "Ижевск              61\n",
       "Казань              66\n",
       "Краснодар           86\n",
       "Красноярск          56\n",
       "Москва              61\n",
       "Пермь               55\n",
       "Санкт-Петербург    115\n",
       "Ставрополь          36\n",
       "Тюмень              32\n",
       "Хабаровск           60\n",
       "Ярославль           89\n",
       "Name: bet, dtype: int64"
      ]
     },
     "execution_count": 378,
     "metadata": {},
     "output_type": "execute_result"
    }
   ],
   "source": [
    "log=pd.read_csv('log.csv', header=None)\n",
    "us = pd.read_csv('users.csv', encoding='koi8_r', skip_blank_lines=True, sep='\\t')\n",
    "\n",
    "# Приведем признак user_id к одному формату в обоих датасетах  \n",
    "us.columns = ['user_id', 'email', 'geo']\n",
    "log.columns = ['user_id', 'time', 'bet', 'win']\n",
    "log['time']= log.time.apply(lambda x: str(x).replace('[',''))\n",
    "\n",
    "us.user_id = us.user_id.apply(lambda x: x.lower())  \n",
    "\n",
    "# Избавимся от ошибок в user_id  \n",
    "log = log[log.user_id != '#error']  \n",
    "log.user_id = log.user_id.str.split(' - ').apply(lambda x: x[1])  \n",
    "\n",
    "joined = pd.merge(log, us , on='user_id')\n",
    "\n",
    "joined['bet']=joined['bet'].fillna(0)\n",
    "joined['win']=joined['win'].fillna(0)\n",
    "joined['net'] = joined['win'] - joined['bet']\n",
    "\n",
    "c= joined.groupby(['geo']).bet.count()\n",
    "c"
   ]
  },
  {
   "cell_type": "code",
   "execution_count": null,
   "metadata": {},
   "outputs": [],
   "source": []
  },
  {
   "cell_type": "code",
   "execution_count": 387,
   "metadata": {},
   "outputs": [
    {
     "data": {
      "text/plain": [
       "0      1\n",
       "1      1\n",
       "2      1\n",
       "3      1\n",
       "4      1\n",
       "      ..\n",
       "991    4\n",
       "992    4\n",
       "993    4\n",
       "994    4\n",
       "995    4\n",
       "Name: time, Length: 985, dtype: int64"
      ]
     },
     "execution_count": 387,
     "metadata": {},
     "output_type": "execute_result"
    }
   ],
   "source": [
    "#log\n",
    "log = pd.read_csv(\"log.csv\", header=None)\n",
    "log.columns = ['user_id', 'time', 'bet', 'win']\n",
    "log['bet']=log['bet'].fillna(0)\n",
    "\n",
    "log = log[log.user_id != '#error']\n",
    "log.user_id = log.user_id.str.split(' - ').apply(lambda x: x[1])\n",
    "log['time']=log['time'].str.replace('[', '')\n",
    "log.time=pd.to_datetime(log.time)\n",
    "\n",
    "log.time.dt.month"
   ]
  },
  {
   "cell_type": "code",
   "execution_count": null,
   "metadata": {},
   "outputs": [],
   "source": []
  },
  {
   "cell_type": "code",
   "execution_count": null,
   "metadata": {},
   "outputs": [],
   "source": []
  },
  {
   "cell_type": "code",
   "execution_count": null,
   "metadata": {},
   "outputs": [],
   "source": []
  }
 ],
 "metadata": {
  "kernelspec": {
   "display_name": "Python 3",
   "language": "python",
   "name": "python3"
  },
  "language_info": {
   "codemirror_mode": {
    "name": "ipython",
    "version": 3
   },
   "file_extension": ".py",
   "mimetype": "text/x-python",
   "name": "python",
   "nbconvert_exporter": "python",
   "pygments_lexer": "ipython3",
   "version": "3.7.3"
  }
 },
 "nbformat": 4,
 "nbformat_minor": 4
}
