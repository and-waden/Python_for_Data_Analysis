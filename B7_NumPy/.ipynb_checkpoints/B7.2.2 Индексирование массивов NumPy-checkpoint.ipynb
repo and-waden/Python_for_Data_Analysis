{
 "cells": [
  {
   "cell_type": "code",
   "execution_count": 3,
   "metadata": {},
   "outputs": [],
   "source": [
    "import numpy as np\n",
    "import pandas as pd"
   ]
  },
  {
   "cell_type": "code",
   "execution_count": 3,
   "metadata": {},
   "outputs": [
    {
     "data": {
      "text/plain": [
       "array([0, 1, 2, 3, 4, 5, 6, 7, 8, 9])"
      ]
     },
     "execution_count": 3,
     "metadata": {},
     "output_type": "execute_result"
    }
   ],
   "source": [
    "my_array = np.array([x for x in range(10)])\n",
    "my_array"
   ]
  },
  {
   "cell_type": "code",
   "execution_count": 4,
   "metadata": {},
   "outputs": [
    {
     "data": {
      "text/plain": [
       "5"
      ]
     },
     "execution_count": 4,
     "metadata": {},
     "output_type": "execute_result"
    }
   ],
   "source": [
    "my_array[5]"
   ]
  },
  {
   "cell_type": "code",
   "execution_count": 5,
   "metadata": {},
   "outputs": [
    {
     "data": {
      "text/plain": [
       "9"
      ]
     },
     "execution_count": 5,
     "metadata": {},
     "output_type": "execute_result"
    }
   ],
   "source": [
    "my_array[-1]"
   ]
  },
  {
   "cell_type": "code",
   "execution_count": 6,
   "metadata": {},
   "outputs": [
    {
     "data": {
      "text/plain": [
       "array([3, 4, 5])"
      ]
     },
     "execution_count": 6,
     "metadata": {},
     "output_type": "execute_result"
    }
   ],
   "source": [
    "my_array[3:6]"
   ]
  },
  {
   "cell_type": "code",
   "execution_count": 7,
   "metadata": {},
   "outputs": [
    {
     "data": {
      "text/plain": [
       "array([1, 4, 7])"
      ]
     },
     "execution_count": 7,
     "metadata": {},
     "output_type": "execute_result"
    }
   ],
   "source": [
    "my_array[1:8:3]"
   ]
  },
  {
   "cell_type": "markdown",
   "metadata": {},
   "source": [
    "При работе с двумерными массивами для обращения к элементу мы указываем два индекса, соответствующие номеру строки и номеру столбца. Каждый индекс можно указывать в отдельных квадратных скобках или внутри одной пары скобок через запятую:"
   ]
  },
  {
   "cell_type": "code",
   "execution_count": 9,
   "metadata": {},
   "outputs": [
    {
     "data": {
      "text/plain": [
       "array([[ 1,  2,  3,  4],\n",
       "       [10, 11, 12, 13],\n",
       "       [45, 46, 47, 48]])"
      ]
     },
     "execution_count": 9,
     "metadata": {},
     "output_type": "execute_result"
    }
   ],
   "source": [
    "my_array = np.array([[1,2,3,4], [10,11,12,13], [45,46,47,48]])\n",
    "my_array"
   ]
  },
  {
   "cell_type": "code",
   "execution_count": 10,
   "metadata": {},
   "outputs": [
    {
     "data": {
      "text/plain": [
       "12"
      ]
     },
     "execution_count": 10,
     "metadata": {},
     "output_type": "execute_result"
    }
   ],
   "source": [
    "my_array[1][2]"
   ]
  },
  {
   "cell_type": "code",
   "execution_count": 18,
   "metadata": {},
   "outputs": [
    {
     "data": {
      "text/plain": [
       "48"
      ]
     },
     "execution_count": 18,
     "metadata": {},
     "output_type": "execute_result"
    }
   ],
   "source": [
    "my_array[2, 3]"
   ]
  },
  {
   "cell_type": "markdown",
   "metadata": {},
   "source": [
    "Индексация двумерных массивов имеет следующие особенности:\n",
    "\n",
    "при указании только одного индекса из массива будет выделена вся строка, соответствующая указанному индексу; <br>\n",
    "можно указывать несколько индексов или срезов для каждой из осей."
   ]
  },
  {
   "cell_type": "code",
   "execution_count": 25,
   "metadata": {},
   "outputs": [
    {
     "data": {
      "text/plain": [
       "array([1, 2, 3, 4])"
      ]
     },
     "execution_count": 25,
     "metadata": {},
     "output_type": "execute_result"
    }
   ],
   "source": [
    "my_array[0]"
   ]
  },
  {
   "cell_type": "code",
   "execution_count": 29,
   "metadata": {},
   "outputs": [
    {
     "data": {
      "text/plain": [
       "array([ 3, 12, 47])"
      ]
     },
     "execution_count": 29,
     "metadata": {},
     "output_type": "execute_result"
    }
   ],
   "source": [
    "my_array[:, 2]"
   ]
  },
  {
   "cell_type": "code",
   "execution_count": 30,
   "metadata": {},
   "outputs": [
    {
     "data": {
      "text/plain": [
       "array([[11, 12],\n",
       "       [46, 47]])"
      ]
     },
     "execution_count": 30,
     "metadata": {},
     "output_type": "execute_result"
    }
   ],
   "source": [
    "my_array[1:, 1:3]"
   ]
  },
  {
   "cell_type": "markdown",
   "metadata": {},
   "source": [
    "#### Упражнения\n",
    "Потренируемся извлекать из двумерного массива отдельные элементы и их срезы и производить над ними математические действия. Задания блока будем выполнять на примере массива, созданного кодом:"
   ]
  },
  {
   "cell_type": "markdown",
   "metadata": {},
   "source": [
    "##### B7.2.2.1 Задание\n",
    "Чему равна сумма элементов последнего столбца массива? Ответ округлите до двух цифр после запятой:"
   ]
  },
  {
   "cell_type": "code",
   "execution_count": 4,
   "metadata": {},
   "outputs": [],
   "source": [
    "first_line = [x*y for x in range(2, 100, 6) for y in range (7, 1, -2)]\n",
    "second_line = [x ** 0.5 for x in range(1000, 1101, 2)]\n",
    "third_line = [x**2 for x in range(51)]\n",
    "\n",
    "big_secret = np.array([first_line, second_line, third_line, second_line, first_line])"
   ]
  },
  {
   "cell_type": "code",
   "execution_count": 247,
   "metadata": {},
   "outputs": [
    {
     "data": {
      "text/plain": [
       "63.332495807108"
      ]
     },
     "execution_count": 247,
     "metadata": {},
     "output_type": "execute_result"
    }
   ],
   "source": [
    "big_secret[:, -1].sum()"
   ]
  },
  {
   "cell_type": "code",
   "execution_count": 60,
   "metadata": {},
   "outputs": [
    {
     "data": {
      "text/plain": [
       "3154.33"
      ]
     },
     "execution_count": 60,
     "metadata": {},
     "output_type": "execute_result"
    }
   ],
   "source": [
    "3154.33"
   ]
  },
  {
   "cell_type": "code",
   "execution_count": 229,
   "metadata": {},
   "outputs": [
    {
     "data": {
      "text/plain": [
       "867.410282350086"
      ]
     },
     "execution_count": 229,
     "metadata": {},
     "output_type": "execute_result"
    }
   ],
   "source": [
    "# big_secret[1].sum()"
   ]
  },
  {
   "cell_type": "code",
   "execution_count": 244,
   "metadata": {},
   "outputs": [],
   "source": [
    "# np.sort(my_array, axis=1) # 1 (для столбцов)"
   ]
  },
  {
   "cell_type": "code",
   "execution_count": 239,
   "metadata": {},
   "outputs": [
    {
     "data": {
      "text/plain": [
       "array([[-1.00000000e+00,  1.00000000e+01, -1.00000000e+00,\n",
       "         5.60000000e+01, -1.00000000e+00,  2.40000000e+01,\n",
       "        -1.00000000e+00,  7.00000000e+01, -1.00000000e+00,\n",
       "         1.40000000e+02, -1.00000000e+00,  6.00000000e+01,\n",
       "        -1.00000000e+00,  1.30000000e+02, -1.00000000e+00,\n",
       "         2.24000000e+02, -1.00000000e+00,  9.60000000e+01,\n",
       "        -1.00000000e+00,  1.90000000e+02, -1.00000000e+00,\n",
       "         3.08000000e+02, -1.00000000e+00,  1.32000000e+02,\n",
       "        -1.00000000e+00,  2.50000000e+02, -1.00000000e+00,\n",
       "         3.92000000e+02, -1.00000000e+00,  1.68000000e+02,\n",
       "        -1.00000000e+00,  3.10000000e+02, -1.00000000e+00,\n",
       "         4.76000000e+02, -1.00000000e+00,  2.04000000e+02,\n",
       "        -1.00000000e+00,  3.70000000e+02, -1.00000000e+00,\n",
       "         5.60000000e+02, -1.00000000e+00,  2.40000000e+02,\n",
       "        -1.00000000e+00,  4.30000000e+02, -1.00000000e+00,\n",
       "         6.44000000e+02, -1.00000000e+00,  2.76000000e+02,\n",
       "        -1.00000000e+00,  4.90000000e+02, -1.00000000e+00],\n",
       "       [ 3.16227766e+01,  1.00000000e+00,  3.16859590e+01,\n",
       "         1.00000000e+00,  3.17490157e+01,  1.00000000e+00,\n",
       "         3.18119474e+01,  1.00000000e+00,  3.18747549e+01,\n",
       "         1.00000000e+00,  3.19374388e+01,  1.00000000e+00,\n",
       "         3.20000000e+01,  1.00000000e+00,  3.20624391e+01,\n",
       "         1.00000000e+00,  3.21247568e+01,  1.00000000e+00,\n",
       "         3.21869539e+01,  1.00000000e+00,  3.22490310e+01,\n",
       "         1.00000000e+00,  3.23109888e+01,  1.00000000e+00,\n",
       "         3.23728281e+01,  1.00000000e+00,  3.24345495e+01,\n",
       "         1.00000000e+00,  3.24961536e+01,  1.00000000e+00,\n",
       "         3.25576412e+01,  1.00000000e+00,  3.26190129e+01,\n",
       "         1.00000000e+00,  3.26802693e+01,  1.00000000e+00,\n",
       "         3.27414111e+01,  1.00000000e+00,  3.28024389e+01,\n",
       "         1.00000000e+00,  3.28633535e+01,  1.00000000e+00,\n",
       "         3.29241553e+01,  1.00000000e+00,  3.29848450e+01,\n",
       "         1.00000000e+00,  3.30454233e+01,  1.00000000e+00,\n",
       "         3.31058907e+01,  1.00000000e+00,  3.31662479e+01],\n",
       "       [-1.00000000e+00,  1.00000000e+00, -1.00000000e+00,\n",
       "         9.00000000e+00, -1.00000000e+00,  2.50000000e+01,\n",
       "        -1.00000000e+00,  4.90000000e+01, -1.00000000e+00,\n",
       "         8.10000000e+01, -1.00000000e+00,  1.21000000e+02,\n",
       "        -1.00000000e+00,  1.69000000e+02, -1.00000000e+00,\n",
       "         2.25000000e+02, -1.00000000e+00,  2.89000000e+02,\n",
       "        -1.00000000e+00,  3.61000000e+02, -1.00000000e+00,\n",
       "         4.41000000e+02, -1.00000000e+00,  5.29000000e+02,\n",
       "        -1.00000000e+00,  6.25000000e+02, -1.00000000e+00,\n",
       "         7.29000000e+02, -1.00000000e+00,  8.41000000e+02,\n",
       "        -1.00000000e+00,  9.61000000e+02, -1.00000000e+00,\n",
       "         1.08900000e+03, -1.00000000e+00,  1.22500000e+03,\n",
       "        -1.00000000e+00,  1.36900000e+03, -1.00000000e+00,\n",
       "         1.52100000e+03, -1.00000000e+00,  1.68100000e+03,\n",
       "        -1.00000000e+00,  1.84900000e+03, -1.00000000e+00,\n",
       "         2.02500000e+03, -1.00000000e+00,  2.20900000e+03,\n",
       "        -1.00000000e+00,  2.40100000e+03, -1.00000000e+00],\n",
       "       [ 3.16227766e+01,  1.00000000e+00,  3.16859590e+01,\n",
       "         1.00000000e+00,  3.17490157e+01,  1.00000000e+00,\n",
       "         3.18119474e+01,  1.00000000e+00,  3.18747549e+01,\n",
       "         1.00000000e+00,  3.19374388e+01,  1.00000000e+00,\n",
       "         3.20000000e+01,  1.00000000e+00,  3.20624391e+01,\n",
       "         1.00000000e+00,  3.21247568e+01,  1.00000000e+00,\n",
       "         3.21869539e+01,  1.00000000e+00,  3.22490310e+01,\n",
       "         1.00000000e+00,  3.23109888e+01,  1.00000000e+00,\n",
       "         3.23728281e+01,  1.00000000e+00,  3.24345495e+01,\n",
       "         1.00000000e+00,  3.24961536e+01,  1.00000000e+00,\n",
       "         3.25576412e+01,  1.00000000e+00,  3.26190129e+01,\n",
       "         1.00000000e+00,  3.26802693e+01,  1.00000000e+00,\n",
       "         3.27414111e+01,  1.00000000e+00,  3.28024389e+01,\n",
       "         1.00000000e+00,  3.28633535e+01,  1.00000000e+00,\n",
       "         3.29241553e+01,  1.00000000e+00,  3.29848450e+01,\n",
       "         1.00000000e+00,  3.30454233e+01,  1.00000000e+00,\n",
       "         3.31058907e+01,  1.00000000e+00,  3.31662479e+01],\n",
       "       [-1.00000000e+00,  1.00000000e+01, -1.00000000e+00,\n",
       "         5.60000000e+01, -1.00000000e+00,  2.40000000e+01,\n",
       "        -1.00000000e+00,  7.00000000e+01, -1.00000000e+00,\n",
       "         1.40000000e+02, -1.00000000e+00,  6.00000000e+01,\n",
       "        -1.00000000e+00,  1.30000000e+02, -1.00000000e+00,\n",
       "         2.24000000e+02, -1.00000000e+00,  9.60000000e+01,\n",
       "        -1.00000000e+00,  1.90000000e+02, -1.00000000e+00,\n",
       "         3.08000000e+02, -1.00000000e+00,  1.32000000e+02,\n",
       "        -1.00000000e+00,  2.50000000e+02, -1.00000000e+00,\n",
       "         3.92000000e+02, -1.00000000e+00,  1.68000000e+02,\n",
       "        -1.00000000e+00,  3.10000000e+02, -1.00000000e+00,\n",
       "         4.76000000e+02, -1.00000000e+00,  2.04000000e+02,\n",
       "        -1.00000000e+00,  3.70000000e+02, -1.00000000e+00,\n",
       "         5.60000000e+02, -1.00000000e+00,  2.40000000e+02,\n",
       "        -1.00000000e+00,  4.30000000e+02, -1.00000000e+00,\n",
       "         6.44000000e+02, -1.00000000e+00,  2.76000000e+02,\n",
       "        -1.00000000e+00,  4.90000000e+02, -1.00000000e+00]])"
      ]
     },
     "execution_count": 239,
     "metadata": {},
     "output_type": "execute_result"
    }
   ],
   "source": [
    "big_secret"
   ]
  },
  {
   "cell_type": "code",
   "execution_count": 233,
   "metadata": {},
   "outputs": [
    {
     "data": {
      "text/plain": [
       "array([[ 1,  2,  3,  4],\n",
       "       [10, 11, 12, 13],\n",
       "       [45, 46, 47, 48]])"
      ]
     },
     "execution_count": 233,
     "metadata": {},
     "output_type": "execute_result"
    }
   ],
   "source": [
    "my_array = np.array([[1,2,3,4], [10,11,12,13], [45,46,47,48]])\n",
    "# my_array[1][2]\n",
    "my_array"
   ]
  },
  {
   "cell_type": "code",
   "execution_count": 234,
   "metadata": {},
   "outputs": [
    {
     "data": {
      "text/plain": [
       "12"
      ]
     },
     "execution_count": 234,
     "metadata": {},
     "output_type": "execute_result"
    }
   ],
   "source": [
    "my_array[1][2]"
   ]
  },
  {
   "cell_type": "code",
   "execution_count": 197,
   "metadata": {},
   "outputs": [
    {
     "data": {
      "text/plain": [
       "-1.0"
      ]
     },
     "execution_count": 197,
     "metadata": {},
     "output_type": "execute_result"
    }
   ],
   "source": [
    "f = 0\n",
    "for i in range(5):\n",
    "    f += big_secret[i,i]\n",
    "f"
   ]
  },
  {
   "cell_type": "markdown",
   "metadata": {},
   "source": [
    "#### B7.2.2.2 Задание\n",
    "Выделите из каждой строки массива big_secret первые 5 элементов. Чему равна сумма элементов главной диагонали получившейся матрицы? Округлите ответ до двух цифр после запятой:"
   ]
  },
  {
   "cell_type": "code",
   "execution_count": 66,
   "metadata": {},
   "outputs": [
    {
     "data": {
      "text/plain": [
       "array([14., 10.,  6., 56., 40., 24.])"
      ]
     },
     "execution_count": 66,
     "metadata": {},
     "output_type": "execute_result"
    }
   ],
   "source": [
    "big_secret[0][:6]"
   ]
  },
  {
   "cell_type": "code",
   "execution_count": 194,
   "metadata": {},
   "outputs": [
    {
     "name": "stdout",
     "output_type": "stream",
     "text": [
      "-1.0\n",
      "1.0\n",
      "-1.0\n",
      "1.0\n",
      "-1.0\n"
     ]
    },
    {
     "data": {
      "text/plain": [
       "-1.0"
      ]
     },
     "execution_count": 194,
     "metadata": {},
     "output_type": "execute_result"
    }
   ],
   "source": [
    "summ = 0.0\n",
    "for i in range (0,len(big_secret)):\n",
    "    x = big_secret[i][i]\n",
    "    print(x)\n",
    "    summ += x\n",
    "summ\n",
    "\n",
    "# i определяем как числа в списке  [0, 1, 2, 3, 4]. \n",
    "# Элементы массива с индексом [i][i] лежат на диагонали \n"
   ]
  },
  {
   "cell_type": "code",
   "execution_count": 185,
   "metadata": {},
   "outputs": [],
   "source": [
    "# big_secret121.37"
   ]
  },
  {
   "cell_type": "markdown",
   "metadata": {},
   "source": [
    "#### B7.2.2.3 Задание\n",
    "Выделите из каждой строки массива big_secret последние 5 элементов. Чему равно произведение элементов главной диагонали получившейся матрицы? Введите полученный результат без изменений и округлений."
   ]
  },
  {
   "cell_type": "code",
   "execution_count": 249,
   "metadata": {},
   "outputs": [
    {
     "name": "stdout",
     "output_type": "stream",
     "text": [
      "294.0\n",
      "33.13608305156178\n",
      "2304.0\n",
      "33.075670817082454\n",
      "460.0\n"
     ]
    },
    {
     "data": {
      "text/plain": [
       "341505315559.2347"
      ]
     },
     "execution_count": 249,
     "metadata": {},
     "output_type": "execute_result"
    }
   ],
   "source": [
    "# B7.2.2.3 Задание\n",
    "first_line = [x*y for x in range(2, 100, 6) for y in range (7, 1, -2)]\n",
    "second_line = [x ** 0.5 for x in range(1000, 1101, 2)]\n",
    "third_line = [x**2 for x in range(51)]\n",
    "big_secret = np.array([first_line, second_line, third_line, second_line, first_line])\n",
    "res = 1\n",
    "for i in range (1,len(big_secret)+1):\n",
    "    x = big_secret[-i][-i]\n",
    "    print(x)\n",
    "    res = res * x\n",
    "res"
   ]
  },
  {
   "cell_type": "code",
   "execution_count": null,
   "metadata": {},
   "outputs": [],
   "source": [
    "# измененный массив\n",
    "first_line = [x*y for x in range(2, 100, 6) for y in range (7, 1, -2)]\n",
    "second_line = [x ** 0.5 for x in range(1000, 1101, 2)]\n",
    "third_line = [x**2 for x in range(51)]\n",
    "big_secret = np.array([first_line, second_line, third_line, second_line, first_line])\n",
    "new_big_secret = big_secret\n",
    "for i in range (0,len(big_secret)):\n",
    "    for j in range(0,len(big_secret[i])):\n",
    "        if (i%2 !=0) & (j%2 !=0):\n",
    "            new_big_secret[i][j] = 1\n",
    "        if (i%2 == 0) & (j%2 ==0):\n",
    "            new_big_secret[i][j] = -1\n",
    "new_big_secret\n",
    "# B7.2.2.4 Задание\n",
    "summ = 0.0\n",
    "for i in range (0,len(new_big_secret)):\n",
    "    x = new_big_secret[i][i]      \n",
    "    summ += x\n",
    "summ\n",
    "# B7.2.2.5 Задание\n",
    "res = 1\n",
    "for i in range (1,len(new_big_secret)+1):\n",
    "    x = new_big_secret[-i][-i]\n",
    "    #print(x)\n",
    "    res = res * x\n",
    "res"
   ]
  },
  {
   "cell_type": "code",
   "execution_count": null,
   "metadata": {},
   "outputs": [],
   "source": []
  },
  {
   "cell_type": "code",
   "execution_count": null,
   "metadata": {},
   "outputs": [],
   "source": []
  },
  {
   "cell_type": "markdown",
   "metadata": {},
   "source": [
    "#### Особенность индексирования\n",
    "Важное отличие массивов NumPy от списков Python — при изменении среза или отдельных элементов все изменения касаются не только самого среза, но и падают в исходный массив, даже если перед внесением изменений срез был сохранён в виде отдельной переменной. Изначально NumPy проектировался для работы с большими массивами данных, поэтому при бесконтрольном копировании фрагментов массивов возникли бы проблемы с быстродействием и памятью.\n",
    "\n",
    "Создадим массив 4 х 6:"
   ]
  },
  {
   "cell_type": "code",
   "execution_count": 248,
   "metadata": {},
   "outputs": [
    {
     "data": {
      "text/plain": [
       "array([[62, 50,  5, 45, 95, 87],\n",
       "       [87, 43, 87, 65, 92, 70],\n",
       "       [40, 77,  9, 61, 35, 18],\n",
       "       [50, 81,  6, 52, 33, 52]])"
      ]
     },
     "execution_count": 248,
     "metadata": {},
     "output_type": "execute_result"
    }
   ],
   "source": [
    "my_array = np.random.randint(1, 100, (4, 6)) \n",
    "my_array"
   ]
  },
  {
   "cell_type": "code",
   "execution_count": 74,
   "metadata": {},
   "outputs": [
    {
     "data": {
      "text/plain": [
       "array([[54, 56],\n",
       "       [61, 95]])"
      ]
     },
     "execution_count": 74,
     "metadata": {},
     "output_type": "execute_result"
    }
   ],
   "source": [
    "my_slice = my_array[1:3, 2:4]\n",
    "my_slice"
   ]
  },
  {
   "cell_type": "code",
   "execution_count": 76,
   "metadata": {},
   "outputs": [
    {
     "data": {
      "text/plain": [
       "array([[62, 37, 57, 63, 44, 13],\n",
       "       [32, 78,  0,  0, 11, 77],\n",
       "       [14, 26,  0,  0, 39, 63],\n",
       "       [24, 91, 16, 49,  9, 37]])"
      ]
     },
     "execution_count": 76,
     "metadata": {},
     "output_type": "execute_result"
    }
   ],
   "source": [
    "my_slice[:] = 0\n",
    "my_array"
   ]
  },
  {
   "cell_type": "markdown",
   "metadata": {},
   "source": [
    "#### B7.2.2.4 Задание\n",
    "\n",
    "Выделите из каждой строки обновлённого массива big_secret первые 5 элементов. Чему равна сумма элементов главной диагонали получившейся матрицы? Введите полученный ответ без изменений и округлений."
   ]
  },
  {
   "cell_type": "code",
   "execution_count": 10,
   "metadata": {},
   "outputs": [
    {
     "data": {
      "text/plain": [
       "5"
      ]
     },
     "execution_count": 10,
     "metadata": {},
     "output_type": "execute_result"
    }
   ],
   "source": [
    "e = len(big_secret)\n",
    "i = 0\n",
    "b = 0\n",
    "for i in range(e):\n",
    "    b = 0\n",
    "    while b != len(first_line):\n",
    "        if i % 2 == 0 and b % 2 == 0:\n",
    "            big_secret[i][b] = -1\n",
    "        elif i % 2 != 0 and b % 2 != 0:\n",
    "            big_secret[i][b] = 1\n",
    "        b = b + 1\n",
    "e"
   ]
  },
  {
   "cell_type": "markdown",
   "metadata": {},
   "source": [
    "## B7.2.3 Операции с массивами"
   ]
  },
  {
   "cell_type": "code",
   "execution_count": 11,
   "metadata": {},
   "outputs": [
    {
     "name": "stdout",
     "output_type": "stream",
     "text": [
      "Сумма: [15 21 27]\n",
      "Разность: [9 9 9]\n",
      "Произведение: [ 36  90 162]\n",
      "Частное: [0.25 0.4  0.5 ]\n",
      "Умножение на число: [ 6 12 18]\n"
     ]
    }
   ],
   "source": [
    "a = np.array([3,6,9])\n",
    "b = np.array([12,15,18])\n",
    "\n",
    "result1 = a+b\n",
    "result2 = b-a\n",
    "result3 = a*b\n",
    "result4 = a/b\n",
    "result5 = a*2\n",
    "print('Сумма: {}\\nРазность: {}\\nПроизведение: {}\\nЧастное: {}\\nУмножение на число: {}'.format(result1, result2, result3, result4, result5))"
   ]
  },
  {
   "cell_type": "code",
   "execution_count": 13,
   "metadata": {},
   "outputs": [
    {
     "data": {
      "text/plain": [
       "(array([3, 6, 9]), array([12, 15, 18]))"
      ]
     },
     "execution_count": 13,
     "metadata": {},
     "output_type": "execute_result"
    }
   ],
   "source": [
    "a, b"
   ]
  },
  {
   "cell_type": "markdown",
   "metadata": {},
   "source": [
    "Замена местами строк и столбцов двумерного массива называется транспонированием. Для выполнения этой операции в NumPy используется метод T:"
   ]
  },
  {
   "cell_type": "code",
   "execution_count": 14,
   "metadata": {},
   "outputs": [
    {
     "data": {
      "text/plain": [
       "array([[ 1,  6],\n",
       "       [ 2,  7],\n",
       "       [ 3,  8],\n",
       "       [ 4,  9],\n",
       "       [ 5, 10]])"
      ]
     },
     "execution_count": 14,
     "metadata": {},
     "output_type": "execute_result"
    }
   ],
   "source": [
    "my_array = np.array([[1,2,3,4,5], [6,7,8,9,10]])\n",
    "my_array.T"
   ]
  },
  {
   "cell_type": "markdown",
   "metadata": {},
   "source": [
    "Для превращения массива одной размерности в массив другой — обычно для преобразования одномерного массива в многомерный — используется метод reshape. Изменить размернсть массива можно только в том случае, если число элементов в исходном и в целевом массиве совпадает:"
   ]
  },
  {
   "cell_type": "code",
   "execution_count": 17,
   "metadata": {},
   "outputs": [
    {
     "data": {
      "text/plain": [
       "array([3, 6, 4, 5, 4, 5, 8, 9, 9, 7, 5, 0, 6, 7, 5, 2, 8, 6, 2, 5])"
      ]
     },
     "execution_count": 17,
     "metadata": {},
     "output_type": "execute_result"
    }
   ],
   "source": [
    "my_array = np.random.randint(0, 10, 20)\n",
    "my_array"
   ]
  },
  {
   "cell_type": "code",
   "execution_count": 23,
   "metadata": {},
   "outputs": [
    {
     "data": {
      "text/plain": [
       "array([[3, 6, 4, 5, 4],\n",
       "       [5, 8, 9, 9, 7],\n",
       "       [5, 0, 6, 7, 5],\n",
       "       [2, 8, 6, 2, 5]])"
      ]
     },
     "execution_count": 23,
     "metadata": {},
     "output_type": "execute_result"
    }
   ],
   "source": [
    "my_array.reshape((4,5))"
   ]
  },
  {
   "cell_type": "markdown",
   "metadata": {},
   "source": [
    "Для преобразования многомерного массива в одномерный используется метод flatten:"
   ]
  },
  {
   "cell_type": "code",
   "execution_count": 24,
   "metadata": {},
   "outputs": [
    {
     "data": {
      "text/plain": [
       "array([[  1,   2,   3],\n",
       "       [ 11,  22,  33],\n",
       "       [111, 222, 333]])"
      ]
     },
     "execution_count": 24,
     "metadata": {},
     "output_type": "execute_result"
    }
   ],
   "source": [
    "my_array = np.array([[1,2,3], [11,22,33], [111,222,333]])\n",
    "my_array"
   ]
  },
  {
   "cell_type": "code",
   "execution_count": 25,
   "metadata": {},
   "outputs": [
    {
     "data": {
      "text/plain": [
       "array([  1,   2,   3,  11,  22,  33, 111, 222, 333])"
      ]
     },
     "execution_count": 25,
     "metadata": {},
     "output_type": "execute_result"
    }
   ],
   "source": [
    "my_array.flatten()"
   ]
  },
  {
   "cell_type": "markdown",
   "metadata": {},
   "source": [
    "#### Сравнения и маски"
   ]
  },
  {
   "cell_type": "markdown",
   "metadata": {},
   "source": [
    "Научимся сравнивать элементы массива с числом и извлекать из него только те элементы, которые больше или меньше заданного числа. Для этого создадим массив размера 3х4, произвольно заполненный числами от 0 до 10. При создании массива используется генератор случайных чисел, так что у вас могут получиться другие значения:"
   ]
  },
  {
   "cell_type": "code",
   "execution_count": 27,
   "metadata": {},
   "outputs": [
    {
     "data": {
      "text/plain": [
       "array([[5, 8, 4, 5],\n",
       "       [4, 2, 2, 8],\n",
       "       [3, 9, 1, 2]])"
      ]
     },
     "execution_count": 27,
     "metadata": {},
     "output_type": "execute_result"
    }
   ],
   "source": [
    "my_array = np.random.randint(0, 10, (3,4))\n",
    "my_array"
   ]
  },
  {
   "cell_type": "markdown",
   "metadata": {},
   "source": [
    "Теперь посмотрим, какие из элементов меньше 5:"
   ]
  },
  {
   "cell_type": "code",
   "execution_count": 28,
   "metadata": {},
   "outputs": [
    {
     "data": {
      "text/plain": [
       "array([[False, False,  True, False],\n",
       "       [ True,  True,  True, False],\n",
       "       [ True, False,  True,  True]])"
      ]
     },
     "execution_count": 28,
     "metadata": {},
     "output_type": "execute_result"
    }
   ],
   "source": [
    "my_array<5"
   ]
  },
  {
   "cell_type": "markdown",
   "metadata": {},
   "source": [
    "Мы получили новый массив, заполненный значениями True/False в зависимости от того, меньше или больше пяти элемент, находящийся на соответствующей позиции в исходном массиве. Для того, чтобы получить элементы массива my_array, которые меньше пяти, воспользуемся кодом ниже. Отобранные элементы представляют собой одномерный массив."
   ]
  },
  {
   "cell_type": "code",
   "execution_count": 29,
   "metadata": {},
   "outputs": [
    {
     "data": {
      "text/plain": [
       "array([4, 4, 2, 2, 3, 1, 2])"
      ]
     },
     "execution_count": 29,
     "metadata": {},
     "output_type": "execute_result"
    }
   ],
   "source": [
    "my_array[my_array<5]"
   ]
  },
  {
   "cell_type": "markdown",
   "metadata": {},
   "source": [
    "Маска нужна для выбора только определенных строк или столбцов из всего массива и скрытия остальных. Маска в Python задаётся при помощи булевых 0 и 1, где 0 скрывает столбец или строку, а 1 оставляет ее на виду. Выведем первый и третрий столбец массива:"
   ]
  },
  {
   "cell_type": "code",
   "execution_count": 35,
   "metadata": {},
   "outputs": [
    {
     "data": {
      "text/plain": [
       "array([[5],\n",
       "       [8],\n",
       "       [2]])"
      ]
     },
     "execution_count": 35,
     "metadata": {},
     "output_type": "execute_result"
    }
   ],
   "source": [
    "mask = np.array([0, 0, 0, 1], dtype=bool)\n",
    "my_array[:, mask]"
   ]
  },
  {
   "cell_type": "markdown",
   "metadata": {},
   "source": [
    "Сортировка двумерных массивов\n",
    "В двумерных массивах можно выполнять сортировку элементов строк и столбцов:\n",
    "\n",
    "Сортировка выполняется с помощью функции sort, в качестве параметров функция получает сам массив, а также номер оси (0 (для столбцов) или 1 (для строк)) , элементы которой необходимо отсортировать. \n",
    "\n",
    "Как можно отсортировать элементы строк и столбцов?\n",
    "\n",
    "Отсортируем элементы строк:"
   ]
  },
  {
   "cell_type": "code",
   "execution_count": 61,
   "metadata": {},
   "outputs": [
    {
     "data": {
      "text/plain": [
       "array([[2, 2],\n",
       "       [1, 1],\n",
       "       [2, 0]])"
      ]
     },
     "execution_count": 61,
     "metadata": {},
     "output_type": "execute_result"
    }
   ],
   "source": [
    "my_array = np.random.randint(0, 3, (3, 2))\n",
    "my_array"
   ]
  },
  {
   "cell_type": "code",
   "execution_count": 59,
   "metadata": {},
   "outputs": [
    {
     "data": {
      "text/plain": [
       "array([[0, 1],\n",
       "       [0, 1],\n",
       "       [0, 1]])"
      ]
     },
     "execution_count": 59,
     "metadata": {},
     "output_type": "execute_result"
    }
   ],
   "source": [
    "np.sort(my_array, axis=1) # 1 (для столбцов)"
   ]
  },
  {
   "cell_type": "code",
   "execution_count": 60,
   "metadata": {},
   "outputs": [
    {
     "data": {
      "text/plain": [
       "array([[0, 0],\n",
       "       [0, 1],\n",
       "       [1, 1]])"
      ]
     },
     "execution_count": 60,
     "metadata": {},
     "output_type": "execute_result"
    }
   ],
   "source": [
    "np.sort(my_array, axis=0) # 0 (для строк)"
   ]
  },
  {
   "cell_type": "markdown",
   "metadata": {},
   "source": [
    "#### Упражнения\n",
    "Для выполнения упражнений из следующего блока мы будем использовать массив, созданный с помощью кода:"
   ]
  },
  {
   "cell_type": "code",
   "execution_count": 99,
   "metadata": {},
   "outputs": [],
   "source": [
    "first = [x**(1/2) for x in range(100)]\n",
    "second = [x**(1/3) for x in range(100, 200)]\n",
    "third = [x/y for x in range(200,300,2) for y in [3,5]]\n",
    "\n",
    "great_secret = np.array([first, second, third]).T"
   ]
  },
  {
   "cell_type": "code",
   "execution_count": 69,
   "metadata": {},
   "outputs": [],
   "source": [
    "# first = [x**(1/2) for x in range(10)]\n",
    "# second = [x**(1/3) for x in range(10, 20)]\n",
    "# third = [x/y for x in range(20,30,2) for y in [3,5]]\n",
    "\n",
    "# great_secret = np.array([first, second, third]).T"
   ]
  },
  {
   "cell_type": "markdown",
   "metadata": {},
   "source": [
    "#### B7.2.3.2 Задание\n",
    "Чему равна сумма косинусов элементов первой строки массива great_secret? Ответ округлите до двух знаков после запятой."
   ]
  },
  {
   "cell_type": "code",
   "execution_count": null,
   "metadata": {},
   "outputs": [],
   "source": [
    "# Python program to demonstrate \n",
    "# unary operators in numpy \n",
    "import numpy as np \n",
    "  \n",
    "arr = np.array([[1, 5, 6], \n",
    "                [4, 7, 2], \n",
    "                [3, 1, 9]]) \n",
    "  \n",
    "# maximum element of array \n",
    "print (\"Largest element is:\", arr.max()) \n",
    "print (\"Row-wise maximum elements:\", \n",
    "                    arr.max(axis = 1)) "
   ]
  },
  {
   "cell_type": "code",
   "execution_count": 129,
   "metadata": {},
   "outputs": [
    {
     "data": {
      "text/plain": [
       "array([ 0.        ,  4.64158883, 66.66666667])"
      ]
     },
     "execution_count": 129,
     "metadata": {},
     "output_type": "execute_result"
    }
   ],
   "source": [
    "great_secret_task = great_secret[0]\n",
    "great_secret_task"
   ]
  },
  {
   "cell_type": "code",
   "execution_count": 193,
   "metadata": {},
   "outputs": [
    {
     "data": {
      "text/plain": [
       "0.16006721889793019"
      ]
     },
     "execution_count": 193,
     "metadata": {},
     "output_type": "execute_result"
    }
   ],
   "source": [
    "# great_secret_task.sin()\n",
    "# great_secret_task.sum()\n",
    "\n",
    "np.cos(great_secret_task).sum()"
   ]
  },
  {
   "cell_type": "markdown",
   "metadata": {},
   "source": [
    "B7.2.3.3 Задание\n",
    "\n",
    "Чему равна сумма элементов массива great_secret, значение которых больше 50?"
   ]
  },
  {
   "cell_type": "code",
   "execution_count": 107,
   "metadata": {},
   "outputs": [
    {
     "data": {
      "text/plain": [
       "5470.0"
      ]
     },
     "execution_count": 107,
     "metadata": {},
     "output_type": "execute_result"
    }
   ],
   "source": [
    "great_secret[great_secret>50].sum()"
   ]
  },
  {
   "cell_type": "markdown",
   "metadata": {},
   "source": [
    "#### B7.2.3.4 Задание\n",
    "Переведите массив great_secret в одномерную форму. Какое значение в получившемся массиве имеет элемент с индексом 150? Скопируйте ответ из Jupyter Notebook без изменений."
   ]
  },
  {
   "cell_type": "code",
   "execution_count": 143,
   "metadata": {},
   "outputs": [
    {
     "data": {
      "text/plain": [
       "array([  1,   2,   3,  11,  22,  33, 111, 222, 333])"
      ]
     },
     "execution_count": 143,
     "metadata": {},
     "output_type": "execute_result"
    }
   ],
   "source": [
    "my_array = np.array([[1,2,3], [11,22,33], [111,222,333]])\n",
    "my_array.flatten()\n",
    "# my_array"
   ]
  },
  {
   "cell_type": "code",
   "execution_count": 146,
   "metadata": {},
   "outputs": [
    {
     "data": {
      "text/plain": [
       "7.0710678118654755"
      ]
     },
     "execution_count": 146,
     "metadata": {},
     "output_type": "execute_result"
    }
   ],
   "source": [
    "great_secret.flatten()[150]"
   ]
  },
  {
   "cell_type": "markdown",
   "metadata": {},
   "source": [
    "#### B7.2.3.5 Задание\n",
    "Отсортируйте значения столбцов массива great_secret по возрастанию. Чему равна сумма элементов последней строки отсортированного массива? Ответ округлите до двух цифр после запятой."
   ]
  },
  {
   "cell_type": "code",
   "execution_count": 164,
   "metadata": {},
   "outputs": [
    {
     "data": {
      "text/plain": [
       "array([[ 0.  ,  4.64, 40.  ],\n",
       "       [ 1.  ,  4.66, 40.4 ],\n",
       "       [ 1.41,  4.67, 40.8 ],\n",
       "       [ 1.73,  4.69, 41.2 ],\n",
       "       [ 2.  ,  4.7 , 41.6 ],\n",
       "       [ 2.24,  4.72, 42.  ],\n",
       "       [ 2.45,  4.73, 42.4 ],\n",
       "       [ 2.65,  4.75, 42.8 ],\n",
       "       [ 2.83,  4.76, 43.2 ],\n",
       "       [ 3.  ,  4.78, 43.6 ],\n",
       "       [ 3.16,  4.79, 44.  ],\n",
       "       [ 3.32,  4.81, 44.4 ],\n",
       "       [ 3.46,  4.82, 44.8 ],\n",
       "       [ 3.61,  4.83, 45.2 ],\n",
       "       [ 3.74,  4.85, 45.6 ],\n",
       "       [ 3.87,  4.86, 46.  ],\n",
       "       [ 4.  ,  4.88, 46.4 ],\n",
       "       [ 4.12,  4.89, 46.8 ],\n",
       "       [ 4.24,  4.9 , 47.2 ],\n",
       "       [ 4.36,  4.92, 47.6 ],\n",
       "       [ 4.47,  4.93, 48.  ],\n",
       "       [ 4.58,  4.95, 48.4 ],\n",
       "       [ 4.69,  4.96, 48.8 ],\n",
       "       [ 4.8 ,  4.97, 49.2 ],\n",
       "       [ 4.9 ,  4.99, 49.6 ],\n",
       "       [ 5.  ,  5.  , 50.  ],\n",
       "       [ 5.1 ,  5.01, 50.4 ],\n",
       "       [ 5.2 ,  5.03, 50.8 ],\n",
       "       [ 5.29,  5.04, 51.2 ],\n",
       "       [ 5.39,  5.05, 51.6 ],\n",
       "       [ 5.48,  5.07, 52.  ],\n",
       "       [ 5.57,  5.08, 52.4 ],\n",
       "       [ 5.66,  5.09, 52.8 ],\n",
       "       [ 5.74,  5.1 , 53.2 ],\n",
       "       [ 5.83,  5.12, 53.6 ],\n",
       "       [ 5.92,  5.13, 54.  ],\n",
       "       [ 6.  ,  5.14, 54.4 ],\n",
       "       [ 6.08,  5.16, 54.8 ],\n",
       "       [ 6.16,  5.17, 55.2 ],\n",
       "       [ 6.24,  5.18, 55.6 ],\n",
       "       [ 6.32,  5.19, 56.  ],\n",
       "       [ 6.4 ,  5.2 , 56.4 ],\n",
       "       [ 6.48,  5.22, 56.8 ],\n",
       "       [ 6.56,  5.23, 57.2 ],\n",
       "       [ 6.63,  5.24, 57.6 ],\n",
       "       [ 6.71,  5.25, 58.  ],\n",
       "       [ 6.78,  5.27, 58.4 ],\n",
       "       [ 6.86,  5.28, 58.8 ],\n",
       "       [ 6.93,  5.29, 59.2 ],\n",
       "       [ 7.  ,  5.3 , 59.6 ],\n",
       "       [ 7.07,  5.31, 66.67],\n",
       "       [ 7.14,  5.33, 67.33],\n",
       "       [ 7.21,  5.34, 68.  ],\n",
       "       [ 7.28,  5.35, 68.67],\n",
       "       [ 7.35,  5.36, 69.33],\n",
       "       [ 7.42,  5.37, 70.  ],\n",
       "       [ 7.48,  5.38, 70.67],\n",
       "       [ 7.55,  5.39, 71.33],\n",
       "       [ 7.62,  5.41, 72.  ],\n",
       "       [ 7.68,  5.42, 72.67],\n",
       "       [ 7.75,  5.43, 73.33],\n",
       "       [ 7.81,  5.44, 74.  ],\n",
       "       [ 7.87,  5.45, 74.67],\n",
       "       [ 7.94,  5.46, 75.33],\n",
       "       [ 8.  ,  5.47, 76.  ],\n",
       "       [ 8.06,  5.48, 76.67],\n",
       "       [ 8.12,  5.5 , 77.33],\n",
       "       [ 8.19,  5.51, 78.  ],\n",
       "       [ 8.25,  5.52, 78.67],\n",
       "       [ 8.31,  5.53, 79.33],\n",
       "       [ 8.37,  5.54, 80.  ],\n",
       "       [ 8.43,  5.55, 80.67],\n",
       "       [ 8.49,  5.56, 81.33],\n",
       "       [ 8.54,  5.57, 82.  ],\n",
       "       [ 8.6 ,  5.58, 82.67],\n",
       "       [ 8.66,  5.59, 83.33],\n",
       "       [ 8.72,  5.6 , 84.  ],\n",
       "       [ 8.77,  5.61, 84.67],\n",
       "       [ 8.83,  5.63, 85.33],\n",
       "       [ 8.89,  5.64, 86.  ],\n",
       "       [ 8.94,  5.65, 86.67],\n",
       "       [ 9.  ,  5.66, 87.33],\n",
       "       [ 9.06,  5.67, 88.  ],\n",
       "       [ 9.11,  5.68, 88.67],\n",
       "       [ 9.17,  5.69, 89.33],\n",
       "       [ 9.22,  5.7 , 90.  ],\n",
       "       [ 9.27,  5.71, 90.67],\n",
       "       [ 9.33,  5.72, 91.33],\n",
       "       [ 9.38,  5.73, 92.  ],\n",
       "       [ 9.43,  5.74, 92.67],\n",
       "       [ 9.49,  5.75, 93.33],\n",
       "       [ 9.54,  5.76, 94.  ],\n",
       "       [ 9.59,  5.77, 94.67],\n",
       "       [ 9.64,  5.78, 95.33],\n",
       "       [ 9.7 ,  5.79, 96.  ],\n",
       "       [ 9.75,  5.8 , 96.67],\n",
       "       [ 9.8 ,  5.81, 97.33],\n",
       "       [ 9.85,  5.82, 98.  ],\n",
       "       [ 9.9 ,  5.83, 98.67],\n",
       "       [ 9.95,  5.84, 99.33]])"
      ]
     },
     "execution_count": 164,
     "metadata": {},
     "output_type": "execute_result"
    }
   ],
   "source": [
    "np.sort(great_secret,axis = 0).round(2)"
   ]
  },
  {
   "cell_type": "code",
   "execution_count": 165,
   "metadata": {},
   "outputs": [
    {
     "data": {
      "text/plain": [
       "115.12"
      ]
     },
     "execution_count": 165,
     "metadata": {},
     "output_type": "execute_result"
    }
   ],
   "source": [
    "9.95 + 5.84 + 99.33"
   ]
  },
  {
   "cell_type": "code",
   "execution_count": null,
   "metadata": {},
   "outputs": [],
   "source": []
  },
  {
   "cell_type": "code",
   "execution_count": null,
   "metadata": {},
   "outputs": [],
   "source": []
  },
  {
   "cell_type": "code",
   "execution_count": null,
   "metadata": {},
   "outputs": [],
   "source": []
  },
  {
   "cell_type": "code",
   "execution_count": null,
   "metadata": {},
   "outputs": [],
   "source": []
  }
 ],
 "metadata": {
  "kernelspec": {
   "display_name": "Python 3",
   "language": "python",
   "name": "python3"
  },
  "language_info": {
   "codemirror_mode": {
    "name": "ipython",
    "version": 3
   },
   "file_extension": ".py",
   "mimetype": "text/x-python",
   "name": "python",
   "nbconvert_exporter": "python",
   "pygments_lexer": "ipython3",
   "version": "3.7.3"
  }
 },
 "nbformat": 4,
 "nbformat_minor": 4
}
