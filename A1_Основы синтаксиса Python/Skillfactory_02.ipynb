{
 "cells": [
  {
   "cell_type": "markdown",
   "metadata": {},
   "source": [
    "## IF - ELSE"
   ]
  },
  {
   "cell_type": "markdown",
   "metadata": {},
   "source": [
    "### А1.4.1.3 Задание 3\n",
    "Представьте, что вам нужно написать программу, которая принимает на вход от пользователя слово (переменная word), \n",
    "определяет, короткое оно или длинное, и выводит эту информацию на экран. Слова, в которых букв строго больше семи, \n",
    "будем считать длинными, а все остальные - короткими. \n",
    "Пусть результатом работы программы будет выведенная на экран фраза: \"Это слово короткое.\" или \"Это слово длинное.\""
   ]
  },
  {
   "cell_type": "code",
   "execution_count": 9,
   "metadata": {},
   "outputs": [],
   "source": [
    "# word_test = \"ОченьДлинноеСлово\"\n",
    "\n",
    "# word = input(\"Give me a word, please\")\n",
    "\n",
    "# if len(word) > 7:\n",
    "#     print(\"This word is lengthy\")\n",
    "# else:\n",
    "#     print(\"This word is short\")\n",
    "    \n",
    "    \n",
    "# Another way of implementation    \n",
    "# word = 'ОченьДлинноеСлово'\n",
    "\n",
    "# if len(word) > 7:\n",
    "#     print(\"Это слово длинное.\")\n",
    "# else:\n",
    "#     print(\"Это слово короткое.\")"
   ]
  },
  {
   "cell_type": "markdown",
   "metadata": {},
   "source": [
    "### А1.4.1.4 Задание 4\n",
    "Считается, что буква \"ф\" встречается в русском языке реже всех остальных букв. Вы решили написать программу, которая позволяет пользователям вводить какие-либо слова и проверяет, можно считать это слово редким или нет. Редкими будем считать слова, которые содержат букву \"ф\". \n",
    "Пусть эта программа выводит на экран одну из двух фраз: \"Ого! Вы ввели редкое слово!\", если в слове есть буква \"ф\", \n",
    "или \"Эх, это не очень редкое слово...\", если в нём этой буквы нет. \n"
   ]
  },
  {
   "cell_type": "code",
   "execution_count": 29,
   "metadata": {},
   "outputs": [
    {
     "name": "stdin",
     "output_type": "stream",
     "text": [
      "Let's check the rariety of the word you enter here! da\n"
     ]
    },
    {
     "name": "stdout",
     "output_type": "stream",
     "text": [
      "Nope. It's a common word.\n"
     ]
    }
   ],
   "source": [
    "word = \"ОченьДлинноеСлово\"\n",
    "\n",
    "if \"ф\" in word:\n",
    "    print(\"Ого! Вы ввели редкое слово!\")\n",
    "else:\n",
    "    print(\"Эх, это не очень редкое слово...\")\n",
    "\n",
    "\n",
    "\n",
    "# Another way of implementation\n",
    "# word = \"ОченьДлинноеСлово\"\n",
    "\n",
    "# word_input = str(input(\"Let's check the rariety of the word you enter here!\"))\n",
    "# if \"ф\" in word_input:\n",
    "#     print(\"Oh! This is a rare word indeed!\")\n",
    "# else:\n",
    "#     print(\"Nope. It's a common word.\")"
   ]
  },
  {
   "cell_type": "markdown",
   "metadata": {},
   "source": [
    "### А1.4.1.5 Задание 5\n",
    "Преобразуйте предыдущую задачу таким образом, чтобы она проверяла не наличие конкретной буквы \"ф\", а наличие любой буквы, \n",
    "выбранной пользователем. Пусть в качестве результата программа выводит фразы: \"Выбранной буквы нет в введённом слове\" \n",
    "или \"Выбранная буква есть в введённом слове\". "
   ]
  },
  {
   "cell_type": "code",
   "execution_count": 32,
   "metadata": {},
   "outputs": [
    {
     "name": "stdout",
     "output_type": "stream",
     "text": [
      "Выбранная буква есть в введённом слове\n"
     ]
    }
   ],
   "source": [
    "user_word = \"ОченьДлинноеСлово\"\n",
    "user_letter = \"и\"\n",
    "\n",
    "if user_letter in user_word:\n",
    "    print(\"Выбранная буква есть в введённом слове\")\n",
    "else:\n",
    "    print(\"Выбранной буквы нет в введённом слове\")"
   ]
  },
  {
   "cell_type": "markdown",
   "metadata": {},
   "source": [
    "### А1.4.1.6 Задание 6\n",
    "Напишите программу, которая проверяет, является ли квадратный корень из заданного целого положительного числа number целым числом.\n",
    "\n",
    "Если в результате извлечения квадратного корня получается целое число, то пусть на экран выводится результат выполнения этой операции, \n",
    "если нет - фраза \"Квадратный корень из ... - не целое число.\".\n",
    "Вместо многоточия во фразе должно быть указано значение переменной number."
   ]
  },
  {
   "cell_type": "code",
   "execution_count": 48,
   "metadata": {},
   "outputs": [
    {
     "name": "stdout",
     "output_type": "stream",
     "text": [
      "Квадратный корень из 169 - не целое число.\n"
     ]
    }
   ],
   "source": [
    "number = 169\n",
    "\n",
    "if number ** 2 % 2 == 0:\n",
    "    print(int(number))\n",
    "else:\n",
    "    print(\"Квадратный корень из\", int(number), \"- не целое число.\")"
   ]
  },
  {
   "cell_type": "code",
   "execution_count": null,
   "metadata": {},
   "outputs": [],
   "source": []
  }
 ],
 "metadata": {
  "kernelspec": {
   "display_name": "Python 3",
   "language": "python",
   "name": "python3"
  },
  "language_info": {
   "codemirror_mode": {
    "name": "ipython",
    "version": 3
   },
   "file_extension": ".py",
   "mimetype": "text/x-python",
   "name": "python",
   "nbconvert_exporter": "python",
   "pygments_lexer": "ipython3",
   "version": "3.7.3"
  }
 },
 "nbformat": 4,
 "nbformat_minor": 2
}
