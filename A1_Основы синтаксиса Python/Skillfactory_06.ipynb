{
 "cells": [
  {
   "cell_type": "markdown",
   "metadata": {},
   "source": [
    "## А1.5.2 Вычисления в циклах\n"
   ]
  },
  {
   "cell_type": "markdown",
   "metadata": {},
   "source": [
    "В этом примере для каждого числа от 20 до 29 включительно выполняется тело цикла, <br>\n",
    "в данном случае это прибавление к переменной sum_squares корня числа i, после чего сумма корней выводится на экран."
   ]
  },
  {
   "cell_type": "code",
   "execution_count": 2,
   "metadata": {},
   "outputs": [
    {
     "name": "stdout",
     "output_type": "stream",
     "text": [
      "49.41177778422102\n"
     ]
    }
   ],
   "source": [
    "sum_squares = 0\n",
    "for i in range(20, 30):\n",
    "    sum_squares += i ** (1 / 2)\n",
    "print(sum_squares)"
   ]
  },
  {
   "cell_type": "markdown",
   "metadata": {},
   "source": [
    "Здесь тело цикла выполняется для каждого целочисленного x от 0 до 5 включительно, <br>\n",
    "а когда цикл завершает свою работу, программа выводит на экран сообщение \"Цикл завершен!\"\n",
    "\n"
   ]
  },
  {
   "cell_type": "code",
   "execution_count": 6,
   "metadata": {},
   "outputs": [
    {
     "name": "stdout",
     "output_type": "stream",
     "text": [
      "0\n",
      "1\n",
      "2\n",
      "3\n",
      "4\n",
      "Цикл завершен!\n"
     ]
    }
   ],
   "source": [
    "for x in range(5):\n",
    "    print(x)\n",
    "else:\n",
    "    print(\"Цикл завершен!\")"
   ]
  },
  {
   "cell_type": "markdown",
   "metadata": {},
   "source": [
    "Для ряда целых чисел от 10 до 25 нужно вычислить сумму квадратов чисел, делящихся на 2, <br>\n",
    "и кубов чисел, делящихся на 3, после чего вывести эти суммы на экран."
   ]
  },
  {
   "cell_type": "code",
   "execution_count": 7,
   "metadata": {},
   "outputs": [
    {
     "name": "stdout",
     "output_type": "stream",
     "text": [
      "2480 34020\n"
     ]
    }
   ],
   "source": [
    "sum_2 = 0\n",
    "sum_3 = 0\n",
    "for i in range(10, 26):\n",
    "    if i%2 == 0:\n",
    "        sum_2 += i**2\n",
    "    if i%3 == 0:\n",
    "        sum_3 += i**3\n",
    "else:\n",
    "    print(sum_2, sum_3)"
   ]
  },
  {
   "cell_type": "code",
   "execution_count": 11,
   "metadata": {},
   "outputs": [
    {
     "name": "stdin",
     "output_type": "stream",
     "text": [
      " 1\n"
     ]
    },
    {
     "name": "stdout",
     "output_type": "stream",
     "text": [
      "Факториал числа 1 равен 1\n"
     ]
    }
   ],
   "source": [
    "# Найти факториал введённого натурального числа.\n",
    "number = int(input())\n",
    "\n",
    "factorial = 1\n",
    "for i in range(1, number + 1):\n",
    "    factorial = factorial*i \n",
    "else:\n",
    "    print('Факториал числа', number, 'равен', factorial)"
   ]
  },
  {
   "cell_type": "markdown",
   "metadata": {},
   "source": [
    "### А1.5.2.1 Задание 1\n",
    "Выведите таблицу квадратов и кубов для чисел от 1 до 10. <br>\n",
    "\n",
    "(Каждая новая строчка распечатывается через print() и имеет формат '2 4 8', то есть число, <br> \n",
    "затем его квадрат, а затем его куб)."
   ]
  },
  {
   "cell_type": "code",
   "execution_count": 26,
   "metadata": {},
   "outputs": [
    {
     "name": "stdout",
     "output_type": "stream",
     "text": [
      "1 1 1\n",
      "2 4 8\n",
      "3 9 27\n",
      "4 16 64\n",
      "5 25 125\n",
      "6 36 216\n",
      "7 49 343\n",
      "8 64 512\n",
      "9 81 729\n",
      "10 100 1000\n"
     ]
    }
   ],
   "source": [
    "# Architecture\n",
    "# for i in .... \n",
    "# varaible_1\n",
    "# varible_2\n",
    "\n",
    "num_1 = 0\n",
    "num_2 = 0\n",
    "\n",
    "for i in range (1, 11):\n",
    "    num_1 = i ** 2\n",
    "    num_2 = i ** 3\n",
    "    print(i, num_1, num_2)"
   ]
  },
  {
   "cell_type": "markdown",
   "metadata": {},
   "source": [
    "## А1.5.2.2 Задание 2\n",
    "Напишите программу, которая получает на вход число (number) и последовательно в порядке возрастания выводит все его делители на экран \n",
    "(само число тоже является своим делителем).\n",
    "\n",
    "Для проверки используйте number = 84."
   ]
  },
  {
   "cell_type": "code",
   "execution_count": 44,
   "metadata": {},
   "outputs": [
    {
     "name": "stdout",
     "output_type": "stream",
     "text": [
      "1\n",
      "2\n",
      "3\n",
      "4\n",
      "6\n",
      "7\n",
      "12\n",
      "14\n",
      "21\n",
      "28\n",
      "42\n",
      "84\n"
     ]
    }
   ],
   "source": [
    "# Architecture\n",
    "# for i in ... \n",
    "# using % \n",
    "# using if \n",
    "# 84 / 84 = , 84 / 83 = , 84 / 82 = , ... \n",
    "\n",
    "\n",
    "number = 84\n",
    "for i in range(1, number + 1):\n",
    "    if number % i == 0:\n",
    "        print(i)"
   ]
  },
  {
   "cell_type": "markdown",
   "metadata": {},
   "source": [
    "### А1.5.2.3 Задание 3\n",
    "Написать программу, которая ищет все общие (не равные 1) делители двух чисел (num_1 и num_2), \n",
    "введённых пользователем, и последовательно в порядке возрастания выводит их на экран. \n",
    "\n",
    "Если общих делителей нет, не выводит на экран ничего.\n",
    "\n",
    "Для проверки используйте num_1 = 12 и num_2 = 38."
   ]
  },
  {
   "cell_type": "code",
   "execution_count": 139,
   "metadata": {},
   "outputs": [
    {
     "name": "stdout",
     "output_type": "stream",
     "text": [
      "2\n"
     ]
    }
   ],
   "source": [
    "# Architecture \n",
    "# % != 0\n",
    "# for in range\n",
    "\n",
    "num_1 = 12\n",
    "num_2 = 38\n",
    "\n",
    "for i in range(1, num_1 + 1) and range(1, num_2 + 1):\n",
    "    if num_1 % i == 0 and num_2 % i == 0 and i > 1:\n",
    "        print(i) "
   ]
  },
  {
   "cell_type": "markdown",
   "metadata": {},
   "source": [
    "### А1.5.2.4 Задание 4\n",
    "Написать программу, которая на вход получает натуральное \n",
    "число n и выводит n-е число ряда Фибоначчи на экран. \n",
    "\n",
    "Для проверки используйте n = 10\n",
    "\n",
    "Пояснение: последовательность Фибоначчи — это ряд чисел, \n",
    "в котором первые два элемента равны 1,\n",
    "а каждый следующий элемент равен сумме двух предыдущих: 1, 1, 2, 3, 5, 8, 13, 21, ..."
   ]
  },
  {
   "cell_type": "code",
   "execution_count": 105,
   "metadata": {},
   "outputs": [
    {
     "name": "stdout",
     "output_type": "stream",
     "text": [
      "55\n"
     ]
    }
   ],
   "source": [
    "n  = 10\n",
    "\n",
    "f1 = 1\n",
    "f2 = 1\n",
    "\n",
    "for i in range(2, n):\n",
    "    sum = f1 + f2\n",
    "    f1 = f2\n",
    "    f2 = sum\n",
    "    \n",
    "print(f2)"
   ]
  },
  {
   "cell_type": "markdown",
   "metadata": {},
   "source": [
    "### А1.5.2.5 Задание 5\n",
    "Напишите программу, которая выводит таблицу умножения от 1 до 10 \n",
    "для выбранного целого числа (number). \n",
    "\n",
    "Если number = 15, то строка таблицы имеет вид \"15 X 3 = 45\".\n",
    "\n",
    "Для проверки используйте number = 15."
   ]
  },
  {
   "cell_type": "code",
   "execution_count": 138,
   "metadata": {},
   "outputs": [
    {
     "name": "stdout",
     "output_type": "stream",
     "text": [
      "15 X 1 = 15\n",
      "15 X 2 = 30\n",
      "15 X 3 = 45\n",
      "15 X 4 = 60\n",
      "15 X 5 = 75\n",
      "15 X 6 = 90\n",
      "15 X 7 = 105\n",
      "15 X 8 = 120\n",
      "15 X 9 = 135\n",
      "15 X 10 = 150\n"
     ]
    }
   ],
   "source": [
    "# Architecture\n",
    "# number * i\n",
    "# for i in range (1, 11)\n",
    "\n",
    "\n",
    "number = 15\n",
    "\n",
    "\n",
    "for i in range(1, 11):\n",
    "    z = number * i\n",
    "    i = i\n",
    "    print(number, \"X\", i, \"=\", z)\n",
    "    \n",
    "\n",
    "    \n",
    "    \n",
    "#     print(number, \"X\", i, \"=\", )"
   ]
  },
  {
   "cell_type": "code",
   "execution_count": null,
   "metadata": {},
   "outputs": [],
   "source": []
  }
 ],
 "metadata": {
  "kernelspec": {
   "display_name": "Python 3",
   "language": "python",
   "name": "python3"
  },
  "language_info": {
   "codemirror_mode": {
    "name": "ipython",
    "version": 3
   },
   "file_extension": ".py",
   "mimetype": "text/x-python",
   "name": "python",
   "nbconvert_exporter": "python",
   "pygments_lexer": "ipython3",
   "version": "3.7.3"
  }
 },
 "nbformat": 4,
 "nbformat_minor": 2
}
